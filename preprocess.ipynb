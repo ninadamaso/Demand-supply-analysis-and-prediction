{
 "cells": [
  {
   "cell_type": "code",
   "execution_count": 21,
   "id": "a84fb0ad-5a7a-4813-bcdd-49557dd914d9",
   "metadata": {},
   "outputs": [],
   "source": [
    "import pandas as pd\n",
    "import numpy as np\n",
    "import seaborn as sns\n",
    "import matplotlib.pyplot as plt\n",
    "\n",
    "from sklearn.pipeline import make_pipeline\n",
    "from sklearn.compose import make_column_transformer\n",
    "from sklearn.pipeline import make_union\n",
    "from sklearn.compose import make_column_selector\n",
    "from sklearn.preprocessing import FunctionTransformer\n",
    "from sklearn import set_config; set_config(display='diagram')\n",
    "\n",
    "from sklearn.preprocessing import OneHotEncoder\n",
    "\n",
    "from sklearn.preprocessing import RobustScaler\n",
    "from sklearn.preprocessing import StandardScaler"
   ]
  },
  {
   "cell_type": "code",
   "execution_count": 22,
   "id": "ad083f15-06b9-41d0-b39a-00cdc502ab9e",
   "metadata": {},
   "outputs": [],
   "source": [
    "region_type = {\"Vaud\": \"urban\", \"Zürich\": \"urban\", \"St. Gallen\": \"urban\", \"Valais\": \"rural\", \"Bern\": \"urban\", \"Ticino\": \"urban\", \"Genève\": \"urban\", \"Aargau\": \"rural\", \n",
    "           \"Basel-Stadt\": \"urban\", \"Thurgau\": \"rural\", \"Luzern\": \"urban\", \"Obwalden\": \"rural\", \"Solothurn\": \"rural\", \"Graubünden\": \"rural\", \"Basel-Landschaft\": \"rural\",\n",
    "           \"Freiburg\": \"urban\", \"Neuchâtel\": \"urban\", \"Zug\": \"urban\", \"Schwyz\": \"rural\", \"Schaffhausen\": \"rural\", \"Appenzell Ausserrhoden\": \"rural\", \n",
    "            \"Appenzell Innerrhoden\": \"rural\", \"Jura\": \"rural\", \"Uri\": \"rural\", \"Glarus\": \"rural\", \"Nidwalden\": \"rural\"}\n",
    "\n",
    "region_language = {\"Vaud\": \"french\", \"Zürich\": \"german\", \"St. Gallen\": \"german\", \"Valais\": \"french\", \"Bern\": \"german\", \"Ticino\": \"italien\", \"Genève\": \"french\", \n",
    "           \"Aargau\": \"german\", \"Basel-Stadt\": \"german\", \"Thurgau\": \"german\", \"Luzern\": \"german\", \"Obwalden\": \"german\", \"Solothurn\": \"german\", \"Graubünden\": \"german\",\n",
    "           \"Basel-Landschaft\": \"german\", \"Freiburg\": \"french\", \"Neuchâtel\": \"french\", \"Zug\": \"german\", \"Schwyz\": \"german\", \"Schaffhausen\": \"german\",\n",
    "           \"Appenzell Ausserrhoden\": \"german\", \"Appenzell Innerrhoden\": \"german\", \"Jura\": \"french\", \"Uri\": \"german\", \"Glarus\": \"german\", \"Nidwalden\": \"german\"}\n",
    "\n",
    "clean = {'GenÃ¨ve': 'Genève', 'ZÃ¼rich': 'Zürich', 'GraubÃ¼nden': 'Graubünden', 'NeuchÃ¢tel': 'Neuchâtel'}"
   ]
  },
  {
   "cell_type": "code",
   "execution_count": 23,
   "id": "59bdec97-2066-47d2-9091-4eb79e59877e",
   "metadata": {},
   "outputs": [],
   "source": [
    "path_from = \"raw_data/full_data_processed.csv\"\n",
    "df = pd.read_csv(path_from, delimiter=',', low_memory=False, encoding = 'utf-8')\n",
    "df = df.drop(columns=['Unnamed: 0', 'id', 'Unnamed: 0.1'])\n",
    "df = df.rename(columns={'date': 'Date'})"
   ]
  },
  {
   "cell_type": "code",
   "execution_count": 40,
   "id": "f08908b9-42ae-451b-af4d-41ab165fe7c9",
   "metadata": {},
   "outputs": [],
   "source": [
    "## Drop lines\n",
    "df = df[df['Item First Supplying Date'].notnull()]\n",
    "df.drop(df.loc[df['Store Segment']==\"Florist\"].index, inplace=True)\n",
    "df.drop(df.loc[df['Total Supply'] < df['Meals Saved']].index, inplace=True)\n",
    "df = df[df['Total Supply'] >= 0]\n",
    "df = df.dropna(subset=['Declared Supply'])"
   ]
  },
  {
   "cell_type": "code",
   "execution_count": 82,
   "id": "44bdab3b-75ac-4cbd-b672-b1316ba3582e",
   "metadata": {},
   "outputs": [
    {
     "name": "stderr",
     "output_type": "stream",
     "text": [
      "/tmp/ipykernel_10957/3692832078.py:2: UserWarning: Boolean Series key will be reindexed to match DataFrame index.\n",
      "  df.drop(df.loc[df['Total Supply']==0][df['Declared Supply']==0].sort_values('Total Supply').index, inplace=True)\n"
     ]
    }
   ],
   "source": [
    "# df[df['Meals Saved']==0].count()\n",
    "df.drop(df.loc[df['Total Supply']==0][df['Declared Supply']==0].sort_values('Total Supply').index, inplace=True)"
   ]
  },
  {
   "cell_type": "code",
   "execution_count": 25,
   "id": "5e423842-0448-4dbf-8e37-b0269a3b2386",
   "metadata": {},
   "outputs": [],
   "source": [
    "## Convert Data Types\n",
    "df['Date'] = pd.to_datetime(df['Date'], format='%m/%d/%Y')\n",
    "df['Item Price'] = df['Item Price'].str.replace(\",\",\".\").astype(float)\n",
    "df['Item First Supplying Date'] = pd.to_datetime(df['Item First Supplying Date'], format='%m/%d/%Y')\n",
    "df['Item Last Supplying Date'] = pd.to_datetime(df['Item Last Supplying Date'], format='%m/%d/%Y')\n",
    "df['Pickup Time Start Time of Day'] = pd.to_datetime(df['Pickup Time Start Time of Day'], format='%H:%M')\n",
    "df['Pickup Time End Time of Day'] = pd.to_datetime(df['Pickup Time End Time of Day'], format='%H:%M')"
   ]
  },
  {
   "cell_type": "code",
   "execution_count": 26,
   "id": "4b9e0219-3531-42fd-8015-4cc524a16dd9",
   "metadata": {},
   "outputs": [],
   "source": [
    "## Creates Features\n",
    "df['Pickup Length'] = df['Pickup Time End Time of Day']-df['Pickup Time Start Time of Day']\n",
    "df['Supply Length'] = df['Item Last Supplying Date']-df['Item First Supplying Date']\n",
    "df['Supply Length'] = (df['Supply Length'] / np.timedelta64(1,'D')).astype(int)\n",
    "df['Store Region'] = df['Store Region'].apply(lambda x: clean[x] if x in clean.keys() else x)\n",
    "df['Region Language'] = df['Store Region'].map(region_language)\n",
    "df['Region Type'] = df['Store Region'].map(region_type)"
   ]
  },
  {
   "cell_type": "code",
   "execution_count": 27,
   "id": "5af2d90c-f2cd-4231-9828-7298da8dddc7",
   "metadata": {},
   "outputs": [],
   "source": [
    "## Rename NaN\n",
    "df['Store Segment'] = df['Store Segment'].replace(np.nan, 'No_Segment')\n",
    "df['Avg Rating Overall'] = df['Avg Rating Overall'].replace(np.nan, 0.0)"
   ]
  },
  {
   "cell_type": "code",
   "execution_count": 31,
   "id": "56a3d672-bf7d-45e1-85de-47008158f892",
   "metadata": {},
   "outputs": [],
   "source": [
    "## Drop all columns where date is before first supply date\n",
    "# df['test'] = df['Item First Supplying Date']-df['Date']\n",
    "# df['test'] = (df['test'] / np.timedelta64(1,'D')).astype(int)\n",
    "# df['Pickup Length'] = (df['Pickup Length'] / np.timedelta64(1,'D')).astype(int)"
   ]
  },
  {
   "cell_type": "code",
   "execution_count": 29,
   "id": "8b01c093-5cbc-49bd-a686-3af26e3992d7",
   "metadata": {},
   "outputs": [],
   "source": [
    "# IMPROVE QUALITY\n",
    "## Delete all all rows, where the Date is lower then the Start of Supply Date\n",
    "\n",
    "# EXTEND VALUES\n",
    "## Build Dimension \"Morning, Evening, Afternoon, FullDay\"\n",
    "## Convert Pickup Length to int(min)\n",
    "## Get ZIP Codes for Swiss City\n",
    "## Clean City & Store Address without utf-8 errors\n",
    "## Get Long + Lat for Locations (depending on ZIP-Code task)"
   ]
  },
  {
   "cell_type": "code",
   "execution_count": 83,
   "id": "4e67f9e7-fb6b-42f4-bd77-dfaf18155e4a",
   "metadata": {},
   "outputs": [
    {
     "name": "stdout",
     "output_type": "stream",
     "text": [
      "<class 'pandas.core.frame.DataFrame'>\n",
      "Int64Index: 2567958 entries, 0 to 2663733\n",
      "Data columns (total 22 columns):\n",
      " #   Column                         Dtype          \n",
      "---  ------                         -----          \n",
      " 0   Store ID                       int64          \n",
      " 1   Item ID                        int64          \n",
      " 2   Store Category                 object         \n",
      " 3   Store Segment                  object         \n",
      " 4   Store Region                   object         \n",
      " 5   City                           object         \n",
      " 6   Store Address                  object         \n",
      " 7   Item First Supplying Date      datetime64[ns] \n",
      " 8   Item Last Supplying Date       datetime64[ns] \n",
      " 9   Item Price                     float64        \n",
      " 10  Pickup Time Start Time of Day  datetime64[ns] \n",
      " 11  Pickup Time End Time of Day    datetime64[ns] \n",
      " 12  Date                           datetime64[ns] \n",
      " 13  Count Ratings                  int64          \n",
      " 14  Declared Supply                int64          \n",
      " 15  Meals Saved                    int64          \n",
      " 16  Total Supply                   int64          \n",
      " 17  Avg Rating Overall             float64        \n",
      " 18  Pickup Length                  timedelta64[ns]\n",
      " 19  Supply Length                  int64          \n",
      " 20  Region Language                object         \n",
      " 21  Region Type                    object         \n",
      "dtypes: datetime64[ns](5), float64(2), int64(7), object(7), timedelta64[ns](1)\n",
      "memory usage: 450.6+ MB\n"
     ]
    }
   ],
   "source": [
    "df.info()"
   ]
  },
  {
   "cell_type": "code",
   "execution_count": 67,
   "id": "dde019a0-cb56-4dc2-b316-985e339e67bf",
   "metadata": {},
   "outputs": [
    {
     "data": {
      "text/html": [
       "<div>\n",
       "<style scoped>\n",
       "    .dataframe tbody tr th:only-of-type {\n",
       "        vertical-align: middle;\n",
       "    }\n",
       "\n",
       "    .dataframe tbody tr th {\n",
       "        vertical-align: top;\n",
       "    }\n",
       "\n",
       "    .dataframe thead th {\n",
       "        text-align: right;\n",
       "    }\n",
       "</style>\n",
       "<table border=\"1\" class=\"dataframe\">\n",
       "  <thead>\n",
       "    <tr style=\"text-align: right;\">\n",
       "      <th></th>\n",
       "      <th>Store ID</th>\n",
       "      <th>Item ID</th>\n",
       "      <th>Store Category</th>\n",
       "      <th>Store Segment</th>\n",
       "      <th>Store Region</th>\n",
       "      <th>City</th>\n",
       "      <th>Store Address</th>\n",
       "      <th>Item First Supplying Date</th>\n",
       "      <th>Item Last Supplying Date</th>\n",
       "      <th>Item Price</th>\n",
       "      <th>...</th>\n",
       "      <th>Date</th>\n",
       "      <th>Count Ratings</th>\n",
       "      <th>Declared Supply</th>\n",
       "      <th>Meals Saved</th>\n",
       "      <th>Total Supply</th>\n",
       "      <th>Avg Rating Overall</th>\n",
       "      <th>Pickup Length</th>\n",
       "      <th>Supply Length</th>\n",
       "      <th>Region Language</th>\n",
       "      <th>Region Type</th>\n",
       "    </tr>\n",
       "  </thead>\n",
       "  <tbody>\n",
       "    <tr>\n",
       "      <th>0</th>\n",
       "      <td>11344</td>\n",
       "      <td>11438</td>\n",
       "      <td>Key Account</td>\n",
       "      <td>Bakery</td>\n",
       "      <td>Genève</td>\n",
       "      <td>GenÃ¨ve</td>\n",
       "      <td>Place de Cornavin 7</td>\n",
       "      <td>2017-12-07</td>\n",
       "      <td>2022-03-01</td>\n",
       "      <td>4.5</td>\n",
       "      <td>...</td>\n",
       "      <td>2019-01-01</td>\n",
       "      <td>0</td>\n",
       "      <td>20</td>\n",
       "      <td>2</td>\n",
       "      <td>20</td>\n",
       "      <td>0.00</td>\n",
       "      <td>0 days 00:50:00</td>\n",
       "      <td>1545</td>\n",
       "      <td>french</td>\n",
       "      <td>urban</td>\n",
       "    </tr>\n",
       "    <tr>\n",
       "      <th>1</th>\n",
       "      <td>11729</td>\n",
       "      <td>11822</td>\n",
       "      <td>Indie - Outbound</td>\n",
       "      <td>Buffet</td>\n",
       "      <td>Bern</td>\n",
       "      <td>Bern</td>\n",
       "      <td>LÃ¤nggassstrasse 53</td>\n",
       "      <td>2018-11-02</td>\n",
       "      <td>2019-06-27</td>\n",
       "      <td>6.9</td>\n",
       "      <td>...</td>\n",
       "      <td>2019-01-01</td>\n",
       "      <td>1</td>\n",
       "      <td>0</td>\n",
       "      <td>9</td>\n",
       "      <td>16</td>\n",
       "      <td>4.00</td>\n",
       "      <td>0 days 04:00:00</td>\n",
       "      <td>237</td>\n",
       "      <td>german</td>\n",
       "      <td>urban</td>\n",
       "    </tr>\n",
       "    <tr>\n",
       "      <th>2</th>\n",
       "      <td>11729</td>\n",
       "      <td>11822</td>\n",
       "      <td>Indie - Outbound</td>\n",
       "      <td>Buffet</td>\n",
       "      <td>Bern</td>\n",
       "      <td>Bern</td>\n",
       "      <td>LÃ¤nggassstrasse 53</td>\n",
       "      <td>2018-11-02</td>\n",
       "      <td>2019-06-27</td>\n",
       "      <td>6.9</td>\n",
       "      <td>...</td>\n",
       "      <td>2019-01-02</td>\n",
       "      <td>8</td>\n",
       "      <td>0</td>\n",
       "      <td>28</td>\n",
       "      <td>33</td>\n",
       "      <td>4.25</td>\n",
       "      <td>0 days 04:00:00</td>\n",
       "      <td>237</td>\n",
       "      <td>german</td>\n",
       "      <td>urban</td>\n",
       "    </tr>\n",
       "  </tbody>\n",
       "</table>\n",
       "<p>3 rows × 22 columns</p>\n",
       "</div>"
      ],
      "text/plain": [
       "   Store ID  Item ID    Store Category Store Segment Store Region     City  \\\n",
       "0     11344    11438       Key Account        Bakery       Genève  GenÃ¨ve   \n",
       "1     11729    11822  Indie - Outbound        Buffet         Bern     Bern   \n",
       "2     11729    11822  Indie - Outbound        Buffet         Bern     Bern   \n",
       "\n",
       "         Store Address Item First Supplying Date Item Last Supplying Date  \\\n",
       "0  Place de Cornavin 7                2017-12-07               2022-03-01   \n",
       "1  LÃ¤nggassstrasse 53                2018-11-02               2019-06-27   \n",
       "2  LÃ¤nggassstrasse 53                2018-11-02               2019-06-27   \n",
       "\n",
       "   Item Price  ...       Date Count Ratings Declared Supply  Meals Saved  \\\n",
       "0         4.5  ... 2019-01-01             0              20            2   \n",
       "1         6.9  ... 2019-01-01             1               0            9   \n",
       "2         6.9  ... 2019-01-02             8               0           28   \n",
       "\n",
       "   Total Supply  Avg Rating Overall   Pickup Length  Supply Length  \\\n",
       "0            20                0.00 0 days 00:50:00           1545   \n",
       "1            16                4.00 0 days 04:00:00            237   \n",
       "2            33                4.25 0 days 04:00:00            237   \n",
       "\n",
       "  Region Language  Region Type  \n",
       "0          french        urban  \n",
       "1          german        urban  \n",
       "2          german        urban  \n",
       "\n",
       "[3 rows x 22 columns]"
      ]
     },
     "execution_count": 67,
     "metadata": {},
     "output_type": "execute_result"
    }
   ],
   "source": [
    "df[]"
   ]
  },
  {
   "cell_type": "code",
   "execution_count": 13,
   "id": "f2899f40-0f74-4a5a-90e9-b6f0e2528b36",
   "metadata": {},
   "outputs": [],
   "source": [
    "df.to_csv('raw_data/full_data_clean.csv')"
   ]
  },
  {
   "cell_type": "markdown",
   "id": "83249791-56f4-48e5-b7a5-02a2b2b7e547",
   "metadata": {},
   "source": [
    "## Cleaning Functions"
   ]
  },
  {
   "cell_type": "code",
   "execution_count": null,
   "id": "25d2be58-2302-4fc3-8f88-d9e5e6c41a6e",
   "metadata": {},
   "outputs": [],
   "source": [
    "## Get long + lat based on City\n",
    "def geo:\n",
    "    "
   ]
  }
 ],
 "metadata": {
  "kernelspec": {
   "display_name": "Python 3 (ipykernel)",
   "language": "python",
   "name": "python3"
  },
  "language_info": {
   "codemirror_mode": {
    "name": "ipython",
    "version": 3
   },
   "file_extension": ".py",
   "mimetype": "text/x-python",
   "name": "python",
   "nbconvert_exporter": "python",
   "pygments_lexer": "ipython3",
   "version": "3.8.12"
  }
 },
 "nbformat": 4,
 "nbformat_minor": 5
}
