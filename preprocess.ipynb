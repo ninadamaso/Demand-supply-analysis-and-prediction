{
 "cells": [
  {
   "cell_type": "code",
   "execution_count": 13,
   "id": "a84fb0ad-5a7a-4813-bcdd-49557dd914d9",
   "metadata": {},
   "outputs": [],
   "source": [
    "import pandas as pd\n",
    "import numpy as np\n",
    "import seaborn as sns\n",
    "import matplotlib.pyplot as plt\n",
    "\n",
    "from sklearn.pipeline import make_pipeline\n",
    "from sklearn.compose import make_column_transformer\n",
    "from sklearn.pipeline import make_union\n",
    "from sklearn.compose import make_column_selector\n",
    "from sklearn.preprocessing import FunctionTransformer\n",
    "from sklearn import set_config; set_config(display='diagram')\n",
    "\n",
    "from sklearn.preprocessing import OneHotEncoder\n",
    "\n",
    "from sklearn.preprocessing import RobustScaler\n",
    "from sklearn.preprocessing import StandardScaler"
   ]
  },
  {
   "cell_type": "code",
   "execution_count": 14,
   "id": "ad083f15-06b9-41d0-b39a-00cdc502ab9e",
   "metadata": {},
   "outputs": [],
   "source": [
    "region_type = {\"Vaud\": \"urban\", \"Zürich\": \"urban\", \"St. Gallen\": \"urban\", \"Valais\": \"rural\", \"Bern\": \"urban\", \"Ticino\": \"urban\", \"Genève\": \"urban\", \"Aargau\": \"rural\", \n",
    "           \"Basel-Stadt\": \"urban\", \"Thurgau\": \"rural\", \"Luzern\": \"urban\", \"Obwalden\": \"rural\", \"Solothurn\": \"rural\", \"Graubünden\": \"rural\", \"Basel-Landschaft\": \"rural\",\n",
    "           \"Freiburg\": \"urban\", \"Neuchâtel\": \"urban\", \"Zug\": \"urban\", \"Schwyz\": \"rural\", \"Schaffhausen\": \"rural\", \"Appenzell Ausserrhoden\": \"rural\", \n",
    "            \"Appenzell Innerrhoden\": \"rural\", \"Jura\": \"rural\", \"Uri\": \"rural\", \"Glarus\": \"rural\", \"Nidwalden\": \"rural\"}\n",
    "\n",
    "region_language = {\"Vaud\": \"french\", \"Zürich\": \"german\", \"St. Gallen\": \"german\", \"Valais\": \"french\", \"Bern\": \"german\", \"Ticino\": \"italien\", \"Genève\": \"french\", \n",
    "           \"Aargau\": \"german\", \"Basel-Stadt\": \"german\", \"Thurgau\": \"german\", \"Luzern\": \"german\", \"Obwalden\": \"german\", \"Solothurn\": \"german\", \"Graubünden\": \"german\",\n",
    "           \"Basel-Landschaft\": \"german\", \"Freiburg\": \"french\", \"Neuchâtel\": \"french\", \"Zug\": \"german\", \"Schwyz\": \"german\", \"Schaffhausen\": \"german\",\n",
    "           \"Appenzell Ausserrhoden\": \"german\", \"Appenzell Innerrhoden\": \"german\", \"Jura\": \"french\", \"Uri\": \"german\", \"Glarus\": \"german\", \"Nidwalden\": \"german\"}\n",
    "\n",
    "clean = {'GenÃ¨ve': 'Genève', 'ZÃ¼rich': 'Zürich', 'GraubÃ¼nden': 'Graubünden', 'NeuchÃ¢tel': 'Neuchâtel'}"
   ]
  },
  {
   "cell_type": "code",
   "execution_count": 15,
   "id": "59bdec97-2066-47d2-9091-4eb79e59877e",
   "metadata": {},
   "outputs": [],
   "source": [
    "path_from = \"raw_data/full_data_processed.csv\"\n",
    "df = pd.read_csv(path_from, delimiter=',', low_memory=False, encoding = 'utf-8')\n",
    "df = df.rename(columns={'date': 'Date'})\n",
    "df = df.drop(columns=['Unnamed: 0', 'Unnamed: 0.1','Store Address', 'id'])"
   ]
  },
  {
   "cell_type": "code",
   "execution_count": 16,
   "id": "f08908b9-42ae-451b-af4d-41ab165fe7c9",
   "metadata": {},
   "outputs": [],
   "source": [
    "## Drop lines I\n",
    "df = df[df['Item First Supplying Date'].notnull()]\n",
    "df.drop(df.loc[df['Store Segment']==\"Florist\"].index, inplace=True)\n",
    "df.drop(df.loc[df['Total Supply'] < df['Meals Saved']].index, inplace=True)\n",
    "df = df[df['Total Supply'] >= 0]\n",
    "df = df.dropna(subset=['Declared Supply'])"
   ]
  },
  {
   "cell_type": "code",
   "execution_count": 17,
   "id": "44bdab3b-75ac-4cbd-b672-b1316ba3582e",
   "metadata": {},
   "outputs": [
    {
     "name": "stderr",
     "output_type": "stream",
     "text": [
      "/tmp/ipykernel_23757/3692832078.py:2: UserWarning: Boolean Series key will be reindexed to match DataFrame index.\n",
      "  df.drop(df.loc[df['Total Supply']==0][df['Declared Supply']==0].sort_values('Total Supply').index, inplace=True)\n"
     ]
    }
   ],
   "source": [
    "# df[df['Meals Saved']==0].count()\n",
    "df.drop(df.loc[df['Total Supply']==0][df['Declared Supply']==0].sort_values('Total Supply').index, inplace=True)"
   ]
  },
  {
   "cell_type": "code",
   "execution_count": 18,
   "id": "5e423842-0448-4dbf-8e37-b0269a3b2386",
   "metadata": {},
   "outputs": [],
   "source": [
    "## Convert Data Types\n",
    "df['Date'] = pd.to_datetime(df['Date'], format='%m/%d/%Y')\n",
    "df['Item Price'] = df['Item Price'].str.replace(\",\",\".\").astype(float)\n",
    "df['Item First Supplying Date'] = pd.to_datetime(df['Item First Supplying Date'], format='%m/%d/%Y')\n",
    "df['Item Last Supplying Date'] = pd.to_datetime(df['Item Last Supplying Date'], format='%m/%d/%Y')\n",
    "df['Pickup Time Start Time of Day'] = pd.to_datetime(df['Pickup Time Start Time of Day'], format='%H:%M')\n",
    "df['Pickup Time End Time of Day'] = pd.to_datetime(df['Pickup Time End Time of Day'], format='%H:%M')"
   ]
  },
  {
   "cell_type": "code",
   "execution_count": 19,
   "id": "4b9e0219-3531-42fd-8015-4cc524a16dd9",
   "metadata": {},
   "outputs": [],
   "source": [
    "## Creates Features\n",
    "df['Pickup Length'] = df['Pickup Time End Time of Day']-df['Pickup Time Start Time of Day']\n",
    "df['Supply Length'] = df['Item Last Supplying Date']-df['Item First Supplying Date']\n",
    "df['Supply Length'] = (df['Supply Length'] / np.timedelta64(1,'D')).astype(int)\n",
    "df['Store Region'] = df['Store Region'].apply(lambda x: clean[x] if x in clean.keys() else x)\n",
    "df['Region Language'] = df['Store Region'].map(region_language)\n",
    "df['Region Type'] = df['Store Region'].map(region_type)"
   ]
  },
  {
   "cell_type": "code",
   "execution_count": 20,
   "id": "6d886726-bd7d-49d4-b755-3581ba1a2254",
   "metadata": {},
   "outputs": [],
   "source": [
    "## Drop lines II\n",
    "df.drop(df.loc[df['Supply Length'] == 0].index, inplace=True)\n",
    "df = df.drop(columns=['Item First Supplying Date', 'Item Last Supplying Date'])"
   ]
  },
  {
   "cell_type": "code",
   "execution_count": 21,
   "id": "5af2d90c-f2cd-4231-9828-7298da8dddc7",
   "metadata": {},
   "outputs": [],
   "source": [
    "## Rename NaN\n",
    "df['Store Segment'] = df['Store Segment'].replace(np.nan, 'No_Segment')\n",
    "df['Avg Rating Overall'] = df['Avg Rating Overall'].replace(np.nan, 0.0)\n",
    "df['City'] = df['City'].map(lambda x: str(x).encode('latin-1').decode(\"utf-8\"))"
   ]
  },
  {
   "cell_type": "code",
   "execution_count": 23,
   "id": "f2899f40-0f74-4a5a-90e9-b6f0e2528b36",
   "metadata": {},
   "outputs": [],
   "source": [
    "df.to_csv('raw_data/full_data_clean.csv')"
   ]
  },
  {
   "cell_type": "code",
   "execution_count": 12,
   "id": "25d2be58-2302-4fc3-8f88-d9e5e6c41a6e",
   "metadata": {},
   "outputs": [],
   "source": [
    "###"
   ]
  }
 ],
 "metadata": {
  "kernelspec": {
   "display_name": "Python 3 (ipykernel)",
   "language": "python",
   "name": "python3"
  },
  "language_info": {
   "codemirror_mode": {
    "name": "ipython",
    "version": 3
   },
   "file_extension": ".py",
   "mimetype": "text/x-python",
   "name": "python",
   "nbconvert_exporter": "python",
   "pygments_lexer": "ipython3",
   "version": "3.8.12"
  }
 },
 "nbformat": 4,
 "nbformat_minor": 5
}
