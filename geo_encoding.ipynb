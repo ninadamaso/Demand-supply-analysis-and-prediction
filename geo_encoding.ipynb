{
 "cells": [
  {
   "cell_type": "code",
   "execution_count": 5,
   "id": "718388fe-6df1-49bf-8f14-ec675a283803",
   "metadata": {},
   "outputs": [],
   "source": [
    "import pandas as pd\n",
    "import numpy as np\n",
    "import seaborn as sns\n",
    "import matplotlib.pyplot as plt"
   ]
  },
  {
   "cell_type": "code",
   "execution_count": 6,
   "id": "7bae5a88-1d3f-42e0-ab32-c641fde8cf5c",
   "metadata": {},
   "outputs": [],
   "source": [
    "## Load CSV (overall)\n",
    "path_from = \"raw_data/full_data_clean.csv\"\n",
    "df = pd.read_csv(path_from, delimiter=',', low_memory=False, encoding = 'utf-8')"
   ]
  },
  {
   "cell_type": "code",
   "execution_count": 7,
   "id": "bab47012-9990-407b-853f-859fa834a365",
   "metadata": {},
   "outputs": [],
   "source": [
    "df = df.drop(columns=['Unnamed: 0', 'Pickup Time Start Time of Day','Pickup Time End Time of Day', 'Date', 'Count Ratings', 'Declared Supply', 'Meals Saved','Total Supply', 'Avg Rating Overall', 'Pickup Length', 'Supply Length'])"
   ]
  },
  {
   "cell_type": "code",
   "execution_count": 10,
   "id": "1c467ec7-e420-4583-b6a9-dc58f68ad897",
   "metadata": {},
   "outputs": [
    {
     "data": {
      "text/html": [
       "<div>\n",
       "<style scoped>\n",
       "    .dataframe tbody tr th:only-of-type {\n",
       "        vertical-align: middle;\n",
       "    }\n",
       "\n",
       "    .dataframe tbody tr th {\n",
       "        vertical-align: top;\n",
       "    }\n",
       "\n",
       "    .dataframe thead th {\n",
       "        text-align: right;\n",
       "    }\n",
       "</style>\n",
       "<table border=\"1\" class=\"dataframe\">\n",
       "  <thead>\n",
       "    <tr style=\"text-align: right;\">\n",
       "      <th></th>\n",
       "      <th>Store ID</th>\n",
       "      <th>Item ID</th>\n",
       "      <th>Store Category</th>\n",
       "      <th>Store Segment</th>\n",
       "      <th>Store Region</th>\n",
       "      <th>City</th>\n",
       "      <th>Item Price</th>\n",
       "      <th>Region Language</th>\n",
       "      <th>Region Type</th>\n",
       "      <th>lat</th>\n",
       "      <th>lng</th>\n",
       "    </tr>\n",
       "  </thead>\n",
       "  <tbody>\n",
       "    <tr>\n",
       "      <th>0</th>\n",
       "      <td>11344</td>\n",
       "      <td>11438</td>\n",
       "      <td>Key Account</td>\n",
       "      <td>Bakery</td>\n",
       "      <td>Genève</td>\n",
       "      <td>Genève</td>\n",
       "      <td>4.5</td>\n",
       "      <td>french</td>\n",
       "      <td>urban</td>\n",
       "      <td>46.211672</td>\n",
       "      <td>6.134562</td>\n",
       "    </tr>\n",
       "  </tbody>\n",
       "</table>\n",
       "</div>"
      ],
      "text/plain": [
       "   Store ID  Item ID Store Category Store Segment Store Region    City  \\\n",
       "0     11344    11438    Key Account        Bakery       Genève  Genève   \n",
       "\n",
       "   Item Price Region Language Region Type        lat       lng  \n",
       "0         4.5          french       urban  46.211672  6.134562  "
      ]
     },
     "execution_count": 10,
     "metadata": {},
     "output_type": "execute_result"
    }
   ],
   "source": [
    "df.head(1)"
   ]
  },
  {
   "cell_type": "code",
   "execution_count": 9,
   "id": "0c36ee1d-c7e3-4ca8-b66a-cf1034b21e97",
   "metadata": {},
   "outputs": [],
   "source": [
    "## Load CSV (overall)\n",
    "path_from = \"raw_data/ZIP_Groups_man.csv\"\n",
    "zip = pd.read_csv(path_from, delimiter=',', low_memory=False, encoding = 'utf-8')\n",
    "df = df.merge(zip, left_on='Store ID', right_on='Store ID', how='left')"
   ]
  },
  {
   "cell_type": "code",
   "execution_count": 13,
   "id": "b68628d9-1c33-40fe-a120-cc1b0109dcde",
   "metadata": {},
   "outputs": [],
   "source": [
    "df = df.groupby('Store ID').agg({'Item ID': 'max', 'Store Category': 'max','Store Segment': 'max','Store Region': 'max', 'City': 'max', 'Item Price': 'mean', 'Region Language': 'max', 'Region Type': 'max', 'lat': 'mean', 'lng': 'mean'})"
   ]
  },
  {
   "cell_type": "code",
   "execution_count": 18,
   "id": "de23587a-f725-42c7-8eaa-af7cd3b2aa80",
   "metadata": {},
   "outputs": [
    {
     "data": {
      "text/html": [
       "<div>\n",
       "<style scoped>\n",
       "    .dataframe tbody tr th:only-of-type {\n",
       "        vertical-align: middle;\n",
       "    }\n",
       "\n",
       "    .dataframe tbody tr th {\n",
       "        vertical-align: top;\n",
       "    }\n",
       "\n",
       "    .dataframe thead th {\n",
       "        text-align: right;\n",
       "    }\n",
       "</style>\n",
       "<table border=\"1\" class=\"dataframe\">\n",
       "  <thead>\n",
       "    <tr style=\"text-align: right;\">\n",
       "      <th></th>\n",
       "      <th>Item ID</th>\n",
       "      <th>Store Category</th>\n",
       "      <th>Store Segment</th>\n",
       "      <th>Store Region</th>\n",
       "      <th>City</th>\n",
       "      <th>Item Price</th>\n",
       "      <th>Region Language</th>\n",
       "      <th>Region Type</th>\n",
       "      <th>lat</th>\n",
       "      <th>lng</th>\n",
       "    </tr>\n",
       "    <tr>\n",
       "      <th>Store ID</th>\n",
       "      <th></th>\n",
       "      <th></th>\n",
       "      <th></th>\n",
       "      <th></th>\n",
       "      <th></th>\n",
       "      <th></th>\n",
       "      <th></th>\n",
       "      <th></th>\n",
       "      <th></th>\n",
       "      <th></th>\n",
       "    </tr>\n",
       "  </thead>\n",
       "  <tbody>\n",
       "    <tr>\n",
       "      <th>35</th>\n",
       "      <td>34</td>\n",
       "      <td>Indie - Outbound</td>\n",
       "      <td>Bakery</td>\n",
       "      <td>Vaud</td>\n",
       "      <td>Salavaux</td>\n",
       "      <td>6.9</td>\n",
       "      <td>french</td>\n",
       "      <td>urban</td>\n",
       "      <td>46.918363</td>\n",
       "      <td>7.022345</td>\n",
       "    </tr>\n",
       "    <tr>\n",
       "      <th>57</th>\n",
       "      <td>73</td>\n",
       "      <td>Indie - Outbound</td>\n",
       "      <td>Bakery</td>\n",
       "      <td>Freiburg</td>\n",
       "      <td>Sâles</td>\n",
       "      <td>6.9</td>\n",
       "      <td>french</td>\n",
       "      <td>urban</td>\n",
       "      <td>46.641510</td>\n",
       "      <td>7.062369</td>\n",
       "    </tr>\n",
       "    <tr>\n",
       "      <th>58</th>\n",
       "      <td>337173</td>\n",
       "      <td>Indie - Outbound</td>\n",
       "      <td>Bakery</td>\n",
       "      <td>Freiburg</td>\n",
       "      <td>Ursy</td>\n",
       "      <td>4.9</td>\n",
       "      <td>french</td>\n",
       "      <td>urban</td>\n",
       "      <td>46.637755</td>\n",
       "      <td>6.843907</td>\n",
       "    </tr>\n",
       "    <tr>\n",
       "      <th>61</th>\n",
       "      <td>79</td>\n",
       "      <td>Indie - Outbound</td>\n",
       "      <td>Traditional Restaurant</td>\n",
       "      <td>Vaud</td>\n",
       "      <td>Lausanne</td>\n",
       "      <td>6.9</td>\n",
       "      <td>french</td>\n",
       "      <td>urban</td>\n",
       "      <td>46.531848</td>\n",
       "      <td>6.638594</td>\n",
       "    </tr>\n",
       "    <tr>\n",
       "      <th>62</th>\n",
       "      <td>78</td>\n",
       "      <td>Indie - Outbound</td>\n",
       "      <td>Traditional Restaurant</td>\n",
       "      <td>Bern</td>\n",
       "      <td>Bern</td>\n",
       "      <td>5.9</td>\n",
       "      <td>german</td>\n",
       "      <td>urban</td>\n",
       "      <td>46.907301</td>\n",
       "      <td>7.490900</td>\n",
       "    </tr>\n",
       "  </tbody>\n",
       "</table>\n",
       "</div>"
      ],
      "text/plain": [
       "          Item ID    Store Category           Store Segment Store Region  \\\n",
       "Store ID                                                                   \n",
       "35             34  Indie - Outbound                  Bakery         Vaud   \n",
       "57             73  Indie - Outbound                  Bakery     Freiburg   \n",
       "58         337173  Indie - Outbound                  Bakery     Freiburg   \n",
       "61             79  Indie - Outbound  Traditional Restaurant         Vaud   \n",
       "62             78  Indie - Outbound  Traditional Restaurant         Bern   \n",
       "\n",
       "              City  Item Price Region Language Region Type        lat  \\\n",
       "Store ID                                                                \n",
       "35        Salavaux         6.9          french       urban  46.918363   \n",
       "57           Sâles         6.9          french       urban  46.641510   \n",
       "58            Ursy         4.9          french       urban  46.637755   \n",
       "61        Lausanne         6.9          french       urban  46.531848   \n",
       "62            Bern         5.9          german       urban  46.907301   \n",
       "\n",
       "               lng  \n",
       "Store ID            \n",
       "35        7.022345  \n",
       "57        7.062369  \n",
       "58        6.843907  \n",
       "61        6.638594  \n",
       "62        7.490900  "
      ]
     },
     "execution_count": 18,
     "metadata": {},
     "output_type": "execute_result"
    }
   ],
   "source": [
    "df.head()"
   ]
  },
  {
   "cell_type": "code",
   "execution_count": 19,
   "id": "17feff17-19b8-4d7a-82cd-f72f87fb5b96",
   "metadata": {},
   "outputs": [],
   "source": [
    "df.to_csv('raw_data/cluster_data_clean_latlng.csv')"
   ]
  }
 ],
 "metadata": {
  "kernelspec": {
   "display_name": "Python 3 (ipykernel)",
   "language": "python",
   "name": "python3"
  },
  "language_info": {
   "codemirror_mode": {
    "name": "ipython",
    "version": 3
   },
   "file_extension": ".py",
   "mimetype": "text/x-python",
   "name": "python",
   "nbconvert_exporter": "python",
   "pygments_lexer": "ipython3",
   "version": "3.8.12"
  }
 },
 "nbformat": 4,
 "nbformat_minor": 5
}
