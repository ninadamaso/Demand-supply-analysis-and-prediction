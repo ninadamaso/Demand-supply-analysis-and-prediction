{
 "cells": [
  {
   "cell_type": "code",
   "execution_count": 15,
   "id": "5388d434-39b0-4667-8841-c27d5c46ac85",
   "metadata": {},
   "outputs": [],
   "source": [
    "import pandas as pd"
   ]
  },
  {
   "cell_type": "code",
   "execution_count": 16,
   "id": "764358ce-0fde-43cb-a574-a0007cc19297",
   "metadata": {},
   "outputs": [],
   "source": [
    "#2019\n",
    "path_from = \"raw_data/2019_processed.csv\"\n",
    "df_19 = df = pd.read_csv(path_from, delimiter=',', low_memory=False, encoding = 'unicode_escape')"
   ]
  },
  {
   "cell_type": "code",
   "execution_count": 17,
   "id": "dabdcf8d-53a6-46a3-a176-2bb0911264f6",
   "metadata": {},
   "outputs": [],
   "source": [
    "#2020 I\n",
    "path_from = \"raw_data/2020_processed_1.csv\"\n",
    "df_20_1 = df = pd.read_csv(path_from, delimiter=',', low_memory=False, encoding = 'unicode_escape')"
   ]
  },
  {
   "cell_type": "code",
   "execution_count": 18,
   "id": "7422abec-58fc-4a76-8af5-aa80ec75ce1d",
   "metadata": {},
   "outputs": [],
   "source": [
    "#2020 II\n",
    "path_from = \"raw_data/2020_processed_2.csv\"\n",
    "df_20_2 = df = pd.read_csv(path_from, delimiter=',', low_memory=False, encoding = 'unicode_escape')"
   ]
  },
  {
   "cell_type": "code",
   "execution_count": 19,
   "id": "b322df9a-0f41-4058-ad60-6f38689faa1a",
   "metadata": {},
   "outputs": [],
   "source": [
    "#2021_I\n",
    "path_from = \"raw_data/2021_processed_11.csv\"\n",
    "df_21_1 = df = pd.read_csv(path_from, delimiter=',', low_memory=False, encoding = 'unicode_escape')"
   ]
  },
  {
   "cell_type": "code",
   "execution_count": 20,
   "id": "8176cad8-adc4-452f-b3f8-7295e52fac3e",
   "metadata": {},
   "outputs": [],
   "source": [
    "#2021_II\n",
    "path_from = \"raw_data/2021_processed_12.csv\"\n",
    "df_21_2 = df = pd.read_csv(path_from, delimiter=',', low_memory=False, encoding = 'unicode_escape')"
   ]
  },
  {
   "cell_type": "code",
   "execution_count": 21,
   "id": "e76baf7a-3f1e-48e0-b66e-9660a5c93587",
   "metadata": {},
   "outputs": [],
   "source": [
    "#2021_III\n",
    "path_from = \"raw_data/2021_processed_13.csv\"\n",
    "df_21_3 = df = pd.read_csv(path_from, delimiter=',', low_memory=False, encoding = 'unicode_escape')"
   ]
  },
  {
   "cell_type": "code",
   "execution_count": 22,
   "id": "6bae9ad9-d8e0-4ef1-9969-0d08f8ef01e6",
   "metadata": {},
   "outputs": [],
   "source": [
    "#2022\n",
    "path_from = \"raw_data/2022_processed.csv\"\n",
    "df_22 = df = pd.read_csv(path_from, delimiter=',', low_memory=False, encoding = 'unicode_escape')"
   ]
  },
  {
   "cell_type": "code",
   "execution_count": 23,
   "id": "921e96d5-d99a-44c9-8830-131f4b52e5e6",
   "metadata": {},
   "outputs": [
    {
     "data": {
      "text/plain": [
       "(2663734, 20)"
      ]
     },
     "execution_count": 23,
     "metadata": {},
     "output_type": "execute_result"
    }
   ],
   "source": [
    "df_full = pd.concat([df_19, df_20_1, df_20_2, df_21_1, df_21_2, df_21_3, df_22])\n",
    "df_full.shape"
   ]
  },
  {
   "cell_type": "code",
   "execution_count": 24,
   "id": "de1fe0b8-9e1a-4552-b77f-baed6a082519",
   "metadata": {},
   "outputs": [],
   "source": [
    "df_full.to_csv('raw_data/full_data_processed.csv')"
   ]
  }
 ],
 "metadata": {
  "kernelspec": {
   "display_name": "Python 3 (ipykernel)",
   "language": "python",
   "name": "python3"
  },
  "language_info": {
   "codemirror_mode": {
    "name": "ipython",
    "version": 3
   },
   "file_extension": ".py",
   "mimetype": "text/x-python",
   "name": "python",
   "nbconvert_exporter": "python",
   "pygments_lexer": "ipython3",
   "version": "3.8.12"
  }
 },
 "nbformat": 4,
 "nbformat_minor": 5
}
