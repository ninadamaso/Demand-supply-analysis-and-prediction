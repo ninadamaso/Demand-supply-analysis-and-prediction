{
 "cells": [
  {
   "cell_type": "code",
   "execution_count": 1,
   "id": "2e6e7e77",
   "metadata": {},
   "outputs": [],
   "source": [
    "import pandas as pd\n",
    "import matplotlib.pyplot as plt\n",
    "import seaborn as sns\n",
    "from matplotlib import rcParams\n",
    "import matplotlib.ticker as ticker\n",
    "import numpy as np\n",
    "import datetime\n",
    "\n",
    "import os\n",
    "path = os.getcwd()"
   ]
  },
  {
   "cell_type": "code",
   "execution_count": 212,
   "id": "7ffbef9a",
   "metadata": {},
   "outputs": [],
   "source": [
    "# imports\n",
    "from sklearn.pipeline import Pipeline\n",
    "from sklearn.compose import ColumnTransformer\n",
    "from sklearn.preprocessing import RobustScaler\n",
    "from sklearn.preprocessing import OneHotEncoder\n",
    "from sklearn.preprocessing import FunctionTransformer\n",
    "from sklearn.compose import make_column_selector\n",
    "from sklearn.model_selection import train_test_split\n",
    "from sklearn.pipeline import make_pipeline\n",
    "from sklearn.pipeline import make_union\n",
    "from sklearn.compose import make_column_transformer\n",
    "from sklearn import set_config\n",
    "from sklearn.linear_model import Ridge\n",
    "from sklearn.impute import SimpleImputer\n",
    "from sklearn.linear_model import LinearRegression\n",
    "from sklearn.linear_model import ElasticNet\n",
    "from sklearn.linear_model import Lasso\n",
    "from sklearn.model_selection import GridSearchCV\n",
    "from sklearn.model_selection import cross_val_score\n",
    "from sklearn.model_selection import RandomizedSearchCV\n",
    "from scipy import stats\n",
    "import seaborn as sns\n",
    "import joblib"
   ]
  },
  {
   "cell_type": "code",
   "execution_count": 3,
   "id": "cb5c2645",
   "metadata": {
    "scrolled": true
   },
   "outputs": [
    {
     "data": {
      "text/html": [
       "<div>\n",
       "<style scoped>\n",
       "    .dataframe tbody tr th:only-of-type {\n",
       "        vertical-align: middle;\n",
       "    }\n",
       "\n",
       "    .dataframe tbody tr th {\n",
       "        vertical-align: top;\n",
       "    }\n",
       "\n",
       "    .dataframe thead th {\n",
       "        text-align: right;\n",
       "    }\n",
       "</style>\n",
       "<table border=\"1\" class=\"dataframe\">\n",
       "  <thead>\n",
       "    <tr style=\"text-align: right;\">\n",
       "      <th></th>\n",
       "      <th>Unnamed: 0</th>\n",
       "      <th>Store ID</th>\n",
       "      <th>Item ID</th>\n",
       "      <th>Store Category</th>\n",
       "      <th>Store Segment</th>\n",
       "      <th>Store Region</th>\n",
       "      <th>City</th>\n",
       "      <th>Store Address</th>\n",
       "      <th>Item First Supplying Date</th>\n",
       "      <th>Item Last Supplying Date</th>\n",
       "      <th>...</th>\n",
       "      <th>Region Type</th>\n",
       "      <th>Cluster</th>\n",
       "      <th>Item_trailing_3_m_supply_date</th>\n",
       "      <th>Item Price</th>\n",
       "      <th>Count Ratings</th>\n",
       "      <th>Declared Supply</th>\n",
       "      <th>Meals Saved</th>\n",
       "      <th>Total Supply</th>\n",
       "      <th>Avg Rating Overall</th>\n",
       "      <th>Pickup Length</th>\n",
       "    </tr>\n",
       "  </thead>\n",
       "  <tbody>\n",
       "    <tr>\n",
       "      <th>0</th>\n",
       "      <td>0</td>\n",
       "      <td>35</td>\n",
       "      <td>34</td>\n",
       "      <td>Indie - Outbound</td>\n",
       "      <td>Bakery</td>\n",
       "      <td>Vaud</td>\n",
       "      <td>Salavaux</td>\n",
       "      <td>Route de Vallamand 5</td>\n",
       "      <td>2019-06-06 00:00:00</td>\n",
       "      <td>2022-03-01</td>\n",
       "      <td>...</td>\n",
       "      <td>urban</td>\n",
       "      <td>3</td>\n",
       "      <td>2021-12-01</td>\n",
       "      <td>6.9</td>\n",
       "      <td>1.13</td>\n",
       "      <td>3.14</td>\n",
       "      <td>3.05</td>\n",
       "      <td>3.29</td>\n",
       "      <td>3.45</td>\n",
       "      <td>20.0</td>\n",
       "    </tr>\n",
       "    <tr>\n",
       "      <th>1</th>\n",
       "      <td>1</td>\n",
       "      <td>57</td>\n",
       "      <td>73</td>\n",
       "      <td>Indie - Outbound</td>\n",
       "      <td>Bakery</td>\n",
       "      <td>Freiburg</td>\n",
       "      <td>SÃ¢les</td>\n",
       "      <td>Route de la Rosaire 2</td>\n",
       "      <td>2019-06-08 00:00:00</td>\n",
       "      <td>2022-03-01</td>\n",
       "      <td>...</td>\n",
       "      <td>urban</td>\n",
       "      <td>0</td>\n",
       "      <td>2021-12-01</td>\n",
       "      <td>6.9</td>\n",
       "      <td>0.76</td>\n",
       "      <td>1.94</td>\n",
       "      <td>2.09</td>\n",
       "      <td>2.26</td>\n",
       "      <td>2.59</td>\n",
       "      <td>30.0</td>\n",
       "    </tr>\n",
       "    <tr>\n",
       "      <th>2</th>\n",
       "      <td>2</td>\n",
       "      <td>57</td>\n",
       "      <td>337152</td>\n",
       "      <td>Indie - Outbound</td>\n",
       "      <td>Bakery</td>\n",
       "      <td>Freiburg</td>\n",
       "      <td>SÃ¢les</td>\n",
       "      <td>Route de la Rosaire 2</td>\n",
       "      <td>2020-12-29 00:00:00</td>\n",
       "      <td>2020-12-29</td>\n",
       "      <td>...</td>\n",
       "      <td>urban</td>\n",
       "      <td>0</td>\n",
       "      <td>2020-09-30</td>\n",
       "      <td>6.9</td>\n",
       "      <td>0.00</td>\n",
       "      <td>1.00</td>\n",
       "      <td>1.00</td>\n",
       "      <td>1.00</td>\n",
       "      <td>0.00</td>\n",
       "      <td>30.0</td>\n",
       "    </tr>\n",
       "    <tr>\n",
       "      <th>3</th>\n",
       "      <td>3</td>\n",
       "      <td>58</td>\n",
       "      <td>74</td>\n",
       "      <td>Indie - Outbound</td>\n",
       "      <td>Bakery</td>\n",
       "      <td>Freiburg</td>\n",
       "      <td>Ursy</td>\n",
       "      <td>Route de Vauderens 6</td>\n",
       "      <td>2019-06-26 00:00:00</td>\n",
       "      <td>2022-02-26</td>\n",
       "      <td>...</td>\n",
       "      <td>urban</td>\n",
       "      <td>0</td>\n",
       "      <td>2021-11-28</td>\n",
       "      <td>4.9</td>\n",
       "      <td>0.59</td>\n",
       "      <td>0.00</td>\n",
       "      <td>1.30</td>\n",
       "      <td>1.34</td>\n",
       "      <td>2.73</td>\n",
       "      <td>30.0</td>\n",
       "    </tr>\n",
       "    <tr>\n",
       "      <th>4</th>\n",
       "      <td>4</td>\n",
       "      <td>58</td>\n",
       "      <td>337173</td>\n",
       "      <td>Indie - Outbound</td>\n",
       "      <td>Bakery</td>\n",
       "      <td>Freiburg</td>\n",
       "      <td>Ursy</td>\n",
       "      <td>Route de Vauderens 6</td>\n",
       "      <td>2020-12-28 00:00:00</td>\n",
       "      <td>2020-12-29</td>\n",
       "      <td>...</td>\n",
       "      <td>urban</td>\n",
       "      <td>0</td>\n",
       "      <td>2020-09-30</td>\n",
       "      <td>4.9</td>\n",
       "      <td>0.00</td>\n",
       "      <td>1.00</td>\n",
       "      <td>0.67</td>\n",
       "      <td>0.67</td>\n",
       "      <td>0.00</td>\n",
       "      <td>30.0</td>\n",
       "    </tr>\n",
       "  </tbody>\n",
       "</table>\n",
       "<p>5 rows × 22 columns</p>\n",
       "</div>"
      ],
      "text/plain": [
       "   Unnamed: 0  Store ID  Item ID    Store Category Store Segment Store Region  \\\n",
       "0           0        35       34  Indie - Outbound        Bakery         Vaud   \n",
       "1           1        57       73  Indie - Outbound        Bakery     Freiburg   \n",
       "2           2        57   337152  Indie - Outbound        Bakery     Freiburg   \n",
       "3           3        58       74  Indie - Outbound        Bakery     Freiburg   \n",
       "4           4        58   337173  Indie - Outbound        Bakery     Freiburg   \n",
       "\n",
       "       City          Store Address Item First Supplying Date  \\\n",
       "0  Salavaux   Route de Vallamand 5       2019-06-06 00:00:00   \n",
       "1    SÃ¢les  Route de la Rosaire 2       2019-06-08 00:00:00   \n",
       "2    SÃ¢les  Route de la Rosaire 2       2020-12-29 00:00:00   \n",
       "3      Ursy   Route de Vauderens 6       2019-06-26 00:00:00   \n",
       "4      Ursy   Route de Vauderens 6       2020-12-28 00:00:00   \n",
       "\n",
       "  Item Last Supplying Date  ...  Region Type Cluster  \\\n",
       "0               2022-03-01  ...        urban       3   \n",
       "1               2022-03-01  ...        urban       0   \n",
       "2               2020-12-29  ...        urban       0   \n",
       "3               2022-02-26  ...        urban       0   \n",
       "4               2020-12-29  ...        urban       0   \n",
       "\n",
       "  Item_trailing_3_m_supply_date  Item Price Count Ratings  Declared Supply  \\\n",
       "0                    2021-12-01         6.9          1.13             3.14   \n",
       "1                    2021-12-01         6.9          0.76             1.94   \n",
       "2                    2020-09-30         6.9          0.00             1.00   \n",
       "3                    2021-11-28         4.9          0.59             0.00   \n",
       "4                    2020-09-30         4.9          0.00             1.00   \n",
       "\n",
       "   Meals Saved  Total Supply  Avg Rating Overall  Pickup Length  \n",
       "0         3.05          3.29                3.45           20.0  \n",
       "1         2.09          2.26                2.59           30.0  \n",
       "2         1.00          1.00                0.00           30.0  \n",
       "3         1.30          1.34                2.73           30.0  \n",
       "4         0.67          0.67                0.00           30.0  \n",
       "\n",
       "[5 rows x 22 columns]"
      ]
     },
     "execution_count": 3,
     "metadata": {},
     "output_type": "execute_result"
    }
   ],
   "source": [
    "df= pd.read_csv(\"../DF/df_for_regression.csv\")\n",
    "df.head()"
   ]
  },
  {
   "cell_type": "code",
   "execution_count": 4,
   "id": "cf59bce0",
   "metadata": {
    "scrolled": true
   },
   "outputs": [
    {
     "name": "stdout",
     "output_type": "stream",
     "text": [
      "<class 'pandas.core.frame.DataFrame'>\n",
      "RangeIndex: 10151 entries, 0 to 10150\n",
      "Data columns (total 22 columns):\n",
      " #   Column                         Non-Null Count  Dtype  \n",
      "---  ------                         --------------  -----  \n",
      " 0   Unnamed: 0                     10151 non-null  int64  \n",
      " 1   Store ID                       10151 non-null  int64  \n",
      " 2   Item ID                        10151 non-null  int64  \n",
      " 3   Store Category                 10151 non-null  object \n",
      " 4   Store Segment                  10151 non-null  object \n",
      " 5   Store Region                   10151 non-null  object \n",
      " 6   City                           10151 non-null  object \n",
      " 7   Store Address                  10151 non-null  object \n",
      " 8   Item First Supplying Date      10151 non-null  object \n",
      " 9   Item Last Supplying Date       10151 non-null  object \n",
      " 10  Supply Length                  10151 non-null  int64  \n",
      " 11  Region Language                10151 non-null  object \n",
      " 12  Region Type                    10151 non-null  object \n",
      " 13  Cluster                        10151 non-null  int64  \n",
      " 14  Item_trailing_3_m_supply_date  10151 non-null  object \n",
      " 15  Item Price                     10151 non-null  float64\n",
      " 16  Count Ratings                  10151 non-null  float64\n",
      " 17  Declared Supply                10151 non-null  float64\n",
      " 18  Meals Saved                    10151 non-null  float64\n",
      " 19  Total Supply                   10151 non-null  float64\n",
      " 20  Avg Rating Overall             10151 non-null  float64\n",
      " 21  Pickup Length                  10151 non-null  float64\n",
      "dtypes: float64(7), int64(5), object(10)\n",
      "memory usage: 1.7+ MB\n"
     ]
    }
   ],
   "source": [
    "df.info()"
   ]
  },
  {
   "cell_type": "markdown",
   "id": "6af0eb48",
   "metadata": {},
   "source": [
    "## Data Preprocessing"
   ]
  },
  {
   "cell_type": "code",
   "execution_count": 5,
   "id": "56ca155e",
   "metadata": {},
   "outputs": [
    {
     "data": {
      "text/plain": [
       "0"
      ]
     },
     "execution_count": 5,
     "metadata": {},
     "output_type": "execute_result"
    }
   ],
   "source": [
    "# Check for duplicates\n",
    "df.duplicated().sum()"
   ]
  },
  {
   "cell_type": "code",
   "execution_count": 6,
   "id": "2f5ddf4c",
   "metadata": {},
   "outputs": [
    {
     "data": {
      "text/plain": [
       "Unnamed: 0                       0\n",
       "Store ID                         0\n",
       "Avg Rating Overall               0\n",
       "Total Supply                     0\n",
       "Meals Saved                      0\n",
       "Declared Supply                  0\n",
       "Count Ratings                    0\n",
       "Item Price                       0\n",
       "Item_trailing_3_m_supply_date    0\n",
       "Cluster                          0\n",
       "Region Type                      0\n",
       "Region Language                  0\n",
       "Supply Length                    0\n",
       "Item Last Supplying Date         0\n",
       "Item First Supplying Date        0\n",
       "Store Address                    0\n",
       "City                             0\n",
       "Store Region                     0\n",
       "Store Segment                    0\n",
       "Store Category                   0\n",
       "Item ID                          0\n",
       "Pickup Length                    0\n",
       "dtype: int64"
      ]
     },
     "execution_count": 6,
     "metadata": {},
     "output_type": "execute_result"
    }
   ],
   "source": [
    "# Check for nan:\n",
    "df.isnull().sum().sort_values(ascending=False)"
   ]
  },
  {
   "cell_type": "code",
   "execution_count": 7,
   "id": "b232265b",
   "metadata": {
    "scrolled": true
   },
   "outputs": [
    {
     "data": {
      "text/html": [
       "<div>\n",
       "<style scoped>\n",
       "    .dataframe tbody tr th:only-of-type {\n",
       "        vertical-align: middle;\n",
       "    }\n",
       "\n",
       "    .dataframe tbody tr th {\n",
       "        vertical-align: top;\n",
       "    }\n",
       "\n",
       "    .dataframe thead th {\n",
       "        text-align: right;\n",
       "    }\n",
       "</style>\n",
       "<table border=\"1\" class=\"dataframe\">\n",
       "  <thead>\n",
       "    <tr style=\"text-align: right;\">\n",
       "      <th></th>\n",
       "      <th>Item First Supplying Date</th>\n",
       "      <th>Item Last Supplying Date</th>\n",
       "    </tr>\n",
       "  </thead>\n",
       "  <tbody>\n",
       "    <tr>\n",
       "      <th>0</th>\n",
       "      <td>2019-06-06 00:00:00</td>\n",
       "      <td>2022-03-01</td>\n",
       "    </tr>\n",
       "    <tr>\n",
       "      <th>1</th>\n",
       "      <td>2019-06-08 00:00:00</td>\n",
       "      <td>2022-03-01</td>\n",
       "    </tr>\n",
       "    <tr>\n",
       "      <th>2</th>\n",
       "      <td>2020-12-29 00:00:00</td>\n",
       "      <td>2020-12-29</td>\n",
       "    </tr>\n",
       "    <tr>\n",
       "      <th>3</th>\n",
       "      <td>2019-06-26 00:00:00</td>\n",
       "      <td>2022-02-26</td>\n",
       "    </tr>\n",
       "    <tr>\n",
       "      <th>4</th>\n",
       "      <td>2020-12-28 00:00:00</td>\n",
       "      <td>2020-12-29</td>\n",
       "    </tr>\n",
       "  </tbody>\n",
       "</table>\n",
       "</div>"
      ],
      "text/plain": [
       "  Item First Supplying Date Item Last Supplying Date\n",
       "0       2019-06-06 00:00:00               2022-03-01\n",
       "1       2019-06-08 00:00:00               2022-03-01\n",
       "2       2020-12-29 00:00:00               2020-12-29\n",
       "3       2019-06-26 00:00:00               2022-02-26\n",
       "4       2020-12-28 00:00:00               2020-12-29"
      ]
     },
     "execution_count": 7,
     "metadata": {},
     "output_type": "execute_result"
    }
   ],
   "source": [
    "# Check for date columns to remove:\n",
    "df[[\"Item First Supplying Date\",'Item Last Supplying Date']].head()"
   ]
  },
  {
   "cell_type": "code",
   "execution_count": 147,
   "id": "5f10ffec",
   "metadata": {},
   "outputs": [],
   "source": [
    "df = df[df[\"Meals Saved\"]<=4]"
   ]
  },
  {
   "cell_type": "markdown",
   "id": "efc69441",
   "metadata": {},
   "source": [
    "### Add column to cluster Pickup start time"
   ]
  },
  {
   "cell_type": "markdown",
   "id": "c47c8a1e",
   "metadata": {},
   "source": [
    "# Add column to cluster Pickup start time:\n",
    "conditions = [\n",
    "    (df['Pickup Time Start Time of Day'] <= \"1900-01-01 11:59:00\"),\n",
    "    (df['Pickup Time Start Time of Day'] >= \"1900-01-01 12:00:00\") & (df['Pickup Time Start Time of Day'] < \"1900-01-01 17:00:00\"),\n",
    "    (df['Pickup Time Start Time of Day'] >= \"1900-01-01 17:00:00\") & (df['Pickup Time Start Time of Day'] < \"1900-01-01 21:00:00\"),\n",
    "    (df['Pickup Time Start Time of Day'] >= \"1900-01-01 21:00:00\")\n",
    "    ]\n",
    "\n",
    "values = ['morning', 'afternoon', 'early evening', 'late evening']\n",
    "\n",
    "df['Pickup_time_of_day'] = np.select(conditions, values)"
   ]
  },
  {
   "cell_type": "markdown",
   "id": "c39e873d",
   "metadata": {},
   "source": [
    "###  Convert Pickup Length"
   ]
  },
  {
   "cell_type": "code",
   "execution_count": 148,
   "id": "7be68d3e",
   "metadata": {},
   "outputs": [],
   "source": [
    "# Fuction to convert:\n",
    "def pickup_conv(x):\n",
    "    x=str(x)\n",
    "    x=x[len(x)-8:len(x)]\n",
    "    h,m,s = x.split(':')\n",
    "    x=int((datetime.timedelta(hours=int(h),minutes=int(m),seconds=int(s)).total_seconds())/60)\n",
    "    return x"
   ]
  },
  {
   "cell_type": "code",
   "execution_count": 149,
   "id": "04ac390a",
   "metadata": {},
   "outputs": [],
   "source": [
    "#Converting the whole column\n",
    "#df['Pickup Length']=df['Pickup Length'].map(pickup_conv)"
   ]
  },
  {
   "cell_type": "code",
   "execution_count": 150,
   "id": "460bff03",
   "metadata": {},
   "outputs": [],
   "source": [
    "#encoding = {\"morning\": 0, \"afternoon\": 1, \"early evening\": 2, \"late evening\": 3}\n",
    "#df[\"encoded pickup time\"] = df[\"Pickup_time_of_day\"].map(encoding)"
   ]
  },
  {
   "cell_type": "markdown",
   "id": "286cc893",
   "metadata": {},
   "source": [
    "### Define Features"
   ]
  },
  {
   "cell_type": "code",
   "execution_count": 151,
   "id": "1323c3dc",
   "metadata": {},
   "outputs": [
    {
     "data": {
      "text/plain": [
       "<AxesSubplot:>"
      ]
     },
     "execution_count": 151,
     "metadata": {},
     "output_type": "execute_result"
    },
    {
     "data": {
      "image/png": "[encoded data removed]",
      "text/plain": [
       "<Figure size 432x288 with 2 Axes>"
      ]
     },
     "metadata": {
      "needs_background": "light"
     },
     "output_type": "display_data"
    }
   ],
   "source": [
    "# Heatmap\n",
    "corr = df.corr()\n",
    "sns.heatmap(corr, \n",
    "        xticklabels=corr.columns,\n",
    "        yticklabels=corr.columns,\n",
    "        cmap= \"YlGnBu\")"
   ]
  },
  {
   "cell_type": "code",
   "execution_count": 152,
   "id": "24c08e06",
   "metadata": {},
   "outputs": [
    {
     "data": {
      "text/html": [
       "<div>\n",
       "<style scoped>\n",
       "    .dataframe tbody tr th:only-of-type {\n",
       "        vertical-align: middle;\n",
       "    }\n",
       "\n",
       "    .dataframe tbody tr th {\n",
       "        vertical-align: top;\n",
       "    }\n",
       "\n",
       "    .dataframe thead th {\n",
       "        text-align: right;\n",
       "    }\n",
       "</style>\n",
       "<table border=\"1\" class=\"dataframe\">\n",
       "  <thead>\n",
       "    <tr style=\"text-align: right;\">\n",
       "      <th></th>\n",
       "      <th>feature_1</th>\n",
       "      <th>feature_2</th>\n",
       "      <th>correlation</th>\n",
       "    </tr>\n",
       "  </thead>\n",
       "  <tbody>\n",
       "    <tr>\n",
       "      <th>12</th>\n",
       "      <td>Store ID</td>\n",
       "      <td>Unnamed: 0</td>\n",
       "      <td>0.969198</td>\n",
       "    </tr>\n",
       "    <tr>\n",
       "      <th>1</th>\n",
       "      <td>Unnamed: 0</td>\n",
       "      <td>Store ID</td>\n",
       "      <td>0.969198</td>\n",
       "    </tr>\n",
       "    <tr>\n",
       "      <th>14</th>\n",
       "      <td>Store ID</td>\n",
       "      <td>Item ID</td>\n",
       "      <td>0.914467</td>\n",
       "    </tr>\n",
       "    <tr>\n",
       "      <th>25</th>\n",
       "      <td>Item ID</td>\n",
       "      <td>Store ID</td>\n",
       "      <td>0.914467</td>\n",
       "    </tr>\n",
       "    <tr>\n",
       "      <th>82</th>\n",
       "      <td>Count Ratings</td>\n",
       "      <td>Avg Rating Overall</td>\n",
       "      <td>0.902216</td>\n",
       "    </tr>\n",
       "  </tbody>\n",
       "</table>\n",
       "</div>"
      ],
      "text/plain": [
       "        feature_1           feature_2  correlation\n",
       "12       Store ID          Unnamed: 0     0.969198\n",
       "1      Unnamed: 0            Store ID     0.969198\n",
       "14       Store ID             Item ID     0.914467\n",
       "25        Item ID            Store ID     0.914467\n",
       "82  Count Ratings  Avg Rating Overall     0.902216"
      ]
     },
     "execution_count": 152,
     "metadata": {},
     "output_type": "execute_result"
    }
   ],
   "source": [
    "corr_df = corr.unstack().reset_index() # Unstack correlation matrix \n",
    "corr_df.columns = ['feature_1','feature_2', 'correlation'] # rename columns\n",
    "corr_df.sort_values(by=\"correlation\",ascending=False, inplace=True) # sort by correlation\n",
    "corr_df = corr_df[corr_df['feature_1'] != corr_df['feature_2']] # Remove self correlation\n",
    "corr_df.head()"
   ]
  },
  {
   "cell_type": "markdown",
   "id": "cff2cf7a",
   "metadata": {},
   "source": [
    "### Define X and y"
   ]
  },
  {
   "cell_type": "code",
   "execution_count": 181,
   "id": "58625bc8",
   "metadata": {},
   "outputs": [],
   "source": [
    "# Remove columns: define X and y\n",
    "X = df.drop(columns=['Unnamed: 0','Store ID','Item ID','City','Store Address', \"Count Ratings\", \"Item_trailing_3_m_supply_date\", \"Item Last Supplying Date\", \"Item First Supplying Date\", \"Supply Length\", \"Declared Supply\", \"Meals Saved\", \"Avg Rating Overall\", \"Total Supply\", \"Store Region\"])\n",
    "y = df[\"Meals Saved\"]"
   ]
  },
  {
   "cell_type": "code",
   "execution_count": 182,
   "id": "d5ede3e9",
   "metadata": {},
   "outputs": [
    {
     "data": {
      "text/html": [
       "<div>\n",
       "<style scoped>\n",
       "    .dataframe tbody tr th:only-of-type {\n",
       "        vertical-align: middle;\n",
       "    }\n",
       "\n",
       "    .dataframe tbody tr th {\n",
       "        vertical-align: top;\n",
       "    }\n",
       "\n",
       "    .dataframe thead th {\n",
       "        text-align: right;\n",
       "    }\n",
       "</style>\n",
       "<table border=\"1\" class=\"dataframe\">\n",
       "  <thead>\n",
       "    <tr style=\"text-align: right;\">\n",
       "      <th></th>\n",
       "      <th>Store Category</th>\n",
       "      <th>Store Segment</th>\n",
       "      <th>Region Language</th>\n",
       "      <th>Region Type</th>\n",
       "      <th>Cluster</th>\n",
       "      <th>Item Price</th>\n",
       "      <th>Pickup Length</th>\n",
       "    </tr>\n",
       "  </thead>\n",
       "  <tbody>\n",
       "    <tr>\n",
       "      <th>0</th>\n",
       "      <td>Indie - Outbound</td>\n",
       "      <td>Bakery</td>\n",
       "      <td>french</td>\n",
       "      <td>urban</td>\n",
       "      <td>3</td>\n",
       "      <td>6.9</td>\n",
       "      <td>20.0</td>\n",
       "    </tr>\n",
       "    <tr>\n",
       "      <th>1</th>\n",
       "      <td>Indie - Outbound</td>\n",
       "      <td>Bakery</td>\n",
       "      <td>french</td>\n",
       "      <td>urban</td>\n",
       "      <td>0</td>\n",
       "      <td>6.9</td>\n",
       "      <td>30.0</td>\n",
       "    </tr>\n",
       "    <tr>\n",
       "      <th>2</th>\n",
       "      <td>Indie - Outbound</td>\n",
       "      <td>Bakery</td>\n",
       "      <td>french</td>\n",
       "      <td>urban</td>\n",
       "      <td>0</td>\n",
       "      <td>6.9</td>\n",
       "      <td>30.0</td>\n",
       "    </tr>\n",
       "  </tbody>\n",
       "</table>\n",
       "</div>"
      ],
      "text/plain": [
       "     Store Category Store Segment Region Language Region Type  Cluster  \\\n",
       "0  Indie - Outbound        Bakery          french       urban        3   \n",
       "1  Indie - Outbound        Bakery          french       urban        0   \n",
       "2  Indie - Outbound        Bakery          french       urban        0   \n",
       "\n",
       "   Item Price  Pickup Length  \n",
       "0         6.9           20.0  \n",
       "1         6.9           30.0  \n",
       "2         6.9           30.0  "
      ]
     },
     "execution_count": 182,
     "metadata": {},
     "output_type": "execute_result"
    }
   ],
   "source": [
    "X.head(3)"
   ]
  },
  {
   "cell_type": "code",
   "execution_count": 183,
   "id": "e77d6c1f",
   "metadata": {
    "scrolled": true
   },
   "outputs": [
    {
     "data": {
      "text/plain": [
       "<AxesSubplot:>"
      ]
     },
     "execution_count": 183,
     "metadata": {},
     "output_type": "execute_result"
    },
    {
     "data": {
      "image/png": "[encoded data removed]",
      "text/plain": [
       "<Figure size 432x288 with 1 Axes>"
      ]
     },
     "metadata": {
      "needs_background": "light"
     },
     "output_type": "display_data"
    }
   ],
   "source": [
    "pd.DataFrame(y).plot(kind = \"box\")"
   ]
  },
  {
   "cell_type": "code",
   "execution_count": 184,
   "id": "cdad65cf",
   "metadata": {
    "scrolled": true
   },
   "outputs": [
    {
     "name": "stdout",
     "output_type": "stream",
     "text": [
      "<class 'pandas.core.frame.DataFrame'>\n",
      "Int64Index: 9472 entries, 0 to 10150\n",
      "Data columns (total 7 columns):\n",
      " #   Column           Non-Null Count  Dtype  \n",
      "---  ------           --------------  -----  \n",
      " 0   Store Category   9472 non-null   object \n",
      " 1   Store Segment    9472 non-null   object \n",
      " 2   Region Language  9472 non-null   object \n",
      " 3   Region Type      9472 non-null   object \n",
      " 4   Cluster          9472 non-null   int64  \n",
      " 5   Item Price       9472 non-null   float64\n",
      " 6   Pickup Length    9472 non-null   float64\n",
      "dtypes: float64(2), int64(1), object(4)\n",
      "memory usage: 592.0+ KB\n"
     ]
    }
   ],
   "source": [
    "X.info()"
   ]
  },
  {
   "cell_type": "code",
   "execution_count": 185,
   "id": "ef3b1f35",
   "metadata": {
    "scrolled": true
   },
   "outputs": [
    {
     "data": {
      "text/html": [
       "<div>\n",
       "<style scoped>\n",
       "    .dataframe tbody tr th:only-of-type {\n",
       "        vertical-align: middle;\n",
       "    }\n",
       "\n",
       "    .dataframe tbody tr th {\n",
       "        vertical-align: top;\n",
       "    }\n",
       "\n",
       "    .dataframe thead th {\n",
       "        text-align: right;\n",
       "    }\n",
       "</style>\n",
       "<table border=\"1\" class=\"dataframe\">\n",
       "  <thead>\n",
       "    <tr style=\"text-align: right;\">\n",
       "      <th></th>\n",
       "      <th>Cluster</th>\n",
       "      <th>Item Price</th>\n",
       "      <th>Pickup Length</th>\n",
       "    </tr>\n",
       "  </thead>\n",
       "  <tbody>\n",
       "    <tr>\n",
       "      <th>count</th>\n",
       "      <td>9472.000000</td>\n",
       "      <td>9472.000000</td>\n",
       "      <td>9472.000000</td>\n",
       "    </tr>\n",
       "    <tr>\n",
       "      <th>mean</th>\n",
       "      <td>1.533573</td>\n",
       "      <td>7.887632</td>\n",
       "      <td>93.206270</td>\n",
       "    </tr>\n",
       "    <tr>\n",
       "      <th>std</th>\n",
       "      <td>1.077766</td>\n",
       "      <td>5.732264</td>\n",
       "      <td>141.025934</td>\n",
       "    </tr>\n",
       "    <tr>\n",
       "      <th>min</th>\n",
       "      <td>0.000000</td>\n",
       "      <td>0.010000</td>\n",
       "      <td>0.000000</td>\n",
       "    </tr>\n",
       "    <tr>\n",
       "      <th>25%</th>\n",
       "      <td>1.000000</td>\n",
       "      <td>5.900000</td>\n",
       "      <td>30.000000</td>\n",
       "    </tr>\n",
       "    <tr>\n",
       "      <th>50%</th>\n",
       "      <td>1.000000</td>\n",
       "      <td>5.900000</td>\n",
       "      <td>30.000000</td>\n",
       "    </tr>\n",
       "    <tr>\n",
       "      <th>75%</th>\n",
       "      <td>3.000000</td>\n",
       "      <td>6.900000</td>\n",
       "      <td>67.500000</td>\n",
       "    </tr>\n",
       "    <tr>\n",
       "      <th>max</th>\n",
       "      <td>3.000000</td>\n",
       "      <td>94.900000</td>\n",
       "      <td>1185.000000</td>\n",
       "    </tr>\n",
       "  </tbody>\n",
       "</table>\n",
       "</div>"
      ],
      "text/plain": [
       "           Cluster   Item Price  Pickup Length\n",
       "count  9472.000000  9472.000000    9472.000000\n",
       "mean      1.533573     7.887632      93.206270\n",
       "std       1.077766     5.732264     141.025934\n",
       "min       0.000000     0.010000       0.000000\n",
       "25%       1.000000     5.900000      30.000000\n",
       "50%       1.000000     5.900000      30.000000\n",
       "75%       3.000000     6.900000      67.500000\n",
       "max       3.000000    94.900000    1185.000000"
      ]
     },
     "execution_count": 185,
     "metadata": {},
     "output_type": "execute_result"
    }
   ],
   "source": [
    "X.describe()"
   ]
  },
  {
   "cell_type": "markdown",
   "id": "2f8e269c",
   "metadata": {},
   "source": [
    "# Model 1: y=Price"
   ]
  },
  {
   "cell_type": "code",
   "execution_count": 186,
   "id": "2eb85009",
   "metadata": {},
   "outputs": [],
   "source": [
    "# Split into Train/Test -> to do on all dataset\n",
    "X_train, X_test, y_train, y_test = train_test_split(X, y, test_size=0.2, random_state =42)"
   ]
  },
  {
   "cell_type": "code",
   "execution_count": 199,
   "id": "d806a54d",
   "metadata": {},
   "outputs": [],
   "source": [
    "num_transformer = make_pipeline(RobustScaler())    #### Removed Simple Imputer\n",
    "cat_transformer = make_pipeline(OneHotEncoder(handle_unknown='ignore'))\n",
    "preprocess = make_column_transformer((num_transformer, ['Item Price', \"Cluster\", \"Pickup Length\"]),\n",
    "                                     (cat_transformer,['Store Category', 'Store Segment', 'Region Language', 'Region Type']))\n"
   ]
  },
  {
   "cell_type": "code",
   "execution_count": 200,
   "id": "5d1e76e7",
   "metadata": {},
   "outputs": [],
   "source": [
    "# visualizing pipelines in HTML\n",
    "#set_config(display='diagram')\n",
    "#preprocess"
   ]
  },
  {
   "cell_type": "code",
   "execution_count": 201,
   "id": "c4fb5ff4",
   "metadata": {},
   "outputs": [],
   "source": [
    "#preprocess.fit(X_train)\n",
    "X_train_transformed = preprocess.fit_transform(X_train)"
   ]
  },
  {
   "cell_type": "code",
   "execution_count": 202,
   "id": "61c2b2a4",
   "metadata": {
    "scrolled": true
   },
   "outputs": [
    {
     "data": {
      "text/html": [
       "<div>\n",
       "<style scoped>\n",
       "    .dataframe tbody tr th:only-of-type {\n",
       "        vertical-align: middle;\n",
       "    }\n",
       "\n",
       "    .dataframe tbody tr th {\n",
       "        vertical-align: top;\n",
       "    }\n",
       "\n",
       "    .dataframe thead th {\n",
       "        text-align: right;\n",
       "    }\n",
       "</style>\n",
       "<table border=\"1\" class=\"dataframe\">\n",
       "  <thead>\n",
       "    <tr style=\"text-align: right;\">\n",
       "      <th></th>\n",
       "      <th>0</th>\n",
       "      <th>1</th>\n",
       "      <th>2</th>\n",
       "      <th>3</th>\n",
       "      <th>4</th>\n",
       "      <th>5</th>\n",
       "      <th>6</th>\n",
       "      <th>7</th>\n",
       "      <th>8</th>\n",
       "      <th>9</th>\n",
       "      <th>...</th>\n",
       "      <th>25</th>\n",
       "      <th>26</th>\n",
       "      <th>27</th>\n",
       "      <th>28</th>\n",
       "      <th>29</th>\n",
       "      <th>30</th>\n",
       "      <th>31</th>\n",
       "      <th>32</th>\n",
       "      <th>33</th>\n",
       "      <th>34</th>\n",
       "    </tr>\n",
       "  </thead>\n",
       "  <tbody>\n",
       "    <tr>\n",
       "      <th>0</th>\n",
       "      <td>4.0</td>\n",
       "      <td>0.0</td>\n",
       "      <td>9.36609</td>\n",
       "      <td>0.0</td>\n",
       "      <td>0.0</td>\n",
       "      <td>0.0</td>\n",
       "      <td>1.0</td>\n",
       "      <td>0.0</td>\n",
       "      <td>0.0</td>\n",
       "      <td>0.0</td>\n",
       "      <td>...</td>\n",
       "      <td>0.0</td>\n",
       "      <td>0.0</td>\n",
       "      <td>0.0</td>\n",
       "      <td>0.0</td>\n",
       "      <td>0.0</td>\n",
       "      <td>0.0</td>\n",
       "      <td>1.0</td>\n",
       "      <td>0.0</td>\n",
       "      <td>0.0</td>\n",
       "      <td>1.0</td>\n",
       "    </tr>\n",
       "    <tr>\n",
       "      <th>1</th>\n",
       "      <td>0.0</td>\n",
       "      <td>0.0</td>\n",
       "      <td>0.00000</td>\n",
       "      <td>0.0</td>\n",
       "      <td>0.0</td>\n",
       "      <td>1.0</td>\n",
       "      <td>0.0</td>\n",
       "      <td>0.0</td>\n",
       "      <td>0.0</td>\n",
       "      <td>0.0</td>\n",
       "      <td>...</td>\n",
       "      <td>0.0</td>\n",
       "      <td>1.0</td>\n",
       "      <td>0.0</td>\n",
       "      <td>0.0</td>\n",
       "      <td>0.0</td>\n",
       "      <td>0.0</td>\n",
       "      <td>1.0</td>\n",
       "      <td>0.0</td>\n",
       "      <td>0.0</td>\n",
       "      <td>1.0</td>\n",
       "    </tr>\n",
       "    <tr>\n",
       "      <th>2</th>\n",
       "      <td>-1.0</td>\n",
       "      <td>1.0</td>\n",
       "      <td>0.00000</td>\n",
       "      <td>0.0</td>\n",
       "      <td>0.0</td>\n",
       "      <td>1.0</td>\n",
       "      <td>0.0</td>\n",
       "      <td>0.0</td>\n",
       "      <td>0.0</td>\n",
       "      <td>0.0</td>\n",
       "      <td>...</td>\n",
       "      <td>0.0</td>\n",
       "      <td>0.0</td>\n",
       "      <td>1.0</td>\n",
       "      <td>0.0</td>\n",
       "      <td>0.0</td>\n",
       "      <td>0.0</td>\n",
       "      <td>1.0</td>\n",
       "      <td>0.0</td>\n",
       "      <td>1.0</td>\n",
       "      <td>0.0</td>\n",
       "    </tr>\n",
       "  </tbody>\n",
       "</table>\n",
       "<p>3 rows × 35 columns</p>\n",
       "</div>"
      ],
      "text/plain": [
       "    0    1        2    3    4    5    6    7    8    9   ...   25   26   27  \\\n",
       "0  4.0  0.0  9.36609  0.0  0.0  0.0  1.0  0.0  0.0  0.0  ...  0.0  0.0  0.0   \n",
       "1  0.0  0.0  0.00000  0.0  0.0  1.0  0.0  0.0  0.0  0.0  ...  0.0  1.0  0.0   \n",
       "2 -1.0  1.0  0.00000  0.0  0.0  1.0  0.0  0.0  0.0  0.0  ...  0.0  0.0  1.0   \n",
       "\n",
       "    28   29   30   31   32   33   34  \n",
       "0  0.0  0.0  0.0  1.0  0.0  0.0  1.0  \n",
       "1  0.0  0.0  0.0  1.0  0.0  0.0  1.0  \n",
       "2  0.0  0.0  0.0  1.0  0.0  1.0  0.0  \n",
       "\n",
       "[3 rows x 35 columns]"
      ]
     },
     "metadata": {},
     "output_type": "display_data"
    }
   ],
   "source": [
    "display(pd.DataFrame(X_train_transformed.todense()).head(3))"
   ]
  },
  {
   "cell_type": "code",
   "execution_count": 203,
   "id": "57502a6d",
   "metadata": {},
   "outputs": [],
   "source": [
    "# Add Estimator\n",
    "#pipe = make_pipeline(preprocess, Ridge())\n",
    "# lasso = Lasso(alpha=0.2).fit(X, y)\n",
    "pipe1 = make_pipeline(preprocess, LinearRegression(copy_X=True, fit_intercept=True, n_jobs=None, normalize=False))"
   ]
  },
  {
   "cell_type": "code",
   "execution_count": 204,
   "id": "b0f7c4da",
   "metadata": {},
   "outputs": [],
   "source": [
    "pipe2 = make_pipeline(preprocess, ElasticNet(alpha=0.01, copy_X=True, fit_intercept=True, l1_ratio=0.2,\n",
    "           max_iter=1000, normalize=False, positive=False, precompute=False,\n",
    "           random_state=None, selection='cyclic', tol=0.0001, warm_start=False))"
   ]
  },
  {
   "cell_type": "code",
   "execution_count": 205,
   "id": "3a88a471",
   "metadata": {},
   "outputs": [
    {
     "data": {
      "text/plain": [
       "ElasticNet(alpha=0.01, copy_X=True, fit_intercept=True, l1_ratio=0.2,\n",
       "           max_iter=1000, normalize=False, positive=False, precompute=False,\n",
       "           random_state=None, selection='cyclic', tol=0.0001, warm_start=False)"
      ]
     },
     "execution_count": 205,
     "metadata": {},
     "output_type": "execute_result"
    }
   ],
   "source": [
    "# Instanciate model\n",
    "model2 = ElasticNet()\n",
    "\n",
    "# Hyperparameter Grid\n",
    "grid = {'alpha': [0.01, 0.1, 1], \n",
    "        'l1_ratio': [0.2, 0.5, 0.8]}\n",
    "\n",
    "# Instanciate Grid Search\n",
    "search2 = GridSearchCV(model2, grid, \n",
    "                           scoring = 'r2',\n",
    "                           cv = 5,\n",
    "                           n_jobs=-1 # paralellize computation\n",
    "                          ) \n",
    "\n",
    "# Fit data to Grid Search\n",
    "search2.fit(X_train_transformed, y_train)\n",
    "search2.best_estimator_"
   ]
  },
  {
   "cell_type": "code",
   "execution_count": 206,
   "id": "95c6e85c",
   "metadata": {},
   "outputs": [
    {
     "data": {
      "text/plain": [
       "LinearRegression(copy_X=True, fit_intercept=False, n_jobs=None, normalize=False)"
      ]
     },
     "execution_count": 206,
     "metadata": {},
     "output_type": "execute_result"
    }
   ],
   "source": [
    "model1 = LinearRegression()\n",
    "parameters = {\"fit_intercept\": [True, False],\n",
    "             }\n",
    "search1 = GridSearchCV(estimator=model1, param_grid = parameters, cv = 5, n_jobs=-1)\n",
    "search1.fit(X_train_transformed,y_train)\n",
    "search1.best_estimator_"
   ]
  },
  {
   "cell_type": "code",
   "execution_count": 207,
   "id": "74ba0ce8",
   "metadata": {
    "scrolled": true
   },
   "outputs": [
    {
     "data": {
      "text/plain": [
       "0.17256894791845392"
      ]
     },
     "execution_count": 207,
     "metadata": {},
     "output_type": "execute_result"
    }
   ],
   "source": [
    "# Cross validate pipeline\n",
    "cross_val_score(pipe1, X_train, y_train, cv=3, scoring='r2').mean()"
   ]
  },
  {
   "cell_type": "code",
   "execution_count": 208,
   "id": "76a0b508",
   "metadata": {},
   "outputs": [
    {
     "data": {
      "text/plain": [
       "0.1665938408842682"
      ]
     },
     "execution_count": 208,
     "metadata": {},
     "output_type": "execute_result"
    }
   ],
   "source": [
    "# Cross validate pipeline\n",
    "cross_val_score(pipe2, X_train, y_train, cv=3, scoring='r2').mean()"
   ]
  },
  {
   "cell_type": "code",
   "execution_count": 209,
   "id": "a4f905dd",
   "metadata": {},
   "outputs": [
    {
     "data": {
      "text/plain": [
       "0.1262131961494415"
      ]
     },
     "execution_count": 209,
     "metadata": {},
     "output_type": "execute_result"
    }
   ],
   "source": [
    "# Train pipeline\n",
    "pipe1.fit(X_train, y_train)\n",
    "\n",
    "# Make predictions\n",
    "pipe1.predict(X_test)\n",
    "\n",
    "# Score model\n",
    "pipe1.score(X_test, y_test)"
   ]
  },
  {
   "cell_type": "code",
   "execution_count": 210,
   "id": "db533f3d",
   "metadata": {},
   "outputs": [
    {
     "data": {
      "text/plain": [
       "0.13348554931865175"
      ]
     },
     "execution_count": 210,
     "metadata": {},
     "output_type": "execute_result"
    }
   ],
   "source": [
    "# Train pipeline\n",
    "pipe2.fit(X_train, y_train)\n",
    "\n",
    "# Make predictions\n",
    "pipe2.predict(X_test)\n",
    "\n",
    "# Score model\n",
    "pipe2.score(X_test, y_test)"
   ]
  },
  {
   "cell_type": "code",
   "execution_count": 123,
   "id": "8f461f22",
   "metadata": {
    "scrolled": true
   },
   "outputs": [
    {
     "data": {
      "image/png": "[encoded data removed]",
      "text/plain": [
       "<Figure size 864x288 with 2 Axes>"
      ]
     },
     "metadata": {
      "needs_background": "light"
     },
     "output_type": "display_data"
    }
   ],
   "source": [
    "# Checking correlation between independent variables (features):\n",
    "# Need to encode categorical variables\n",
    "plt.figure(figsize=(12,4))\n",
    "sns.heatmap(X_train.corr(), cmap='coolwarm', annot = True, annot_kws={\"size\": 8});"
   ]
  },
  {
   "cell_type": "code",
   "execution_count": 213,
   "id": "ddb7301f",
   "metadata": {},
   "outputs": [
    {
     "data": {
      "text/plain": [
       "['linear_regression_demand.joblib']"
      ]
     },
     "execution_count": 213,
     "metadata": {},
     "output_type": "execute_result"
    }
   ],
   "source": [
    "joblib.dump(pipe2, 'linear_regression_demand.joblib')"
   ]
  },
  {
   "cell_type": "code",
   "execution_count": null,
   "id": "904f0efb",
   "metadata": {},
   "outputs": [],
   "source": []
  }
 ],
 "metadata": {
  "kernelspec": {
   "display_name": "Python 3 (ipykernel)",
   "language": "python",
   "name": "python3"
  },
  "language_info": {
   "codemirror_mode": {
    "name": "ipython",
    "version": 3
   },
   "file_extension": ".py",
   "mimetype": "text/x-python",
   "name": "python",
   "nbconvert_exporter": "python",
   "pygments_lexer": "ipython3",
   "version": "3.8.12"
  },
  "toc": {
   "base_numbering": 1,
   "nav_menu": {},
   "number_sections": true,
   "sideBar": true,
   "skip_h1_title": false,
   "title_cell": "Table of Contents",
   "title_sidebar": "Contents",
   "toc_cell": false,
   "toc_position": {},
   "toc_section_display": true,
   "toc_window_display": false
  }
 },
 "nbformat": 4,
 "nbformat_minor": 5
}
