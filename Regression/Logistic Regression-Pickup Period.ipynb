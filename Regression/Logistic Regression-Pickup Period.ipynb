{
 "cells": [
  {
   "cell_type": "code",
   "execution_count": 27,
   "id": "2e6e7e77",
   "metadata": {},
   "outputs": [],
   "source": [
    "import pandas as pd\n",
    "import matplotlib.pyplot as plt\n",
    "import seaborn as sns\n",
    "from matplotlib import rcParams\n",
    "import matplotlib.ticker as ticker\n",
    "import numpy as np\n",
    "import datetime\n",
    "\n",
    "import os\n",
    "path = os.getcwd()"
   ]
  },
  {
   "cell_type": "code",
   "execution_count": 110,
   "id": "7ffbef9a",
   "metadata": {},
   "outputs": [],
   "source": [
    "# imports\n",
    "from sklearn.pipeline import Pipeline\n",
    "from sklearn.compose import ColumnTransformer\n",
    "from sklearn.preprocessing import RobustScaler\n",
    "from sklearn.preprocessing import OneHotEncoder\n",
    "from sklearn.preprocessing import FunctionTransformer\n",
    "from sklearn.compose import make_column_selector\n",
    "from sklearn.model_selection import train_test_split\n",
    "from sklearn.pipeline import make_pipeline\n",
    "from sklearn.pipeline import make_union\n",
    "from sklearn.compose import make_column_transformer\n",
    "from sklearn import set_config\n",
    "from sklearn.linear_model import Ridge\n",
    "from sklearn.impute import SimpleImputer\n",
    "from sklearn.linear_model import LogisticRegression\n",
    "from sklearn.linear_model import Lasso\n",
    "from sklearn.model_selection import GridSearchCV\n",
    "from sklearn.model_selection import cross_val_score\n",
    "import seaborn as sns"
   ]
  },
  {
   "cell_type": "code",
   "execution_count": 111,
   "id": "cb5c2645",
   "metadata": {
    "scrolled": true
   },
   "outputs": [
    {
     "data": {
      "text/html": [
       "<div>\n",
       "<style scoped>\n",
       "    .dataframe tbody tr th:only-of-type {\n",
       "        vertical-align: middle;\n",
       "    }\n",
       "\n",
       "    .dataframe tbody tr th {\n",
       "        vertical-align: top;\n",
       "    }\n",
       "\n",
       "    .dataframe thead th {\n",
       "        text-align: right;\n",
       "    }\n",
       "</style>\n",
       "<table border=\"1\" class=\"dataframe\">\n",
       "  <thead>\n",
       "    <tr style=\"text-align: right;\">\n",
       "      <th></th>\n",
       "      <th>Unnamed: 0</th>\n",
       "      <th>Unnamed: 0.1</th>\n",
       "      <th>Store ID</th>\n",
       "      <th>Item ID</th>\n",
       "      <th>Store Category</th>\n",
       "      <th>Store Segment</th>\n",
       "      <th>Store Region</th>\n",
       "      <th>City</th>\n",
       "      <th>Store Address</th>\n",
       "      <th>Item First Supplying Date</th>\n",
       "      <th>...</th>\n",
       "      <th>Count Ratings</th>\n",
       "      <th>Declared Supply</th>\n",
       "      <th>Meals Saved</th>\n",
       "      <th>Total Supply</th>\n",
       "      <th>Avg Rating Overall</th>\n",
       "      <th>Pickup Length</th>\n",
       "      <th>Supply Length</th>\n",
       "      <th>Region Language</th>\n",
       "      <th>Region Type</th>\n",
       "      <th>Cluster</th>\n",
       "    </tr>\n",
       "  </thead>\n",
       "  <tbody>\n",
       "    <tr>\n",
       "      <th>0</th>\n",
       "      <td>0</td>\n",
       "      <td>0</td>\n",
       "      <td>11344</td>\n",
       "      <td>11438</td>\n",
       "      <td>Key Account</td>\n",
       "      <td>Bakery</td>\n",
       "      <td>Genève</td>\n",
       "      <td>GenÃ¨ve</td>\n",
       "      <td>Place de Cornavin 7</td>\n",
       "      <td>2017-12-07 00:00:00</td>\n",
       "      <td>...</td>\n",
       "      <td>0</td>\n",
       "      <td>20</td>\n",
       "      <td>2</td>\n",
       "      <td>20</td>\n",
       "      <td>0.00</td>\n",
       "      <td>0 days 00:50:00</td>\n",
       "      <td>1545</td>\n",
       "      <td>french</td>\n",
       "      <td>urban</td>\n",
       "      <td>0</td>\n",
       "    </tr>\n",
       "    <tr>\n",
       "      <th>1</th>\n",
       "      <td>1</td>\n",
       "      <td>1</td>\n",
       "      <td>11729</td>\n",
       "      <td>11822</td>\n",
       "      <td>Indie - Outbound</td>\n",
       "      <td>Buffet</td>\n",
       "      <td>Bern</td>\n",
       "      <td>Bern</td>\n",
       "      <td>LÃ¤nggassstrasse 53</td>\n",
       "      <td>2018-11-02 00:00:00</td>\n",
       "      <td>...</td>\n",
       "      <td>1</td>\n",
       "      <td>0</td>\n",
       "      <td>9</td>\n",
       "      <td>16</td>\n",
       "      <td>4.00</td>\n",
       "      <td>0 days 04:00:00</td>\n",
       "      <td>237</td>\n",
       "      <td>german</td>\n",
       "      <td>urban</td>\n",
       "      <td>0</td>\n",
       "    </tr>\n",
       "    <tr>\n",
       "      <th>2</th>\n",
       "      <td>2</td>\n",
       "      <td>2</td>\n",
       "      <td>11729</td>\n",
       "      <td>11822</td>\n",
       "      <td>Indie - Outbound</td>\n",
       "      <td>Buffet</td>\n",
       "      <td>Bern</td>\n",
       "      <td>Bern</td>\n",
       "      <td>LÃ¤nggassstrasse 53</td>\n",
       "      <td>2018-11-02 00:00:00</td>\n",
       "      <td>...</td>\n",
       "      <td>8</td>\n",
       "      <td>0</td>\n",
       "      <td>28</td>\n",
       "      <td>33</td>\n",
       "      <td>4.25</td>\n",
       "      <td>0 days 04:00:00</td>\n",
       "      <td>237</td>\n",
       "      <td>german</td>\n",
       "      <td>urban</td>\n",
       "      <td>0</td>\n",
       "    </tr>\n",
       "    <tr>\n",
       "      <th>3</th>\n",
       "      <td>3</td>\n",
       "      <td>3</td>\n",
       "      <td>11729</td>\n",
       "      <td>11822</td>\n",
       "      <td>Indie - Outbound</td>\n",
       "      <td>Buffet</td>\n",
       "      <td>Bern</td>\n",
       "      <td>Bern</td>\n",
       "      <td>LÃ¤nggassstrasse 53</td>\n",
       "      <td>2018-11-02 00:00:00</td>\n",
       "      <td>...</td>\n",
       "      <td>0</td>\n",
       "      <td>10</td>\n",
       "      <td>11</td>\n",
       "      <td>17</td>\n",
       "      <td>0.00</td>\n",
       "      <td>0 days 04:00:00</td>\n",
       "      <td>237</td>\n",
       "      <td>german</td>\n",
       "      <td>urban</td>\n",
       "      <td>0</td>\n",
       "    </tr>\n",
       "    <tr>\n",
       "      <th>4</th>\n",
       "      <td>4</td>\n",
       "      <td>4</td>\n",
       "      <td>11729</td>\n",
       "      <td>11822</td>\n",
       "      <td>Indie - Outbound</td>\n",
       "      <td>Buffet</td>\n",
       "      <td>Bern</td>\n",
       "      <td>Bern</td>\n",
       "      <td>LÃ¤nggassstrasse 53</td>\n",
       "      <td>2018-11-02 00:00:00</td>\n",
       "      <td>...</td>\n",
       "      <td>1</td>\n",
       "      <td>10</td>\n",
       "      <td>13</td>\n",
       "      <td>17</td>\n",
       "      <td>5.00</td>\n",
       "      <td>0 days 04:00:00</td>\n",
       "      <td>237</td>\n",
       "      <td>german</td>\n",
       "      <td>urban</td>\n",
       "      <td>0</td>\n",
       "    </tr>\n",
       "  </tbody>\n",
       "</table>\n",
       "<p>5 rows × 25 columns</p>\n",
       "</div>"
      ],
      "text/plain": [
       "   Unnamed: 0  Unnamed: 0.1  Store ID  Item ID    Store Category  \\\n",
       "0           0             0     11344    11438       Key Account   \n",
       "1           1             1     11729    11822  Indie - Outbound   \n",
       "2           2             2     11729    11822  Indie - Outbound   \n",
       "3           3             3     11729    11822  Indie - Outbound   \n",
       "4           4             4     11729    11822  Indie - Outbound   \n",
       "\n",
       "  Store Segment Store Region     City        Store Address  \\\n",
       "0        Bakery       Genève  GenÃ¨ve  Place de Cornavin 7   \n",
       "1        Buffet         Bern     Bern  LÃ¤nggassstrasse 53   \n",
       "2        Buffet         Bern     Bern  LÃ¤nggassstrasse 53   \n",
       "3        Buffet         Bern     Bern  LÃ¤nggassstrasse 53   \n",
       "4        Buffet         Bern     Bern  LÃ¤nggassstrasse 53   \n",
       "\n",
       "  Item First Supplying Date  ... Count Ratings  Declared Supply Meals Saved  \\\n",
       "0       2017-12-07 00:00:00  ...             0               20           2   \n",
       "1       2018-11-02 00:00:00  ...             1                0           9   \n",
       "2       2018-11-02 00:00:00  ...             8                0          28   \n",
       "3       2018-11-02 00:00:00  ...             0               10          11   \n",
       "4       2018-11-02 00:00:00  ...             1               10          13   \n",
       "\n",
       "  Total Supply Avg Rating Overall    Pickup Length  Supply Length  \\\n",
       "0           20               0.00  0 days 00:50:00           1545   \n",
       "1           16               4.00  0 days 04:00:00            237   \n",
       "2           33               4.25  0 days 04:00:00            237   \n",
       "3           17               0.00  0 days 04:00:00            237   \n",
       "4           17               5.00  0 days 04:00:00            237   \n",
       "\n",
       "   Region Language  Region Type  Cluster  \n",
       "0           french        urban        0  \n",
       "1           german        urban        0  \n",
       "2           german        urban        0  \n",
       "3           german        urban        0  \n",
       "4           german        urban        0  \n",
       "\n",
       "[5 rows x 25 columns]"
      ]
     },
     "execution_count": 111,
     "metadata": {},
     "output_type": "execute_result"
    }
   ],
   "source": [
    "df= pd.read_csv('UPDATE_full_data_clean_inclCluster.csv')\n",
    "df.head()"
   ]
  },
  {
   "cell_type": "code",
   "execution_count": 112,
   "id": "cf59bce0",
   "metadata": {
    "scrolled": true
   },
   "outputs": [
    {
     "name": "stdout",
     "output_type": "stream",
     "text": [
      "<class 'pandas.core.frame.DataFrame'>\n",
      "RangeIndex: 2616743 entries, 0 to 2616742\n",
      "Data columns (total 25 columns):\n",
      " #   Column                         Dtype  \n",
      "---  ------                         -----  \n",
      " 0   Unnamed: 0                     int64  \n",
      " 1   Unnamed: 0.1                   int64  \n",
      " 2   Store ID                       int64  \n",
      " 3   Item ID                        int64  \n",
      " 4   Store Category                 object \n",
      " 5   Store Segment                  object \n",
      " 6   Store Region                   object \n",
      " 7   City                           object \n",
      " 8   Store Address                  object \n",
      " 9   Item First Supplying Date      object \n",
      " 10  Item Last Supplying Date       object \n",
      " 11  Item Price                     float64\n",
      " 12  Pickup Time Start Time of Day  object \n",
      " 13  Pickup Time End Time of Day    object \n",
      " 14  Date                           object \n",
      " 15  Count Ratings                  int64  \n",
      " 16  Declared Supply                int64  \n",
      " 17  Meals Saved                    int64  \n",
      " 18  Total Supply                   int64  \n",
      " 19  Avg Rating Overall             float64\n",
      " 20  Pickup Length                  object \n",
      " 21  Supply Length                  int64  \n",
      " 22  Region Language                object \n",
      " 23  Region Type                    object \n",
      " 24  Cluster                        int64  \n",
      "dtypes: float64(2), int64(10), object(13)\n",
      "memory usage: 499.1+ MB\n"
     ]
    }
   ],
   "source": [
    "df.info()"
   ]
  },
  {
   "cell_type": "markdown",
   "id": "6af0eb48",
   "metadata": {},
   "source": [
    "## Data Preprocessing"
   ]
  },
  {
   "cell_type": "code",
   "execution_count": 113,
   "id": "56ca155e",
   "metadata": {},
   "outputs": [
    {
     "data": {
      "text/plain": [
       "0"
      ]
     },
     "execution_count": 113,
     "metadata": {},
     "output_type": "execute_result"
    }
   ],
   "source": [
    "# Check for duplicates\n",
    "df.duplicated().sum()"
   ]
  },
  {
   "cell_type": "code",
   "execution_count": 114,
   "id": "2f5ddf4c",
   "metadata": {},
   "outputs": [
    {
     "data": {
      "text/plain": [
       "Unnamed: 0                       0\n",
       "Pickup Time End Time of Day      0\n",
       "Region Type                      0\n",
       "Region Language                  0\n",
       "Supply Length                    0\n",
       "Pickup Length                    0\n",
       "Avg Rating Overall               0\n",
       "Total Supply                     0\n",
       "Meals Saved                      0\n",
       "Declared Supply                  0\n",
       "Count Ratings                    0\n",
       "Date                             0\n",
       "Pickup Time Start Time of Day    0\n",
       "Unnamed: 0.1                     0\n",
       "Item Price                       0\n",
       "Item Last Supplying Date         0\n",
       "Item First Supplying Date        0\n",
       "Store Address                    0\n",
       "City                             0\n",
       "Store Region                     0\n",
       "Store Segment                    0\n",
       "Store Category                   0\n",
       "Item ID                          0\n",
       "Store ID                         0\n",
       "Cluster                          0\n",
       "dtype: int64"
      ]
     },
     "execution_count": 114,
     "metadata": {},
     "output_type": "execute_result"
    }
   ],
   "source": [
    "# Check for nan:\n",
    "df.isnull().sum().sort_values(ascending=False)"
   ]
  },
  {
   "cell_type": "code",
   "execution_count": 115,
   "id": "b232265b",
   "metadata": {},
   "outputs": [
    {
     "data": {
      "text/html": [
       "<div>\n",
       "<style scoped>\n",
       "    .dataframe tbody tr th:only-of-type {\n",
       "        vertical-align: middle;\n",
       "    }\n",
       "\n",
       "    .dataframe tbody tr th {\n",
       "        vertical-align: top;\n",
       "    }\n",
       "\n",
       "    .dataframe thead th {\n",
       "        text-align: right;\n",
       "    }\n",
       "</style>\n",
       "<table border=\"1\" class=\"dataframe\">\n",
       "  <thead>\n",
       "    <tr style=\"text-align: right;\">\n",
       "      <th></th>\n",
       "      <th>Date</th>\n",
       "      <th>Item First Supplying Date</th>\n",
       "      <th>Item Last Supplying Date</th>\n",
       "      <th>Pickup Time Start Time of Day</th>\n",
       "      <th>Pickup Time End Time of Day</th>\n",
       "    </tr>\n",
       "  </thead>\n",
       "  <tbody>\n",
       "    <tr>\n",
       "      <th>0</th>\n",
       "      <td>2019-01-01 00:00:00</td>\n",
       "      <td>2017-12-07 00:00:00</td>\n",
       "      <td>2022-03-01 00:00:00</td>\n",
       "      <td>1900-01-01 20:00:00</td>\n",
       "      <td>1900-01-01 20:50:00</td>\n",
       "    </tr>\n",
       "    <tr>\n",
       "      <th>1</th>\n",
       "      <td>2019-01-01 00:00:00</td>\n",
       "      <td>2018-11-02 00:00:00</td>\n",
       "      <td>2019-06-27 00:00:00</td>\n",
       "      <td>1900-01-01 18:30:00</td>\n",
       "      <td>1900-01-01 22:30:00</td>\n",
       "    </tr>\n",
       "    <tr>\n",
       "      <th>2</th>\n",
       "      <td>2019-01-02 00:00:00</td>\n",
       "      <td>2018-11-02 00:00:00</td>\n",
       "      <td>2019-06-27 00:00:00</td>\n",
       "      <td>1900-01-01 18:30:00</td>\n",
       "      <td>1900-01-01 22:30:00</td>\n",
       "    </tr>\n",
       "    <tr>\n",
       "      <th>3</th>\n",
       "      <td>2019-01-27 00:00:00</td>\n",
       "      <td>2018-11-02 00:00:00</td>\n",
       "      <td>2019-06-27 00:00:00</td>\n",
       "      <td>1900-01-01 18:30:00</td>\n",
       "      <td>1900-01-01 22:30:00</td>\n",
       "    </tr>\n",
       "    <tr>\n",
       "      <th>4</th>\n",
       "      <td>2019-01-31 00:00:00</td>\n",
       "      <td>2018-11-02 00:00:00</td>\n",
       "      <td>2019-06-27 00:00:00</td>\n",
       "      <td>1900-01-01 18:30:00</td>\n",
       "      <td>1900-01-01 22:30:00</td>\n",
       "    </tr>\n",
       "  </tbody>\n",
       "</table>\n",
       "</div>"
      ],
      "text/plain": [
       "                  Date Item First Supplying Date Item Last Supplying Date  \\\n",
       "0  2019-01-01 00:00:00       2017-12-07 00:00:00      2022-03-01 00:00:00   \n",
       "1  2019-01-01 00:00:00       2018-11-02 00:00:00      2019-06-27 00:00:00   \n",
       "2  2019-01-02 00:00:00       2018-11-02 00:00:00      2019-06-27 00:00:00   \n",
       "3  2019-01-27 00:00:00       2018-11-02 00:00:00      2019-06-27 00:00:00   \n",
       "4  2019-01-31 00:00:00       2018-11-02 00:00:00      2019-06-27 00:00:00   \n",
       "\n",
       "  Pickup Time Start Time of Day Pickup Time End Time of Day  \n",
       "0           1900-01-01 20:00:00         1900-01-01 20:50:00  \n",
       "1           1900-01-01 18:30:00         1900-01-01 22:30:00  \n",
       "2           1900-01-01 18:30:00         1900-01-01 22:30:00  \n",
       "3           1900-01-01 18:30:00         1900-01-01 22:30:00  \n",
       "4           1900-01-01 18:30:00         1900-01-01 22:30:00  "
      ]
     },
     "execution_count": 115,
     "metadata": {},
     "output_type": "execute_result"
    }
   ],
   "source": [
    "# Check for date columns to remove:\n",
    "df[['Date','Item First Supplying Date','Item Last Supplying Date','Pickup Time Start Time of Day','Pickup Time End Time of Day']].head()"
   ]
  },
  {
   "cell_type": "markdown",
   "id": "efc69441",
   "metadata": {},
   "source": [
    "### Add column to cluster Pickup start time"
   ]
  },
  {
   "cell_type": "code",
   "execution_count": 116,
   "id": "8c4307a1",
   "metadata": {},
   "outputs": [],
   "source": [
    "# Add column to cluster Pickup start time:\n",
    "conditions = [\n",
    "    (df['Pickup Time Start Time of Day'] <= \"1900-01-01 11:59:00\"),\n",
    "    (df['Pickup Time Start Time of Day'] >= \"1900-01-01 12:00:00\") & (df['Pickup Time Start Time of Day'] < \"1900-01-01 17:00:00\"),\n",
    "    (df['Pickup Time Start Time of Day'] >= \"1900-01-01 17:00:00\") & (df['Pickup Time Start Time of Day'] < \"1900-01-01 21:00:00\"),\n",
    "    (df['Pickup Time Start Time of Day'] >= \"1900-01-01 21:00:00\")\n",
    "    ]\n",
    "\n",
    "values = ['morning', 'afternoon', 'early evening', 'late evening']\n",
    "\n",
    "df['Pickup_time_of_day'] = np.select(conditions, values)"
   ]
  },
  {
   "cell_type": "markdown",
   "id": "c39e873d",
   "metadata": {},
   "source": [
    "###  Convert Pickup Length"
   ]
  },
  {
   "cell_type": "code",
   "execution_count": 117,
   "id": "7be68d3e",
   "metadata": {},
   "outputs": [],
   "source": [
    "# Fuction to convert:\n",
    "def pickup_conv(x):\n",
    "    x=str(x)\n",
    "    x=x[len(x)-8:len(x)]\n",
    "    h,m,s = x.split(':')\n",
    "    x=int((datetime.timedelta(hours=int(h),minutes=int(m),seconds=int(s)).total_seconds())/60)\n",
    "    return x"
   ]
  },
  {
   "cell_type": "code",
   "execution_count": 118,
   "id": "04ac390a",
   "metadata": {},
   "outputs": [],
   "source": [
    "#Converting the whole column\n",
    "df['Pickup Length']=df['Pickup Length'].map(pickup_conv)"
   ]
  },
  {
   "cell_type": "code",
   "execution_count": 143,
   "id": "460bff03",
   "metadata": {},
   "outputs": [],
   "source": [
    "encoding = {\"morning\": 0, \"afternoon\": 1, \"early evening\": 2, \"late evening\": 3}\n",
    "df[\"encoded pickup time\"] = df[\"Pickup_time_of_day\"].map(encoding)"
   ]
  },
  {
   "cell_type": "code",
   "execution_count": 144,
   "id": "0df6a696",
   "metadata": {},
   "outputs": [
    {
     "data": {
      "text/html": [
       "<div>\n",
       "<style scoped>\n",
       "    .dataframe tbody tr th:only-of-type {\n",
       "        vertical-align: middle;\n",
       "    }\n",
       "\n",
       "    .dataframe tbody tr th {\n",
       "        vertical-align: top;\n",
       "    }\n",
       "\n",
       "    .dataframe thead th {\n",
       "        text-align: right;\n",
       "    }\n",
       "</style>\n",
       "<table border=\"1\" class=\"dataframe\">\n",
       "  <thead>\n",
       "    <tr style=\"text-align: right;\">\n",
       "      <th></th>\n",
       "      <th>Unnamed: 0</th>\n",
       "      <th>Unnamed: 0.1</th>\n",
       "      <th>Store ID</th>\n",
       "      <th>Item ID</th>\n",
       "      <th>Store Category</th>\n",
       "      <th>Store Segment</th>\n",
       "      <th>Store Region</th>\n",
       "      <th>City</th>\n",
       "      <th>Store Address</th>\n",
       "      <th>Item First Supplying Date</th>\n",
       "      <th>...</th>\n",
       "      <th>Meals Saved</th>\n",
       "      <th>Total Supply</th>\n",
       "      <th>Avg Rating Overall</th>\n",
       "      <th>Pickup Length</th>\n",
       "      <th>Supply Length</th>\n",
       "      <th>Region Language</th>\n",
       "      <th>Region Type</th>\n",
       "      <th>Cluster</th>\n",
       "      <th>Pickup_time_of_day</th>\n",
       "      <th>encoded pickup time</th>\n",
       "    </tr>\n",
       "  </thead>\n",
       "  <tbody>\n",
       "    <tr>\n",
       "      <th>0</th>\n",
       "      <td>0</td>\n",
       "      <td>0</td>\n",
       "      <td>11344</td>\n",
       "      <td>11438</td>\n",
       "      <td>Key Account</td>\n",
       "      <td>Bakery</td>\n",
       "      <td>Genève</td>\n",
       "      <td>GenÃ¨ve</td>\n",
       "      <td>Place de Cornavin 7</td>\n",
       "      <td>2017-12-07 00:00:00</td>\n",
       "      <td>...</td>\n",
       "      <td>2</td>\n",
       "      <td>20</td>\n",
       "      <td>0.00</td>\n",
       "      <td>50</td>\n",
       "      <td>1545</td>\n",
       "      <td>french</td>\n",
       "      <td>urban</td>\n",
       "      <td>0</td>\n",
       "      <td>early evening</td>\n",
       "      <td>2</td>\n",
       "    </tr>\n",
       "    <tr>\n",
       "      <th>1</th>\n",
       "      <td>1</td>\n",
       "      <td>1</td>\n",
       "      <td>11729</td>\n",
       "      <td>11822</td>\n",
       "      <td>Indie - Outbound</td>\n",
       "      <td>Buffet</td>\n",
       "      <td>Bern</td>\n",
       "      <td>Bern</td>\n",
       "      <td>LÃ¤nggassstrasse 53</td>\n",
       "      <td>2018-11-02 00:00:00</td>\n",
       "      <td>...</td>\n",
       "      <td>9</td>\n",
       "      <td>16</td>\n",
       "      <td>4.00</td>\n",
       "      <td>240</td>\n",
       "      <td>237</td>\n",
       "      <td>german</td>\n",
       "      <td>urban</td>\n",
       "      <td>0</td>\n",
       "      <td>early evening</td>\n",
       "      <td>2</td>\n",
       "    </tr>\n",
       "    <tr>\n",
       "      <th>2</th>\n",
       "      <td>2</td>\n",
       "      <td>2</td>\n",
       "      <td>11729</td>\n",
       "      <td>11822</td>\n",
       "      <td>Indie - Outbound</td>\n",
       "      <td>Buffet</td>\n",
       "      <td>Bern</td>\n",
       "      <td>Bern</td>\n",
       "      <td>LÃ¤nggassstrasse 53</td>\n",
       "      <td>2018-11-02 00:00:00</td>\n",
       "      <td>...</td>\n",
       "      <td>28</td>\n",
       "      <td>33</td>\n",
       "      <td>4.25</td>\n",
       "      <td>240</td>\n",
       "      <td>237</td>\n",
       "      <td>german</td>\n",
       "      <td>urban</td>\n",
       "      <td>0</td>\n",
       "      <td>early evening</td>\n",
       "      <td>2</td>\n",
       "    </tr>\n",
       "  </tbody>\n",
       "</table>\n",
       "<p>3 rows × 27 columns</p>\n",
       "</div>"
      ],
      "text/plain": [
       "   Unnamed: 0  Unnamed: 0.1  Store ID  Item ID    Store Category  \\\n",
       "0           0             0     11344    11438       Key Account   \n",
       "1           1             1     11729    11822  Indie - Outbound   \n",
       "2           2             2     11729    11822  Indie - Outbound   \n",
       "\n",
       "  Store Segment Store Region     City        Store Address  \\\n",
       "0        Bakery       Genève  GenÃ¨ve  Place de Cornavin 7   \n",
       "1        Buffet         Bern     Bern  LÃ¤nggassstrasse 53   \n",
       "2        Buffet         Bern     Bern  LÃ¤nggassstrasse 53   \n",
       "\n",
       "  Item First Supplying Date  ... Meals Saved  Total Supply Avg Rating Overall  \\\n",
       "0       2017-12-07 00:00:00  ...           2            20               0.00   \n",
       "1       2018-11-02 00:00:00  ...           9            16               4.00   \n",
       "2       2018-11-02 00:00:00  ...          28            33               4.25   \n",
       "\n",
       "  Pickup Length Supply Length  Region Language  Region Type  Cluster  \\\n",
       "0            50          1545           french        urban        0   \n",
       "1           240           237           german        urban        0   \n",
       "2           240           237           german        urban        0   \n",
       "\n",
       "   Pickup_time_of_day  encoded pickup time  \n",
       "0       early evening                    2  \n",
       "1       early evening                    2  \n",
       "2       early evening                    2  \n",
       "\n",
       "[3 rows x 27 columns]"
      ]
     },
     "execution_count": 144,
     "metadata": {},
     "output_type": "execute_result"
    }
   ],
   "source": [
    "df.head(3)"
   ]
  },
  {
   "cell_type": "markdown",
   "id": "286cc893",
   "metadata": {},
   "source": [
    "### Define Features"
   ]
  },
  {
   "cell_type": "code",
   "execution_count": 145,
   "id": "1323c3dc",
   "metadata": {},
   "outputs": [
    {
     "data": {
      "text/plain": [
       "<AxesSubplot:>"
      ]
     },
     "execution_count": 145,
     "metadata": {},
     "output_type": "execute_result"
    },
    {
     "data": {
      "image/png": "[encoded data removed]",
      "text/plain": [
       "<Figure size 432x288 with 2 Axes>"
      ]
     },
     "metadata": {
      "needs_background": "light"
     },
     "output_type": "display_data"
    }
   ],
   "source": [
    "# Heatmap\n",
    "corr = df.corr()\n",
    "sns.heatmap(corr, \n",
    "        xticklabels=corr.columns,\n",
    "        yticklabels=corr.columns,\n",
    "        cmap= \"YlGnBu\")"
   ]
  },
  {
   "cell_type": "code",
   "execution_count": 146,
   "id": "24c08e06",
   "metadata": {},
   "outputs": [
    {
     "data": {
      "text/html": [
       "<div>\n",
       "<style scoped>\n",
       "    .dataframe tbody tr th:only-of-type {\n",
       "        vertical-align: middle;\n",
       "    }\n",
       "\n",
       "    .dataframe tbody tr th {\n",
       "        vertical-align: top;\n",
       "    }\n",
       "\n",
       "    .dataframe thead th {\n",
       "        text-align: right;\n",
       "    }\n",
       "</style>\n",
       "<table border=\"1\" class=\"dataframe\">\n",
       "  <thead>\n",
       "    <tr style=\"text-align: right;\">\n",
       "      <th></th>\n",
       "      <th>feature_1</th>\n",
       "      <th>feature_2</th>\n",
       "      <th>correlation</th>\n",
       "    </tr>\n",
       "  </thead>\n",
       "  <tbody>\n",
       "    <tr>\n",
       "      <th>14</th>\n",
       "      <td>Unnamed: 0.1</td>\n",
       "      <td>Unnamed: 0</td>\n",
       "      <td>0.999999</td>\n",
       "    </tr>\n",
       "    <tr>\n",
       "      <th>1</th>\n",
       "      <td>Unnamed: 0</td>\n",
       "      <td>Unnamed: 0.1</td>\n",
       "      <td>0.999999</td>\n",
       "    </tr>\n",
       "    <tr>\n",
       "      <th>31</th>\n",
       "      <td>Store ID</td>\n",
       "      <td>Item ID</td>\n",
       "      <td>0.942659</td>\n",
       "    </tr>\n",
       "    <tr>\n",
       "      <th>44</th>\n",
       "      <td>Item ID</td>\n",
       "      <td>Store ID</td>\n",
       "      <td>0.942659</td>\n",
       "    </tr>\n",
       "    <tr>\n",
       "      <th>106</th>\n",
       "      <td>Meals Saved</td>\n",
       "      <td>Total Supply</td>\n",
       "      <td>0.767613</td>\n",
       "    </tr>\n",
       "  </tbody>\n",
       "</table>\n",
       "</div>"
      ],
      "text/plain": [
       "        feature_1     feature_2  correlation\n",
       "14   Unnamed: 0.1    Unnamed: 0     0.999999\n",
       "1      Unnamed: 0  Unnamed: 0.1     0.999999\n",
       "31       Store ID       Item ID     0.942659\n",
       "44        Item ID      Store ID     0.942659\n",
       "106   Meals Saved  Total Supply     0.767613"
      ]
     },
     "execution_count": 146,
     "metadata": {},
     "output_type": "execute_result"
    }
   ],
   "source": [
    "corr_df = corr.unstack().reset_index() # Unstack correlation matrix \n",
    "corr_df.columns = ['feature_1','feature_2', 'correlation'] # rename columns\n",
    "corr_df.sort_values(by=\"correlation\",ascending=False, inplace=True) # sort by correlation\n",
    "corr_df = corr_df[corr_df['feature_1'] != corr_df['feature_2']] # Remove self correlation\n",
    "corr_df.head()"
   ]
  },
  {
   "cell_type": "markdown",
   "id": "cff2cf7a",
   "metadata": {},
   "source": [
    "### Define X and y"
   ]
  },
  {
   "cell_type": "code",
   "execution_count": 172,
   "id": "58625bc8",
   "metadata": {},
   "outputs": [],
   "source": [
    "# Remove columns: define X and y\n",
    "X = df.drop(columns=['Pickup_time_of_day','Unnamed: 0','Unnamed: 0.1','Store ID','Item ID','Date','Item First Supplying Date','Item Last Supplying Date','Pickup Time Start Time of Day','Pickup Time End Time of Day','City','Store Address', \"Total Supply\", \"Declared Supply\", \"Count Ratings\", \"Supply Length\", \"encoded pickup time\", \"Avg Rating Overall\", \"Meals Saved\"])\n",
    "y = df[\"encoded pickup time\"]\n"
   ]
  },
  {
   "cell_type": "code",
   "execution_count": 173,
   "id": "e77d6c1f",
   "metadata": {
    "scrolled": true
   },
   "outputs": [
    {
     "data": {
      "text/html": [
       "<div>\n",
       "<style scoped>\n",
       "    .dataframe tbody tr th:only-of-type {\n",
       "        vertical-align: middle;\n",
       "    }\n",
       "\n",
       "    .dataframe tbody tr th {\n",
       "        vertical-align: top;\n",
       "    }\n",
       "\n",
       "    .dataframe thead th {\n",
       "        text-align: right;\n",
       "    }\n",
       "</style>\n",
       "<table border=\"1\" class=\"dataframe\">\n",
       "  <thead>\n",
       "    <tr style=\"text-align: right;\">\n",
       "      <th></th>\n",
       "      <th>Store Category</th>\n",
       "      <th>Store Segment</th>\n",
       "      <th>Store Region</th>\n",
       "      <th>Item Price</th>\n",
       "      <th>Pickup Length</th>\n",
       "      <th>Region Language</th>\n",
       "      <th>Region Type</th>\n",
       "      <th>Cluster</th>\n",
       "    </tr>\n",
       "  </thead>\n",
       "  <tbody>\n",
       "    <tr>\n",
       "      <th>0</th>\n",
       "      <td>Key Account</td>\n",
       "      <td>Bakery</td>\n",
       "      <td>Genève</td>\n",
       "      <td>4.5</td>\n",
       "      <td>50</td>\n",
       "      <td>french</td>\n",
       "      <td>urban</td>\n",
       "      <td>0</td>\n",
       "    </tr>\n",
       "    <tr>\n",
       "      <th>1</th>\n",
       "      <td>Indie - Outbound</td>\n",
       "      <td>Buffet</td>\n",
       "      <td>Bern</td>\n",
       "      <td>6.9</td>\n",
       "      <td>240</td>\n",
       "      <td>german</td>\n",
       "      <td>urban</td>\n",
       "      <td>0</td>\n",
       "    </tr>\n",
       "    <tr>\n",
       "      <th>2</th>\n",
       "      <td>Indie - Outbound</td>\n",
       "      <td>Buffet</td>\n",
       "      <td>Bern</td>\n",
       "      <td>6.9</td>\n",
       "      <td>240</td>\n",
       "      <td>german</td>\n",
       "      <td>urban</td>\n",
       "      <td>0</td>\n",
       "    </tr>\n",
       "    <tr>\n",
       "      <th>3</th>\n",
       "      <td>Indie - Outbound</td>\n",
       "      <td>Buffet</td>\n",
       "      <td>Bern</td>\n",
       "      <td>6.9</td>\n",
       "      <td>240</td>\n",
       "      <td>german</td>\n",
       "      <td>urban</td>\n",
       "      <td>0</td>\n",
       "    </tr>\n",
       "    <tr>\n",
       "      <th>4</th>\n",
       "      <td>Indie - Outbound</td>\n",
       "      <td>Buffet</td>\n",
       "      <td>Bern</td>\n",
       "      <td>6.9</td>\n",
       "      <td>240</td>\n",
       "      <td>german</td>\n",
       "      <td>urban</td>\n",
       "      <td>0</td>\n",
       "    </tr>\n",
       "  </tbody>\n",
       "</table>\n",
       "</div>"
      ],
      "text/plain": [
       "     Store Category Store Segment Store Region  Item Price  Pickup Length  \\\n",
       "0       Key Account        Bakery       Genève         4.5             50   \n",
       "1  Indie - Outbound        Buffet         Bern         6.9            240   \n",
       "2  Indie - Outbound        Buffet         Bern         6.9            240   \n",
       "3  Indie - Outbound        Buffet         Bern         6.9            240   \n",
       "4  Indie - Outbound        Buffet         Bern         6.9            240   \n",
       "\n",
       "  Region Language Region Type  Cluster  \n",
       "0          french       urban        0  \n",
       "1          german       urban        0  \n",
       "2          german       urban        0  \n",
       "3          german       urban        0  \n",
       "4          german       urban        0  "
      ]
     },
     "execution_count": 173,
     "metadata": {},
     "output_type": "execute_result"
    }
   ],
   "source": [
    "X.head()"
   ]
  },
  {
   "cell_type": "code",
   "execution_count": 153,
   "id": "cdad65cf",
   "metadata": {
    "scrolled": true
   },
   "outputs": [
    {
     "name": "stdout",
     "output_type": "stream",
     "text": [
      "<class 'pandas.core.frame.DataFrame'>\n",
      "RangeIndex: 2616743 entries, 0 to 2616742\n",
      "Data columns (total 10 columns):\n",
      " #   Column              Dtype  \n",
      "---  ------              -----  \n",
      " 0   Store Category      object \n",
      " 1   Store Segment       object \n",
      " 2   Store Region        object \n",
      " 3   Item Price          float64\n",
      " 4   Meals Saved         int64  \n",
      " 5   Avg Rating Overall  float64\n",
      " 6   Pickup Length       int64  \n",
      " 7   Region Language     object \n",
      " 8   Region Type         object \n",
      " 9   Cluster             int64  \n",
      "dtypes: float64(2), int64(3), object(5)\n",
      "memory usage: 199.6+ MB\n"
     ]
    }
   ],
   "source": [
    "X.info()"
   ]
  },
  {
   "cell_type": "code",
   "execution_count": 154,
   "id": "ef3b1f35",
   "metadata": {
    "scrolled": true
   },
   "outputs": [
    {
     "data": {
      "text/html": [
       "<div>\n",
       "<style scoped>\n",
       "    .dataframe tbody tr th:only-of-type {\n",
       "        vertical-align: middle;\n",
       "    }\n",
       "\n",
       "    .dataframe tbody tr th {\n",
       "        vertical-align: top;\n",
       "    }\n",
       "\n",
       "    .dataframe thead th {\n",
       "        text-align: right;\n",
       "    }\n",
       "</style>\n",
       "<table border=\"1\" class=\"dataframe\">\n",
       "  <thead>\n",
       "    <tr style=\"text-align: right;\">\n",
       "      <th></th>\n",
       "      <th>Item Price</th>\n",
       "      <th>Meals Saved</th>\n",
       "      <th>Avg Rating Overall</th>\n",
       "      <th>Pickup Length</th>\n",
       "      <th>Cluster</th>\n",
       "    </tr>\n",
       "  </thead>\n",
       "  <tbody>\n",
       "    <tr>\n",
       "      <th>count</th>\n",
       "      <td>2.616743e+06</td>\n",
       "      <td>2.616743e+06</td>\n",
       "      <td>2.616743e+06</td>\n",
       "      <td>2.616743e+06</td>\n",
       "      <td>2.616743e+06</td>\n",
       "    </tr>\n",
       "    <tr>\n",
       "      <th>mean</th>\n",
       "      <td>6.572431e+00</td>\n",
       "      <td>1.752282e+00</td>\n",
       "      <td>2.003468e+00</td>\n",
       "      <td>4.856899e+01</td>\n",
       "      <td>1.599506e+00</td>\n",
       "    </tr>\n",
       "    <tr>\n",
       "      <th>std</th>\n",
       "      <td>2.704585e+00</td>\n",
       "      <td>2.099286e+00</td>\n",
       "      <td>2.300168e+00</td>\n",
       "      <td>7.977479e+01</td>\n",
       "      <td>1.155228e+00</td>\n",
       "    </tr>\n",
       "    <tr>\n",
       "      <th>min</th>\n",
       "      <td>1.000000e-02</td>\n",
       "      <td>0.000000e+00</td>\n",
       "      <td>0.000000e+00</td>\n",
       "      <td>0.000000e+00</td>\n",
       "      <td>0.000000e+00</td>\n",
       "    </tr>\n",
       "    <tr>\n",
       "      <th>25%</th>\n",
       "      <td>4.900000e+00</td>\n",
       "      <td>0.000000e+00</td>\n",
       "      <td>0.000000e+00</td>\n",
       "      <td>3.000000e+01</td>\n",
       "      <td>1.000000e+00</td>\n",
       "    </tr>\n",
       "    <tr>\n",
       "      <th>50%</th>\n",
       "      <td>5.900000e+00</td>\n",
       "      <td>1.000000e+00</td>\n",
       "      <td>0.000000e+00</td>\n",
       "      <td>3.000000e+01</td>\n",
       "      <td>2.000000e+00</td>\n",
       "    </tr>\n",
       "    <tr>\n",
       "      <th>75%</th>\n",
       "      <td>6.900000e+00</td>\n",
       "      <td>2.000000e+00</td>\n",
       "      <td>5.000000e+00</td>\n",
       "      <td>3.000000e+01</td>\n",
       "      <td>3.000000e+00</td>\n",
       "    </tr>\n",
       "    <tr>\n",
       "      <th>max</th>\n",
       "      <td>9.490000e+01</td>\n",
       "      <td>8.000000e+02</td>\n",
       "      <td>5.000000e+00</td>\n",
       "      <td>1.410000e+03</td>\n",
       "      <td>3.000000e+00</td>\n",
       "    </tr>\n",
       "  </tbody>\n",
       "</table>\n",
       "</div>"
      ],
      "text/plain": [
       "         Item Price   Meals Saved  Avg Rating Overall  Pickup Length  \\\n",
       "count  2.616743e+06  2.616743e+06        2.616743e+06   2.616743e+06   \n",
       "mean   6.572431e+00  1.752282e+00        2.003468e+00   4.856899e+01   \n",
       "std    2.704585e+00  2.099286e+00        2.300168e+00   7.977479e+01   \n",
       "min    1.000000e-02  0.000000e+00        0.000000e+00   0.000000e+00   \n",
       "25%    4.900000e+00  0.000000e+00        0.000000e+00   3.000000e+01   \n",
       "50%    5.900000e+00  1.000000e+00        0.000000e+00   3.000000e+01   \n",
       "75%    6.900000e+00  2.000000e+00        5.000000e+00   3.000000e+01   \n",
       "max    9.490000e+01  8.000000e+02        5.000000e+00   1.410000e+03   \n",
       "\n",
       "            Cluster  \n",
       "count  2.616743e+06  \n",
       "mean   1.599506e+00  \n",
       "std    1.155228e+00  \n",
       "min    0.000000e+00  \n",
       "25%    1.000000e+00  \n",
       "50%    2.000000e+00  \n",
       "75%    3.000000e+00  \n",
       "max    3.000000e+00  "
      ]
     },
     "execution_count": 154,
     "metadata": {},
     "output_type": "execute_result"
    }
   ],
   "source": [
    "X.describe()"
   ]
  },
  {
   "cell_type": "code",
   "execution_count": 170,
   "id": "74985c25",
   "metadata": {},
   "outputs": [
    {
     "data": {
      "text/plain": [
       "<AxesSubplot:xlabel='encoded pickup time', ylabel='Count'>"
      ]
     },
     "execution_count": 170,
     "metadata": {},
     "output_type": "execute_result"
    },
    {
     "data": {
      "image/png": "[encoded data removed]",
      "text/plain": [
       "<Figure size 432x288 with 1 Axes>"
      ]
     },
     "metadata": {
      "needs_background": "light"
     },
     "output_type": "display_data"
    }
   ],
   "source": [
    "sns.histplot(data=df, x=\"encoded pickup time\")"
   ]
  },
  {
   "cell_type": "markdown",
   "id": "2f8e269c",
   "metadata": {},
   "source": [
    "# Model 1: y=Price"
   ]
  },
  {
   "cell_type": "code",
   "execution_count": 155,
   "id": "2eb85009",
   "metadata": {},
   "outputs": [],
   "source": [
    "# Split into Train/Test -> to do on all dataset\n",
    "X_train, X_test, y_train, y_test = train_test_split(X, y, test_size=0.3, random_state =42)"
   ]
  },
  {
   "cell_type": "code",
   "execution_count": 156,
   "id": "d806a54d",
   "metadata": {},
   "outputs": [],
   "source": [
    "num_transformer = make_pipeline(RobustScaler())    #### Removed Simple Imputer\n",
    "cat_transformer = make_pipeline(OneHotEncoder(handle_unknown='ignore'))\n",
    "preprocess = make_column_transformer((num_transformer, ['Meals Saved', 'Avg Rating Overall','Item Price', \"Cluster\"]),\n",
    "                                     (cat_transformer,['Store Category', 'Store Segment', 'Store Region', 'Region Language', 'Region Type']))\n"
   ]
  },
  {
   "cell_type": "code",
   "execution_count": 157,
   "id": "5d1e76e7",
   "metadata": {},
   "outputs": [],
   "source": [
    "# visualizing pipelines in HTML\n",
    "#set_config(display='diagram')\n",
    "#preprocess"
   ]
  },
  {
   "cell_type": "code",
   "execution_count": 158,
   "id": "c4fb5ff4",
   "metadata": {},
   "outputs": [],
   "source": [
    "#preprocess.fit(X_train)\n",
    "X_train_transformed = preprocess.fit_transform(X_train)"
   ]
  },
  {
   "cell_type": "code",
   "execution_count": 159,
   "id": "61c2b2a4",
   "metadata": {},
   "outputs": [
    {
     "data": {
      "text/html": [
       "<div>\n",
       "<style scoped>\n",
       "    .dataframe tbody tr th:only-of-type {\n",
       "        vertical-align: middle;\n",
       "    }\n",
       "\n",
       "    .dataframe tbody tr th {\n",
       "        vertical-align: top;\n",
       "    }\n",
       "\n",
       "    .dataframe thead th {\n",
       "        text-align: right;\n",
       "    }\n",
       "</style>\n",
       "<table border=\"1\" class=\"dataframe\">\n",
       "  <thead>\n",
       "    <tr style=\"text-align: right;\">\n",
       "      <th></th>\n",
       "      <th>0</th>\n",
       "      <th>1</th>\n",
       "      <th>2</th>\n",
       "      <th>3</th>\n",
       "      <th>4</th>\n",
       "      <th>5</th>\n",
       "      <th>6</th>\n",
       "      <th>7</th>\n",
       "      <th>8</th>\n",
       "      <th>9</th>\n",
       "      <th>...</th>\n",
       "      <th>52</th>\n",
       "      <th>53</th>\n",
       "      <th>54</th>\n",
       "      <th>55</th>\n",
       "      <th>56</th>\n",
       "      <th>57</th>\n",
       "      <th>58</th>\n",
       "      <th>59</th>\n",
       "      <th>60</th>\n",
       "      <th>61</th>\n",
       "    </tr>\n",
       "  </thead>\n",
       "  <tbody>\n",
       "    <tr>\n",
       "      <th>0</th>\n",
       "      <td>0.0</td>\n",
       "      <td>0.0</td>\n",
       "      <td>-0.5</td>\n",
       "      <td>-0.5</td>\n",
       "      <td>0.0</td>\n",
       "      <td>0.0</td>\n",
       "      <td>1.0</td>\n",
       "      <td>0.0</td>\n",
       "      <td>0.0</td>\n",
       "      <td>0.0</td>\n",
       "      <td>...</td>\n",
       "      <td>0.0</td>\n",
       "      <td>0.0</td>\n",
       "      <td>0.0</td>\n",
       "      <td>0.0</td>\n",
       "      <td>0.0</td>\n",
       "      <td>0.0</td>\n",
       "      <td>1.0</td>\n",
       "      <td>0.0</td>\n",
       "      <td>0.0</td>\n",
       "      <td>1.0</td>\n",
       "    </tr>\n",
       "    <tr>\n",
       "      <th>1</th>\n",
       "      <td>0.0</td>\n",
       "      <td>0.0</td>\n",
       "      <td>0.5</td>\n",
       "      <td>0.5</td>\n",
       "      <td>0.0</td>\n",
       "      <td>0.0</td>\n",
       "      <td>1.0</td>\n",
       "      <td>0.0</td>\n",
       "      <td>1.0</td>\n",
       "      <td>0.0</td>\n",
       "      <td>...</td>\n",
       "      <td>0.0</td>\n",
       "      <td>0.0</td>\n",
       "      <td>0.0</td>\n",
       "      <td>0.0</td>\n",
       "      <td>1.0</td>\n",
       "      <td>0.0</td>\n",
       "      <td>1.0</td>\n",
       "      <td>0.0</td>\n",
       "      <td>0.0</td>\n",
       "      <td>1.0</td>\n",
       "    </tr>\n",
       "    <tr>\n",
       "      <th>2</th>\n",
       "      <td>0.0</td>\n",
       "      <td>0.0</td>\n",
       "      <td>0.5</td>\n",
       "      <td>0.5</td>\n",
       "      <td>0.0</td>\n",
       "      <td>1.0</td>\n",
       "      <td>0.0</td>\n",
       "      <td>0.0</td>\n",
       "      <td>1.0</td>\n",
       "      <td>0.0</td>\n",
       "      <td>...</td>\n",
       "      <td>0.0</td>\n",
       "      <td>0.0</td>\n",
       "      <td>0.0</td>\n",
       "      <td>0.0</td>\n",
       "      <td>0.0</td>\n",
       "      <td>0.0</td>\n",
       "      <td>1.0</td>\n",
       "      <td>0.0</td>\n",
       "      <td>1.0</td>\n",
       "      <td>0.0</td>\n",
       "    </tr>\n",
       "  </tbody>\n",
       "</table>\n",
       "<p>3 rows × 62 columns</p>\n",
       "</div>"
      ],
      "text/plain": [
       "    0    1    2    3    4    5    6    7    8    9   ...   52   53   54   55  \\\n",
       "0  0.0  0.0 -0.5 -0.5  0.0  0.0  1.0  0.0  0.0  0.0  ...  0.0  0.0  0.0  0.0   \n",
       "1  0.0  0.0  0.5  0.5  0.0  0.0  1.0  0.0  1.0  0.0  ...  0.0  0.0  0.0  0.0   \n",
       "2  0.0  0.0  0.5  0.5  0.0  1.0  0.0  0.0  1.0  0.0  ...  0.0  0.0  0.0  0.0   \n",
       "\n",
       "    56   57   58   59   60   61  \n",
       "0  0.0  0.0  1.0  0.0  0.0  1.0  \n",
       "1  1.0  0.0  1.0  0.0  0.0  1.0  \n",
       "2  0.0  0.0  1.0  0.0  1.0  0.0  \n",
       "\n",
       "[3 rows x 62 columns]"
      ]
     },
     "metadata": {},
     "output_type": "display_data"
    }
   ],
   "source": [
    "display(pd.DataFrame(X_train_transformed.todense()).head(3))"
   ]
  },
  {
   "cell_type": "code",
   "execution_count": 160,
   "id": "57502a6d",
   "metadata": {},
   "outputs": [
    {
     "data": {
      "text/plain": [
       "Pipeline(memory=None,\n",
       "         steps=[('columntransformer',\n",
       "                 ColumnTransformer(n_jobs=None, remainder='drop',\n",
       "                                   sparse_threshold=0.3,\n",
       "                                   transformer_weights=None,\n",
       "                                   transformers=[('pipeline-1',\n",
       "                                                  Pipeline(memory=None,\n",
       "                                                           steps=[('robustscaler',\n",
       "                                                                   RobustScaler(copy=True,\n",
       "                                                                                quantile_range=(25.0,\n",
       "                                                                                                75.0),\n",
       "                                                                                with_centering=True,\n",
       "                                                                                with_scaling=True))],\n",
       "                                                           verbose=False),\n",
       "                                                  ['Meals Saved',\n",
       "                                                   'Avg Rating Overal...\n",
       "                                                   'Store Segment',\n",
       "                                                   'Store Region',\n",
       "                                                   'Region Language',\n",
       "                                                   'Region Type'])],\n",
       "                                   verbose=False)),\n",
       "                ('logisticregression',\n",
       "                 LogisticRegression(C=1.0, class_weight=None, dual=False,\n",
       "                                    fit_intercept=True, intercept_scaling=1,\n",
       "                                    l1_ratio=None, max_iter=100,\n",
       "                                    multi_class='multinomial', n_jobs=None,\n",
       "                                    penalty='l2', random_state=None,\n",
       "                                    solver='newton-cg', tol=0.0001, verbose=0,\n",
       "                                    warm_start=False))],\n",
       "         verbose=False)"
      ]
     },
     "execution_count": 160,
     "metadata": {},
     "output_type": "execute_result"
    }
   ],
   "source": [
    "# Add Estimator\n",
    "#pipe = make_pipeline(preprocess, Ridge())\n",
    "pipe = make_pipeline(preprocess, LogisticRegression(multi_class='multinomial',solver ='newton-cg'))\n",
    "pipe"
   ]
  },
  {
   "cell_type": "code",
   "execution_count": 164,
   "id": "948a3424",
   "metadata": {},
   "outputs": [
    {
     "data": {
      "text/plain": [
       "0.67035"
      ]
     },
     "execution_count": 164,
     "metadata": {},
     "output_type": "execute_result"
    }
   ],
   "source": [
    "# Train pipeline\n",
    "pipe.fit(X_train[:100000], y_train[:100000])\n",
    "\n",
    "# Make predictions\n",
    "pipe.predict(X_test[100000:120000])\n",
    "\n",
    "# Score model\n",
    "pipe.score(X_test[100000:120000], y_test[100000:120000])"
   ]
  },
  {
   "cell_type": "code",
   "execution_count": 171,
   "id": "74ba0ce8",
   "metadata": {},
   "outputs": [
    {
     "name": "stderr",
     "output_type": "stream",
     "text": [
      "/Users/ninadamaso/.pyenv/versions/3.8.12/envs/lewagon/lib/python3.8/site-packages/scipy/optimize/linesearch.py:327: LineSearchWarning: The line search algorithm did not converge\n",
      "  warn('The line search algorithm did not converge', LineSearchWarning)\n",
      "/Users/ninadamaso/.pyenv/versions/3.8.12/envs/lewagon/lib/python3.8/site-packages/sklearn/utils/optimize.py:204: UserWarning: Line Search failed\n",
      "  warnings.warn('Line Search failed')\n",
      "/Users/ninadamaso/.pyenv/versions/3.8.12/envs/lewagon/lib/python3.8/site-packages/scipy/optimize/linesearch.py:327: LineSearchWarning: The line search algorithm did not converge\n",
      "  warn('The line search algorithm did not converge', LineSearchWarning)\n",
      "/Users/ninadamaso/.pyenv/versions/3.8.12/envs/lewagon/lib/python3.8/site-packages/sklearn/utils/optimize.py:204: UserWarning: Line Search failed\n",
      "  warnings.warn('Line Search failed')\n"
     ]
    },
    {
     "data": {
      "text/plain": [
       "0.05286155189649481"
      ]
     },
     "execution_count": 171,
     "metadata": {},
     "output_type": "execute_result"
    }
   ],
   "source": [
    "# Cross validate pipeline\n",
    "cross_val_score(pipe, X_train, y_train, cv=3, scoring='r2').mean()"
   ]
  },
  {
   "cell_type": "code",
   "execution_count": null,
   "id": "8f461f22",
   "metadata": {
    "scrolled": true
   },
   "outputs": [],
   "source": [
    "# Checking correlation between independent variables (features):\n",
    "# Need to encode categorical variables\n",
    "plt.figure(figsize=(28,10))\n",
    "sns.heatmap(X_train.corr(), cmap='coolwarm', annot = True, annot_kws={\"size\": 8})"
   ]
  },
  {
   "cell_type": "code",
   "execution_count": null,
   "id": "ddb7301f",
   "metadata": {},
   "outputs": [],
   "source": []
  },
  {
   "cell_type": "code",
   "execution_count": null,
   "id": "904f0efb",
   "metadata": {},
   "outputs": [],
   "source": []
  }
 ],
 "metadata": {
  "kernelspec": {
   "display_name": "Python 3 (ipykernel)",
   "language": "python",
   "name": "python3"
  },
  "language_info": {
   "codemirror_mode": {
    "name": "ipython",
    "version": 3
   },
   "file_extension": ".py",
   "mimetype": "text/x-python",
   "name": "python",
   "nbconvert_exporter": "python",
   "pygments_lexer": "ipython3",
   "version": "3.8.12"
  },
  "toc": {
   "base_numbering": 1,
   "nav_menu": {},
   "number_sections": true,
   "sideBar": true,
   "skip_h1_title": false,
   "title_cell": "Table of Contents",
   "title_sidebar": "Contents",
   "toc_cell": false,
   "toc_position": {},
   "toc_section_display": true,
   "toc_window_display": false
  }
 },
 "nbformat": 4,
 "nbformat_minor": 5
}
