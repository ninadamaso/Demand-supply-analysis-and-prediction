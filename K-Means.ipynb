{
 "cells": [
  {
   "cell_type": "code",
   "execution_count": 74,
   "id": "f3326c21-620b-4f85-b347-a1672658bb6b",
   "metadata": {},
   "outputs": [],
   "source": [
    "import pandas as pd\n",
    "import numpy as np\n",
    "import seaborn as sns\n",
    "import matplotlib.pyplot as plt\n",
    "\n",
    "from sklearn.pipeline import make_pipeline\n",
    "from sklearn.compose import make_column_transformer\n",
    "from sklearn.pipeline import make_union\n",
    "from sklearn.compose import make_column_selector\n",
    "from sklearn.preprocessing import FunctionTransformer\n",
    "from sklearn import set_config; set_config(display='diagram')\n",
    "\n",
    "from sklearn.preprocessing import OneHotEncoder\n",
    "from sklearn.preprocessing import OrdinalEncoder\n",
    "\n",
    "from sklearn.preprocessing import RobustScaler\n",
    "from sklearn.preprocessing import StandardScaler\n",
    "\n",
    "from sklearn.impute import SimpleImputer\n",
    "\n",
    "from sklearn.decomposition import PCA\n",
    "from sklearn.cluster import KMeans\n",
    "\n",
    "from sklearn.model_selection import train_test_split\n",
    "\n",
    "import joblib"
   ]
  },
  {
   "cell_type": "code",
   "execution_count": 2,
   "id": "cb526bbb-5b98-4b32-957c-ec214438c5d2",
   "metadata": {},
   "outputs": [],
   "source": [
    "## Load CSV\n",
    "path_from = \"raw_data/cluster_data_clean_latlng.csv\"\n",
    "df_group = pd.read_csv(path_from, delimiter=',', low_memory=False, encoding = 'utf-8')"
   ]
  },
  {
   "cell_type": "markdown",
   "id": "c3e322fe-cbaf-4be9-b1f4-033ea329e111",
   "metadata": {
    "tags": []
   },
   "source": [
    "## Build PCA Pipeline"
   ]
  },
  {
   "cell_type": "code",
   "execution_count": 3,
   "id": "93dbd4b8-b0c7-4eb2-a1bc-dc921bc9edb3",
   "metadata": {},
   "outputs": [
    {
     "data": {
      "text/html": [
       "<div>\n",
       "<style scoped>\n",
       "    .dataframe tbody tr th:only-of-type {\n",
       "        vertical-align: middle;\n",
       "    }\n",
       "\n",
       "    .dataframe tbody tr th {\n",
       "        vertical-align: top;\n",
       "    }\n",
       "\n",
       "    .dataframe thead th {\n",
       "        text-align: right;\n",
       "    }\n",
       "</style>\n",
       "<table border=\"1\" class=\"dataframe\">\n",
       "  <thead>\n",
       "    <tr style=\"text-align: right;\">\n",
       "      <th></th>\n",
       "      <th>Store ID</th>\n",
       "      <th>Item ID</th>\n",
       "      <th>Store Category</th>\n",
       "      <th>Store Segment</th>\n",
       "      <th>Store Region</th>\n",
       "      <th>City</th>\n",
       "      <th>Item Price</th>\n",
       "      <th>Region Language</th>\n",
       "      <th>Region Type</th>\n",
       "      <th>lat</th>\n",
       "      <th>lng</th>\n",
       "    </tr>\n",
       "  </thead>\n",
       "  <tbody>\n",
       "    <tr>\n",
       "      <th>0</th>\n",
       "      <td>35</td>\n",
       "      <td>34</td>\n",
       "      <td>Indie - Outbound</td>\n",
       "      <td>Bakery</td>\n",
       "      <td>Vaud</td>\n",
       "      <td>Salavaux</td>\n",
       "      <td>6.9</td>\n",
       "      <td>french</td>\n",
       "      <td>urban</td>\n",
       "      <td>46.918363</td>\n",
       "      <td>7.022345</td>\n",
       "    </tr>\n",
       "    <tr>\n",
       "      <th>1</th>\n",
       "      <td>57</td>\n",
       "      <td>73</td>\n",
       "      <td>Indie - Outbound</td>\n",
       "      <td>Bakery</td>\n",
       "      <td>Freiburg</td>\n",
       "      <td>Sâles</td>\n",
       "      <td>6.9</td>\n",
       "      <td>french</td>\n",
       "      <td>urban</td>\n",
       "      <td>46.641510</td>\n",
       "      <td>7.062369</td>\n",
       "    </tr>\n",
       "    <tr>\n",
       "      <th>2</th>\n",
       "      <td>58</td>\n",
       "      <td>337173</td>\n",
       "      <td>Indie - Outbound</td>\n",
       "      <td>Bakery</td>\n",
       "      <td>Freiburg</td>\n",
       "      <td>Ursy</td>\n",
       "      <td>4.9</td>\n",
       "      <td>french</td>\n",
       "      <td>urban</td>\n",
       "      <td>46.637755</td>\n",
       "      <td>6.843907</td>\n",
       "    </tr>\n",
       "    <tr>\n",
       "      <th>3</th>\n",
       "      <td>61</td>\n",
       "      <td>79</td>\n",
       "      <td>Indie - Outbound</td>\n",
       "      <td>Traditional Restaurant</td>\n",
       "      <td>Vaud</td>\n",
       "      <td>Lausanne</td>\n",
       "      <td>6.9</td>\n",
       "      <td>french</td>\n",
       "      <td>urban</td>\n",
       "      <td>46.531848</td>\n",
       "      <td>6.638594</td>\n",
       "    </tr>\n",
       "    <tr>\n",
       "      <th>4</th>\n",
       "      <td>62</td>\n",
       "      <td>78</td>\n",
       "      <td>Indie - Outbound</td>\n",
       "      <td>Traditional Restaurant</td>\n",
       "      <td>Bern</td>\n",
       "      <td>Bern</td>\n",
       "      <td>5.9</td>\n",
       "      <td>german</td>\n",
       "      <td>urban</td>\n",
       "      <td>46.907301</td>\n",
       "      <td>7.490900</td>\n",
       "    </tr>\n",
       "  </tbody>\n",
       "</table>\n",
       "</div>"
      ],
      "text/plain": [
       "   Store ID  Item ID    Store Category           Store Segment Store Region  \\\n",
       "0        35       34  Indie - Outbound                  Bakery         Vaud   \n",
       "1        57       73  Indie - Outbound                  Bakery     Freiburg   \n",
       "2        58   337173  Indie - Outbound                  Bakery     Freiburg   \n",
       "3        61       79  Indie - Outbound  Traditional Restaurant         Vaud   \n",
       "4        62       78  Indie - Outbound  Traditional Restaurant         Bern   \n",
       "\n",
       "       City  Item Price Region Language Region Type        lat       lng  \n",
       "0  Salavaux         6.9          french       urban  46.918363  7.022345  \n",
       "1     Sâles         6.9          french       urban  46.641510  7.062369  \n",
       "2      Ursy         4.9          french       urban  46.637755  6.843907  \n",
       "3  Lausanne         6.9          french       urban  46.531848  6.638594  \n",
       "4      Bern         5.9          german       urban  46.907301  7.490900  "
      ]
     },
     "execution_count": 3,
     "metadata": {},
     "output_type": "execute_result"
    }
   ],
   "source": [
    "df_group.head()"
   ]
  },
  {
   "cell_type": "code",
   "execution_count": 55,
   "id": "1a98fd23-6afd-41db-b90d-65c4d66ce186",
   "metadata": {},
   "outputs": [],
   "source": [
    "num_transformer = make_pipeline(RobustScaler())\n",
    "cat_transformer = make_pipeline(OneHotEncoder(handle_unknown='ignore',sparse=False))\n",
    "\n",
    "preprocess = make_column_transformer((num_transformer, ['Item Price', 'lat', 'lng']), \n",
    "                                     (cat_transformer,['Store Category', 'Store Segment', 'Region Language']))"
   ]
  },
  {
   "cell_type": "code",
   "execution_count": 63,
   "id": "736f0b4a-3979-4c49-8eaa-5814729241f4",
   "metadata": {},
   "outputs": [],
   "source": [
    "## Transform Data\n",
    "df_group_trans= preprocess.fit_transform(df_group)\n",
    "\n",
    "## PCA Process\n",
    "pca = PCA()\n",
    "pca.fit(df_group_trans)\n",
    "X_proj = pca.transform(df_group_trans)\n",
    "X_proj = pd.DataFrame(X_proj)\n",
    "\n",
    "## Modelling\n",
    "km = KMeans(n_clusters=5)\n",
    "km.fit(X_proj)\n",
    "wo_pipe=km.labels_"
   ]
  },
  {
   "cell_type": "markdown",
   "id": "8ceecb8c-97ff-4845-8f11-c36fbe0aaf1e",
   "metadata": {},
   "source": [
    "## KMeans"
   ]
  },
  {
   "cell_type": "code",
   "execution_count": 64,
   "id": "d4535601-1770-4792-8230-47211d0bfe51",
   "metadata": {},
   "outputs": [],
   "source": [
    "pipe = make_pipeline(preprocess, PCA(), KMeans(n_clusters=5))\n",
    "pipe.fit(df_group)\n",
    "w_pipe = pipe[-1].labels_"
   ]
  },
  {
   "cell_type": "code",
   "execution_count": 65,
   "id": "771aa7a8-786e-4164-bf9c-c7cbcef0a8a0",
   "metadata": {},
   "outputs": [
    {
     "data": {
      "text/html": [
       "<style>#sk-b64b2881-7792-49ab-a888-454ba530cea4 {color: black;background-color: white;}#sk-b64b2881-7792-49ab-a888-454ba530cea4 pre{padding: 0;}#sk-b64b2881-7792-49ab-a888-454ba530cea4 div.sk-toggleable {background-color: white;}#sk-b64b2881-7792-49ab-a888-454ba530cea4 label.sk-toggleable__label {cursor: pointer;display: block;width: 100%;margin-bottom: 0;padding: 0.3em;box-sizing: border-box;text-align: center;}#sk-b64b2881-7792-49ab-a888-454ba530cea4 label.sk-toggleable__label-arrow:before {content: \"▸\";float: left;margin-right: 0.25em;color: #696969;}#sk-b64b2881-7792-49ab-a888-454ba530cea4 label.sk-toggleable__label-arrow:hover:before {color: black;}#sk-b64b2881-7792-49ab-a888-454ba530cea4 div.sk-estimator:hover label.sk-toggleable__label-arrow:before {color: black;}#sk-b64b2881-7792-49ab-a888-454ba530cea4 div.sk-toggleable__content {max-height: 0;max-width: 0;overflow: hidden;text-align: left;background-color: #f0f8ff;}#sk-b64b2881-7792-49ab-a888-454ba530cea4 div.sk-toggleable__content pre {margin: 0.2em;color: black;border-radius: 0.25em;background-color: #f0f8ff;}#sk-b64b2881-7792-49ab-a888-454ba530cea4 input.sk-toggleable__control:checked~div.sk-toggleable__content {max-height: 200px;max-width: 100%;overflow: auto;}#sk-b64b2881-7792-49ab-a888-454ba530cea4 input.sk-toggleable__control:checked~label.sk-toggleable__label-arrow:before {content: \"▾\";}#sk-b64b2881-7792-49ab-a888-454ba530cea4 div.sk-estimator input.sk-toggleable__control:checked~label.sk-toggleable__label {background-color: #d4ebff;}#sk-b64b2881-7792-49ab-a888-454ba530cea4 div.sk-label input.sk-toggleable__control:checked~label.sk-toggleable__label {background-color: #d4ebff;}#sk-b64b2881-7792-49ab-a888-454ba530cea4 input.sk-hidden--visually {border: 0;clip: rect(1px 1px 1px 1px);clip: rect(1px, 1px, 1px, 1px);height: 1px;margin: -1px;overflow: hidden;padding: 0;position: absolute;width: 1px;}#sk-b64b2881-7792-49ab-a888-454ba530cea4 div.sk-estimator {font-family: monospace;background-color: #f0f8ff;border: 1px dotted black;border-radius: 0.25em;box-sizing: border-box;margin-bottom: 0.5em;}#sk-b64b2881-7792-49ab-a888-454ba530cea4 div.sk-estimator:hover {background-color: #d4ebff;}#sk-b64b2881-7792-49ab-a888-454ba530cea4 div.sk-parallel-item::after {content: \"\";width: 100%;border-bottom: 1px solid gray;flex-grow: 1;}#sk-b64b2881-7792-49ab-a888-454ba530cea4 div.sk-label:hover label.sk-toggleable__label {background-color: #d4ebff;}#sk-b64b2881-7792-49ab-a888-454ba530cea4 div.sk-serial::before {content: \"\";position: absolute;border-left: 1px solid gray;box-sizing: border-box;top: 2em;bottom: 0;left: 50%;}#sk-b64b2881-7792-49ab-a888-454ba530cea4 div.sk-serial {display: flex;flex-direction: column;align-items: center;background-color: white;padding-right: 0.2em;padding-left: 0.2em;}#sk-b64b2881-7792-49ab-a888-454ba530cea4 div.sk-item {z-index: 1;}#sk-b64b2881-7792-49ab-a888-454ba530cea4 div.sk-parallel {display: flex;align-items: stretch;justify-content: center;background-color: white;}#sk-b64b2881-7792-49ab-a888-454ba530cea4 div.sk-parallel::before {content: \"\";position: absolute;border-left: 1px solid gray;box-sizing: border-box;top: 2em;bottom: 0;left: 50%;}#sk-b64b2881-7792-49ab-a888-454ba530cea4 div.sk-parallel-item {display: flex;flex-direction: column;position: relative;background-color: white;}#sk-b64b2881-7792-49ab-a888-454ba530cea4 div.sk-parallel-item:first-child::after {align-self: flex-end;width: 50%;}#sk-b64b2881-7792-49ab-a888-454ba530cea4 div.sk-parallel-item:last-child::after {align-self: flex-start;width: 50%;}#sk-b64b2881-7792-49ab-a888-454ba530cea4 div.sk-parallel-item:only-child::after {width: 0;}#sk-b64b2881-7792-49ab-a888-454ba530cea4 div.sk-dashed-wrapped {border: 1px dashed gray;margin: 0 0.4em 0.5em 0.4em;box-sizing: border-box;padding-bottom: 0.4em;background-color: white;position: relative;}#sk-b64b2881-7792-49ab-a888-454ba530cea4 div.sk-label label {font-family: monospace;font-weight: bold;background-color: white;display: inline-block;line-height: 1.2em;}#sk-b64b2881-7792-49ab-a888-454ba530cea4 div.sk-label-container {position: relative;z-index: 2;text-align: center;}#sk-b64b2881-7792-49ab-a888-454ba530cea4 div.sk-container {/* jupyter's `normalize.less` sets `[hidden] { display: none; }` but bootstrap.min.css set `[hidden] { display: none !important; }` so we also need the `!important` here to be able to override the default hidden behavior on the sphinx rendered scikit-learn.org. See: https://github.com/scikit-learn/scikit-learn/issues/21755 */display: inline-block !important;position: relative;}#sk-b64b2881-7792-49ab-a888-454ba530cea4 div.sk-text-repr-fallback {display: none;}</style><div id=\"sk-b64b2881-7792-49ab-a888-454ba530cea4\" class=\"sk-top-container\"><div class=\"sk-text-repr-fallback\"><pre>Pipeline(steps=[(&#x27;columntransformer&#x27;,\n",
       "                 ColumnTransformer(transformers=[(&#x27;pipeline-1&#x27;,\n",
       "                                                  Pipeline(steps=[(&#x27;robustscaler&#x27;,\n",
       "                                                                   RobustScaler())]),\n",
       "                                                  [&#x27;Item Price&#x27;, &#x27;lat&#x27;, &#x27;lng&#x27;]),\n",
       "                                                 (&#x27;pipeline-2&#x27;,\n",
       "                                                  Pipeline(steps=[(&#x27;onehotencoder&#x27;,\n",
       "                                                                   OneHotEncoder(handle_unknown=&#x27;ignore&#x27;,\n",
       "                                                                                 sparse=False))]),\n",
       "                                                  [&#x27;Store Category&#x27;,\n",
       "                                                   &#x27;Store Segment&#x27;,\n",
       "                                                   &#x27;Region Language&#x27;])])),\n",
       "                (&#x27;pca&#x27;, PCA()), (&#x27;kmeans&#x27;, KMeans(n_clusters=5))])</pre><b>Please rerun this cell to show the HTML repr or trust the notebook.</b></div><div class=\"sk-container\" hidden><div class=\"sk-item sk-dashed-wrapped\"><div class=\"sk-label-container\"><div class=\"sk-label sk-toggleable\"><input class=\"sk-toggleable__control sk-hidden--visually\" id=\"5233626c-9bb5-4d80-8292-b646d37bc3b4\" type=\"checkbox\" ><label for=\"5233626c-9bb5-4d80-8292-b646d37bc3b4\" class=\"sk-toggleable__label sk-toggleable__label-arrow\">Pipeline</label><div class=\"sk-toggleable__content\"><pre>Pipeline(steps=[(&#x27;columntransformer&#x27;,\n",
       "                 ColumnTransformer(transformers=[(&#x27;pipeline-1&#x27;,\n",
       "                                                  Pipeline(steps=[(&#x27;robustscaler&#x27;,\n",
       "                                                                   RobustScaler())]),\n",
       "                                                  [&#x27;Item Price&#x27;, &#x27;lat&#x27;, &#x27;lng&#x27;]),\n",
       "                                                 (&#x27;pipeline-2&#x27;,\n",
       "                                                  Pipeline(steps=[(&#x27;onehotencoder&#x27;,\n",
       "                                                                   OneHotEncoder(handle_unknown=&#x27;ignore&#x27;,\n",
       "                                                                                 sparse=False))]),\n",
       "                                                  [&#x27;Store Category&#x27;,\n",
       "                                                   &#x27;Store Segment&#x27;,\n",
       "                                                   &#x27;Region Language&#x27;])])),\n",
       "                (&#x27;pca&#x27;, PCA()), (&#x27;kmeans&#x27;, KMeans(n_clusters=5))])</pre></div></div></div><div class=\"sk-serial\"><div class=\"sk-item sk-dashed-wrapped\"><div class=\"sk-label-container\"><div class=\"sk-label sk-toggleable\"><input class=\"sk-toggleable__control sk-hidden--visually\" id=\"b94b5d46-da63-42ef-b637-e03bde289314\" type=\"checkbox\" ><label for=\"b94b5d46-da63-42ef-b637-e03bde289314\" class=\"sk-toggleable__label sk-toggleable__label-arrow\">columntransformer: ColumnTransformer</label><div class=\"sk-toggleable__content\"><pre>ColumnTransformer(transformers=[(&#x27;pipeline-1&#x27;,\n",
       "                                 Pipeline(steps=[(&#x27;robustscaler&#x27;,\n",
       "                                                  RobustScaler())]),\n",
       "                                 [&#x27;Item Price&#x27;, &#x27;lat&#x27;, &#x27;lng&#x27;]),\n",
       "                                (&#x27;pipeline-2&#x27;,\n",
       "                                 Pipeline(steps=[(&#x27;onehotencoder&#x27;,\n",
       "                                                  OneHotEncoder(handle_unknown=&#x27;ignore&#x27;,\n",
       "                                                                sparse=False))]),\n",
       "                                 [&#x27;Store Category&#x27;, &#x27;Store Segment&#x27;,\n",
       "                                  &#x27;Region Language&#x27;])])</pre></div></div></div><div class=\"sk-parallel\"><div class=\"sk-parallel-item\"><div class=\"sk-item\"><div class=\"sk-label-container\"><div class=\"sk-label sk-toggleable\"><input class=\"sk-toggleable__control sk-hidden--visually\" id=\"f96983ca-23b6-4a49-a96a-cedc9e5f0cc3\" type=\"checkbox\" ><label for=\"f96983ca-23b6-4a49-a96a-cedc9e5f0cc3\" class=\"sk-toggleable__label sk-toggleable__label-arrow\">pipeline-1</label><div class=\"sk-toggleable__content\"><pre>[&#x27;Item Price&#x27;, &#x27;lat&#x27;, &#x27;lng&#x27;]</pre></div></div></div><div class=\"sk-serial\"><div class=\"sk-item\"><div class=\"sk-serial\"><div class=\"sk-item\"><div class=\"sk-estimator sk-toggleable\"><input class=\"sk-toggleable__control sk-hidden--visually\" id=\"3803caf7-47b6-4c25-83df-cac2f223457a\" type=\"checkbox\" ><label for=\"3803caf7-47b6-4c25-83df-cac2f223457a\" class=\"sk-toggleable__label sk-toggleable__label-arrow\">RobustScaler</label><div class=\"sk-toggleable__content\"><pre>RobustScaler()</pre></div></div></div></div></div></div></div></div><div class=\"sk-parallel-item\"><div class=\"sk-item\"><div class=\"sk-label-container\"><div class=\"sk-label sk-toggleable\"><input class=\"sk-toggleable__control sk-hidden--visually\" id=\"84d50862-71f7-4070-ba8c-a5bf40b4db1d\" type=\"checkbox\" ><label for=\"84d50862-71f7-4070-ba8c-a5bf40b4db1d\" class=\"sk-toggleable__label sk-toggleable__label-arrow\">pipeline-2</label><div class=\"sk-toggleable__content\"><pre>[&#x27;Store Category&#x27;, &#x27;Store Segment&#x27;, &#x27;Region Language&#x27;]</pre></div></div></div><div class=\"sk-serial\"><div class=\"sk-item\"><div class=\"sk-serial\"><div class=\"sk-item\"><div class=\"sk-estimator sk-toggleable\"><input class=\"sk-toggleable__control sk-hidden--visually\" id=\"82c98ad2-db14-4033-be84-634eebb94ba5\" type=\"checkbox\" ><label for=\"82c98ad2-db14-4033-be84-634eebb94ba5\" class=\"sk-toggleable__label sk-toggleable__label-arrow\">OneHotEncoder</label><div class=\"sk-toggleable__content\"><pre>OneHotEncoder(handle_unknown=&#x27;ignore&#x27;, sparse=False)</pre></div></div></div></div></div></div></div></div></div></div><div class=\"sk-item\"><div class=\"sk-estimator sk-toggleable\"><input class=\"sk-toggleable__control sk-hidden--visually\" id=\"2ce88cf3-9465-455b-af31-a7f4738862c3\" type=\"checkbox\" ><label for=\"2ce88cf3-9465-455b-af31-a7f4738862c3\" class=\"sk-toggleable__label sk-toggleable__label-arrow\">PCA</label><div class=\"sk-toggleable__content\"><pre>PCA()</pre></div></div></div><div class=\"sk-item\"><div class=\"sk-estimator sk-toggleable\"><input class=\"sk-toggleable__control sk-hidden--visually\" id=\"17b4a7f0-f43e-4232-afc0-af61bc25b97f\" type=\"checkbox\" ><label for=\"17b4a7f0-f43e-4232-afc0-af61bc25b97f\" class=\"sk-toggleable__label sk-toggleable__label-arrow\">KMeans</label><div class=\"sk-toggleable__content\"><pre>KMeans(n_clusters=5)</pre></div></div></div></div></div></div></div>"
      ],
      "text/plain": [
       "Pipeline(steps=[('columntransformer',\n",
       "                 ColumnTransformer(transformers=[('pipeline-1',\n",
       "                                                  Pipeline(steps=[('robustscaler',\n",
       "                                                                   RobustScaler())]),\n",
       "                                                  ['Item Price', 'lat', 'lng']),\n",
       "                                                 ('pipeline-2',\n",
       "                                                  Pipeline(steps=[('onehotencoder',\n",
       "                                                                   OneHotEncoder(handle_unknown='ignore',\n",
       "                                                                                 sparse=False))]),\n",
       "                                                  ['Store Category',\n",
       "                                                   'Store Segment',\n",
       "                                                   'Region Language'])])),\n",
       "                ('pca', PCA()), ('kmeans', KMeans(n_clusters=5))])"
      ]
     },
     "execution_count": 65,
     "metadata": {},
     "output_type": "execute_result"
    }
   ],
   "source": [
    "pipe"
   ]
  },
  {
   "cell_type": "code",
   "execution_count": 66,
   "id": "a09e7010-ce61-446b-859c-18818281b3b1",
   "metadata": {},
   "outputs": [
    {
     "data": {
      "image/png": "[encoded data removed]",
      "text/plain": [
       "<Figure size 432x288 with 1 Axes>"
      ]
     },
     "metadata": {
      "needs_background": "light"
     },
     "output_type": "display_data"
    }
   ],
   "source": [
    "plt.scatter(X_proj.iloc[:,0], X_proj.iloc[:,1], c=pipe[-1].labels_)\n",
    "plt.title('KMeans clustering'); plt.xlabel('PC 1'); plt.ylabel('PC 2');"
   ]
  },
  {
   "cell_type": "code",
   "execution_count": 67,
   "id": "c30389f2-1c50-4194-bf8b-77b7c4855f15",
   "metadata": {},
   "outputs": [],
   "source": [
    "## Save new defined Clusters\n",
    "\n",
    "## Extend Cluster to initial DF\n",
    "df_group['Cluster'] = km.labels_\n",
    "\n",
    "# df.to_csv('raw_data/full_data_clean_inclCluster.csv')\n",
    "df_group.to_csv('raw_data/group_data_clean_inclCluster.csv')"
   ]
  },
  {
   "cell_type": "code",
   "execution_count": 68,
   "id": "d6be25fe-7d03-4358-ac4a-a86b31639ff6",
   "metadata": {},
   "outputs": [
    {
     "data": {
      "text/plain": [
       "Text(0.5, 0, 'k cluster number')"
      ]
     },
     "execution_count": 68,
     "metadata": {},
     "output_type": "execute_result"
    },
    {
     "data": {
      "image/png": "[encoded data removed]",
      "text/plain": [
       "<Figure size 432x288 with 1 Axes>"
      ]
     },
     "metadata": {
      "needs_background": "light"
     },
     "output_type": "display_data"
    }
   ],
   "source": [
    "## Calculate optimal Cluster-Size\n",
    "inertias = []\n",
    "ks = range(1,10)\n",
    "for k in ks:\n",
    "    km_test = KMeans(n_clusters=k).fit(X_proj)\n",
    "    inertias.append(km_test.inertia_)\n",
    "plt.plot(ks, inertias)\n",
    "plt.xlabel('k cluster number')"
   ]
  },
  {
   "cell_type": "code",
   "execution_count": 69,
   "id": "af9b312f-36bb-422c-8d52-810f5a72245f",
   "metadata": {},
   "outputs": [
    {
     "name": "stdout",
     "output_type": "stream",
     "text": [
      "[[   0 1727]\n",
      " [   1  268]\n",
      " [   2 3699]\n",
      " [   3   10]\n",
      " [   4  929]]\n"
     ]
    }
   ],
   "source": [
    "unique, counts = np.unique(w_pipe, return_counts=True)\n",
    "\n",
    "print(np.asarray((unique, counts)).T)"
   ]
  },
  {
   "cell_type": "code",
   "execution_count": 87,
   "id": "bac307e4-a624-42ae-81a4-1b51a2622cb5",
   "metadata": {},
   "outputs": [
    {
     "ename": "SyntaxError",
     "evalue": "invalid syntax (3843282656.py, line 3)",
     "output_type": "error",
     "traceback": [
      "\u001b[0;36m  File \u001b[0;32m\"/tmp/ipykernel_23813/3843282656.py\"\u001b[0;36m, line \u001b[0;32m3\u001b[0m\n\u001b[0;31m    df = pd.DataFrame({'Item Price': item_price: , 'lat' = lat, 'lng' = lng, 'Store Category': store_category, 'Store Segment': store_segment, 'Region Language': region_language})\u001b[0m\n\u001b[0m                                               ^\u001b[0m\n\u001b[0;31mSyntaxError\u001b[0m\u001b[0;31m:\u001b[0m invalid syntax\n"
     ]
    }
   ],
   "source": [
    "def predict(item_price, address, store_category, store_segment, region_language):\n",
    "    lat, lng = get_geo(address)\n",
    "    df = pd.DataFrame({'Item Price': item_price: , 'lat' = lat, 'lng' = lng, 'Store Category': store_category, 'Store Segment': store_segment, 'Region Language': region_language})\n",
    "    \n",
    "    ## Extend Cluster to initial DF\n",
    "    pipe = joblib.load('cluster_model.joblib')\n",
    "    pipe.predict(df)\n",
    "\n",
    "    return pipe.labels_"
   ]
  },
  {
   "cell_type": "code",
   "execution_count": 91,
   "id": "fd851f49-4423-4852-9cd6-6d4d91441262",
   "metadata": {},
   "outputs": [],
   "source": [
    "df = pd.DataFrame({'Item Price': [9.8] , 'lat': [10.8], 'lng': [5.9], 'Store Category': ['Indie - Outbound'], 'Store Segment': ['Buffet'], 'Region Language': ['french']})"
   ]
  },
  {
   "cell_type": "code",
   "execution_count": 94,
   "id": "65e055d7-950e-4698-b9a5-b97b1207b017",
   "metadata": {},
   "outputs": [
    {
     "data": {
      "text/plain": [
       "0"
      ]
     },
     "execution_count": 94,
     "metadata": {},
     "output_type": "execute_result"
    }
   ],
   "source": [
    "pipe.predict(df)[0]"
   ]
  },
  {
   "cell_type": "code",
   "execution_count": 95,
   "id": "c9c9f2f8-3131-40ac-b2d3-0c3cd709f96f",
   "metadata": {},
   "outputs": [],
   "source": [
    "def save_model():\n",
    "    \"\"\"Save the model into a .joblib format\"\"\"\n",
    "    joblib.dump(pipe, 'cluster_model.joblib')"
   ]
  },
  {
   "cell_type": "code",
   "execution_count": 96,
   "id": "4f502812-db94-4a29-81e0-f355e4657835",
   "metadata": {},
   "outputs": [],
   "source": [
    "save_model()"
   ]
  },
  {
   "cell_type": "code",
   "execution_count": null,
   "id": "e4775bfe-7b72-4618-846c-2a8eee410b18",
   "metadata": {},
   "outputs": [],
   "source": []
  }
 ],
 "metadata": {
  "kernelspec": {
   "display_name": "Python 3 (ipykernel)",
   "language": "python",
   "name": "python3"
  },
  "language_info": {
   "codemirror_mode": {
    "name": "ipython",
    "version": 3
   },
   "file_extension": ".py",
   "mimetype": "text/x-python",
   "name": "python",
   "nbconvert_exporter": "python",
   "pygments_lexer": "ipython3",
   "version": "3.8.12"
  }
 },
 "nbformat": 4,
 "nbformat_minor": 5
}
