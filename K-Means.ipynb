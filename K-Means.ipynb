{
 "cells": [
  {
   "cell_type": "code",
   "execution_count": 1,
   "id": "f3326c21-620b-4f85-b347-a1672658bb6b",
   "metadata": {},
   "outputs": [],
   "source": [
    "import pandas as pd\n",
    "import numpy as np\n",
    "import seaborn as sns\n",
    "import matplotlib.pyplot as plt\n",
    "\n",
    "from sklearn.pipeline import make_pipeline\n",
    "from sklearn.compose import make_column_transformer\n",
    "from sklearn.pipeline import make_union\n",
    "from sklearn.compose import make_column_selector\n",
    "from sklearn.preprocessing import FunctionTransformer\n",
    "from sklearn import set_config; set_config(display='diagram')\n",
    "\n",
    "from sklearn.preprocessing import OneHotEncoder\n",
    "from sklearn.preprocessing import OrdinalEncoder\n",
    "\n",
    "from sklearn.preprocessing import RobustScaler\n",
    "from sklearn.preprocessing import StandardScaler\n",
    "\n",
    "from sklearn.impute import SimpleImputer\n",
    "\n",
    "from sklearn.decomposition import PCA\n",
    "from sklearn.cluster import KMeans\n",
    "\n",
    "from sklearn.model_selection import train_test_split"
   ]
  },
  {
   "cell_type": "code",
   "execution_count": 2,
   "id": "cb526bbb-5b98-4b32-957c-ec214438c5d2",
   "metadata": {},
   "outputs": [],
   "source": [
    "## Load CSV\n",
    "path_from = \"raw_data/full_data_clean.csv\"\n",
    "df = pd.read_csv(path_from, delimiter=',', low_memory=False, encoding = 'utf-8')"
   ]
  },
  {
   "cell_type": "markdown",
   "id": "c3e322fe-cbaf-4be9-b1f4-033ea329e111",
   "metadata": {
    "tags": []
   },
   "source": [
    "## Build PCA Pipeline"
   ]
  },
  {
   "cell_type": "code",
   "execution_count": 10,
   "id": "93dbd4b8-b0c7-4eb2-a1bc-dc921bc9edb3",
   "metadata": {},
   "outputs": [
    {
     "data": {
      "text/plain": [
       "(2000001, 23)"
      ]
     },
     "execution_count": 10,
     "metadata": {},
     "output_type": "execute_result"
    }
   ],
   "source": [
    "## Split Data\n",
    "# X_train, X_test, y_train, y_test = train_test_split(X, y, test_size=0.3)\n",
    "\n",
    "X_train= df.loc[:2000000,:]\n",
    "X_train.shape"
   ]
  },
  {
   "cell_type": "code",
   "execution_count": 11,
   "id": "1a98fd23-6afd-41db-b90d-65c4d66ce186",
   "metadata": {},
   "outputs": [],
   "source": [
    "num_transformer = make_pipeline(RobustScaler())\n",
    "cat_transformer = make_pipeline(OneHotEncoder(handle_unknown='ignore',sparse=False))\n",
    "\n",
    "preprocess = make_column_transformer((num_transformer, ['Item Price']), \n",
    "                                     (cat_transformer,['Store Category', 'Store Segment', 'Store Region']))"
   ]
  },
  {
   "cell_type": "code",
   "execution_count": 12,
   "id": "f6fd6ac4-8692-471f-8d5e-ba04f2be8777",
   "metadata": {},
   "outputs": [],
   "source": [
    "## Transform Data\n",
    "preprocess.fit(X_train)\n",
    "X_train_trans= preprocess.transform(X_train)"
   ]
  },
  {
   "cell_type": "code",
   "execution_count": 13,
   "id": "736f0b4a-3979-4c49-8eaa-5814729241f4",
   "metadata": {},
   "outputs": [],
   "source": [
    "## PCA Process\n",
    "pca = PCA()\n",
    "pca.fit(X_train_trans)\n",
    "X_proj = pca.transform(X_train_trans)\n",
    "X_proj = pd.DataFrame(X_proj)"
   ]
  },
  {
   "cell_type": "markdown",
   "id": "8ceecb8c-97ff-4845-8f11-c36fbe0aaf1e",
   "metadata": {},
   "source": [
    "## KMeans"
   ]
  },
  {
   "cell_type": "code",
   "execution_count": 14,
   "id": "180b72d6-e49a-4708-ba95-94793a6cdd5d",
   "metadata": {},
   "outputs": [
    {
     "data": {
      "text/html": [
       "<style>#sk-f1d38876-2e40-4d8f-994d-7014d46ca5b3 {color: black;background-color: white;}#sk-f1d38876-2e40-4d8f-994d-7014d46ca5b3 pre{padding: 0;}#sk-f1d38876-2e40-4d8f-994d-7014d46ca5b3 div.sk-toggleable {background-color: white;}#sk-f1d38876-2e40-4d8f-994d-7014d46ca5b3 label.sk-toggleable__label {cursor: pointer;display: block;width: 100%;margin-bottom: 0;padding: 0.3em;box-sizing: border-box;text-align: center;}#sk-f1d38876-2e40-4d8f-994d-7014d46ca5b3 label.sk-toggleable__label-arrow:before {content: \"▸\";float: left;margin-right: 0.25em;color: #696969;}#sk-f1d38876-2e40-4d8f-994d-7014d46ca5b3 label.sk-toggleable__label-arrow:hover:before {color: black;}#sk-f1d38876-2e40-4d8f-994d-7014d46ca5b3 div.sk-estimator:hover label.sk-toggleable__label-arrow:before {color: black;}#sk-f1d38876-2e40-4d8f-994d-7014d46ca5b3 div.sk-toggleable__content {max-height: 0;max-width: 0;overflow: hidden;text-align: left;background-color: #f0f8ff;}#sk-f1d38876-2e40-4d8f-994d-7014d46ca5b3 div.sk-toggleable__content pre {margin: 0.2em;color: black;border-radius: 0.25em;background-color: #f0f8ff;}#sk-f1d38876-2e40-4d8f-994d-7014d46ca5b3 input.sk-toggleable__control:checked~div.sk-toggleable__content {max-height: 200px;max-width: 100%;overflow: auto;}#sk-f1d38876-2e40-4d8f-994d-7014d46ca5b3 input.sk-toggleable__control:checked~label.sk-toggleable__label-arrow:before {content: \"▾\";}#sk-f1d38876-2e40-4d8f-994d-7014d46ca5b3 div.sk-estimator input.sk-toggleable__control:checked~label.sk-toggleable__label {background-color: #d4ebff;}#sk-f1d38876-2e40-4d8f-994d-7014d46ca5b3 div.sk-label input.sk-toggleable__control:checked~label.sk-toggleable__label {background-color: #d4ebff;}#sk-f1d38876-2e40-4d8f-994d-7014d46ca5b3 input.sk-hidden--visually {border: 0;clip: rect(1px 1px 1px 1px);clip: rect(1px, 1px, 1px, 1px);height: 1px;margin: -1px;overflow: hidden;padding: 0;position: absolute;width: 1px;}#sk-f1d38876-2e40-4d8f-994d-7014d46ca5b3 div.sk-estimator {font-family: monospace;background-color: #f0f8ff;border: 1px dotted black;border-radius: 0.25em;box-sizing: border-box;margin-bottom: 0.5em;}#sk-f1d38876-2e40-4d8f-994d-7014d46ca5b3 div.sk-estimator:hover {background-color: #d4ebff;}#sk-f1d38876-2e40-4d8f-994d-7014d46ca5b3 div.sk-parallel-item::after {content: \"\";width: 100%;border-bottom: 1px solid gray;flex-grow: 1;}#sk-f1d38876-2e40-4d8f-994d-7014d46ca5b3 div.sk-label:hover label.sk-toggleable__label {background-color: #d4ebff;}#sk-f1d38876-2e40-4d8f-994d-7014d46ca5b3 div.sk-serial::before {content: \"\";position: absolute;border-left: 1px solid gray;box-sizing: border-box;top: 2em;bottom: 0;left: 50%;}#sk-f1d38876-2e40-4d8f-994d-7014d46ca5b3 div.sk-serial {display: flex;flex-direction: column;align-items: center;background-color: white;padding-right: 0.2em;padding-left: 0.2em;}#sk-f1d38876-2e40-4d8f-994d-7014d46ca5b3 div.sk-item {z-index: 1;}#sk-f1d38876-2e40-4d8f-994d-7014d46ca5b3 div.sk-parallel {display: flex;align-items: stretch;justify-content: center;background-color: white;}#sk-f1d38876-2e40-4d8f-994d-7014d46ca5b3 div.sk-parallel::before {content: \"\";position: absolute;border-left: 1px solid gray;box-sizing: border-box;top: 2em;bottom: 0;left: 50%;}#sk-f1d38876-2e40-4d8f-994d-7014d46ca5b3 div.sk-parallel-item {display: flex;flex-direction: column;position: relative;background-color: white;}#sk-f1d38876-2e40-4d8f-994d-7014d46ca5b3 div.sk-parallel-item:first-child::after {align-self: flex-end;width: 50%;}#sk-f1d38876-2e40-4d8f-994d-7014d46ca5b3 div.sk-parallel-item:last-child::after {align-self: flex-start;width: 50%;}#sk-f1d38876-2e40-4d8f-994d-7014d46ca5b3 div.sk-parallel-item:only-child::after {width: 0;}#sk-f1d38876-2e40-4d8f-994d-7014d46ca5b3 div.sk-dashed-wrapped {border: 1px dashed gray;margin: 0 0.4em 0.5em 0.4em;box-sizing: border-box;padding-bottom: 0.4em;background-color: white;position: relative;}#sk-f1d38876-2e40-4d8f-994d-7014d46ca5b3 div.sk-label label {font-family: monospace;font-weight: bold;background-color: white;display: inline-block;line-height: 1.2em;}#sk-f1d38876-2e40-4d8f-994d-7014d46ca5b3 div.sk-label-container {position: relative;z-index: 2;text-align: center;}#sk-f1d38876-2e40-4d8f-994d-7014d46ca5b3 div.sk-container {/* jupyter's `normalize.less` sets `[hidden] { display: none; }` but bootstrap.min.css set `[hidden] { display: none !important; }` so we also need the `!important` here to be able to override the default hidden behavior on the sphinx rendered scikit-learn.org. See: https://github.com/scikit-learn/scikit-learn/issues/21755 */display: inline-block !important;position: relative;}#sk-f1d38876-2e40-4d8f-994d-7014d46ca5b3 div.sk-text-repr-fallback {display: none;}</style><div id=\"sk-f1d38876-2e40-4d8f-994d-7014d46ca5b3\" class=\"sk-top-container\"><div class=\"sk-text-repr-fallback\"><pre>KMeans(n_clusters=4)</pre><b>Please rerun this cell to show the HTML repr or trust the notebook.</b></div><div class=\"sk-container\" hidden><div class=\"sk-item\"><div class=\"sk-estimator sk-toggleable\"><input class=\"sk-toggleable__control sk-hidden--visually\" id=\"05e03dc7-fb7e-45ec-aef3-68b2d3dce19b\" type=\"checkbox\" checked><label for=\"05e03dc7-fb7e-45ec-aef3-68b2d3dce19b\" class=\"sk-toggleable__label sk-toggleable__label-arrow\">KMeans</label><div class=\"sk-toggleable__content\"><pre>KMeans(n_clusters=4)</pre></div></div></div></div></div>"
      ],
      "text/plain": [
       "KMeans(n_clusters=4)"
      ]
     },
     "execution_count": 14,
     "metadata": {},
     "output_type": "execute_result"
    }
   ],
   "source": [
    "## Modelling\n",
    "km = KMeans(n_clusters=4)\n",
    "km.fit(X_proj)\n",
    "\n",
    "## Extend Cluster to initial DF\n",
    "# df['Cluster'] = km.labels_"
   ]
  },
  {
   "cell_type": "code",
   "execution_count": 15,
   "id": "a09e7010-ce61-446b-859c-18818281b3b1",
   "metadata": {},
   "outputs": [
    {
     "data": {
      "image/png": "[encoded data removed]",
      "text/plain": [
       "<Figure size 432x288 with 1 Axes>"
      ]
     },
     "metadata": {
      "needs_background": "light"
     },
     "output_type": "display_data"
    }
   ],
   "source": [
    "plt.scatter(X_proj.iloc[:,0], X_proj.iloc[:,1], c=km.labels_)\n",
    "plt.title('KMeans clustering'); plt.xlabel('PC 1'); plt.ylabel('PC 2');"
   ]
  },
  {
   "cell_type": "code",
   "execution_count": 66,
   "id": "c30389f2-1c50-4194-bf8b-77b7c4855f15",
   "metadata": {},
   "outputs": [],
   "source": [
    "## Save new defined Clusters\n",
    "# df.to_csv('raw_data/full_data_clean_inclCluster.csv')"
   ]
  },
  {
   "cell_type": "code",
   "execution_count": 67,
   "id": "d6be25fe-7d03-4358-ac4a-a86b31639ff6",
   "metadata": {},
   "outputs": [
    {
     "data": {
      "text/plain": [
       "Text(0.5, 0, 'k cluster number')"
      ]
     },
     "execution_count": 67,
     "metadata": {},
     "output_type": "execute_result"
    },
    {
     "data": {
      "image/png": "[encoded data removed]",
      "text/plain": [
       "<Figure size 432x288 with 1 Axes>"
      ]
     },
     "metadata": {
      "needs_background": "light"
     },
     "output_type": "display_data"
    }
   ],
   "source": [
    "## Calculate optimal Cluster-Size\n",
    "inertias = []\n",
    "ks = range(1,10)\n",
    "for k in ks:\n",
    "    km_test = KMeans(n_clusters=k).fit(X_proj)\n",
    "    inertias.append(km_test.inertia_)\n",
    "plt.plot(ks, inertias)\n",
    "plt.xlabel('k cluster number')"
   ]
  },
  {
   "cell_type": "code",
   "execution_count": 17,
   "id": "0965459b-1e48-47a1-80f2-eb8cd13a7c89",
   "metadata": {},
   "outputs": [
    {
     "data": {
      "text/html": [
       "<div>\n",
       "<style scoped>\n",
       "    .dataframe tbody tr th:only-of-type {\n",
       "        vertical-align: middle;\n",
       "    }\n",
       "\n",
       "    .dataframe tbody tr th {\n",
       "        vertical-align: top;\n",
       "    }\n",
       "\n",
       "    .dataframe thead th {\n",
       "        text-align: right;\n",
       "    }\n",
       "</style>\n",
       "<table border=\"1\" class=\"dataframe\">\n",
       "  <thead>\n",
       "    <tr style=\"text-align: right;\">\n",
       "      <th></th>\n",
       "      <th>Unnamed: 0</th>\n",
       "      <th>Store ID</th>\n",
       "      <th>Item ID</th>\n",
       "      <th>Store Category</th>\n",
       "      <th>Store Segment</th>\n",
       "      <th>Store Region</th>\n",
       "      <th>City</th>\n",
       "      <th>Store Address</th>\n",
       "      <th>Item First Supplying Date</th>\n",
       "      <th>Item Last Supplying Date</th>\n",
       "      <th>...</th>\n",
       "      <th>Date</th>\n",
       "      <th>Count Ratings</th>\n",
       "      <th>Declared Supply</th>\n",
       "      <th>Meals Saved</th>\n",
       "      <th>Total Supply</th>\n",
       "      <th>Avg Rating Overall</th>\n",
       "      <th>Pickup Length</th>\n",
       "      <th>Supply Length</th>\n",
       "      <th>Region Language</th>\n",
       "      <th>Region Type</th>\n",
       "    </tr>\n",
       "  </thead>\n",
       "  <tbody>\n",
       "    <tr>\n",
       "      <th>0</th>\n",
       "      <td>0</td>\n",
       "      <td>11344</td>\n",
       "      <td>11438</td>\n",
       "      <td>Key Account</td>\n",
       "      <td>Bakery</td>\n",
       "      <td>Genève</td>\n",
       "      <td>GenÃ¨ve</td>\n",
       "      <td>Place de Cornavin 7</td>\n",
       "      <td>2017-12-07 00:00:00</td>\n",
       "      <td>2022-03-01 00:00:00</td>\n",
       "      <td>...</td>\n",
       "      <td>2019-01-01 00:00:00</td>\n",
       "      <td>0</td>\n",
       "      <td>20</td>\n",
       "      <td>2</td>\n",
       "      <td>20</td>\n",
       "      <td>0.00</td>\n",
       "      <td>0 days 00:50:00</td>\n",
       "      <td>1545</td>\n",
       "      <td>french</td>\n",
       "      <td>urban</td>\n",
       "    </tr>\n",
       "    <tr>\n",
       "      <th>1</th>\n",
       "      <td>1</td>\n",
       "      <td>11729</td>\n",
       "      <td>11822</td>\n",
       "      <td>Indie - Outbound</td>\n",
       "      <td>Buffet</td>\n",
       "      <td>Bern</td>\n",
       "      <td>Bern</td>\n",
       "      <td>LÃ¤nggassstrasse 53</td>\n",
       "      <td>2018-11-02 00:00:00</td>\n",
       "      <td>2019-06-27 00:00:00</td>\n",
       "      <td>...</td>\n",
       "      <td>2019-01-01 00:00:00</td>\n",
       "      <td>1</td>\n",
       "      <td>0</td>\n",
       "      <td>9</td>\n",
       "      <td>16</td>\n",
       "      <td>4.00</td>\n",
       "      <td>0 days 04:00:00</td>\n",
       "      <td>237</td>\n",
       "      <td>german</td>\n",
       "      <td>urban</td>\n",
       "    </tr>\n",
       "    <tr>\n",
       "      <th>2</th>\n",
       "      <td>2</td>\n",
       "      <td>11729</td>\n",
       "      <td>11822</td>\n",
       "      <td>Indie - Outbound</td>\n",
       "      <td>Buffet</td>\n",
       "      <td>Bern</td>\n",
       "      <td>Bern</td>\n",
       "      <td>LÃ¤nggassstrasse 53</td>\n",
       "      <td>2018-11-02 00:00:00</td>\n",
       "      <td>2019-06-27 00:00:00</td>\n",
       "      <td>...</td>\n",
       "      <td>2019-01-02 00:00:00</td>\n",
       "      <td>8</td>\n",
       "      <td>0</td>\n",
       "      <td>28</td>\n",
       "      <td>33</td>\n",
       "      <td>4.25</td>\n",
       "      <td>0 days 04:00:00</td>\n",
       "      <td>237</td>\n",
       "      <td>german</td>\n",
       "      <td>urban</td>\n",
       "    </tr>\n",
       "    <tr>\n",
       "      <th>3</th>\n",
       "      <td>3</td>\n",
       "      <td>11729</td>\n",
       "      <td>11822</td>\n",
       "      <td>Indie - Outbound</td>\n",
       "      <td>Buffet</td>\n",
       "      <td>Bern</td>\n",
       "      <td>Bern</td>\n",
       "      <td>LÃ¤nggassstrasse 53</td>\n",
       "      <td>2018-11-02 00:00:00</td>\n",
       "      <td>2019-06-27 00:00:00</td>\n",
       "      <td>...</td>\n",
       "      <td>2019-01-27 00:00:00</td>\n",
       "      <td>0</td>\n",
       "      <td>10</td>\n",
       "      <td>11</td>\n",
       "      <td>17</td>\n",
       "      <td>0.00</td>\n",
       "      <td>0 days 04:00:00</td>\n",
       "      <td>237</td>\n",
       "      <td>german</td>\n",
       "      <td>urban</td>\n",
       "    </tr>\n",
       "    <tr>\n",
       "      <th>4</th>\n",
       "      <td>4</td>\n",
       "      <td>11729</td>\n",
       "      <td>11822</td>\n",
       "      <td>Indie - Outbound</td>\n",
       "      <td>Buffet</td>\n",
       "      <td>Bern</td>\n",
       "      <td>Bern</td>\n",
       "      <td>LÃ¤nggassstrasse 53</td>\n",
       "      <td>2018-11-02 00:00:00</td>\n",
       "      <td>2019-06-27 00:00:00</td>\n",
       "      <td>...</td>\n",
       "      <td>2019-01-31 00:00:00</td>\n",
       "      <td>1</td>\n",
       "      <td>10</td>\n",
       "      <td>13</td>\n",
       "      <td>17</td>\n",
       "      <td>5.00</td>\n",
       "      <td>0 days 04:00:00</td>\n",
       "      <td>237</td>\n",
       "      <td>german</td>\n",
       "      <td>urban</td>\n",
       "    </tr>\n",
       "  </tbody>\n",
       "</table>\n",
       "<p>5 rows × 23 columns</p>\n",
       "</div>"
      ],
      "text/plain": [
       "   Unnamed: 0  Store ID  Item ID    Store Category Store Segment Store Region  \\\n",
       "0           0     11344    11438       Key Account        Bakery       Genève   \n",
       "1           1     11729    11822  Indie - Outbound        Buffet         Bern   \n",
       "2           2     11729    11822  Indie - Outbound        Buffet         Bern   \n",
       "3           3     11729    11822  Indie - Outbound        Buffet         Bern   \n",
       "4           4     11729    11822  Indie - Outbound        Buffet         Bern   \n",
       "\n",
       "      City        Store Address Item First Supplying Date  \\\n",
       "0  GenÃ¨ve  Place de Cornavin 7       2017-12-07 00:00:00   \n",
       "1     Bern  LÃ¤nggassstrasse 53       2018-11-02 00:00:00   \n",
       "2     Bern  LÃ¤nggassstrasse 53       2018-11-02 00:00:00   \n",
       "3     Bern  LÃ¤nggassstrasse 53       2018-11-02 00:00:00   \n",
       "4     Bern  LÃ¤nggassstrasse 53       2018-11-02 00:00:00   \n",
       "\n",
       "  Item Last Supplying Date  ...                 Date Count Ratings  \\\n",
       "0      2022-03-01 00:00:00  ...  2019-01-01 00:00:00             0   \n",
       "1      2019-06-27 00:00:00  ...  2019-01-01 00:00:00             1   \n",
       "2      2019-06-27 00:00:00  ...  2019-01-02 00:00:00             8   \n",
       "3      2019-06-27 00:00:00  ...  2019-01-27 00:00:00             0   \n",
       "4      2019-06-27 00:00:00  ...  2019-01-31 00:00:00             1   \n",
       "\n",
       "  Declared Supply Meals Saved  Total Supply  Avg Rating Overall  \\\n",
       "0              20           2            20                0.00   \n",
       "1               0           9            16                4.00   \n",
       "2               0          28            33                4.25   \n",
       "3              10          11            17                0.00   \n",
       "4              10          13            17                5.00   \n",
       "\n",
       "     Pickup Length  Supply Length  Region Language Region Type  \n",
       "0  0 days 00:50:00           1545           french       urban  \n",
       "1  0 days 04:00:00            237           german       urban  \n",
       "2  0 days 04:00:00            237           german       urban  \n",
       "3  0 days 04:00:00            237           german       urban  \n",
       "4  0 days 04:00:00            237           german       urban  \n",
       "\n",
       "[5 rows x 23 columns]"
      ]
     },
     "execution_count": 17,
     "metadata": {},
     "output_type": "execute_result"
    }
   ],
   "source": [
    "df.head()"
   ]
  }
 ],
 "metadata": {
  "kernelspec": {
   "display_name": "Python 3 (ipykernel)",
   "language": "python",
   "name": "python3"
  },
  "language_info": {
   "codemirror_mode": {
    "name": "ipython",
    "version": 3
   },
   "file_extension": ".py",
   "mimetype": "text/x-python",
   "name": "python",
   "nbconvert_exporter": "python",
   "pygments_lexer": "ipython3",
   "version": "3.8.12"
  }
 },
 "nbformat": 4,
 "nbformat_minor": 5
}
