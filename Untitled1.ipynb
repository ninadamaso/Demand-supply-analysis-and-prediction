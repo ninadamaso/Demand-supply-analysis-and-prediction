{
 "cells": [
  {
   "cell_type": "markdown",
   "id": "0e197b53",
   "metadata": {},
   "source": [
    "spinWords(\"Hey fellow Le Wagon alumni\") => \"Hey wollef Le nogaW inmula\"\n",
    "spinWords(\"Rake it until you make it\") => \"Rake it litnu you make it\"\n",
    "spinWords(\"Change your life, learn to code\") => \"egnahC your life, nrael to code\""
   ]
  },
  {
   "cell_type": "code",
   "execution_count": null,
   "id": "615a2197",
   "metadata": {},
   "outputs": [],
   "source": []
  },
  {
   "cell_type": "code",
   "execution_count": 13,
   "id": "02410858",
   "metadata": {},
   "outputs": [
    {
     "data": {
      "text/plain": [
       "['H',\n",
       " 'e',\n",
       " 'y',\n",
       " ' ',\n",
       " 'f',\n",
       " 'e',\n",
       " 'l',\n",
       " 'l',\n",
       " 'o',\n",
       " 'w',\n",
       " ' ',\n",
       " 'L',\n",
       " 'e',\n",
       " ' ',\n",
       " 'W',\n",
       " 'a',\n",
       " 'g',\n",
       " 'o',\n",
       " 'n',\n",
       " ' ',\n",
       " 'a',\n",
       " 'l',\n",
       " 'u',\n",
       " 'm',\n",
       " 'n',\n",
       " 'i']"
      ]
     },
     "execution_count": 13,
     "metadata": {},
     "output_type": "execute_result"
    }
   ],
   "source": [
    "spinWords(\"Hey fellow Le Wagon alumni\") "
   ]
  },
  {
   "cell_type": "code",
   "execution_count": 17,
   "id": "155460c8",
   "metadata": {},
   "outputs": [],
   "source": [
    "def spinWords(sentence):\n",
    "    sentence = sentence.split(' ')\n",
    "    new_sentence = []\n",
    "    for word in sentence:\n",
    "        if len(word) < 5:\n",
    "            word = word\n",
    "            new_sentence += [word]\n",
    "        else:\n",
    "            word = word[::-1]\n",
    "            new_sentence += [word]\n",
    "    return ' '.join(new_sentence)"
   ]
  },
  {
   "cell_type": "code",
   "execution_count": 19,
   "id": "c9a112bf",
   "metadata": {},
   "outputs": [
    {
     "data": {
      "text/plain": [
       "'Rake it litnu you make it'"
      ]
     },
     "execution_count": 19,
     "metadata": {},
     "output_type": "execute_result"
    }
   ],
   "source": [
    "spinWords(\"Rake it until you make it\")"
   ]
  },
  {
   "cell_type": "code",
   "execution_count": 16,
   "id": "01a28b5c",
   "metadata": {},
   "outputs": [
    {
     "name": "stdout",
     "output_type": "stream",
     "text": [
      "olleH\n"
     ]
    }
   ],
   "source": [
    "txt = \"Hello\" [::-1]\n",
    "print(txt)"
   ]
  },
  {
   "cell_type": "code",
   "execution_count": null,
   "id": "ff197127",
   "metadata": {},
   "outputs": [],
   "source": []
  }
 ],
 "metadata": {
  "kernelspec": {
   "display_name": "Python 3 (ipykernel)",
   "language": "python",
   "name": "python3"
  },
  "language_info": {
   "codemirror_mode": {
    "name": "ipython",
    "version": 3
   },
   "file_extension": ".py",
   "mimetype": "text/x-python",
   "name": "python",
   "nbconvert_exporter": "python",
   "pygments_lexer": "ipython3",
   "version": "3.8.12"
  },
  "toc": {
   "base_numbering": 1,
   "nav_menu": {},
   "number_sections": true,
   "sideBar": true,
   "skip_h1_title": false,
   "title_cell": "Table of Contents",
   "title_sidebar": "Contents",
   "toc_cell": false,
   "toc_position": {},
   "toc_section_display": true,
   "toc_window_display": false
  }
 },
 "nbformat": 4,
 "nbformat_minor": 5
}
