{
 "cells": [
  {
   "cell_type": "code",
   "execution_count": 1,
   "id": "2e6e7e77",
   "metadata": {},
   "outputs": [],
   "source": [
    "import pandas as pd\n",
    "import matplotlib.pyplot as plt\n",
    "import seaborn as sns\n",
    "from matplotlib import rcParams\n",
    "import matplotlib.ticker as ticker\n",
    "import numpy as np\n",
    "import datetime\n",
    "\n",
    "import os\n",
    "path = os.getcwd()"
   ]
  },
  {
   "cell_type": "code",
   "execution_count": 2,
   "id": "7ffbef9a",
   "metadata": {},
   "outputs": [],
   "source": [
    "# imports\n",
    "from sklearn.pipeline import Pipeline\n",
    "from sklearn.compose import ColumnTransformer\n",
    "from sklearn.preprocessing import RobustScaler\n",
    "from sklearn.preprocessing import OneHotEncoder\n",
    "from sklearn.preprocessing import FunctionTransformer\n",
    "from sklearn.compose import make_column_selector\n",
    "from sklearn.model_selection import train_test_split\n",
    "from sklearn.pipeline import make_pipeline\n",
    "from sklearn.pipeline import make_union\n",
    "from sklearn.compose import make_column_transformer\n",
    "from sklearn import set_config\n",
    "from sklearn.impute import SimpleImputer\n",
    "#from sklearn.linear_model import Ridge, Lasso, LinearRegression\n",
    "from sklearn.model_selection import cross_val_score\n",
    "from sklearn import linear_model\n",
    "#from sklearn.linear_model import ElasticNet\n",
    "from sklearn.model_selection import GridSearchCV\n",
    "from xgboost import XGBClassifier"
   ]
  },
  {
   "cell_type": "code",
   "execution_count": 3,
   "id": "cb5c2645",
   "metadata": {
    "scrolled": true
   },
   "outputs": [
    {
     "data": {
      "text/html": [
       "<div>\n",
       "<style scoped>\n",
       "    .dataframe tbody tr th:only-of-type {\n",
       "        vertical-align: middle;\n",
       "    }\n",
       "\n",
       "    .dataframe tbody tr th {\n",
       "        vertical-align: top;\n",
       "    }\n",
       "\n",
       "    .dataframe thead th {\n",
       "        text-align: right;\n",
       "    }\n",
       "</style>\n",
       "<table border=\"1\" class=\"dataframe\">\n",
       "  <thead>\n",
       "    <tr style=\"text-align: right;\">\n",
       "      <th></th>\n",
       "      <th>Unnamed: 0</th>\n",
       "      <th>Store ID</th>\n",
       "      <th>Item ID</th>\n",
       "      <th>Store Category</th>\n",
       "      <th>Store Segment</th>\n",
       "      <th>Store Region</th>\n",
       "      <th>City</th>\n",
       "      <th>Item Last Supplying Date</th>\n",
       "      <th>Supply Length</th>\n",
       "      <th>Region Language</th>\n",
       "      <th>Region Type</th>\n",
       "      <th>Cluster</th>\n",
       "      <th>Item_trailing_3_m_supply_date</th>\n",
       "      <th>Item Price</th>\n",
       "      <th>Declared Supply</th>\n",
       "      <th>Meals Saved</th>\n",
       "      <th>Total Supply</th>\n",
       "      <th>Pickup Length</th>\n",
       "    </tr>\n",
       "  </thead>\n",
       "  <tbody>\n",
       "    <tr>\n",
       "      <th>0</th>\n",
       "      <td>0</td>\n",
       "      <td>35</td>\n",
       "      <td>34</td>\n",
       "      <td>Indie - Outbound</td>\n",
       "      <td>Bakery</td>\n",
       "      <td>Vaud</td>\n",
       "      <td>Salavaux</td>\n",
       "      <td>2022-03-01</td>\n",
       "      <td>999</td>\n",
       "      <td>french</td>\n",
       "      <td>urban</td>\n",
       "      <td>3</td>\n",
       "      <td>2021-12-01</td>\n",
       "      <td>6.9</td>\n",
       "      <td>3.14</td>\n",
       "      <td>3.05</td>\n",
       "      <td>3.29</td>\n",
       "      <td>20.0</td>\n",
       "    </tr>\n",
       "    <tr>\n",
       "      <th>1</th>\n",
       "      <td>1</td>\n",
       "      <td>57</td>\n",
       "      <td>73</td>\n",
       "      <td>Indie - Outbound</td>\n",
       "      <td>Bakery</td>\n",
       "      <td>Freiburg</td>\n",
       "      <td>Sâles</td>\n",
       "      <td>2022-03-01</td>\n",
       "      <td>997</td>\n",
       "      <td>french</td>\n",
       "      <td>urban</td>\n",
       "      <td>3</td>\n",
       "      <td>2021-12-01</td>\n",
       "      <td>6.9</td>\n",
       "      <td>1.94</td>\n",
       "      <td>2.09</td>\n",
       "      <td>2.26</td>\n",
       "      <td>30.0</td>\n",
       "    </tr>\n",
       "    <tr>\n",
       "      <th>2</th>\n",
       "      <td>2</td>\n",
       "      <td>58</td>\n",
       "      <td>74</td>\n",
       "      <td>Indie - Outbound</td>\n",
       "      <td>Bakery</td>\n",
       "      <td>Freiburg</td>\n",
       "      <td>Ursy</td>\n",
       "      <td>2022-02-26</td>\n",
       "      <td>976</td>\n",
       "      <td>french</td>\n",
       "      <td>urban</td>\n",
       "      <td>3</td>\n",
       "      <td>2021-11-28</td>\n",
       "      <td>4.9</td>\n",
       "      <td>0.00</td>\n",
       "      <td>1.33</td>\n",
       "      <td>1.37</td>\n",
       "      <td>30.0</td>\n",
       "    </tr>\n",
       "    <tr>\n",
       "      <th>3</th>\n",
       "      <td>3</td>\n",
       "      <td>58</td>\n",
       "      <td>337173</td>\n",
       "      <td>Indie - Outbound</td>\n",
       "      <td>Bakery</td>\n",
       "      <td>Freiburg</td>\n",
       "      <td>Ursy</td>\n",
       "      <td>2020-12-29</td>\n",
       "      <td>1</td>\n",
       "      <td>french</td>\n",
       "      <td>urban</td>\n",
       "      <td>3</td>\n",
       "      <td>2020-09-30</td>\n",
       "      <td>4.9</td>\n",
       "      <td>1.00</td>\n",
       "      <td>0.67</td>\n",
       "      <td>0.67</td>\n",
       "      <td>30.0</td>\n",
       "    </tr>\n",
       "    <tr>\n",
       "      <th>4</th>\n",
       "      <td>4</td>\n",
       "      <td>61</td>\n",
       "      <td>79</td>\n",
       "      <td>Indie - Outbound</td>\n",
       "      <td>Traditional Restaurant</td>\n",
       "      <td>Vaud</td>\n",
       "      <td>Lausanne</td>\n",
       "      <td>2022-02-26</td>\n",
       "      <td>960</td>\n",
       "      <td>french</td>\n",
       "      <td>urban</td>\n",
       "      <td>3</td>\n",
       "      <td>2021-11-28</td>\n",
       "      <td>6.9</td>\n",
       "      <td>1.00</td>\n",
       "      <td>0.97</td>\n",
       "      <td>1.00</td>\n",
       "      <td>30.0</td>\n",
       "    </tr>\n",
       "  </tbody>\n",
       "</table>\n",
       "</div>"
      ],
      "text/plain": [
       "   Unnamed: 0  Store ID  Item ID    Store Category           Store Segment  \\\n",
       "0           0        35       34  Indie - Outbound                  Bakery   \n",
       "1           1        57       73  Indie - Outbound                  Bakery   \n",
       "2           2        58       74  Indie - Outbound                  Bakery   \n",
       "3           3        58   337173  Indie - Outbound                  Bakery   \n",
       "4           4        61       79  Indie - Outbound  Traditional Restaurant   \n",
       "\n",
       "  Store Region      City Item Last Supplying Date  Supply Length  \\\n",
       "0         Vaud  Salavaux               2022-03-01            999   \n",
       "1     Freiburg     Sâles               2022-03-01            997   \n",
       "2     Freiburg      Ursy               2022-02-26            976   \n",
       "3     Freiburg      Ursy               2020-12-29              1   \n",
       "4         Vaud  Lausanne               2022-02-26            960   \n",
       "\n",
       "  Region Language Region Type  Cluster Item_trailing_3_m_supply_date  \\\n",
       "0          french       urban        3                    2021-12-01   \n",
       "1          french       urban        3                    2021-12-01   \n",
       "2          french       urban        3                    2021-11-28   \n",
       "3          french       urban        3                    2020-09-30   \n",
       "4          french       urban        3                    2021-11-28   \n",
       "\n",
       "   Item Price  Declared Supply  Meals Saved  Total Supply  Pickup Length  \n",
       "0         6.9             3.14         3.05          3.29           20.0  \n",
       "1         6.9             1.94         2.09          2.26           30.0  \n",
       "2         4.9             0.00         1.33          1.37           30.0  \n",
       "3         4.9             1.00         0.67          0.67           30.0  \n",
       "4         6.9             1.00         0.97          1.00           30.0  "
      ]
     },
     "execution_count": 3,
     "metadata": {},
     "output_type": "execute_result"
    }
   ],
   "source": [
    "df= pd.read_csv('data/df_for_regression.csv')\n",
    "df.head()"
   ]
  },
  {
   "cell_type": "code",
   "execution_count": 4,
   "id": "189b8c10",
   "metadata": {
    "scrolled": true
   },
   "outputs": [
    {
     "name": "stdout",
     "output_type": "stream",
     "text": [
      "<class 'pandas.core.frame.DataFrame'>\n",
      "RangeIndex: 9735 entries, 0 to 9734\n",
      "Data columns (total 18 columns):\n",
      " #   Column                         Non-Null Count  Dtype  \n",
      "---  ------                         --------------  -----  \n",
      " 0   Unnamed: 0                     9735 non-null   int64  \n",
      " 1   Store ID                       9735 non-null   int64  \n",
      " 2   Item ID                        9735 non-null   int64  \n",
      " 3   Store Category                 9735 non-null   object \n",
      " 4   Store Segment                  9735 non-null   object \n",
      " 5   Store Region                   9735 non-null   object \n",
      " 6   City                           9735 non-null   object \n",
      " 7   Item Last Supplying Date       9735 non-null   object \n",
      " 8   Supply Length                  9735 non-null   int64  \n",
      " 9   Region Language                9735 non-null   object \n",
      " 10  Region Type                    9735 non-null   object \n",
      " 11  Cluster                        9735 non-null   int64  \n",
      " 12  Item_trailing_3_m_supply_date  9735 non-null   object \n",
      " 13  Item Price                     9735 non-null   float64\n",
      " 14  Declared Supply                9735 non-null   float64\n",
      " 15  Meals Saved                    9735 non-null   float64\n",
      " 16  Total Supply                   9735 non-null   float64\n",
      " 17  Pickup Length                  9735 non-null   float64\n",
      "dtypes: float64(5), int64(5), object(8)\n",
      "memory usage: 1.3+ MB\n"
     ]
    }
   ],
   "source": [
    "df.info()"
   ]
  },
  {
   "cell_type": "markdown",
   "id": "a9ab68e9",
   "metadata": {},
   "source": [
    "## Data Preprocessing"
   ]
  },
  {
   "cell_type": "code",
   "execution_count": 5,
   "id": "9f9873b4",
   "metadata": {},
   "outputs": [
    {
     "data": {
      "text/plain": [
       "0"
      ]
     },
     "execution_count": 5,
     "metadata": {},
     "output_type": "execute_result"
    }
   ],
   "source": [
    "# Check for duplicates\n",
    "df.duplicated().sum()"
   ]
  },
  {
   "cell_type": "code",
   "execution_count": 6,
   "id": "26934d2b",
   "metadata": {},
   "outputs": [
    {
     "data": {
      "text/plain": [
       "Unnamed: 0                       0\n",
       "Store ID                         0\n",
       "Total Supply                     0\n",
       "Meals Saved                      0\n",
       "Declared Supply                  0\n",
       "Item Price                       0\n",
       "Item_trailing_3_m_supply_date    0\n",
       "Cluster                          0\n",
       "Region Type                      0\n",
       "Region Language                  0\n",
       "Supply Length                    0\n",
       "Item Last Supplying Date         0\n",
       "City                             0\n",
       "Store Region                     0\n",
       "Store Segment                    0\n",
       "Store Category                   0\n",
       "Item ID                          0\n",
       "Pickup Length                    0\n",
       "dtype: int64"
      ]
     },
     "execution_count": 6,
     "metadata": {},
     "output_type": "execute_result"
    }
   ],
   "source": [
    "# Check for nan:\n",
    "df.isnull().sum().sort_values(ascending=False)"
   ]
  },
  {
   "cell_type": "code",
   "execution_count": 7,
   "id": "dbbc4764",
   "metadata": {},
   "outputs": [],
   "source": [
    "# Remove columns:\n",
    "df.drop(columns=['Unnamed: 0'], inplace=True)"
   ]
  },
  {
   "cell_type": "code",
   "execution_count": 8,
   "id": "5a009f86",
   "metadata": {},
   "outputs": [],
   "source": [
    "df2 = df.drop(columns=['Meals Saved','Supply Length','Declared Supply','Store ID','Item ID','Item Last Supplying Date','City','Item_trailing_3_m_supply_date'])"
   ]
  },
  {
   "cell_type": "code",
   "execution_count": 9,
   "id": "c24a5a58",
   "metadata": {},
   "outputs": [],
   "source": [
    "#Removing outliers:\n",
    "df=df[df['Total Supply']<=6]"
   ]
  },
  {
   "cell_type": "code",
   "execution_count": 10,
   "id": "0be21509",
   "metadata": {},
   "outputs": [
    {
     "data": {
      "text/plain": [
       "0.02     4\n",
       "0.03     1\n",
       "0.04     1\n",
       "0.05     3\n",
       "0.06     2\n",
       "        ..\n",
       "5.92     2\n",
       "5.93     1\n",
       "5.96     1\n",
       "5.98     1\n",
       "6.00    30\n",
       "Name: Total Supply, Length: 582, dtype: int64"
      ]
     },
     "execution_count": 10,
     "metadata": {},
     "output_type": "execute_result"
    }
   ],
   "source": [
    "df['Total Supply'].value_counts().sort_index()"
   ]
  },
  {
   "cell_type": "code",
   "execution_count": 11,
   "id": "6a2e5dfb",
   "metadata": {},
   "outputs": [],
   "source": [
    "df['Supply_binned']=pd.cut(x = df['Total Supply'],bins = [0,0.5,1.5,2.5,3.5,4.5,5.5,6], labels = [0, 1, 2,3,4,5,6])"
   ]
  },
  {
   "cell_type": "code",
   "execution_count": 12,
   "id": "3de7ace2",
   "metadata": {},
   "outputs": [
    {
     "data": {
      "text/html": [
       "<div>\n",
       "<style scoped>\n",
       "    .dataframe tbody tr th:only-of-type {\n",
       "        vertical-align: middle;\n",
       "    }\n",
       "\n",
       "    .dataframe tbody tr th {\n",
       "        vertical-align: top;\n",
       "    }\n",
       "\n",
       "    .dataframe thead th {\n",
       "        text-align: right;\n",
       "    }\n",
       "</style>\n",
       "<table border=\"1\" class=\"dataframe\">\n",
       "  <thead>\n",
       "    <tr style=\"text-align: right;\">\n",
       "      <th></th>\n",
       "      <th>Total Supply</th>\n",
       "      <th>Supply_binned</th>\n",
       "    </tr>\n",
       "  </thead>\n",
       "  <tbody>\n",
       "    <tr>\n",
       "      <th>0</th>\n",
       "      <td>3.29</td>\n",
       "      <td>3</td>\n",
       "    </tr>\n",
       "    <tr>\n",
       "      <th>1</th>\n",
       "      <td>2.26</td>\n",
       "      <td>2</td>\n",
       "    </tr>\n",
       "    <tr>\n",
       "      <th>2</th>\n",
       "      <td>1.37</td>\n",
       "      <td>1</td>\n",
       "    </tr>\n",
       "    <tr>\n",
       "      <th>3</th>\n",
       "      <td>0.67</td>\n",
       "      <td>1</td>\n",
       "    </tr>\n",
       "    <tr>\n",
       "      <th>4</th>\n",
       "      <td>1.00</td>\n",
       "      <td>1</td>\n",
       "    </tr>\n",
       "    <tr>\n",
       "      <th>...</th>\n",
       "      <td>...</td>\n",
       "      <td>...</td>\n",
       "    </tr>\n",
       "    <tr>\n",
       "      <th>9730</th>\n",
       "      <td>4.71</td>\n",
       "      <td>5</td>\n",
       "    </tr>\n",
       "    <tr>\n",
       "      <th>9731</th>\n",
       "      <td>5.00</td>\n",
       "      <td>5</td>\n",
       "    </tr>\n",
       "    <tr>\n",
       "      <th>9732</th>\n",
       "      <td>1.71</td>\n",
       "      <td>2</td>\n",
       "    </tr>\n",
       "    <tr>\n",
       "      <th>9733</th>\n",
       "      <td>2.00</td>\n",
       "      <td>2</td>\n",
       "    </tr>\n",
       "    <tr>\n",
       "      <th>9734</th>\n",
       "      <td>1.00</td>\n",
       "      <td>1</td>\n",
       "    </tr>\n",
       "  </tbody>\n",
       "</table>\n",
       "<p>9192 rows × 2 columns</p>\n",
       "</div>"
      ],
      "text/plain": [
       "      Total Supply Supply_binned\n",
       "0             3.29             3\n",
       "1             2.26             2\n",
       "2             1.37             1\n",
       "3             0.67             1\n",
       "4             1.00             1\n",
       "...            ...           ...\n",
       "9730          4.71             5\n",
       "9731          5.00             5\n",
       "9732          1.71             2\n",
       "9733          2.00             2\n",
       "9734          1.00             1\n",
       "\n",
       "[9192 rows x 2 columns]"
      ]
     },
     "execution_count": 12,
     "metadata": {},
     "output_type": "execute_result"
    }
   ],
   "source": [
    "df[['Total Supply', 'Supply_binned']]"
   ]
  },
  {
   "cell_type": "code",
   "execution_count": 13,
   "id": "2064766b",
   "metadata": {
    "scrolled": true
   },
   "outputs": [
    {
     "data": {
      "text/plain": [
       "1    3872\n",
       "2    2549\n",
       "3    1262\n",
       "4     610\n",
       "5     450\n",
       "0     327\n",
       "6     122\n",
       "Name: Supply_binned, dtype: int64"
      ]
     },
     "execution_count": 13,
     "metadata": {},
     "output_type": "execute_result"
    }
   ],
   "source": [
    "df['Supply_binned'].value_counts()"
   ]
  },
  {
   "cell_type": "code",
   "execution_count": 14,
   "id": "a00b1791",
   "metadata": {},
   "outputs": [
    {
     "data": {
      "text/plain": [
       "1    0.421236\n",
       "2    0.277306\n",
       "3    0.137293\n",
       "4    0.066362\n",
       "5    0.048956\n",
       "0    0.035574\n",
       "6    0.013272\n",
       "Name: Supply_binned, dtype: float64"
      ]
     },
     "execution_count": 14,
     "metadata": {},
     "output_type": "execute_result"
    }
   ],
   "source": [
    "df['Supply_binned'].value_counts()/len(df['Supply_binned'])"
   ]
  },
  {
   "cell_type": "markdown",
   "id": "4ec29ba4",
   "metadata": {},
   "source": [
    "###### Grouping together 4,5,6"
   ]
  },
  {
   "cell_type": "code",
   "execution_count": 15,
   "id": "979d779e",
   "metadata": {},
   "outputs": [],
   "source": [
    "# label 4 groups values of Total Supply from 3.5 to 6:\n",
    "df['Supply_binned']=pd.cut(x = df['Total Supply'],bins = [0,0.5,1.5,2.5,3.5,6], labels = [0, 1, 2,3,4])"
   ]
  },
  {
   "cell_type": "code",
   "execution_count": 16,
   "id": "0ad09904",
   "metadata": {
    "scrolled": true
   },
   "outputs": [
    {
     "data": {
      "text/html": [
       "<div>\n",
       "<style scoped>\n",
       "    .dataframe tbody tr th:only-of-type {\n",
       "        vertical-align: middle;\n",
       "    }\n",
       "\n",
       "    .dataframe tbody tr th {\n",
       "        vertical-align: top;\n",
       "    }\n",
       "\n",
       "    .dataframe thead th {\n",
       "        text-align: right;\n",
       "    }\n",
       "</style>\n",
       "<table border=\"1\" class=\"dataframe\">\n",
       "  <thead>\n",
       "    <tr style=\"text-align: right;\">\n",
       "      <th></th>\n",
       "      <th>Total Supply</th>\n",
       "      <th>Supply_binned</th>\n",
       "    </tr>\n",
       "  </thead>\n",
       "  <tbody>\n",
       "    <tr>\n",
       "      <th>0</th>\n",
       "      <td>3.29</td>\n",
       "      <td>3</td>\n",
       "    </tr>\n",
       "    <tr>\n",
       "      <th>1</th>\n",
       "      <td>2.26</td>\n",
       "      <td>2</td>\n",
       "    </tr>\n",
       "    <tr>\n",
       "      <th>2</th>\n",
       "      <td>1.37</td>\n",
       "      <td>1</td>\n",
       "    </tr>\n",
       "    <tr>\n",
       "      <th>3</th>\n",
       "      <td>0.67</td>\n",
       "      <td>1</td>\n",
       "    </tr>\n",
       "    <tr>\n",
       "      <th>4</th>\n",
       "      <td>1.00</td>\n",
       "      <td>1</td>\n",
       "    </tr>\n",
       "    <tr>\n",
       "      <th>...</th>\n",
       "      <td>...</td>\n",
       "      <td>...</td>\n",
       "    </tr>\n",
       "    <tr>\n",
       "      <th>9730</th>\n",
       "      <td>4.71</td>\n",
       "      <td>4</td>\n",
       "    </tr>\n",
       "    <tr>\n",
       "      <th>9731</th>\n",
       "      <td>5.00</td>\n",
       "      <td>4</td>\n",
       "    </tr>\n",
       "    <tr>\n",
       "      <th>9732</th>\n",
       "      <td>1.71</td>\n",
       "      <td>2</td>\n",
       "    </tr>\n",
       "    <tr>\n",
       "      <th>9733</th>\n",
       "      <td>2.00</td>\n",
       "      <td>2</td>\n",
       "    </tr>\n",
       "    <tr>\n",
       "      <th>9734</th>\n",
       "      <td>1.00</td>\n",
       "      <td>1</td>\n",
       "    </tr>\n",
       "  </tbody>\n",
       "</table>\n",
       "<p>9192 rows × 2 columns</p>\n",
       "</div>"
      ],
      "text/plain": [
       "      Total Supply Supply_binned\n",
       "0             3.29             3\n",
       "1             2.26             2\n",
       "2             1.37             1\n",
       "3             0.67             1\n",
       "4             1.00             1\n",
       "...            ...           ...\n",
       "9730          4.71             4\n",
       "9731          5.00             4\n",
       "9732          1.71             2\n",
       "9733          2.00             2\n",
       "9734          1.00             1\n",
       "\n",
       "[9192 rows x 2 columns]"
      ]
     },
     "execution_count": 16,
     "metadata": {},
     "output_type": "execute_result"
    }
   ],
   "source": [
    "df[['Total Supply', 'Supply_binned']]"
   ]
  },
  {
   "cell_type": "code",
   "execution_count": 17,
   "id": "4935daa0",
   "metadata": {},
   "outputs": [
    {
     "data": {
      "text/plain": [
       "1    3872\n",
       "2    2549\n",
       "3    1262\n",
       "4    1182\n",
       "0     327\n",
       "Name: Supply_binned, dtype: int64"
      ]
     },
     "execution_count": 17,
     "metadata": {},
     "output_type": "execute_result"
    }
   ],
   "source": [
    "df['Supply_binned'].value_counts()"
   ]
  },
  {
   "cell_type": "code",
   "execution_count": 18,
   "id": "02bd2cbd",
   "metadata": {},
   "outputs": [
    {
     "data": {
      "text/plain": [
       "1    0.421236\n",
       "2    0.277306\n",
       "3    0.137293\n",
       "4    0.128590\n",
       "0    0.035574\n",
       "Name: Supply_binned, dtype: float64"
      ]
     },
     "execution_count": 18,
     "metadata": {},
     "output_type": "execute_result"
    }
   ],
   "source": [
    "df['Supply_binned'].value_counts()/len(df['Supply_binned'])"
   ]
  },
  {
   "cell_type": "markdown",
   "id": "260b4126",
   "metadata": {},
   "source": [
    "## Visualization"
   ]
  },
  {
   "cell_type": "code",
   "execution_count": 19,
   "id": "25f9ce5e",
   "metadata": {},
   "outputs": [
    {
     "data": {
      "text/plain": [
       "<AxesSubplot:xlabel='Supply_binned', ylabel='count'>"
      ]
     },
     "execution_count": 19,
     "metadata": {},
     "output_type": "execute_result"
    },
    {
     "data": {
      "image/png": "[encoded data removed]",
      "text/plain": [
       "<Figure size 432x288 with 1 Axes>"
      ]
     },
     "metadata": {
      "needs_background": "light"
     },
     "output_type": "display_data"
    }
   ],
   "source": [
    "# Distribution of supply_binned\n",
    "sns.countplot(x=\"Supply_binned\", data=df)"
   ]
  },
  {
   "cell_type": "code",
   "execution_count": 20,
   "id": "7416196a",
   "metadata": {
    "scrolled": true
   },
   "outputs": [
    {
     "data": {
      "text/html": [
       "<div>\n",
       "<style scoped>\n",
       "    .dataframe tbody tr th:only-of-type {\n",
       "        vertical-align: middle;\n",
       "    }\n",
       "\n",
       "    .dataframe tbody tr th {\n",
       "        vertical-align: top;\n",
       "    }\n",
       "\n",
       "    .dataframe thead th {\n",
       "        text-align: right;\n",
       "    }\n",
       "</style>\n",
       "<table border=\"1\" class=\"dataframe\">\n",
       "  <thead>\n",
       "    <tr style=\"text-align: right;\">\n",
       "      <th>Cluster</th>\n",
       "      <th>0</th>\n",
       "      <th>1</th>\n",
       "      <th>2</th>\n",
       "      <th>3</th>\n",
       "      <th>4</th>\n",
       "    </tr>\n",
       "    <tr>\n",
       "      <th>Supply_binned</th>\n",
       "      <th></th>\n",
       "      <th></th>\n",
       "      <th></th>\n",
       "      <th></th>\n",
       "      <th></th>\n",
       "    </tr>\n",
       "  </thead>\n",
       "  <tbody>\n",
       "    <tr>\n",
       "      <th>0</th>\n",
       "      <td>239</td>\n",
       "      <td>4</td>\n",
       "      <td>0</td>\n",
       "      <td>68</td>\n",
       "      <td>16</td>\n",
       "    </tr>\n",
       "    <tr>\n",
       "      <th>1</th>\n",
       "      <td>2034</td>\n",
       "      <td>474</td>\n",
       "      <td>3</td>\n",
       "      <td>955</td>\n",
       "      <td>406</td>\n",
       "    </tr>\n",
       "    <tr>\n",
       "      <th>2</th>\n",
       "      <td>1464</td>\n",
       "      <td>153</td>\n",
       "      <td>1</td>\n",
       "      <td>575</td>\n",
       "      <td>356</td>\n",
       "    </tr>\n",
       "    <tr>\n",
       "      <th>3</th>\n",
       "      <td>634</td>\n",
       "      <td>62</td>\n",
       "      <td>2</td>\n",
       "      <td>329</td>\n",
       "      <td>235</td>\n",
       "    </tr>\n",
       "    <tr>\n",
       "      <th>4</th>\n",
       "      <td>526</td>\n",
       "      <td>113</td>\n",
       "      <td>6</td>\n",
       "      <td>211</td>\n",
       "      <td>326</td>\n",
       "    </tr>\n",
       "  </tbody>\n",
       "</table>\n",
       "</div>"
      ],
      "text/plain": [
       "Cluster           0    1  2    3    4\n",
       "Supply_binned                        \n",
       "0               239    4  0   68   16\n",
       "1              2034  474  3  955  406\n",
       "2              1464  153  1  575  356\n",
       "3               634   62  2  329  235\n",
       "4               526  113  6  211  326"
      ]
     },
     "execution_count": 20,
     "metadata": {},
     "output_type": "execute_result"
    }
   ],
   "source": [
    "df_plot=df.groupby(['Supply_binned','Cluster']).size().reset_index().pivot(columns='Cluster', index='Supply_binned', values=0)\n",
    "df_plot"
   ]
  },
  {
   "cell_type": "code",
   "execution_count": 21,
   "id": "bbe30889",
   "metadata": {
    "scrolled": true
   },
   "outputs": [
    {
     "data": {
      "text/plain": [
       "<AxesSubplot:xlabel='Supply_binned'>"
      ]
     },
     "execution_count": 21,
     "metadata": {},
     "output_type": "execute_result"
    },
    {
     "data": {
      "text/plain": [
       "<Figure size 360x576 with 0 Axes>"
      ]
     },
     "metadata": {},
     "output_type": "display_data"
    },
    {
     "data": {
      "image/png": "[encoded data removed]",
      "text/plain": [
       "<Figure size 432x288 with 1 Axes>"
      ]
     },
     "metadata": {
      "needs_background": "light"
     },
     "output_type": "display_data"
    }
   ],
   "source": [
    "# Distribution of supply_binned by clusters\n",
    "plt.figure(figsize=(5, 8))\n",
    "df_plot.plot(kind='bar', stacked=True)"
   ]
  },
  {
   "cell_type": "code",
   "execution_count": 22,
   "id": "c57b5e93",
   "metadata": {},
   "outputs": [
    {
     "data": {
      "text/plain": [
       "<AxesSubplot:xlabel='Supply_binned'>"
      ]
     },
     "execution_count": 22,
     "metadata": {},
     "output_type": "execute_result"
    },
    {
     "data": {
      "text/plain": [
       "<Figure size 360x576 with 0 Axes>"
      ]
     },
     "metadata": {},
     "output_type": "display_data"
    },
    {
     "data": {
      "image/png": "[encoded data removed]",
      "text/plain": [
       "<Figure size 432x288 with 1 Axes>"
      ]
     },
     "metadata": {
      "needs_background": "light"
     },
     "output_type": "display_data"
    }
   ],
   "source": [
    "# Distribution of supply_binned by language\n",
    "df_plot2=df.groupby(['Supply_binned','Region Language']).size().reset_index().pivot(columns='Region Language', index='Supply_binned', values=0)\n",
    "df_plot2\n",
    "plt.figure(figsize=(5, 8))\n",
    "df_plot2.plot(kind='bar', stacked=True)"
   ]
  },
  {
   "cell_type": "code",
   "execution_count": 23,
   "id": "1965c431",
   "metadata": {},
   "outputs": [
    {
     "data": {
      "text/plain": [
       "<AxesSubplot:xlabel='Supply_binned'>"
      ]
     },
     "execution_count": 23,
     "metadata": {},
     "output_type": "execute_result"
    },
    {
     "data": {
      "text/plain": [
       "<Figure size 360x576 with 0 Axes>"
      ]
     },
     "metadata": {},
     "output_type": "display_data"
    },
    {
     "data": {
      "image/png": "[encoded data removed]",
      "text/plain": [
       "<Figure size 432x288 with 1 Axes>"
      ]
     },
     "metadata": {
      "needs_background": "light"
     },
     "output_type": "display_data"
    }
   ],
   "source": [
    "# Distribution of supply_binned by type\n",
    "df_plot2=df.groupby(['Supply_binned','Region Type']).size().reset_index().pivot(columns='Region Type', index='Supply_binned', values=0)\n",
    "df_plot2\n",
    "plt.figure(figsize=(5, 8))\n",
    "df_plot2.plot(kind='bar', stacked=True)"
   ]
  },
  {
   "cell_type": "markdown",
   "id": "68f5aef8",
   "metadata": {},
   "source": [
    "### Define X and y"
   ]
  },
  {
   "cell_type": "code",
   "execution_count": 24,
   "id": "a42a4531",
   "metadata": {},
   "outputs": [],
   "source": [
    "# Remove columns: define X and y\n",
    "X = df.drop(columns=['Meals Saved','Total Supply','Supply Length','Declared Supply','Supply_binned','Store ID','Item ID','Item Last Supplying Date','City','Item_trailing_3_m_supply_date'])\n",
    "y = df['Supply_binned']"
   ]
  },
  {
   "cell_type": "code",
   "execution_count": 25,
   "id": "321cdb53",
   "metadata": {
    "scrolled": true
   },
   "outputs": [
    {
     "data": {
      "text/html": [
       "<div>\n",
       "<style scoped>\n",
       "    .dataframe tbody tr th:only-of-type {\n",
       "        vertical-align: middle;\n",
       "    }\n",
       "\n",
       "    .dataframe tbody tr th {\n",
       "        vertical-align: top;\n",
       "    }\n",
       "\n",
       "    .dataframe thead th {\n",
       "        text-align: right;\n",
       "    }\n",
       "</style>\n",
       "<table border=\"1\" class=\"dataframe\">\n",
       "  <thead>\n",
       "    <tr style=\"text-align: right;\">\n",
       "      <th></th>\n",
       "      <th>Store Category</th>\n",
       "      <th>Store Segment</th>\n",
       "      <th>Store Region</th>\n",
       "      <th>Region Language</th>\n",
       "      <th>Region Type</th>\n",
       "      <th>Cluster</th>\n",
       "      <th>Item Price</th>\n",
       "      <th>Pickup Length</th>\n",
       "    </tr>\n",
       "  </thead>\n",
       "  <tbody>\n",
       "    <tr>\n",
       "      <th>0</th>\n",
       "      <td>Indie - Outbound</td>\n",
       "      <td>Bakery</td>\n",
       "      <td>Vaud</td>\n",
       "      <td>french</td>\n",
       "      <td>urban</td>\n",
       "      <td>3</td>\n",
       "      <td>6.9</td>\n",
       "      <td>20.0</td>\n",
       "    </tr>\n",
       "    <tr>\n",
       "      <th>1</th>\n",
       "      <td>Indie - Outbound</td>\n",
       "      <td>Bakery</td>\n",
       "      <td>Freiburg</td>\n",
       "      <td>french</td>\n",
       "      <td>urban</td>\n",
       "      <td>3</td>\n",
       "      <td>6.9</td>\n",
       "      <td>30.0</td>\n",
       "    </tr>\n",
       "    <tr>\n",
       "      <th>2</th>\n",
       "      <td>Indie - Outbound</td>\n",
       "      <td>Bakery</td>\n",
       "      <td>Freiburg</td>\n",
       "      <td>french</td>\n",
       "      <td>urban</td>\n",
       "      <td>3</td>\n",
       "      <td>4.9</td>\n",
       "      <td>30.0</td>\n",
       "    </tr>\n",
       "    <tr>\n",
       "      <th>3</th>\n",
       "      <td>Indie - Outbound</td>\n",
       "      <td>Bakery</td>\n",
       "      <td>Freiburg</td>\n",
       "      <td>french</td>\n",
       "      <td>urban</td>\n",
       "      <td>3</td>\n",
       "      <td>4.9</td>\n",
       "      <td>30.0</td>\n",
       "    </tr>\n",
       "    <tr>\n",
       "      <th>4</th>\n",
       "      <td>Indie - Outbound</td>\n",
       "      <td>Traditional Restaurant</td>\n",
       "      <td>Vaud</td>\n",
       "      <td>french</td>\n",
       "      <td>urban</td>\n",
       "      <td>3</td>\n",
       "      <td>6.9</td>\n",
       "      <td>30.0</td>\n",
       "    </tr>\n",
       "  </tbody>\n",
       "</table>\n",
       "</div>"
      ],
      "text/plain": [
       "     Store Category           Store Segment Store Region Region Language  \\\n",
       "0  Indie - Outbound                  Bakery         Vaud          french   \n",
       "1  Indie - Outbound                  Bakery     Freiburg          french   \n",
       "2  Indie - Outbound                  Bakery     Freiburg          french   \n",
       "3  Indie - Outbound                  Bakery     Freiburg          french   \n",
       "4  Indie - Outbound  Traditional Restaurant         Vaud          french   \n",
       "\n",
       "  Region Type  Cluster  Item Price  Pickup Length  \n",
       "0       urban        3         6.9           20.0  \n",
       "1       urban        3         6.9           30.0  \n",
       "2       urban        3         4.9           30.0  \n",
       "3       urban        3         4.9           30.0  \n",
       "4       urban        3         6.9           30.0  "
      ]
     },
     "execution_count": 25,
     "metadata": {},
     "output_type": "execute_result"
    }
   ],
   "source": [
    "X.head()"
   ]
  },
  {
   "cell_type": "code",
   "execution_count": 26,
   "id": "2eb76926",
   "metadata": {
    "scrolled": true
   },
   "outputs": [
    {
     "name": "stdout",
     "output_type": "stream",
     "text": [
      "<class 'pandas.core.frame.DataFrame'>\n",
      "Int64Index: 9192 entries, 0 to 9734\n",
      "Data columns (total 8 columns):\n",
      " #   Column           Non-Null Count  Dtype  \n",
      "---  ------           --------------  -----  \n",
      " 0   Store Category   9192 non-null   object \n",
      " 1   Store Segment    9192 non-null   object \n",
      " 2   Store Region     9192 non-null   object \n",
      " 3   Region Language  9192 non-null   object \n",
      " 4   Region Type      9192 non-null   object \n",
      " 5   Cluster          9192 non-null   int64  \n",
      " 6   Item Price       9192 non-null   float64\n",
      " 7   Pickup Length    9192 non-null   float64\n",
      "dtypes: float64(2), int64(1), object(5)\n",
      "memory usage: 904.4+ KB\n"
     ]
    }
   ],
   "source": [
    "X.info()"
   ]
  },
  {
   "cell_type": "code",
   "execution_count": 27,
   "id": "c80317cf",
   "metadata": {},
   "outputs": [
    {
     "data": {
      "text/html": [
       "<div>\n",
       "<style scoped>\n",
       "    .dataframe tbody tr th:only-of-type {\n",
       "        vertical-align: middle;\n",
       "    }\n",
       "\n",
       "    .dataframe tbody tr th {\n",
       "        vertical-align: top;\n",
       "    }\n",
       "\n",
       "    .dataframe thead th {\n",
       "        text-align: right;\n",
       "    }\n",
       "</style>\n",
       "<table border=\"1\" class=\"dataframe\">\n",
       "  <thead>\n",
       "    <tr style=\"text-align: right;\">\n",
       "      <th></th>\n",
       "      <th>Cluster</th>\n",
       "      <th>Item Price</th>\n",
       "      <th>Pickup Length</th>\n",
       "    </tr>\n",
       "  </thead>\n",
       "  <tbody>\n",
       "    <tr>\n",
       "      <th>count</th>\n",
       "      <td>9192.000000</td>\n",
       "      <td>9192.000000</td>\n",
       "      <td>9192.000000</td>\n",
       "    </tr>\n",
       "    <tr>\n",
       "      <th>mean</th>\n",
       "      <td>1.370757</td>\n",
       "      <td>7.631485</td>\n",
       "      <td>88.581599</td>\n",
       "    </tr>\n",
       "    <tr>\n",
       "      <th>std</th>\n",
       "      <td>1.624279</td>\n",
       "      <td>5.230675</td>\n",
       "      <td>136.033419</td>\n",
       "    </tr>\n",
       "    <tr>\n",
       "      <th>min</th>\n",
       "      <td>0.000000</td>\n",
       "      <td>0.010000</td>\n",
       "      <td>0.000000</td>\n",
       "    </tr>\n",
       "    <tr>\n",
       "      <th>25%</th>\n",
       "      <td>0.000000</td>\n",
       "      <td>5.900000</td>\n",
       "      <td>30.000000</td>\n",
       "    </tr>\n",
       "    <tr>\n",
       "      <th>50%</th>\n",
       "      <td>0.000000</td>\n",
       "      <td>5.900000</td>\n",
       "      <td>30.000000</td>\n",
       "    </tr>\n",
       "    <tr>\n",
       "      <th>75%</th>\n",
       "      <td>3.000000</td>\n",
       "      <td>6.900000</td>\n",
       "      <td>60.000000</td>\n",
       "    </tr>\n",
       "    <tr>\n",
       "      <th>max</th>\n",
       "      <td>4.000000</td>\n",
       "      <td>94.900000</td>\n",
       "      <td>1185.000000</td>\n",
       "    </tr>\n",
       "  </tbody>\n",
       "</table>\n",
       "</div>"
      ],
      "text/plain": [
       "           Cluster   Item Price  Pickup Length\n",
       "count  9192.000000  9192.000000    9192.000000\n",
       "mean      1.370757     7.631485      88.581599\n",
       "std       1.624279     5.230675     136.033419\n",
       "min       0.000000     0.010000       0.000000\n",
       "25%       0.000000     5.900000      30.000000\n",
       "50%       0.000000     5.900000      30.000000\n",
       "75%       3.000000     6.900000      60.000000\n",
       "max       4.000000    94.900000    1185.000000"
      ]
     },
     "execution_count": 27,
     "metadata": {},
     "output_type": "execute_result"
    }
   ],
   "source": [
    "X.describe()"
   ]
  },
  {
   "cell_type": "markdown",
   "id": "2c1c1bad",
   "metadata": {},
   "source": [
    "# Model 1: y=Total Supply"
   ]
  },
  {
   "cell_type": "code",
   "execution_count": 28,
   "id": "061950af",
   "metadata": {},
   "outputs": [],
   "source": [
    "# Split into Train/Test -> to do on all dataset\n",
    "X_train, X_test, y_train, y_test = train_test_split(X, y, test_size=0.3, random_state=42)"
   ]
  },
  {
   "cell_type": "code",
   "execution_count": 29,
   "id": "1bf3cb4f",
   "metadata": {},
   "outputs": [],
   "source": [
    "num_transformer = make_pipeline(RobustScaler())\n",
    "cat_transformer = make_pipeline(OneHotEncoder(handle_unknown='ignore'))\n",
    "preprocess = make_column_transformer((num_transformer, ['Item Price','Pickup Length']),\n",
    "                                     (cat_transformer,['Store Category', 'Store Segment', 'Store Region', 'Region Language', 'Region Type','Cluster']))"
   ]
  },
  {
   "cell_type": "code",
   "execution_count": 30,
   "id": "0dd66484",
   "metadata": {},
   "outputs": [
    {
     "data": {
      "text/html": [
       "<style>#sk-6eea92a7-2dd0-4b49-86c1-3a5a19b89927 {color: black;background-color: white;}#sk-6eea92a7-2dd0-4b49-86c1-3a5a19b89927 pre{padding: 0;}#sk-6eea92a7-2dd0-4b49-86c1-3a5a19b89927 div.sk-toggleable {background-color: white;}#sk-6eea92a7-2dd0-4b49-86c1-3a5a19b89927 label.sk-toggleable__label {cursor: pointer;display: block;width: 100%;margin-bottom: 0;padding: 0.3em;box-sizing: border-box;text-align: center;}#sk-6eea92a7-2dd0-4b49-86c1-3a5a19b89927 label.sk-toggleable__label-arrow:before {content: \"▸\";float: left;margin-right: 0.25em;color: #696969;}#sk-6eea92a7-2dd0-4b49-86c1-3a5a19b89927 label.sk-toggleable__label-arrow:hover:before {color: black;}#sk-6eea92a7-2dd0-4b49-86c1-3a5a19b89927 div.sk-estimator:hover label.sk-toggleable__label-arrow:before {color: black;}#sk-6eea92a7-2dd0-4b49-86c1-3a5a19b89927 div.sk-toggleable__content {max-height: 0;max-width: 0;overflow: hidden;text-align: left;background-color: #f0f8ff;}#sk-6eea92a7-2dd0-4b49-86c1-3a5a19b89927 div.sk-toggleable__content pre {margin: 0.2em;color: black;border-radius: 0.25em;background-color: #f0f8ff;}#sk-6eea92a7-2dd0-4b49-86c1-3a5a19b89927 input.sk-toggleable__control:checked~div.sk-toggleable__content {max-height: 200px;max-width: 100%;overflow: auto;}#sk-6eea92a7-2dd0-4b49-86c1-3a5a19b89927 input.sk-toggleable__control:checked~label.sk-toggleable__label-arrow:before {content: \"▾\";}#sk-6eea92a7-2dd0-4b49-86c1-3a5a19b89927 div.sk-estimator input.sk-toggleable__control:checked~label.sk-toggleable__label {background-color: #d4ebff;}#sk-6eea92a7-2dd0-4b49-86c1-3a5a19b89927 div.sk-label input.sk-toggleable__control:checked~label.sk-toggleable__label {background-color: #d4ebff;}#sk-6eea92a7-2dd0-4b49-86c1-3a5a19b89927 input.sk-hidden--visually {border: 0;clip: rect(1px 1px 1px 1px);clip: rect(1px, 1px, 1px, 1px);height: 1px;margin: -1px;overflow: hidden;padding: 0;position: absolute;width: 1px;}#sk-6eea92a7-2dd0-4b49-86c1-3a5a19b89927 div.sk-estimator {font-family: monospace;background-color: #f0f8ff;border: 1px dotted black;border-radius: 0.25em;box-sizing: border-box;margin-bottom: 0.5em;}#sk-6eea92a7-2dd0-4b49-86c1-3a5a19b89927 div.sk-estimator:hover {background-color: #d4ebff;}#sk-6eea92a7-2dd0-4b49-86c1-3a5a19b89927 div.sk-parallel-item::after {content: \"\";width: 100%;border-bottom: 1px solid gray;flex-grow: 1;}#sk-6eea92a7-2dd0-4b49-86c1-3a5a19b89927 div.sk-label:hover label.sk-toggleable__label {background-color: #d4ebff;}#sk-6eea92a7-2dd0-4b49-86c1-3a5a19b89927 div.sk-serial::before {content: \"\";position: absolute;border-left: 1px solid gray;box-sizing: border-box;top: 2em;bottom: 0;left: 50%;}#sk-6eea92a7-2dd0-4b49-86c1-3a5a19b89927 div.sk-serial {display: flex;flex-direction: column;align-items: center;background-color: white;padding-right: 0.2em;padding-left: 0.2em;}#sk-6eea92a7-2dd0-4b49-86c1-3a5a19b89927 div.sk-item {z-index: 1;}#sk-6eea92a7-2dd0-4b49-86c1-3a5a19b89927 div.sk-parallel {display: flex;align-items: stretch;justify-content: center;background-color: white;}#sk-6eea92a7-2dd0-4b49-86c1-3a5a19b89927 div.sk-parallel::before {content: \"\";position: absolute;border-left: 1px solid gray;box-sizing: border-box;top: 2em;bottom: 0;left: 50%;}#sk-6eea92a7-2dd0-4b49-86c1-3a5a19b89927 div.sk-parallel-item {display: flex;flex-direction: column;position: relative;background-color: white;}#sk-6eea92a7-2dd0-4b49-86c1-3a5a19b89927 div.sk-parallel-item:first-child::after {align-self: flex-end;width: 50%;}#sk-6eea92a7-2dd0-4b49-86c1-3a5a19b89927 div.sk-parallel-item:last-child::after {align-self: flex-start;width: 50%;}#sk-6eea92a7-2dd0-4b49-86c1-3a5a19b89927 div.sk-parallel-item:only-child::after {width: 0;}#sk-6eea92a7-2dd0-4b49-86c1-3a5a19b89927 div.sk-dashed-wrapped {border: 1px dashed gray;margin: 0 0.4em 0.5em 0.4em;box-sizing: border-box;padding-bottom: 0.4em;background-color: white;position: relative;}#sk-6eea92a7-2dd0-4b49-86c1-3a5a19b89927 div.sk-label label {font-family: monospace;font-weight: bold;background-color: white;display: inline-block;line-height: 1.2em;}#sk-6eea92a7-2dd0-4b49-86c1-3a5a19b89927 div.sk-label-container {position: relative;z-index: 2;text-align: center;}#sk-6eea92a7-2dd0-4b49-86c1-3a5a19b89927 div.sk-container {/* jupyter's `normalize.less` sets `[hidden] { display: none; }` but bootstrap.min.css set `[hidden] { display: none !important; }` so we also need the `!important` here to be able to override the default hidden behavior on the sphinx rendered scikit-learn.org. See: https://github.com/scikit-learn/scikit-learn/issues/21755 */display: inline-block !important;position: relative;}#sk-6eea92a7-2dd0-4b49-86c1-3a5a19b89927 div.sk-text-repr-fallback {display: none;}</style><div id=\"sk-6eea92a7-2dd0-4b49-86c1-3a5a19b89927\" class=\"sk-top-container\"><div class=\"sk-text-repr-fallback\"><pre>ColumnTransformer(transformers=[(&#x27;pipeline-1&#x27;,\n",
       "                                 Pipeline(steps=[(&#x27;robustscaler&#x27;,\n",
       "                                                  RobustScaler())]),\n",
       "                                 [&#x27;Item Price&#x27;, &#x27;Pickup Length&#x27;]),\n",
       "                                (&#x27;pipeline-2&#x27;,\n",
       "                                 Pipeline(steps=[(&#x27;onehotencoder&#x27;,\n",
       "                                                  OneHotEncoder(handle_unknown=&#x27;ignore&#x27;))]),\n",
       "                                 [&#x27;Store Category&#x27;, &#x27;Store Segment&#x27;,\n",
       "                                  &#x27;Store Region&#x27;, &#x27;Region Language&#x27;,\n",
       "                                  &#x27;Region Type&#x27;, &#x27;Cluster&#x27;])])</pre><b>Please rerun this cell to show the HTML repr or trust the notebook.</b></div><div class=\"sk-container\" hidden><div class=\"sk-item sk-dashed-wrapped\"><div class=\"sk-label-container\"><div class=\"sk-label sk-toggleable\"><input class=\"sk-toggleable__control sk-hidden--visually\" id=\"8b088b1a-e68c-44b2-8b0e-770873404c37\" type=\"checkbox\" ><label for=\"8b088b1a-e68c-44b2-8b0e-770873404c37\" class=\"sk-toggleable__label sk-toggleable__label-arrow\">ColumnTransformer</label><div class=\"sk-toggleable__content\"><pre>ColumnTransformer(transformers=[(&#x27;pipeline-1&#x27;,\n",
       "                                 Pipeline(steps=[(&#x27;robustscaler&#x27;,\n",
       "                                                  RobustScaler())]),\n",
       "                                 [&#x27;Item Price&#x27;, &#x27;Pickup Length&#x27;]),\n",
       "                                (&#x27;pipeline-2&#x27;,\n",
       "                                 Pipeline(steps=[(&#x27;onehotencoder&#x27;,\n",
       "                                                  OneHotEncoder(handle_unknown=&#x27;ignore&#x27;))]),\n",
       "                                 [&#x27;Store Category&#x27;, &#x27;Store Segment&#x27;,\n",
       "                                  &#x27;Store Region&#x27;, &#x27;Region Language&#x27;,\n",
       "                                  &#x27;Region Type&#x27;, &#x27;Cluster&#x27;])])</pre></div></div></div><div class=\"sk-parallel\"><div class=\"sk-parallel-item\"><div class=\"sk-item\"><div class=\"sk-label-container\"><div class=\"sk-label sk-toggleable\"><input class=\"sk-toggleable__control sk-hidden--visually\" id=\"b43859da-c3ce-4b0c-8b5a-263d797489d0\" type=\"checkbox\" ><label for=\"b43859da-c3ce-4b0c-8b5a-263d797489d0\" class=\"sk-toggleable__label sk-toggleable__label-arrow\">pipeline-1</label><div class=\"sk-toggleable__content\"><pre>[&#x27;Item Price&#x27;, &#x27;Pickup Length&#x27;]</pre></div></div></div><div class=\"sk-serial\"><div class=\"sk-item\"><div class=\"sk-serial\"><div class=\"sk-item\"><div class=\"sk-estimator sk-toggleable\"><input class=\"sk-toggleable__control sk-hidden--visually\" id=\"b740dece-6609-487e-8243-e08ee1c9e7df\" type=\"checkbox\" ><label for=\"b740dece-6609-487e-8243-e08ee1c9e7df\" class=\"sk-toggleable__label sk-toggleable__label-arrow\">RobustScaler</label><div class=\"sk-toggleable__content\"><pre>RobustScaler()</pre></div></div></div></div></div></div></div></div><div class=\"sk-parallel-item\"><div class=\"sk-item\"><div class=\"sk-label-container\"><div class=\"sk-label sk-toggleable\"><input class=\"sk-toggleable__control sk-hidden--visually\" id=\"75e1de7a-8593-4fa5-b772-e2cbae5534c9\" type=\"checkbox\" ><label for=\"75e1de7a-8593-4fa5-b772-e2cbae5534c9\" class=\"sk-toggleable__label sk-toggleable__label-arrow\">pipeline-2</label><div class=\"sk-toggleable__content\"><pre>[&#x27;Store Category&#x27;, &#x27;Store Segment&#x27;, &#x27;Store Region&#x27;, &#x27;Region Language&#x27;, &#x27;Region Type&#x27;, &#x27;Cluster&#x27;]</pre></div></div></div><div class=\"sk-serial\"><div class=\"sk-item\"><div class=\"sk-serial\"><div class=\"sk-item\"><div class=\"sk-estimator sk-toggleable\"><input class=\"sk-toggleable__control sk-hidden--visually\" id=\"854f4977-0ff5-4b21-aa12-61e78b17889f\" type=\"checkbox\" ><label for=\"854f4977-0ff5-4b21-aa12-61e78b17889f\" class=\"sk-toggleable__label sk-toggleable__label-arrow\">OneHotEncoder</label><div class=\"sk-toggleable__content\"><pre>OneHotEncoder(handle_unknown=&#x27;ignore&#x27;)</pre></div></div></div></div></div></div></div></div></div></div></div></div>"
      ],
      "text/plain": [
       "ColumnTransformer(transformers=[('pipeline-1',\n",
       "                                 Pipeline(steps=[('robustscaler',\n",
       "                                                  RobustScaler())]),\n",
       "                                 ['Item Price', 'Pickup Length']),\n",
       "                                ('pipeline-2',\n",
       "                                 Pipeline(steps=[('onehotencoder',\n",
       "                                                  OneHotEncoder(handle_unknown='ignore'))]),\n",
       "                                 ['Store Category', 'Store Segment',\n",
       "                                  'Store Region', 'Region Language',\n",
       "                                  'Region Type', 'Cluster'])])"
      ]
     },
     "execution_count": 30,
     "metadata": {},
     "output_type": "execute_result"
    }
   ],
   "source": [
    "# visualizing pipelines in HTML\n",
    "set_config(display='diagram')\n",
    "preprocess"
   ]
  },
  {
   "cell_type": "code",
   "execution_count": 31,
   "id": "640be3a1",
   "metadata": {},
   "outputs": [],
   "source": [
    "X_train_transformed = preprocess.fit_transform(X_train)"
   ]
  },
  {
   "cell_type": "code",
   "execution_count": 32,
   "id": "9dfbb554",
   "metadata": {},
   "outputs": [
    {
     "data": {
      "text/html": [
       "<div>\n",
       "<style scoped>\n",
       "    .dataframe tbody tr th:only-of-type {\n",
       "        vertical-align: middle;\n",
       "    }\n",
       "\n",
       "    .dataframe tbody tr th {\n",
       "        vertical-align: top;\n",
       "    }\n",
       "\n",
       "    .dataframe thead th {\n",
       "        text-align: right;\n",
       "    }\n",
       "</style>\n",
       "<table border=\"1\" class=\"dataframe\">\n",
       "  <thead>\n",
       "    <tr style=\"text-align: right;\">\n",
       "      <th></th>\n",
       "      <th>0</th>\n",
       "      <th>1</th>\n",
       "      <th>2</th>\n",
       "      <th>3</th>\n",
       "      <th>4</th>\n",
       "      <th>5</th>\n",
       "      <th>6</th>\n",
       "      <th>7</th>\n",
       "      <th>8</th>\n",
       "      <th>9</th>\n",
       "      <th>...</th>\n",
       "      <th>55</th>\n",
       "      <th>56</th>\n",
       "      <th>57</th>\n",
       "      <th>58</th>\n",
       "      <th>59</th>\n",
       "      <th>60</th>\n",
       "      <th>61</th>\n",
       "      <th>62</th>\n",
       "      <th>63</th>\n",
       "      <th>64</th>\n",
       "    </tr>\n",
       "  </thead>\n",
       "  <tbody>\n",
       "    <tr>\n",
       "      <th>0</th>\n",
       "      <td>2.0</td>\n",
       "      <td>0.853333</td>\n",
       "      <td>1.0</td>\n",
       "      <td>0.0</td>\n",
       "      <td>0.0</td>\n",
       "      <td>0.0</td>\n",
       "      <td>0.0</td>\n",
       "      <td>0.0</td>\n",
       "      <td>0.0</td>\n",
       "      <td>0.0</td>\n",
       "      <td>...</td>\n",
       "      <td>0.0</td>\n",
       "      <td>0.0</td>\n",
       "      <td>1.0</td>\n",
       "      <td>0.0</td>\n",
       "      <td>1.0</td>\n",
       "      <td>0.0</td>\n",
       "      <td>0.0</td>\n",
       "      <td>0.0</td>\n",
       "      <td>0.0</td>\n",
       "      <td>1.0</td>\n",
       "    </tr>\n",
       "    <tr>\n",
       "      <th>1</th>\n",
       "      <td>0.0</td>\n",
       "      <td>0.000000</td>\n",
       "      <td>0.0</td>\n",
       "      <td>1.0</td>\n",
       "      <td>0.0</td>\n",
       "      <td>0.0</td>\n",
       "      <td>0.0</td>\n",
       "      <td>0.0</td>\n",
       "      <td>0.0</td>\n",
       "      <td>0.0</td>\n",
       "      <td>...</td>\n",
       "      <td>0.0</td>\n",
       "      <td>1.0</td>\n",
       "      <td>0.0</td>\n",
       "      <td>0.0</td>\n",
       "      <td>1.0</td>\n",
       "      <td>1.0</td>\n",
       "      <td>0.0</td>\n",
       "      <td>0.0</td>\n",
       "      <td>0.0</td>\n",
       "      <td>0.0</td>\n",
       "    </tr>\n",
       "    <tr>\n",
       "      <th>2</th>\n",
       "      <td>0.0</td>\n",
       "      <td>0.220333</td>\n",
       "      <td>0.0</td>\n",
       "      <td>1.0</td>\n",
       "      <td>0.0</td>\n",
       "      <td>0.0</td>\n",
       "      <td>1.0</td>\n",
       "      <td>0.0</td>\n",
       "      <td>0.0</td>\n",
       "      <td>0.0</td>\n",
       "      <td>...</td>\n",
       "      <td>1.0</td>\n",
       "      <td>0.0</td>\n",
       "      <td>0.0</td>\n",
       "      <td>0.0</td>\n",
       "      <td>1.0</td>\n",
       "      <td>0.0</td>\n",
       "      <td>0.0</td>\n",
       "      <td>0.0</td>\n",
       "      <td>1.0</td>\n",
       "      <td>0.0</td>\n",
       "    </tr>\n",
       "  </tbody>\n",
       "</table>\n",
       "<p>3 rows × 65 columns</p>\n",
       "</div>"
      ],
      "text/plain": [
       "    0         1    2    3    4    5    6    7    8    9   ...   55   56   57  \\\n",
       "0  2.0  0.853333  1.0  0.0  0.0  0.0  0.0  0.0  0.0  0.0  ...  0.0  0.0  1.0   \n",
       "1  0.0  0.000000  0.0  1.0  0.0  0.0  0.0  0.0  0.0  0.0  ...  0.0  1.0  0.0   \n",
       "2  0.0  0.220333  0.0  1.0  0.0  0.0  1.0  0.0  0.0  0.0  ...  1.0  0.0  0.0   \n",
       "\n",
       "    58   59   60   61   62   63   64  \n",
       "0  0.0  1.0  0.0  0.0  0.0  0.0  1.0  \n",
       "1  0.0  1.0  1.0  0.0  0.0  0.0  0.0  \n",
       "2  0.0  1.0  0.0  0.0  0.0  1.0  0.0  \n",
       "\n",
       "[3 rows x 65 columns]"
      ]
     },
     "metadata": {},
     "output_type": "display_data"
    }
   ],
   "source": [
    "display(pd.DataFrame(X_train_transformed.todense()).head(3))"
   ]
  },
  {
   "cell_type": "code",
   "execution_count": 33,
   "id": "edd2a207",
   "metadata": {},
   "outputs": [
    {
     "data": {
      "text/html": [
       "<div>\n",
       "<style scoped>\n",
       "    .dataframe tbody tr th:only-of-type {\n",
       "        vertical-align: middle;\n",
       "    }\n",
       "\n",
       "    .dataframe tbody tr th {\n",
       "        vertical-align: top;\n",
       "    }\n",
       "\n",
       "    .dataframe thead th {\n",
       "        text-align: right;\n",
       "    }\n",
       "</style>\n",
       "<table border=\"1\" class=\"dataframe\">\n",
       "  <thead>\n",
       "    <tr style=\"text-align: right;\">\n",
       "      <th></th>\n",
       "      <th>pipeline-1__Item Price</th>\n",
       "      <th>pipeline-1__Pickup Length</th>\n",
       "      <th>pipeline-2__Store Category_Indie - Inbound</th>\n",
       "      <th>pipeline-2__Store Category_Indie - Outbound</th>\n",
       "      <th>pipeline-2__Store Category_Key Account</th>\n",
       "      <th>pipeline-2__Store Category_Manufacturer</th>\n",
       "      <th>pipeline-2__Store Segment_Bakery</th>\n",
       "      <th>pipeline-2__Store Segment_Beverages</th>\n",
       "      <th>pipeline-2__Store Segment_Buffet</th>\n",
       "      <th>pipeline-2__Store Segment_Butcher</th>\n",
       "      <th>...</th>\n",
       "      <th>pipeline-2__Region Language_french</th>\n",
       "      <th>pipeline-2__Region Language_german</th>\n",
       "      <th>pipeline-2__Region Language_italien</th>\n",
       "      <th>pipeline-2__Region Type_rural</th>\n",
       "      <th>pipeline-2__Region Type_urban</th>\n",
       "      <th>pipeline-2__Cluster_0</th>\n",
       "      <th>pipeline-2__Cluster_1</th>\n",
       "      <th>pipeline-2__Cluster_2</th>\n",
       "      <th>pipeline-2__Cluster_3</th>\n",
       "      <th>pipeline-2__Cluster_4</th>\n",
       "    </tr>\n",
       "  </thead>\n",
       "  <tbody>\n",
       "    <tr>\n",
       "      <th>0</th>\n",
       "      <td>2.0</td>\n",
       "      <td>0.853333</td>\n",
       "      <td>1.0</td>\n",
       "      <td>0.0</td>\n",
       "      <td>0.0</td>\n",
       "      <td>0.0</td>\n",
       "      <td>0.0</td>\n",
       "      <td>0.0</td>\n",
       "      <td>0.0</td>\n",
       "      <td>0.0</td>\n",
       "      <td>...</td>\n",
       "      <td>0.0</td>\n",
       "      <td>0.0</td>\n",
       "      <td>1.0</td>\n",
       "      <td>0.0</td>\n",
       "      <td>1.0</td>\n",
       "      <td>0.0</td>\n",
       "      <td>0.0</td>\n",
       "      <td>0.0</td>\n",
       "      <td>0.0</td>\n",
       "      <td>1.0</td>\n",
       "    </tr>\n",
       "    <tr>\n",
       "      <th>1</th>\n",
       "      <td>0.0</td>\n",
       "      <td>0.000000</td>\n",
       "      <td>0.0</td>\n",
       "      <td>1.0</td>\n",
       "      <td>0.0</td>\n",
       "      <td>0.0</td>\n",
       "      <td>0.0</td>\n",
       "      <td>0.0</td>\n",
       "      <td>0.0</td>\n",
       "      <td>0.0</td>\n",
       "      <td>...</td>\n",
       "      <td>0.0</td>\n",
       "      <td>1.0</td>\n",
       "      <td>0.0</td>\n",
       "      <td>0.0</td>\n",
       "      <td>1.0</td>\n",
       "      <td>1.0</td>\n",
       "      <td>0.0</td>\n",
       "      <td>0.0</td>\n",
       "      <td>0.0</td>\n",
       "      <td>0.0</td>\n",
       "    </tr>\n",
       "    <tr>\n",
       "      <th>2</th>\n",
       "      <td>0.0</td>\n",
       "      <td>0.220333</td>\n",
       "      <td>0.0</td>\n",
       "      <td>1.0</td>\n",
       "      <td>0.0</td>\n",
       "      <td>0.0</td>\n",
       "      <td>1.0</td>\n",
       "      <td>0.0</td>\n",
       "      <td>0.0</td>\n",
       "      <td>0.0</td>\n",
       "      <td>...</td>\n",
       "      <td>1.0</td>\n",
       "      <td>0.0</td>\n",
       "      <td>0.0</td>\n",
       "      <td>0.0</td>\n",
       "      <td>1.0</td>\n",
       "      <td>0.0</td>\n",
       "      <td>0.0</td>\n",
       "      <td>0.0</td>\n",
       "      <td>1.0</td>\n",
       "      <td>0.0</td>\n",
       "    </tr>\n",
       "    <tr>\n",
       "      <th>3</th>\n",
       "      <td>0.0</td>\n",
       "      <td>1.960667</td>\n",
       "      <td>0.0</td>\n",
       "      <td>0.0</td>\n",
       "      <td>1.0</td>\n",
       "      <td>0.0</td>\n",
       "      <td>0.0</td>\n",
       "      <td>0.0</td>\n",
       "      <td>0.0</td>\n",
       "      <td>0.0</td>\n",
       "      <td>...</td>\n",
       "      <td>0.0</td>\n",
       "      <td>1.0</td>\n",
       "      <td>0.0</td>\n",
       "      <td>0.0</td>\n",
       "      <td>1.0</td>\n",
       "      <td>1.0</td>\n",
       "      <td>0.0</td>\n",
       "      <td>0.0</td>\n",
       "      <td>0.0</td>\n",
       "      <td>0.0</td>\n",
       "    </tr>\n",
       "    <tr>\n",
       "      <th>4</th>\n",
       "      <td>1.0</td>\n",
       "      <td>0.017667</td>\n",
       "      <td>0.0</td>\n",
       "      <td>0.0</td>\n",
       "      <td>1.0</td>\n",
       "      <td>0.0</td>\n",
       "      <td>0.0</td>\n",
       "      <td>0.0</td>\n",
       "      <td>0.0</td>\n",
       "      <td>0.0</td>\n",
       "      <td>...</td>\n",
       "      <td>1.0</td>\n",
       "      <td>0.0</td>\n",
       "      <td>0.0</td>\n",
       "      <td>0.0</td>\n",
       "      <td>1.0</td>\n",
       "      <td>0.0</td>\n",
       "      <td>0.0</td>\n",
       "      <td>0.0</td>\n",
       "      <td>1.0</td>\n",
       "      <td>0.0</td>\n",
       "    </tr>\n",
       "    <tr>\n",
       "      <th>...</th>\n",
       "      <td>...</td>\n",
       "      <td>...</td>\n",
       "      <td>...</td>\n",
       "      <td>...</td>\n",
       "      <td>...</td>\n",
       "      <td>...</td>\n",
       "      <td>...</td>\n",
       "      <td>...</td>\n",
       "      <td>...</td>\n",
       "      <td>...</td>\n",
       "      <td>...</td>\n",
       "      <td>...</td>\n",
       "      <td>...</td>\n",
       "      <td>...</td>\n",
       "      <td>...</td>\n",
       "      <td>...</td>\n",
       "      <td>...</td>\n",
       "      <td>...</td>\n",
       "      <td>...</td>\n",
       "      <td>...</td>\n",
       "      <td>...</td>\n",
       "    </tr>\n",
       "    <tr>\n",
       "      <th>6429</th>\n",
       "      <td>-1.0</td>\n",
       "      <td>0.000000</td>\n",
       "      <td>0.0</td>\n",
       "      <td>1.0</td>\n",
       "      <td>0.0</td>\n",
       "      <td>0.0</td>\n",
       "      <td>0.0</td>\n",
       "      <td>0.0</td>\n",
       "      <td>0.0</td>\n",
       "      <td>0.0</td>\n",
       "      <td>...</td>\n",
       "      <td>1.0</td>\n",
       "      <td>0.0</td>\n",
       "      <td>0.0</td>\n",
       "      <td>1.0</td>\n",
       "      <td>0.0</td>\n",
       "      <td>0.0</td>\n",
       "      <td>0.0</td>\n",
       "      <td>0.0</td>\n",
       "      <td>1.0</td>\n",
       "      <td>0.0</td>\n",
       "    </tr>\n",
       "    <tr>\n",
       "      <th>6430</th>\n",
       "      <td>1.0</td>\n",
       "      <td>0.000000</td>\n",
       "      <td>0.0</td>\n",
       "      <td>0.0</td>\n",
       "      <td>1.0</td>\n",
       "      <td>0.0</td>\n",
       "      <td>1.0</td>\n",
       "      <td>0.0</td>\n",
       "      <td>0.0</td>\n",
       "      <td>0.0</td>\n",
       "      <td>...</td>\n",
       "      <td>0.0</td>\n",
       "      <td>1.0</td>\n",
       "      <td>0.0</td>\n",
       "      <td>1.0</td>\n",
       "      <td>0.0</td>\n",
       "      <td>1.0</td>\n",
       "      <td>0.0</td>\n",
       "      <td>0.0</td>\n",
       "      <td>0.0</td>\n",
       "      <td>0.0</td>\n",
       "    </tr>\n",
       "    <tr>\n",
       "      <th>6431</th>\n",
       "      <td>2.0</td>\n",
       "      <td>1.666667</td>\n",
       "      <td>1.0</td>\n",
       "      <td>0.0</td>\n",
       "      <td>0.0</td>\n",
       "      <td>0.0</td>\n",
       "      <td>0.0</td>\n",
       "      <td>0.0</td>\n",
       "      <td>0.0</td>\n",
       "      <td>0.0</td>\n",
       "      <td>...</td>\n",
       "      <td>1.0</td>\n",
       "      <td>0.0</td>\n",
       "      <td>0.0</td>\n",
       "      <td>0.0</td>\n",
       "      <td>1.0</td>\n",
       "      <td>0.0</td>\n",
       "      <td>0.0</td>\n",
       "      <td>0.0</td>\n",
       "      <td>0.0</td>\n",
       "      <td>1.0</td>\n",
       "    </tr>\n",
       "    <tr>\n",
       "      <th>6432</th>\n",
       "      <td>-1.0</td>\n",
       "      <td>0.000000</td>\n",
       "      <td>0.0</td>\n",
       "      <td>0.0</td>\n",
       "      <td>1.0</td>\n",
       "      <td>0.0</td>\n",
       "      <td>0.0</td>\n",
       "      <td>0.0</td>\n",
       "      <td>0.0</td>\n",
       "      <td>0.0</td>\n",
       "      <td>...</td>\n",
       "      <td>0.0</td>\n",
       "      <td>1.0</td>\n",
       "      <td>0.0</td>\n",
       "      <td>1.0</td>\n",
       "      <td>0.0</td>\n",
       "      <td>1.0</td>\n",
       "      <td>0.0</td>\n",
       "      <td>0.0</td>\n",
       "      <td>0.0</td>\n",
       "      <td>0.0</td>\n",
       "    </tr>\n",
       "    <tr>\n",
       "      <th>6433</th>\n",
       "      <td>-1.0</td>\n",
       "      <td>0.000000</td>\n",
       "      <td>0.0</td>\n",
       "      <td>0.0</td>\n",
       "      <td>1.0</td>\n",
       "      <td>0.0</td>\n",
       "      <td>0.0</td>\n",
       "      <td>0.0</td>\n",
       "      <td>1.0</td>\n",
       "      <td>0.0</td>\n",
       "      <td>...</td>\n",
       "      <td>0.0</td>\n",
       "      <td>0.0</td>\n",
       "      <td>1.0</td>\n",
       "      <td>0.0</td>\n",
       "      <td>1.0</td>\n",
       "      <td>1.0</td>\n",
       "      <td>0.0</td>\n",
       "      <td>0.0</td>\n",
       "      <td>0.0</td>\n",
       "      <td>0.0</td>\n",
       "    </tr>\n",
       "  </tbody>\n",
       "</table>\n",
       "<p>6434 rows × 65 columns</p>\n",
       "</div>"
      ],
      "text/plain": [
       "      pipeline-1__Item Price  pipeline-1__Pickup Length  \\\n",
       "0                        2.0                   0.853333   \n",
       "1                        0.0                   0.000000   \n",
       "2                        0.0                   0.220333   \n",
       "3                        0.0                   1.960667   \n",
       "4                        1.0                   0.017667   \n",
       "...                      ...                        ...   \n",
       "6429                    -1.0                   0.000000   \n",
       "6430                     1.0                   0.000000   \n",
       "6431                     2.0                   1.666667   \n",
       "6432                    -1.0                   0.000000   \n",
       "6433                    -1.0                   0.000000   \n",
       "\n",
       "      pipeline-2__Store Category_Indie - Inbound  \\\n",
       "0                                            1.0   \n",
       "1                                            0.0   \n",
       "2                                            0.0   \n",
       "3                                            0.0   \n",
       "4                                            0.0   \n",
       "...                                          ...   \n",
       "6429                                         0.0   \n",
       "6430                                         0.0   \n",
       "6431                                         1.0   \n",
       "6432                                         0.0   \n",
       "6433                                         0.0   \n",
       "\n",
       "      pipeline-2__Store Category_Indie - Outbound  \\\n",
       "0                                             0.0   \n",
       "1                                             1.0   \n",
       "2                                             1.0   \n",
       "3                                             0.0   \n",
       "4                                             0.0   \n",
       "...                                           ...   \n",
       "6429                                          1.0   \n",
       "6430                                          0.0   \n",
       "6431                                          0.0   \n",
       "6432                                          0.0   \n",
       "6433                                          0.0   \n",
       "\n",
       "      pipeline-2__Store Category_Key Account  \\\n",
       "0                                        0.0   \n",
       "1                                        0.0   \n",
       "2                                        0.0   \n",
       "3                                        1.0   \n",
       "4                                        1.0   \n",
       "...                                      ...   \n",
       "6429                                     0.0   \n",
       "6430                                     1.0   \n",
       "6431                                     0.0   \n",
       "6432                                     1.0   \n",
       "6433                                     1.0   \n",
       "\n",
       "      pipeline-2__Store Category_Manufacturer  \\\n",
       "0                                         0.0   \n",
       "1                                         0.0   \n",
       "2                                         0.0   \n",
       "3                                         0.0   \n",
       "4                                         0.0   \n",
       "...                                       ...   \n",
       "6429                                      0.0   \n",
       "6430                                      0.0   \n",
       "6431                                      0.0   \n",
       "6432                                      0.0   \n",
       "6433                                      0.0   \n",
       "\n",
       "      pipeline-2__Store Segment_Bakery  pipeline-2__Store Segment_Beverages  \\\n",
       "0                                  0.0                                  0.0   \n",
       "1                                  0.0                                  0.0   \n",
       "2                                  1.0                                  0.0   \n",
       "3                                  0.0                                  0.0   \n",
       "4                                  0.0                                  0.0   \n",
       "...                                ...                                  ...   \n",
       "6429                               0.0                                  0.0   \n",
       "6430                               1.0                                  0.0   \n",
       "6431                               0.0                                  0.0   \n",
       "6432                               0.0                                  0.0   \n",
       "6433                               0.0                                  0.0   \n",
       "\n",
       "      pipeline-2__Store Segment_Buffet  pipeline-2__Store Segment_Butcher  \\\n",
       "0                                  0.0                                0.0   \n",
       "1                                  0.0                                0.0   \n",
       "2                                  0.0                                0.0   \n",
       "3                                  0.0                                0.0   \n",
       "4                                  0.0                                0.0   \n",
       "...                                ...                                ...   \n",
       "6429                               0.0                                0.0   \n",
       "6430                               0.0                                0.0   \n",
       "6431                               0.0                                0.0   \n",
       "6432                               0.0                                0.0   \n",
       "6433                               1.0                                0.0   \n",
       "\n",
       "      ...  pipeline-2__Region Language_french  \\\n",
       "0     ...                                 0.0   \n",
       "1     ...                                 0.0   \n",
       "2     ...                                 1.0   \n",
       "3     ...                                 0.0   \n",
       "4     ...                                 1.0   \n",
       "...   ...                                 ...   \n",
       "6429  ...                                 1.0   \n",
       "6430  ...                                 0.0   \n",
       "6431  ...                                 1.0   \n",
       "6432  ...                                 0.0   \n",
       "6433  ...                                 0.0   \n",
       "\n",
       "      pipeline-2__Region Language_german  pipeline-2__Region Language_italien  \\\n",
       "0                                    0.0                                  1.0   \n",
       "1                                    1.0                                  0.0   \n",
       "2                                    0.0                                  0.0   \n",
       "3                                    1.0                                  0.0   \n",
       "4                                    0.0                                  0.0   \n",
       "...                                  ...                                  ...   \n",
       "6429                                 0.0                                  0.0   \n",
       "6430                                 1.0                                  0.0   \n",
       "6431                                 0.0                                  0.0   \n",
       "6432                                 1.0                                  0.0   \n",
       "6433                                 0.0                                  1.0   \n",
       "\n",
       "      pipeline-2__Region Type_rural  pipeline-2__Region Type_urban  \\\n",
       "0                               0.0                            1.0   \n",
       "1                               0.0                            1.0   \n",
       "2                               0.0                            1.0   \n",
       "3                               0.0                            1.0   \n",
       "4                               0.0                            1.0   \n",
       "...                             ...                            ...   \n",
       "6429                            1.0                            0.0   \n",
       "6430                            1.0                            0.0   \n",
       "6431                            0.0                            1.0   \n",
       "6432                            1.0                            0.0   \n",
       "6433                            0.0                            1.0   \n",
       "\n",
       "      pipeline-2__Cluster_0  pipeline-2__Cluster_1  pipeline-2__Cluster_2  \\\n",
       "0                       0.0                    0.0                    0.0   \n",
       "1                       1.0                    0.0                    0.0   \n",
       "2                       0.0                    0.0                    0.0   \n",
       "3                       1.0                    0.0                    0.0   \n",
       "4                       0.0                    0.0                    0.0   \n",
       "...                     ...                    ...                    ...   \n",
       "6429                    0.0                    0.0                    0.0   \n",
       "6430                    1.0                    0.0                    0.0   \n",
       "6431                    0.0                    0.0                    0.0   \n",
       "6432                    1.0                    0.0                    0.0   \n",
       "6433                    1.0                    0.0                    0.0   \n",
       "\n",
       "      pipeline-2__Cluster_3  pipeline-2__Cluster_4  \n",
       "0                       0.0                    1.0  \n",
       "1                       0.0                    0.0  \n",
       "2                       1.0                    0.0  \n",
       "3                       0.0                    0.0  \n",
       "4                       1.0                    0.0  \n",
       "...                     ...                    ...  \n",
       "6429                    1.0                    0.0  \n",
       "6430                    0.0                    0.0  \n",
       "6431                    0.0                    1.0  \n",
       "6432                    0.0                    0.0  \n",
       "6433                    0.0                    0.0  \n",
       "\n",
       "[6434 rows x 65 columns]"
      ]
     },
     "execution_count": 33,
     "metadata": {},
     "output_type": "execute_result"
    }
   ],
   "source": [
    "pd.DataFrame(X_train_transformed.todense(),columns=preprocess.get_feature_names_out())"
   ]
  },
  {
   "cell_type": "markdown",
   "id": "06d53d72",
   "metadata": {},
   "source": [
    "### XGBoost"
   ]
  },
  {
   "cell_type": "code",
   "execution_count": 37,
   "id": "8d502391",
   "metadata": {},
   "outputs": [
    {
     "data": {
      "text/html": [
       "<style>#sk-12689887-79be-4e37-846f-5308df4b8b03 {color: black;background-color: white;}#sk-12689887-79be-4e37-846f-5308df4b8b03 pre{padding: 0;}#sk-12689887-79be-4e37-846f-5308df4b8b03 div.sk-toggleable {background-color: white;}#sk-12689887-79be-4e37-846f-5308df4b8b03 label.sk-toggleable__label {cursor: pointer;display: block;width: 100%;margin-bottom: 0;padding: 0.3em;box-sizing: border-box;text-align: center;}#sk-12689887-79be-4e37-846f-5308df4b8b03 label.sk-toggleable__label-arrow:before {content: \"▸\";float: left;margin-right: 0.25em;color: #696969;}#sk-12689887-79be-4e37-846f-5308df4b8b03 label.sk-toggleable__label-arrow:hover:before {color: black;}#sk-12689887-79be-4e37-846f-5308df4b8b03 div.sk-estimator:hover label.sk-toggleable__label-arrow:before {color: black;}#sk-12689887-79be-4e37-846f-5308df4b8b03 div.sk-toggleable__content {max-height: 0;max-width: 0;overflow: hidden;text-align: left;background-color: #f0f8ff;}#sk-12689887-79be-4e37-846f-5308df4b8b03 div.sk-toggleable__content pre {margin: 0.2em;color: black;border-radius: 0.25em;background-color: #f0f8ff;}#sk-12689887-79be-4e37-846f-5308df4b8b03 input.sk-toggleable__control:checked~div.sk-toggleable__content {max-height: 200px;max-width: 100%;overflow: auto;}#sk-12689887-79be-4e37-846f-5308df4b8b03 input.sk-toggleable__control:checked~label.sk-toggleable__label-arrow:before {content: \"▾\";}#sk-12689887-79be-4e37-846f-5308df4b8b03 div.sk-estimator input.sk-toggleable__control:checked~label.sk-toggleable__label {background-color: #d4ebff;}#sk-12689887-79be-4e37-846f-5308df4b8b03 div.sk-label input.sk-toggleable__control:checked~label.sk-toggleable__label {background-color: #d4ebff;}#sk-12689887-79be-4e37-846f-5308df4b8b03 input.sk-hidden--visually {border: 0;clip: rect(1px 1px 1px 1px);clip: rect(1px, 1px, 1px, 1px);height: 1px;margin: -1px;overflow: hidden;padding: 0;position: absolute;width: 1px;}#sk-12689887-79be-4e37-846f-5308df4b8b03 div.sk-estimator {font-family: monospace;background-color: #f0f8ff;border: 1px dotted black;border-radius: 0.25em;box-sizing: border-box;margin-bottom: 0.5em;}#sk-12689887-79be-4e37-846f-5308df4b8b03 div.sk-estimator:hover {background-color: #d4ebff;}#sk-12689887-79be-4e37-846f-5308df4b8b03 div.sk-parallel-item::after {content: \"\";width: 100%;border-bottom: 1px solid gray;flex-grow: 1;}#sk-12689887-79be-4e37-846f-5308df4b8b03 div.sk-label:hover label.sk-toggleable__label {background-color: #d4ebff;}#sk-12689887-79be-4e37-846f-5308df4b8b03 div.sk-serial::before {content: \"\";position: absolute;border-left: 1px solid gray;box-sizing: border-box;top: 2em;bottom: 0;left: 50%;}#sk-12689887-79be-4e37-846f-5308df4b8b03 div.sk-serial {display: flex;flex-direction: column;align-items: center;background-color: white;padding-right: 0.2em;padding-left: 0.2em;}#sk-12689887-79be-4e37-846f-5308df4b8b03 div.sk-item {z-index: 1;}#sk-12689887-79be-4e37-846f-5308df4b8b03 div.sk-parallel {display: flex;align-items: stretch;justify-content: center;background-color: white;}#sk-12689887-79be-4e37-846f-5308df4b8b03 div.sk-parallel::before {content: \"\";position: absolute;border-left: 1px solid gray;box-sizing: border-box;top: 2em;bottom: 0;left: 50%;}#sk-12689887-79be-4e37-846f-5308df4b8b03 div.sk-parallel-item {display: flex;flex-direction: column;position: relative;background-color: white;}#sk-12689887-79be-4e37-846f-5308df4b8b03 div.sk-parallel-item:first-child::after {align-self: flex-end;width: 50%;}#sk-12689887-79be-4e37-846f-5308df4b8b03 div.sk-parallel-item:last-child::after {align-self: flex-start;width: 50%;}#sk-12689887-79be-4e37-846f-5308df4b8b03 div.sk-parallel-item:only-child::after {width: 0;}#sk-12689887-79be-4e37-846f-5308df4b8b03 div.sk-dashed-wrapped {border: 1px dashed gray;margin: 0 0.4em 0.5em 0.4em;box-sizing: border-box;padding-bottom: 0.4em;background-color: white;position: relative;}#sk-12689887-79be-4e37-846f-5308df4b8b03 div.sk-label label {font-family: monospace;font-weight: bold;background-color: white;display: inline-block;line-height: 1.2em;}#sk-12689887-79be-4e37-846f-5308df4b8b03 div.sk-label-container {position: relative;z-index: 2;text-align: center;}#sk-12689887-79be-4e37-846f-5308df4b8b03 div.sk-container {/* jupyter's `normalize.less` sets `[hidden] { display: none; }` but bootstrap.min.css set `[hidden] { display: none !important; }` so we also need the `!important` here to be able to override the default hidden behavior on the sphinx rendered scikit-learn.org. See: https://github.com/scikit-learn/scikit-learn/issues/21755 */display: inline-block !important;position: relative;}#sk-12689887-79be-4e37-846f-5308df4b8b03 div.sk-text-repr-fallback {display: none;}</style><div id=\"sk-12689887-79be-4e37-846f-5308df4b8b03\" class=\"sk-top-container\"><div class=\"sk-text-repr-fallback\"><pre>Pipeline(steps=[(&#x27;columntransformer&#x27;,\n",
       "                 ColumnTransformer(transformers=[(&#x27;pipeline-1&#x27;,\n",
       "                                                  Pipeline(steps=[(&#x27;robustscaler&#x27;,\n",
       "                                                                   RobustScaler())]),\n",
       "                                                  [&#x27;Item Price&#x27;,\n",
       "                                                   &#x27;Pickup Length&#x27;]),\n",
       "                                                 (&#x27;pipeline-2&#x27;,\n",
       "                                                  Pipeline(steps=[(&#x27;onehotencoder&#x27;,\n",
       "                                                                   OneHotEncoder(handle_unknown=&#x27;ignore&#x27;))]),\n",
       "                                                  [&#x27;Store Category&#x27;,\n",
       "                                                   &#x27;Store Segment&#x27;,\n",
       "                                                   &#x27;Store Region&#x27;,\n",
       "                                                   &#x27;Region Language&#x27;,\n",
       "                                                   &#x27;Region Type&#x27;,\n",
       "                                                   &#x27;Cluster&#x27;])])),\n",
       "                (&#x27;xgbcl...\n",
       "                               interaction_constraints=None, learning_rate=None,\n",
       "                               max_delta_step=None, max_depth=None,\n",
       "                               min_child_weight=None, missing=nan,\n",
       "                               monotone_constraints=None, n_estimators=100,\n",
       "                               n_jobs=None, num_classes=5,\n",
       "                               num_parallel_tree=None,\n",
       "                               objective=&#x27;multi:softmax&#x27;, predictor=None,\n",
       "                               random_state=None, reg_alpha=None,\n",
       "                               reg_lambda=None, scale_pos_weight=None,\n",
       "                               subsample=None, tree_method=None,\n",
       "                               validate_parameters=None, verbosity=None))])</pre><b>Please rerun this cell to show the HTML repr or trust the notebook.</b></div><div class=\"sk-container\" hidden><div class=\"sk-item sk-dashed-wrapped\"><div class=\"sk-label-container\"><div class=\"sk-label sk-toggleable\"><input class=\"sk-toggleable__control sk-hidden--visually\" id=\"3fbbce09-d5f1-49a1-99ca-c5f7e146524f\" type=\"checkbox\" ><label for=\"3fbbce09-d5f1-49a1-99ca-c5f7e146524f\" class=\"sk-toggleable__label sk-toggleable__label-arrow\">Pipeline</label><div class=\"sk-toggleable__content\"><pre>Pipeline(steps=[(&#x27;columntransformer&#x27;,\n",
       "                 ColumnTransformer(transformers=[(&#x27;pipeline-1&#x27;,\n",
       "                                                  Pipeline(steps=[(&#x27;robustscaler&#x27;,\n",
       "                                                                   RobustScaler())]),\n",
       "                                                  [&#x27;Item Price&#x27;,\n",
       "                                                   &#x27;Pickup Length&#x27;]),\n",
       "                                                 (&#x27;pipeline-2&#x27;,\n",
       "                                                  Pipeline(steps=[(&#x27;onehotencoder&#x27;,\n",
       "                                                                   OneHotEncoder(handle_unknown=&#x27;ignore&#x27;))]),\n",
       "                                                  [&#x27;Store Category&#x27;,\n",
       "                                                   &#x27;Store Segment&#x27;,\n",
       "                                                   &#x27;Store Region&#x27;,\n",
       "                                                   &#x27;Region Language&#x27;,\n",
       "                                                   &#x27;Region Type&#x27;,\n",
       "                                                   &#x27;Cluster&#x27;])])),\n",
       "                (&#x27;xgbcl...\n",
       "                               interaction_constraints=None, learning_rate=None,\n",
       "                               max_delta_step=None, max_depth=None,\n",
       "                               min_child_weight=None, missing=nan,\n",
       "                               monotone_constraints=None, n_estimators=100,\n",
       "                               n_jobs=None, num_classes=5,\n",
       "                               num_parallel_tree=None,\n",
       "                               objective=&#x27;multi:softmax&#x27;, predictor=None,\n",
       "                               random_state=None, reg_alpha=None,\n",
       "                               reg_lambda=None, scale_pos_weight=None,\n",
       "                               subsample=None, tree_method=None,\n",
       "                               validate_parameters=None, verbosity=None))])</pre></div></div></div><div class=\"sk-serial\"><div class=\"sk-item sk-dashed-wrapped\"><div class=\"sk-label-container\"><div class=\"sk-label sk-toggleable\"><input class=\"sk-toggleable__control sk-hidden--visually\" id=\"40716f82-9a47-4836-ab48-5d0b28ea8422\" type=\"checkbox\" ><label for=\"40716f82-9a47-4836-ab48-5d0b28ea8422\" class=\"sk-toggleable__label sk-toggleable__label-arrow\">columntransformer: ColumnTransformer</label><div class=\"sk-toggleable__content\"><pre>ColumnTransformer(transformers=[(&#x27;pipeline-1&#x27;,\n",
       "                                 Pipeline(steps=[(&#x27;robustscaler&#x27;,\n",
       "                                                  RobustScaler())]),\n",
       "                                 [&#x27;Item Price&#x27;, &#x27;Pickup Length&#x27;]),\n",
       "                                (&#x27;pipeline-2&#x27;,\n",
       "                                 Pipeline(steps=[(&#x27;onehotencoder&#x27;,\n",
       "                                                  OneHotEncoder(handle_unknown=&#x27;ignore&#x27;))]),\n",
       "                                 [&#x27;Store Category&#x27;, &#x27;Store Segment&#x27;,\n",
       "                                  &#x27;Store Region&#x27;, &#x27;Region Language&#x27;,\n",
       "                                  &#x27;Region Type&#x27;, &#x27;Cluster&#x27;])])</pre></div></div></div><div class=\"sk-parallel\"><div class=\"sk-parallel-item\"><div class=\"sk-item\"><div class=\"sk-label-container\"><div class=\"sk-label sk-toggleable\"><input class=\"sk-toggleable__control sk-hidden--visually\" id=\"16806f07-b5e7-4dfe-984b-43a58f6411d2\" type=\"checkbox\" ><label for=\"16806f07-b5e7-4dfe-984b-43a58f6411d2\" class=\"sk-toggleable__label sk-toggleable__label-arrow\">pipeline-1</label><div class=\"sk-toggleable__content\"><pre>[&#x27;Item Price&#x27;, &#x27;Pickup Length&#x27;]</pre></div></div></div><div class=\"sk-serial\"><div class=\"sk-item\"><div class=\"sk-serial\"><div class=\"sk-item\"><div class=\"sk-estimator sk-toggleable\"><input class=\"sk-toggleable__control sk-hidden--visually\" id=\"cce6ef86-c376-463a-8d09-411d4da93413\" type=\"checkbox\" ><label for=\"cce6ef86-c376-463a-8d09-411d4da93413\" class=\"sk-toggleable__label sk-toggleable__label-arrow\">RobustScaler</label><div class=\"sk-toggleable__content\"><pre>RobustScaler()</pre></div></div></div></div></div></div></div></div><div class=\"sk-parallel-item\"><div class=\"sk-item\"><div class=\"sk-label-container\"><div class=\"sk-label sk-toggleable\"><input class=\"sk-toggleable__control sk-hidden--visually\" id=\"82875fe8-2c5d-451f-9213-cbc762eef36e\" type=\"checkbox\" ><label for=\"82875fe8-2c5d-451f-9213-cbc762eef36e\" class=\"sk-toggleable__label sk-toggleable__label-arrow\">pipeline-2</label><div class=\"sk-toggleable__content\"><pre>[&#x27;Store Category&#x27;, &#x27;Store Segment&#x27;, &#x27;Store Region&#x27;, &#x27;Region Language&#x27;, &#x27;Region Type&#x27;, &#x27;Cluster&#x27;]</pre></div></div></div><div class=\"sk-serial\"><div class=\"sk-item\"><div class=\"sk-serial\"><div class=\"sk-item\"><div class=\"sk-estimator sk-toggleable\"><input class=\"sk-toggleable__control sk-hidden--visually\" id=\"0418de17-91bc-4f24-b182-40ff85964c16\" type=\"checkbox\" ><label for=\"0418de17-91bc-4f24-b182-40ff85964c16\" class=\"sk-toggleable__label sk-toggleable__label-arrow\">OneHotEncoder</label><div class=\"sk-toggleable__content\"><pre>OneHotEncoder(handle_unknown=&#x27;ignore&#x27;)</pre></div></div></div></div></div></div></div></div></div></div><div class=\"sk-item\"><div class=\"sk-estimator sk-toggleable\"><input class=\"sk-toggleable__control sk-hidden--visually\" id=\"eda247a6-b5b5-4027-862e-f138a8b53f05\" type=\"checkbox\" ><label for=\"eda247a6-b5b5-4027-862e-f138a8b53f05\" class=\"sk-toggleable__label sk-toggleable__label-arrow\">XGBClassifier</label><div class=\"sk-toggleable__content\"><pre>XGBClassifier(base_score=None, booster=None, colsample_bylevel=None,\n",
       "              colsample_bynode=None, colsample_bytree=None,\n",
       "              enable_categorical=False, gamma=None, gpu_id=None,\n",
       "              importance_type=None, interaction_constraints=None,\n",
       "              learning_rate=None, max_delta_step=None, max_depth=None,\n",
       "              min_child_weight=None, missing=nan, monotone_constraints=None,\n",
       "              n_estimators=100, n_jobs=None, num_classes=5,\n",
       "              num_parallel_tree=None, objective=&#x27;multi:softmax&#x27;, predictor=None,\n",
       "              random_state=None, reg_alpha=None, reg_lambda=None,\n",
       "              scale_pos_weight=None, subsample=None, tree_method=None,\n",
       "              validate_parameters=None, verbosity=None)</pre></div></div></div></div></div></div></div>"
      ],
      "text/plain": [
       "Pipeline(steps=[('columntransformer',\n",
       "                 ColumnTransformer(transformers=[('pipeline-1',\n",
       "                                                  Pipeline(steps=[('robustscaler',\n",
       "                                                                   RobustScaler())]),\n",
       "                                                  ['Item Price',\n",
       "                                                   'Pickup Length']),\n",
       "                                                 ('pipeline-2',\n",
       "                                                  Pipeline(steps=[('onehotencoder',\n",
       "                                                                   OneHotEncoder(handle_unknown='ignore'))]),\n",
       "                                                  ['Store Category',\n",
       "                                                   'Store Segment',\n",
       "                                                   'Store Region',\n",
       "                                                   'Region Language',\n",
       "                                                   'Region Type',\n",
       "                                                   'Cluster'])])),\n",
       "                ('xgbcl...\n",
       "                               interaction_constraints=None, learning_rate=None,\n",
       "                               max_delta_step=None, max_depth=None,\n",
       "                               min_child_weight=None, missing=nan,\n",
       "                               monotone_constraints=None, n_estimators=100,\n",
       "                               n_jobs=None, num_classes=5,\n",
       "                               num_parallel_tree=None,\n",
       "                               objective='multi:softmax', predictor=None,\n",
       "                               random_state=None, reg_alpha=None,\n",
       "                               reg_lambda=None, scale_pos_weight=None,\n",
       "                               subsample=None, tree_method=None,\n",
       "                               validate_parameters=None, verbosity=None))])"
      ]
     },
     "execution_count": 37,
     "metadata": {},
     "output_type": "execute_result"
    }
   ],
   "source": [
    "# Add Estimator\n",
    "pipe = make_pipeline(preprocess, XGBClassifier(objective='multi:softmax',num_classes=5))\n",
    "pipe"
   ]
  },
  {
   "cell_type": "code",
   "execution_count": 38,
   "id": "e12c0086",
   "metadata": {},
   "outputs": [
    {
     "name": "stderr",
     "output_type": "stream",
     "text": [
      "/home/ttatiana/.pyenv/versions/3.8.12/envs/lewagon/lib/python3.8/site-packages/xgboost/sklearn.py:1224: UserWarning: The use of label encoder in XGBClassifier is deprecated and will be removed in a future release. To remove this warning, do the following: 1) Pass option use_label_encoder=False when constructing XGBClassifier object; and 2) Encode your labels (y) as integers starting with 0, i.e. 0, 1, 2, ..., [num_class - 1].\n",
      "  warnings.warn(label_encoder_deprecation_msg, UserWarning)\n"
     ]
    },
    {
     "name": "stdout",
     "output_type": "stream",
     "text": [
      "[16:30:15] WARNING: ../src/learner.cc:576: \n",
      "Parameters: { \"num_classes\" } might not be used.\n",
      "\n",
      "  This could be a false alarm, with some parameters getting used by language bindings but\n",
      "  then being mistakenly passed down to XGBoost core, or some parameter actually being used\n",
      "  but getting flagged wrongly here. Please open an issue if you find any such cases.\n",
      "\n",
      "\n",
      "[16:30:15] WARNING: ../src/learner.cc:1115: Starting in XGBoost 1.3.0, the default evaluation metric used with the objective 'multi:softprob' was changed from 'merror' to 'mlogloss'. Explicitly set eval_metric if you'd like to restore the old behavior.\n"
     ]
    },
    {
     "data": {
      "text/plain": [
       "0.4757070340826686"
      ]
     },
     "execution_count": 38,
     "metadata": {},
     "output_type": "execute_result"
    }
   ],
   "source": [
    "# Train pipeline, make predictions, score model\n",
    "pipe.fit(X_train,y_train)\n",
    "pipe.predict(X_test)\n",
    "pipe.score(X_test,y_test)"
   ]
  },
  {
   "cell_type": "code",
   "execution_count": 58,
   "id": "739f432a",
   "metadata": {},
   "outputs": [
    {
     "data": {
      "text/plain": [
       "array([4, 2])"
      ]
     },
     "execution_count": 58,
     "metadata": {},
     "output_type": "execute_result"
    }
   ],
   "source": [
    "pipe.predict(X_test[0:2])\n",
    "# Predict class labels"
   ]
  },
  {
   "cell_type": "code",
   "execution_count": 45,
   "id": "41fb8771",
   "metadata": {},
   "outputs": [
    {
     "data": {
      "text/plain": [
       "2612    3\n",
       "5867    2\n",
       "Name: Supply_binned, dtype: category\n",
       "Categories (5, int64): [0 < 1 < 2 < 3 < 4]"
      ]
     },
     "execution_count": 45,
     "metadata": {},
     "output_type": "execute_result"
    }
   ],
   "source": [
    "y_test[0:2]"
   ]
  },
  {
   "cell_type": "code",
   "execution_count": 51,
   "id": "0472573b",
   "metadata": {},
   "outputs": [
    {
     "data": {
      "text/plain": [
       "array([0, 1, 2, 3, 4])"
      ]
     },
     "execution_count": 51,
     "metadata": {},
     "output_type": "execute_result"
    }
   ],
   "source": [
    "pipe[1].classes_"
   ]
  },
  {
   "cell_type": "code",
   "execution_count": 52,
   "id": "273a0b9c",
   "metadata": {
    "collapsed": true
   },
   "outputs": [
    {
     "data": {
      "text/plain": [
       "array([[-4.25078125e-02, -1.43721976e-02, -1.26135164e-01,\n",
       "         2.27604532e-01,  3.65774740e-02, -1.95361577e-01,\n",
       "        -1.06606113e+00, -9.92476583e-01, -3.33137556e-01,\n",
       "        -1.15982126e+00,  7.39804331e-02, -8.95466606e-02,\n",
       "         1.71508362e+00,  4.19587743e-01, -1.83233728e-01,\n",
       "        -8.19533863e-01,  5.31205130e-01, -3.72759759e-01,\n",
       "        -1.95361577e-01,  3.16425342e-01,  8.07751478e-01,\n",
       "        -8.37940462e-01,  7.89936870e-01,  3.13283772e-01,\n",
       "        -1.89521969e-01,  1.18851279e-04,  1.53272693e+00,\n",
       "         4.19240215e-02, -3.59944380e-01, -4.71156754e-01,\n",
       "         1.65524353e-01, -7.73752415e-01,  1.77708065e-01,\n",
       "         6.73365551e-02, -5.22319285e-02, -1.97110924e-01,\n",
       "        -5.98755646e-01, -1.53398354e-01,  4.31753514e-01,\n",
       "         1.00455594e+00, -9.14859831e-02,  9.94631118e-02,\n",
       "         6.27241219e-01,  9.13434281e-01, -2.89883317e-01,\n",
       "        -3.86559750e-01, -8.70670519e-01, -1.04237465e-01,\n",
       "        -4.71769524e-01,  1.68987849e-01,  3.34403126e-01,\n",
       "        -1.15461132e-01, -1.18081566e-01,  1.03054625e+00,\n",
       "        -3.83713729e-01,  7.46097879e-02, -3.00912371e-01,\n",
       "         1.68987849e-01,  1.21968738e-01, -1.79283472e-01,\n",
       "         7.48122327e-01, -6.50613771e-01, -3.30010248e-02,\n",
       "         1.98685125e-01, -3.20507390e-01],\n",
       "       [ 3.02013966e-02,  7.70617864e-03, -7.15455641e-02,\n",
       "        -1.22705754e-01, -9.44118932e-02,  2.99005630e-01,\n",
       "        -4.00642557e-01, -4.97131455e-01, -9.68953275e-01,\n",
       "         5.95993171e-01,  3.60244032e-01, -1.82051783e-01,\n",
       "        -5.31027063e-01, -4.54874913e-03, -4.96987906e-01,\n",
       "         1.39815639e-01,  7.27678244e-01, -1.58592264e-01,\n",
       "         2.99005630e-01, -1.10619151e-01,  2.28362814e-01,\n",
       "         2.88874336e-01, -2.94890429e-02,  9.19414908e-02,\n",
       "        -6.12273266e-01,  5.27051925e-01,  9.50215925e-01,\n",
       "        -2.29823933e-01,  2.32996562e-02, -1.33355996e-01,\n",
       "         6.56923353e-01, -4.88688722e-01, -1.68396104e-01,\n",
       "        -1.20413010e-01,  3.03851187e-01,  3.74438777e-02,\n",
       "        -2.87042034e-01, -1.90389384e-02,  1.29513936e-01,\n",
       "         5.77066612e-02,  1.53076424e-01, -1.66904469e-01,\n",
       "         1.21718344e-01, -3.40752992e-01, -1.90210563e-01,\n",
       "        -2.29916974e-01,  9.01168146e-02, -9.74199962e-03,\n",
       "        -8.86274110e-02,  1.24464149e-01,  4.43729502e-01,\n",
       "         2.08505630e-01,  3.07335121e-02,  6.52792822e-02,\n",
       "        -1.69631039e-01, -1.19556822e-01,  5.43509270e-03,\n",
       "         1.24464149e-01,  4.92265395e-02, -3.88841201e-02,\n",
       "        -1.25301993e-01,  3.66783521e-01, -2.41711164e-01,\n",
       "         3.16996026e-01, -3.06423971e-01],\n",
       "       [-1.53578514e-03,  1.11307061e-02,  1.10050114e-01,\n",
       "         6.32876520e-02, -6.75660918e-02, -6.90620190e-02,\n",
       "         1.52694742e-01,  3.44372662e-02,  2.25575291e-01,\n",
       "         3.63187266e-01,  1.60776439e-01, -1.59929430e-01,\n",
       "        -4.14514456e-01, -2.44748720e-01, -1.33265073e-01,\n",
       "        -6.19369240e-02,  4.68569430e-01,  1.72990166e-01,\n",
       "        -6.90620190e-02, -1.72610974e-01, -5.27386160e-01,\n",
       "        -2.13278320e-01, -2.35136897e-01, -6.14002681e-02,\n",
       "         2.85159552e-01,  4.94815962e-01, -1.49733748e-02,\n",
       "        -1.46001690e-01,  1.32747848e-01,  3.45835675e-03,\n",
       "        -6.76720158e-01,  8.50133846e-01,  3.73700180e-02,\n",
       "        -1.68280886e-01,  1.15715085e-01,  2.03613217e-01,\n",
       "         1.21728441e-01, -7.83595020e-02, -9.38238418e-02,\n",
       "         2.90661252e-02,  1.92118090e-02, -7.18247004e-02,\n",
       "        -4.25448858e-01, -2.08352305e-01,  2.08597853e-01,\n",
       "         6.22981720e-02,  3.92333911e-02,  3.23885567e-02,\n",
       "        -9.98850524e-04,  1.98936020e-02,  3.84467983e-01,\n",
       "        -1.08160217e-01, -1.43399156e-01, -8.98494035e-02,\n",
       "        -2.52489215e-02,  3.10237092e-02, -1.42076560e-02,\n",
       "         1.98936020e-02,  2.27620127e-02,  1.39476425e-02,\n",
       "        -9.64671079e-02,  2.17556763e-01,  7.47355254e-03,\n",
       "        -5.45097287e-02, -3.73438242e-02],\n",
       "       [-8.32936498e-03, -1.13947373e-02,  8.02823647e-02,\n",
       "        -9.27329381e-02,  3.83653015e-02, -5.05799712e-02,\n",
       "         6.41317717e-01,  9.41246163e-01,  5.97068892e-01,\n",
       "         2.87898946e-01, -2.16396143e-01,  5.04622064e-01,\n",
       "        -6.84537766e-01, -2.62555950e-01,  5.11529414e-01,\n",
       "         2.31509872e-01, -6.96477753e-01, -3.97589472e-02,\n",
       "        -5.05799712e-02, -7.36872808e-01,  5.80663901e-02,\n",
       "         1.99487851e-01, -4.37922351e-01,  3.64358032e-03,\n",
       "         1.65368030e-01, -2.12238882e-01, -1.06140421e+00,\n",
       "         3.04285524e-01, -7.19649014e-02,  3.87553994e-01,\n",
       "         7.36522261e-01, -4.90417237e-01, -2.89392611e-01,\n",
       "         1.07778835e-02, -1.12595640e-01, -1.80614546e-01,\n",
       "         3.14984227e-01, -2.62118662e-02, -3.04626221e-01,\n",
       "        -6.95105960e-01,  9.17572001e-02,  4.43330952e-03,\n",
       "        -3.72636875e-01, -2.82641246e-02,  1.34883822e-01,\n",
       "         3.88485326e-01, -5.55571430e-02,  1.09466885e-01,\n",
       "         3.29883793e-01, -2.80022177e-01, -5.72112994e-01,\n",
       "         7.09178437e-01, -5.18298806e-02, -6.57414044e-02,\n",
       "         2.82536299e-01,  1.01045587e-01,  1.54311347e-01,\n",
       "        -2.80022177e-01, -1.47817400e-01,  1.23152157e-01,\n",
       "         1.59784752e-02,  6.16410311e-02, -6.44797114e-01,\n",
       "         1.29605247e-01,  4.12907118e-01],\n",
       "       [ 2.21715660e-02,  6.93005008e-03,  7.34824913e-03,\n",
       "        -7.54534925e-02,  8.70352095e-02,  1.59979369e-02,\n",
       "         6.72691229e-01,  5.13924608e-01,  4.79446647e-01,\n",
       "        -8.72581260e-02, -3.78604761e-01, -7.30941904e-02,\n",
       "        -8.50043315e-02,  9.22656763e-02,  3.01957293e-01,\n",
       "         5.10145276e-01, -1.03097505e+00,  3.98120804e-01,\n",
       "         1.59979369e-02,  7.03677591e-01, -5.66794523e-01,\n",
       "         5.62856596e-01, -8.73885795e-02, -3.47468575e-01,\n",
       "         3.51267653e-01, -8.09747856e-01, -1.40656527e+00,\n",
       "         2.96160775e-02,  2.75861777e-01,  2.13500399e-01,\n",
       "        -8.82249808e-01,  9.02724529e-01,  2.42710633e-01,\n",
       "         2.10579458e-01, -2.54738704e-01,  1.36668375e-01,\n",
       "         4.49085012e-01,  2.77008661e-01, -1.62817387e-01,\n",
       "        -3.96222769e-01, -1.72559450e-01,  1.34832748e-01,\n",
       "         4.91261702e-02, -3.36064861e-01,  1.36612204e-01,\n",
       "         1.65693225e-01,  7.96877456e-01, -2.78759774e-02,\n",
       "         2.31511993e-01, -3.33234233e-02, -5.90487617e-01,\n",
       "        -6.94062717e-01,  2.82577091e-01, -9.40234727e-01,\n",
       "         2.96057391e-01, -8.71222615e-02,  1.55373588e-01,\n",
       "        -3.33234233e-02, -4.61398898e-02,  8.10677928e-02,\n",
       "        -5.42331701e-01,  4.63245550e-03,  9.12035750e-01,\n",
       "        -5.90776670e-01,  2.51368068e-01]])"
      ]
     },
     "execution_count": 52,
     "metadata": {},
     "output_type": "execute_result"
    }
   ],
   "source": [
    "#when multi_class='multinomial', coef_ corresponds to outcome 1 (True) and -coef_ corresponds to outcome 0 (False)\n",
    "pipe[1].coef_"
   ]
  },
  {
   "cell_type": "code",
   "execution_count": 53,
   "id": "7af12b09",
   "metadata": {},
   "outputs": [
    {
     "data": {
      "text/plain": [
       "65"
      ]
     },
     "execution_count": 53,
     "metadata": {},
     "output_type": "execute_result"
    }
   ],
   "source": [
    "pipe[1].n_features_in_"
   ]
  },
  {
   "cell_type": "code",
   "execution_count": 57,
   "id": "02074fc9",
   "metadata": {},
   "outputs": [
    {
     "data": {
      "text/plain": [
       "{'C': 1.0,\n",
       " 'class_weight': 'balanced',\n",
       " 'dual': False,\n",
       " 'fit_intercept': True,\n",
       " 'intercept_scaling': 1,\n",
       " 'l1_ratio': None,\n",
       " 'max_iter': 1000,\n",
       " 'multi_class': 'multinomial',\n",
       " 'n_jobs': -1,\n",
       " 'penalty': 'l2',\n",
       " 'random_state': None,\n",
       " 'solver': 'lbfgs',\n",
       " 'tol': 0.0001,\n",
       " 'verbose': 0,\n",
       " 'warm_start': False}"
      ]
     },
     "execution_count": 57,
     "metadata": {},
     "output_type": "execute_result"
    }
   ],
   "source": [
    "pipe[1].get_params()"
   ]
  },
  {
   "cell_type": "code",
   "execution_count": 50,
   "id": "6aae3908",
   "metadata": {
    "scrolled": false
   },
   "outputs": [
    {
     "data": {
      "text/plain": [
       "0.2718381324913207"
      ]
     },
     "execution_count": 50,
     "metadata": {},
     "output_type": "execute_result"
    }
   ],
   "source": [
    "# Cross validate pipeline\n",
    "cross_val_score(pipe, X_train, y_train, cv=5, scoring='accuracy').mean()"
   ]
  },
  {
   "cell_type": "markdown",
   "id": "92d80ba7",
   "metadata": {},
   "source": [
    "### Grid Search"
   ]
  },
  {
   "cell_type": "code",
   "execution_count": null,
   "id": "dd98faf9",
   "metadata": {},
   "outputs": [],
   "source": [
    "\"\"\"The choice of the algorithm depends on the penalty chosen: Supported penalties by solver:\n",
    "‘newton-cg’ - [‘l2’, ‘none’]\n",
    "‘lbfgs’ - [‘l2’, ‘none’]\n",
    "‘sag’ - [‘l2’, ‘none’]\n",
    "‘saga’ - [‘elasticnet’, ‘l1’, ‘l2’, ‘none’]\n",
    "penalty default=’l2’\n",
    "\n",
    "Solver: for multiclass problems, only ‘newton-cg’, ‘sag’, ‘saga’ and ‘lbfgs’ handle multinomial loss;\n",
    "default=’lbfgs’\n",
    "    \n",
    "‘multinomial’ is unavailable when solver=’liblinear’\"\"\""
   ]
  },
  {
   "cell_type": "code",
   "execution_count": null,
   "id": "5913d47d",
   "metadata": {},
   "outputs": [
    {
     "name": "stdout",
     "output_type": "stream",
     "text": [
      "Fitting 5 folds for each of 18 candidates, totalling 90 fits\n"
     ]
    }
   ],
   "source": [
    "# Train/Val\n",
    "X_train_gs, X_val, y_train_gs, y_val = train_test_split(X_train_transformed, y_train, test_size=0.20, random_state=1)\n",
    "\n",
    "# Instanciate model\n",
    "estimator = LogisticRegression(multi_class='multinomial',n_jobs=-1,max_iter=1000)\n",
    "\n",
    "# Hyperparameter Grid\n",
    "param_grid={'penalty': ['l1','l2','none'],\n",
    "            'C':[1,5,10],\n",
    "            'class_weight': ['balanced', None],\n",
    "            'solver':['saga']\n",
    "           }\n",
    "\n",
    "# Instanciate Grid Search\n",
    "search = GridSearchCV(estimator, param_grid, \n",
    "                           scoring = ['accuracy',\n",
    "                                      'balanced_accuracy'#to deal with imbalanced datasets: average of recall obtained on each class.\n",
    "                                      #,'f1',\n",
    "                                      #'recall',\n",
    "                                      #'precision'\n",
    "                                     ],\n",
    "                           cv = 5,\n",
    "                           n_jobs=-1, # paralellize computation\n",
    "                      verbose=1,\n",
    "                      refit=False\n",
    "                          ) \n",
    "\n",
    "# Fit data to Grid Search\n",
    "search.fit(X_train_gs,y_train_gs);\n",
    "search.best_estimator_"
   ]
  },
  {
   "cell_type": "code",
   "execution_count": null,
   "id": "0f78885c",
   "metadata": {},
   "outputs": [],
   "source": [
    "# Best score\n",
    "search.best_score_"
   ]
  },
  {
   "cell_type": "code",
   "execution_count": null,
   "id": "c9071410",
   "metadata": {},
   "outputs": [],
   "source": [
    "# Best Params\n",
    "search.best_params_"
   ]
  },
  {
   "cell_type": "code",
   "execution_count": null,
   "id": "460b4667",
   "metadata": {},
   "outputs": [],
   "source": [
    "# Best estimator\n",
    "search.best_estimator_"
   ]
  },
  {
   "cell_type": "code",
   "execution_count": null,
   "id": "d5beed1d",
   "metadata": {
    "scrolled": true
   },
   "outputs": [],
   "source": [
    "model1 = LinearRegression()\n",
    "parameters = {\"fit_intercept\": [True, False],\n",
    "             }\n",
    "search1 = GridSearchCV(estimator=model1, param_grid = parameters, scoring='r2', cv = 5, n_jobs=-1)\n",
    "search1.fit(X_train_gs,y_train_gs)\n",
    "search1.best_score_"
   ]
  },
  {
   "cell_type": "code",
   "execution_count": null,
   "id": "b5ee4677",
   "metadata": {},
   "outputs": [],
   "source": [
    "import joblib\n",
    "joblib.dump(pipe5, 'linear_regression_supply.joblib')"
   ]
  }
 ],
 "metadata": {
  "kernelspec": {
   "display_name": "Python 3 (ipykernel)",
   "language": "python",
   "name": "python3"
  },
  "language_info": {
   "codemirror_mode": {
    "name": "ipython",
    "version": 3
   },
   "file_extension": ".py",
   "mimetype": "text/x-python",
   "name": "python",
   "nbconvert_exporter": "python",
   "pygments_lexer": "ipython3",
   "version": "3.8.12"
  },
  "toc": {
   "base_numbering": 1,
   "nav_menu": {},
   "number_sections": true,
   "sideBar": true,
   "skip_h1_title": false,
   "title_cell": "Table of Contents",
   "title_sidebar": "Contents",
   "toc_cell": false,
   "toc_position": {},
   "toc_section_display": true,
   "toc_window_display": false
  }
 },
 "nbformat": 4,
 "nbformat_minor": 5
}
