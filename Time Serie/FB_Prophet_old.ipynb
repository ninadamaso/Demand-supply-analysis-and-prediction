{
 "cells": [
  {
   "cell_type": "code",
   "execution_count": 3,
   "id": "cb234cd8",
   "metadata": {
    "colab": {
     "base_uri": "https://localhost:8080/",
     "height": 35
    },
    "id": "cb234cd8",
    "outputId": "11349b7a-206e-4cf7-e44f-d2e2bf9d1876"
   },
   "outputs": [
    {
     "data": {
      "text/plain": [
       "'/Users/ninadamaso/code/ninadamaso/Demand-supply-analysis-and-prediction'"
      ]
     },
     "execution_count": 3,
     "metadata": {},
     "output_type": "execute_result"
    }
   ],
   "source": [
    "import pandas as pd\n",
    "import matplotlib.pyplot as plt\n",
    "import seaborn as sns\n",
    "\n",
    "import os\n",
    "path = os.getcwd()\n",
    "\n",
    "path"
   ]
  },
  {
   "cell_type": "markdown",
   "id": "1346718c",
   "metadata": {
    "id": "1346718c"
   },
   "source": [
    "## Dataframe"
   ]
  },
  {
   "cell_type": "code",
   "execution_count": 5,
   "id": "8c144b65",
   "metadata": {
    "colab": {
     "base_uri": "https://localhost:8080/",
     "height": 335
    },
    "id": "8c144b65",
    "outputId": "46ab149b-fef4-4411-c44a-b97cea4f2b2d"
   },
   "outputs": [
    {
     "ename": "FileNotFoundError",
     "evalue": "[Errno 2] No such file or directory: 'grand_master_report.csv'",
     "output_type": "error",
     "traceback": [
      "\u001b[0;31m---------------------------------------------------------------------------\u001b[0m",
      "\u001b[0;31mFileNotFoundError\u001b[0m                         Traceback (most recent call last)",
      "\u001b[0;32m/var/folders/sk/356yz4gx0c169x5ft8052vkc0000gn/T/ipykernel_79301/1485858205.py\u001b[0m in \u001b[0;36m<module>\u001b[0;34m\u001b[0m\n\u001b[0;32m----> 1\u001b[0;31m \u001b[0mdf\u001b[0m \u001b[0;34m=\u001b[0m \u001b[0mpd\u001b[0m\u001b[0;34m.\u001b[0m\u001b[0mread_csv\u001b[0m\u001b[0;34m(\u001b[0m\u001b[0;34m'grand_master_report.csv'\u001b[0m\u001b[0;34m)\u001b[0m\u001b[0;34m\u001b[0m\u001b[0;34m\u001b[0m\u001b[0m\n\u001b[0m",
      "\u001b[0;32m~/.pyenv/versions/3.8.12/envs/lewagon/lib/python3.8/site-packages/pandas/util/_decorators.py\u001b[0m in \u001b[0;36mwrapper\u001b[0;34m(*args, **kwargs)\u001b[0m\n\u001b[1;32m    309\u001b[0m                     \u001b[0mstacklevel\u001b[0m\u001b[0;34m=\u001b[0m\u001b[0mstacklevel\u001b[0m\u001b[0;34m,\u001b[0m\u001b[0;34m\u001b[0m\u001b[0;34m\u001b[0m\u001b[0m\n\u001b[1;32m    310\u001b[0m                 )\n\u001b[0;32m--> 311\u001b[0;31m             \u001b[0;32mreturn\u001b[0m \u001b[0mfunc\u001b[0m\u001b[0;34m(\u001b[0m\u001b[0;34m*\u001b[0m\u001b[0margs\u001b[0m\u001b[0;34m,\u001b[0m \u001b[0;34m**\u001b[0m\u001b[0mkwargs\u001b[0m\u001b[0;34m)\u001b[0m\u001b[0;34m\u001b[0m\u001b[0;34m\u001b[0m\u001b[0m\n\u001b[0m\u001b[1;32m    312\u001b[0m \u001b[0;34m\u001b[0m\u001b[0m\n\u001b[1;32m    313\u001b[0m         \u001b[0;32mreturn\u001b[0m \u001b[0mwrapper\u001b[0m\u001b[0;34m\u001b[0m\u001b[0;34m\u001b[0m\u001b[0m\n",
      "\u001b[0;32m~/.pyenv/versions/3.8.12/envs/lewagon/lib/python3.8/site-packages/pandas/io/parsers/readers.py\u001b[0m in \u001b[0;36mread_csv\u001b[0;34m(filepath_or_buffer, sep, delimiter, header, names, index_col, usecols, squeeze, prefix, mangle_dupe_cols, dtype, engine, converters, true_values, false_values, skipinitialspace, skiprows, skipfooter, nrows, na_values, keep_default_na, na_filter, verbose, skip_blank_lines, parse_dates, infer_datetime_format, keep_date_col, date_parser, dayfirst, cache_dates, iterator, chunksize, compression, thousands, decimal, lineterminator, quotechar, quoting, doublequote, escapechar, comment, encoding, encoding_errors, dialect, error_bad_lines, warn_bad_lines, on_bad_lines, delim_whitespace, low_memory, memory_map, float_precision, storage_options)\u001b[0m\n\u001b[1;32m    584\u001b[0m     \u001b[0mkwds\u001b[0m\u001b[0;34m.\u001b[0m\u001b[0mupdate\u001b[0m\u001b[0;34m(\u001b[0m\u001b[0mkwds_defaults\u001b[0m\u001b[0;34m)\u001b[0m\u001b[0;34m\u001b[0m\u001b[0;34m\u001b[0m\u001b[0m\n\u001b[1;32m    585\u001b[0m \u001b[0;34m\u001b[0m\u001b[0m\n\u001b[0;32m--> 586\u001b[0;31m     \u001b[0;32mreturn\u001b[0m \u001b[0m_read\u001b[0m\u001b[0;34m(\u001b[0m\u001b[0mfilepath_or_buffer\u001b[0m\u001b[0;34m,\u001b[0m \u001b[0mkwds\u001b[0m\u001b[0;34m)\u001b[0m\u001b[0;34m\u001b[0m\u001b[0;34m\u001b[0m\u001b[0m\n\u001b[0m\u001b[1;32m    587\u001b[0m \u001b[0;34m\u001b[0m\u001b[0m\n\u001b[1;32m    588\u001b[0m \u001b[0;34m\u001b[0m\u001b[0m\n",
      "\u001b[0;32m~/.pyenv/versions/3.8.12/envs/lewagon/lib/python3.8/site-packages/pandas/io/parsers/readers.py\u001b[0m in \u001b[0;36m_read\u001b[0;34m(filepath_or_buffer, kwds)\u001b[0m\n\u001b[1;32m    480\u001b[0m \u001b[0;34m\u001b[0m\u001b[0m\n\u001b[1;32m    481\u001b[0m     \u001b[0;31m# Create the parser.\u001b[0m\u001b[0;34m\u001b[0m\u001b[0;34m\u001b[0m\u001b[0;34m\u001b[0m\u001b[0m\n\u001b[0;32m--> 482\u001b[0;31m     \u001b[0mparser\u001b[0m \u001b[0;34m=\u001b[0m \u001b[0mTextFileReader\u001b[0m\u001b[0;34m(\u001b[0m\u001b[0mfilepath_or_buffer\u001b[0m\u001b[0;34m,\u001b[0m \u001b[0;34m**\u001b[0m\u001b[0mkwds\u001b[0m\u001b[0;34m)\u001b[0m\u001b[0;34m\u001b[0m\u001b[0;34m\u001b[0m\u001b[0m\n\u001b[0m\u001b[1;32m    483\u001b[0m \u001b[0;34m\u001b[0m\u001b[0m\n\u001b[1;32m    484\u001b[0m     \u001b[0;32mif\u001b[0m \u001b[0mchunksize\u001b[0m \u001b[0;32mor\u001b[0m \u001b[0miterator\u001b[0m\u001b[0;34m:\u001b[0m\u001b[0;34m\u001b[0m\u001b[0;34m\u001b[0m\u001b[0m\n",
      "\u001b[0;32m~/.pyenv/versions/3.8.12/envs/lewagon/lib/python3.8/site-packages/pandas/io/parsers/readers.py\u001b[0m in \u001b[0;36m__init__\u001b[0;34m(self, f, engine, **kwds)\u001b[0m\n\u001b[1;32m    809\u001b[0m             \u001b[0mself\u001b[0m\u001b[0;34m.\u001b[0m\u001b[0moptions\u001b[0m\u001b[0;34m[\u001b[0m\u001b[0;34m\"has_index_names\"\u001b[0m\u001b[0;34m]\u001b[0m \u001b[0;34m=\u001b[0m \u001b[0mkwds\u001b[0m\u001b[0;34m[\u001b[0m\u001b[0;34m\"has_index_names\"\u001b[0m\u001b[0;34m]\u001b[0m\u001b[0;34m\u001b[0m\u001b[0;34m\u001b[0m\u001b[0m\n\u001b[1;32m    810\u001b[0m \u001b[0;34m\u001b[0m\u001b[0m\n\u001b[0;32m--> 811\u001b[0;31m         \u001b[0mself\u001b[0m\u001b[0;34m.\u001b[0m\u001b[0m_engine\u001b[0m \u001b[0;34m=\u001b[0m \u001b[0mself\u001b[0m\u001b[0;34m.\u001b[0m\u001b[0m_make_engine\u001b[0m\u001b[0;34m(\u001b[0m\u001b[0mself\u001b[0m\u001b[0;34m.\u001b[0m\u001b[0mengine\u001b[0m\u001b[0;34m)\u001b[0m\u001b[0;34m\u001b[0m\u001b[0;34m\u001b[0m\u001b[0m\n\u001b[0m\u001b[1;32m    812\u001b[0m \u001b[0;34m\u001b[0m\u001b[0m\n\u001b[1;32m    813\u001b[0m     \u001b[0;32mdef\u001b[0m \u001b[0mclose\u001b[0m\u001b[0;34m(\u001b[0m\u001b[0mself\u001b[0m\u001b[0;34m)\u001b[0m\u001b[0;34m:\u001b[0m\u001b[0;34m\u001b[0m\u001b[0;34m\u001b[0m\u001b[0m\n",
      "\u001b[0;32m~/.pyenv/versions/3.8.12/envs/lewagon/lib/python3.8/site-packages/pandas/io/parsers/readers.py\u001b[0m in \u001b[0;36m_make_engine\u001b[0;34m(self, engine)\u001b[0m\n\u001b[1;32m   1038\u001b[0m             )\n\u001b[1;32m   1039\u001b[0m         \u001b[0;31m# error: Too many arguments for \"ParserBase\"\u001b[0m\u001b[0;34m\u001b[0m\u001b[0;34m\u001b[0m\u001b[0;34m\u001b[0m\u001b[0m\n\u001b[0;32m-> 1040\u001b[0;31m         \u001b[0;32mreturn\u001b[0m \u001b[0mmapping\u001b[0m\u001b[0;34m[\u001b[0m\u001b[0mengine\u001b[0m\u001b[0;34m]\u001b[0m\u001b[0;34m(\u001b[0m\u001b[0mself\u001b[0m\u001b[0;34m.\u001b[0m\u001b[0mf\u001b[0m\u001b[0;34m,\u001b[0m \u001b[0;34m**\u001b[0m\u001b[0mself\u001b[0m\u001b[0;34m.\u001b[0m\u001b[0moptions\u001b[0m\u001b[0;34m)\u001b[0m  \u001b[0;31m# type: ignore[call-arg]\u001b[0m\u001b[0;34m\u001b[0m\u001b[0;34m\u001b[0m\u001b[0m\n\u001b[0m\u001b[1;32m   1041\u001b[0m \u001b[0;34m\u001b[0m\u001b[0m\n\u001b[1;32m   1042\u001b[0m     \u001b[0;32mdef\u001b[0m \u001b[0m_failover_to_python\u001b[0m\u001b[0;34m(\u001b[0m\u001b[0mself\u001b[0m\u001b[0;34m)\u001b[0m\u001b[0;34m:\u001b[0m\u001b[0;34m\u001b[0m\u001b[0;34m\u001b[0m\u001b[0m\n",
      "\u001b[0;32m~/.pyenv/versions/3.8.12/envs/lewagon/lib/python3.8/site-packages/pandas/io/parsers/c_parser_wrapper.py\u001b[0m in \u001b[0;36m__init__\u001b[0;34m(self, src, **kwds)\u001b[0m\n\u001b[1;32m     49\u001b[0m \u001b[0;34m\u001b[0m\u001b[0m\n\u001b[1;32m     50\u001b[0m         \u001b[0;31m# open handles\u001b[0m\u001b[0;34m\u001b[0m\u001b[0;34m\u001b[0m\u001b[0;34m\u001b[0m\u001b[0m\n\u001b[0;32m---> 51\u001b[0;31m         \u001b[0mself\u001b[0m\u001b[0;34m.\u001b[0m\u001b[0m_open_handles\u001b[0m\u001b[0;34m(\u001b[0m\u001b[0msrc\u001b[0m\u001b[0;34m,\u001b[0m \u001b[0mkwds\u001b[0m\u001b[0;34m)\u001b[0m\u001b[0;34m\u001b[0m\u001b[0;34m\u001b[0m\u001b[0m\n\u001b[0m\u001b[1;32m     52\u001b[0m         \u001b[0;32massert\u001b[0m \u001b[0mself\u001b[0m\u001b[0;34m.\u001b[0m\u001b[0mhandles\u001b[0m \u001b[0;32mis\u001b[0m \u001b[0;32mnot\u001b[0m \u001b[0;32mNone\u001b[0m\u001b[0;34m\u001b[0m\u001b[0;34m\u001b[0m\u001b[0m\n\u001b[1;32m     53\u001b[0m \u001b[0;34m\u001b[0m\u001b[0m\n",
      "\u001b[0;32m~/.pyenv/versions/3.8.12/envs/lewagon/lib/python3.8/site-packages/pandas/io/parsers/base_parser.py\u001b[0m in \u001b[0;36m_open_handles\u001b[0;34m(self, src, kwds)\u001b[0m\n\u001b[1;32m    220\u001b[0m         \u001b[0mLet\u001b[0m \u001b[0mthe\u001b[0m \u001b[0mreaders\u001b[0m \u001b[0mopen\u001b[0m \u001b[0mIOHandles\u001b[0m \u001b[0mafter\u001b[0m \u001b[0mthey\u001b[0m \u001b[0mare\u001b[0m \u001b[0mdone\u001b[0m \u001b[0;32mwith\u001b[0m \u001b[0mtheir\u001b[0m \u001b[0mpotential\u001b[0m \u001b[0mraises\u001b[0m\u001b[0;34m.\u001b[0m\u001b[0;34m\u001b[0m\u001b[0;34m\u001b[0m\u001b[0m\n\u001b[1;32m    221\u001b[0m         \"\"\"\n\u001b[0;32m--> 222\u001b[0;31m         self.handles = get_handle(\n\u001b[0m\u001b[1;32m    223\u001b[0m             \u001b[0msrc\u001b[0m\u001b[0;34m,\u001b[0m\u001b[0;34m\u001b[0m\u001b[0;34m\u001b[0m\u001b[0m\n\u001b[1;32m    224\u001b[0m             \u001b[0;34m\"r\"\u001b[0m\u001b[0;34m,\u001b[0m\u001b[0;34m\u001b[0m\u001b[0;34m\u001b[0m\u001b[0m\n",
      "\u001b[0;32m~/.pyenv/versions/3.8.12/envs/lewagon/lib/python3.8/site-packages/pandas/io/common.py\u001b[0m in \u001b[0;36mget_handle\u001b[0;34m(path_or_buf, mode, encoding, compression, memory_map, is_text, errors, storage_options)\u001b[0m\n\u001b[1;32m    700\u001b[0m         \u001b[0;32mif\u001b[0m \u001b[0mioargs\u001b[0m\u001b[0;34m.\u001b[0m\u001b[0mencoding\u001b[0m \u001b[0;32mand\u001b[0m \u001b[0;34m\"b\"\u001b[0m \u001b[0;32mnot\u001b[0m \u001b[0;32min\u001b[0m \u001b[0mioargs\u001b[0m\u001b[0;34m.\u001b[0m\u001b[0mmode\u001b[0m\u001b[0;34m:\u001b[0m\u001b[0;34m\u001b[0m\u001b[0;34m\u001b[0m\u001b[0m\n\u001b[1;32m    701\u001b[0m             \u001b[0;31m# Encoding\u001b[0m\u001b[0;34m\u001b[0m\u001b[0;34m\u001b[0m\u001b[0;34m\u001b[0m\u001b[0m\n\u001b[0;32m--> 702\u001b[0;31m             handle = open(\n\u001b[0m\u001b[1;32m    703\u001b[0m                 \u001b[0mhandle\u001b[0m\u001b[0;34m,\u001b[0m\u001b[0;34m\u001b[0m\u001b[0;34m\u001b[0m\u001b[0m\n\u001b[1;32m    704\u001b[0m                 \u001b[0mioargs\u001b[0m\u001b[0;34m.\u001b[0m\u001b[0mmode\u001b[0m\u001b[0;34m,\u001b[0m\u001b[0;34m\u001b[0m\u001b[0;34m\u001b[0m\u001b[0m\n",
      "\u001b[0;31mFileNotFoundError\u001b[0m: [Errno 2] No such file or directory: 'grand_master_report.csv'"
     ]
    }
   ],
   "source": [
    "df = pd.read_csv('grand_master_report.csv')"
   ]
  },
  {
   "cell_type": "code",
   "execution_count": null,
   "id": "0b0d35b2",
   "metadata": {
    "colab": {
     "base_uri": "https://localhost:8080/",
     "height": 168
    },
    "id": "0b0d35b2",
    "outputId": "214b62eb-a44a-4e49-ecf5-71db85224b11"
   },
   "outputs": [],
   "source": [
    "df.head()"
   ]
  },
  {
   "cell_type": "code",
   "execution_count": null,
   "id": "54212629",
   "metadata": {
    "id": "54212629",
    "scrolled": false
   },
   "outputs": [],
   "source": [
    "manufacturer_columns=[col for col in df.columns.to_list() if col.endswith('Manufacturer')]\n",
    "df.drop(columns=manufacturer_columns,inplace=True)\n",
    "df"
   ]
  },
  {
   "cell_type": "code",
   "execution_count": null,
   "id": "3fac3dc7",
   "metadata": {
    "id": "3fac3dc7"
   },
   "outputs": [],
   "source": [
    "df['Day\\nDate'] = pd.to_datetime(df['Day\\nDate'], format='%d.%m.%y')"
   ]
  },
  {
   "cell_type": "code",
   "execution_count": null,
   "id": "9694c5f5",
   "metadata": {
    "id": "9694c5f5"
   },
   "outputs": [],
   "source": [
    "df['m_y'] = df['Day\\nDate'].dt.strftime('%m.%Y')"
   ]
  },
  {
   "cell_type": "code",
   "execution_count": null,
   "id": "9ce90722",
   "metadata": {
    "id": "9ce90722"
   },
   "outputs": [],
   "source": [
    "df['Day\\nDate'] = pd.to_datetime(df['Day\\nDate'], format='%d.%m.%y')"
   ]
  },
  {
   "cell_type": "code",
   "execution_count": null,
   "id": "ad4d9521",
   "metadata": {
    "id": "ad4d9521"
   },
   "outputs": [],
   "source": [
    "df"
   ]
  },
  {
   "cell_type": "code",
   "execution_count": null,
   "id": "0365f38d",
   "metadata": {
    "id": "0365f38d"
   },
   "outputs": [],
   "source": [
    "df[\"month_year\"] = df['Day\\nDate'].dt.to_period('M')\n"
   ]
  },
  {
   "cell_type": "code",
   "execution_count": null,
   "id": "c61dc146",
   "metadata": {
    "id": "c61dc146"
   },
   "outputs": [],
   "source": [
    "df[\"year\"] = df['Day\\nDate'].dt.to_period('Y')"
   ]
  },
  {
   "cell_type": "code",
   "execution_count": null,
   "id": "6807019b",
   "metadata": {
    "id": "6807019b"
   },
   "outputs": [],
   "source": [
    "df = df.sort_values(by='Day\\nDate', ascending=True)\n",
    "df"
   ]
  },
  {
   "cell_type": "code",
   "execution_count": null,
   "id": "653d2551",
   "metadata": {
    "id": "653d2551",
    "scrolled": true
   },
   "outputs": [],
   "source": [
    "df['mm'] = pd.to_datetime(df['Day\\nDate']).dt.month\n",
    "df"
   ]
  },
  {
   "cell_type": "code",
   "execution_count": null,
   "id": "70a9c33f",
   "metadata": {
    "id": "70a9c33f"
   },
   "outputs": [],
   "source": [
    "df.info()"
   ]
  },
  {
   "cell_type": "markdown",
   "id": "6f5f5000",
   "metadata": {
    "heading_collapsed": true,
    "id": "6f5f5000"
   },
   "source": [
    "## Visualisation"
   ]
  },
  {
   "cell_type": "code",
   "execution_count": null,
   "id": "4bbc5722",
   "metadata": {
    "hidden": true,
    "id": "4bbc5722"
   },
   "outputs": [],
   "source": [
    "plt.figure(figsize=(28, 6))\n",
    "\n",
    "sns.lineplot(data=df, x=\"Day\\nDate\", y=\"NewPayingUsers\")\n",
    "sns.lineplot(data=df, x=\"Day\\nDate\", y=\"PaidMeals\")\n"
   ]
  },
  {
   "cell_type": "code",
   "execution_count": null,
   "id": "676de86c",
   "metadata": {
    "hidden": true,
    "id": "676de86c"
   },
   "outputs": [],
   "source": [
    "plt.figure(figsize=(28, 6))\n",
    "\n",
    "sns.lineplot(data=df, x=\"Day\\nDate\", y=\"AddedSupply\")\n",
    "sns.lineplot(data=df, x=\"Day\\nDate\", y=\"SubtractedSupply\")"
   ]
  },
  {
   "cell_type": "code",
   "execution_count": null,
   "id": "6ac5c56a",
   "metadata": {
    "hidden": true,
    "id": "6ac5c56a"
   },
   "outputs": [],
   "source": [
    "\n",
    "plt.figure(figsize=(12, 6))\n",
    "sns.lineplot(data=df, x=\"Day\\nDate\", y=\"ActiveUsers\")"
   ]
  },
  {
   "cell_type": "code",
   "execution_count": null,
   "id": "df356a1e",
   "metadata": {
    "hidden": true,
    "id": "df356a1e"
   },
   "outputs": [],
   "source": [
    "plt.figure(figsize=(12, 6))\n",
    "sns.lineplot(data=df, x=\"Day\\nDate\", y=\"DeclaredSupply\")"
   ]
  },
  {
   "cell_type": "code",
   "execution_count": null,
   "id": "b7e15450",
   "metadata": {
    "hidden": true,
    "id": "b7e15450"
   },
   "outputs": [],
   "source": [
    "plt.figure(figsize=(12, 6))\n",
    "sns.lineplot(data=df, x=\"m_y\", y=\"DeclaredSupply\")"
   ]
  },
  {
   "cell_type": "code",
   "execution_count": null,
   "id": "56d7de1d",
   "metadata": {
    "hidden": true,
    "id": "56d7de1d",
    "scrolled": true
   },
   "outputs": [],
   "source": [
    "df['month_year'].value_counts()"
   ]
  },
  {
   "cell_type": "code",
   "execution_count": null,
   "id": "6ba85bb0",
   "metadata": {
    "hidden": true,
    "id": "6ba85bb0"
   },
   "outputs": [],
   "source": [
    "plt.figure(figsize=(28, 6))\n",
    "\n",
    "sns.lineplot(data=df, x=\"Day\\nDate\", y=\"ActiveUsers\")"
   ]
  },
  {
   "cell_type": "code",
   "execution_count": null,
   "id": "3e36cc38",
   "metadata": {
    "hidden": true,
    "id": "3e36cc38"
   },
   "outputs": [],
   "source": [
    "plt.figure(figsize=(28,15))\n",
    "sns.heatmap(df.corr(), cmap='coolwarm', annot = True, annot_kws={\"size\": 12})"
   ]
  },
  {
   "cell_type": "code",
   "execution_count": null,
   "id": "d5cedd79",
   "metadata": {
    "hidden": true,
    "id": "d5cedd79"
   },
   "outputs": [],
   "source": [
    "plt.figure(figsize=(28, 15))\n",
    "\n",
    "sns.lineplot(data=df, x=\"m_y\", y=\"ActiveUsers\")\n",
    "sns.lineplot(data=df, x=\"m_y\", y=\"MealsSaved\")\n"
   ]
  },
  {
   "cell_type": "code",
   "execution_count": null,
   "id": "7763cea5",
   "metadata": {
    "hidden": true,
    "id": "7763cea5"
   },
   "outputs": [],
   "source": [
    "plt.figure(figsize=(28, 10))\n",
    "\n",
    "sns.scatterplot(data=df, x=\"PayingUsers\", y=\"MealsSaved\", hue=\"MealsSaved\")"
   ]
  },
  {
   "cell_type": "code",
   "execution_count": null,
   "id": "4b0632ab",
   "metadata": {
    "hidden": true,
    "id": "4b0632ab"
   },
   "outputs": [],
   "source": [
    "plt.figure(figsize=(28, 10))\n",
    "\n",
    "sns.scatterplot(data=df, x=\"NewPayingUsers\", y=\"MealsSaved\", hue=\"MealsSaved\", sizes=(200, 80))"
   ]
  },
  {
   "cell_type": "code",
   "execution_count": null,
   "id": "49b59e2d",
   "metadata": {
    "hidden": true,
    "id": "49b59e2d",
    "scrolled": false
   },
   "outputs": [],
   "source": [
    "plt.figure(figsize=(28, 10))\n",
    "\n",
    "sns.scatterplot(data=df, x=\"ActiveUsers\", y=\"PayingUsers\", hue=\"All-TimePayingUsers\")"
   ]
  },
  {
   "cell_type": "code",
   "execution_count": null,
   "id": "1d7ab24b",
   "metadata": {
    "hidden": true,
    "id": "1d7ab24b",
    "scrolled": true
   },
   "outputs": [],
   "source": [
    "df.info()"
   ]
  },
  {
   "cell_type": "code",
   "execution_count": null,
   "id": "496270e8",
   "metadata": {
    "hidden": true,
    "id": "496270e8"
   },
   "outputs": [],
   "source": [
    "plt.figure(figsize=(28, 6))\n",
    "\n",
    "\n",
    "sns.boxplot(data=df, x=\"m_y\", y=\"ActiveUsers\")\n"
   ]
  },
  {
   "cell_type": "code",
   "execution_count": null,
   "id": "26bcacb2",
   "metadata": {
    "hidden": true,
    "id": "26bcacb2"
   },
   "outputs": [],
   "source": [
    "df.head()"
   ]
  },
  {
   "cell_type": "markdown",
   "id": "23143ad7",
   "metadata": {
    "heading_collapsed": true,
    "id": "23143ad7"
   },
   "source": [
    "## Prophet MealsSaved\n",
    "\n",
    "\n"
   ]
  },
  {
   "cell_type": "code",
   "execution_count": null,
   "id": "d9f22232",
   "metadata": {
    "hidden": true,
    "id": "d9f22232"
   },
   "outputs": [],
   "source": [
    "dfp = pd.DataFrame(df, columns = ['Day\\nDate', 'MealsSaved'])\n",
    "dfp"
   ]
  },
  {
   "cell_type": "code",
   "execution_count": null,
   "id": "9a35cb98",
   "metadata": {
    "hidden": true,
    "id": "9a35cb98"
   },
   "outputs": [],
   "source": [
    "dfp.columns = ['ds', 'y']\n",
    "\n",
    "dfp.head()"
   ]
  },
  {
   "cell_type": "code",
   "execution_count": null,
   "id": "1108bf33",
   "metadata": {
    "hidden": true,
    "id": "1108bf33"
   },
   "outputs": [],
   "source": [
    "dfp['ds'] = pd.to_datetime(dfp['ds'])\n",
    "dfp"
   ]
  },
  {
   "cell_type": "code",
   "execution_count": null,
   "id": "26411ee3",
   "metadata": {
    "hidden": true,
    "id": "26411ee3"
   },
   "outputs": [],
   "source": [
    "plt.figure(figsize=(12, 8))\n",
    "plt.grid(linestyle='-.')\n",
    "\n",
    "plt.plot(dfp['ds'], dfp['y'], 'b')\n",
    "plt.show()"
   ]
  },
  {
   "cell_type": "code",
   "execution_count": null,
   "id": "e9525661",
   "metadata": {
    "hidden": true,
    "id": "e9525661"
   },
   "outputs": [],
   "source": [
    "from fbprophet import Prophet\n",
    "train = dfp.iloc[:440]\n",
    "test = dfp.iloc[440:]"
   ]
  },
  {
   "cell_type": "code",
   "execution_count": null,
   "id": "c9afaaa5",
   "metadata": {
    "hidden": true,
    "id": "c9afaaa5"
   },
   "outputs": [],
   "source": [
    "train.shape, test.shape"
   ]
  },
  {
   "cell_type": "code",
   "execution_count": null,
   "id": "276ba56c",
   "metadata": {
    "hidden": true,
    "id": "276ba56c"
   },
   "outputs": [],
   "source": [
    "train"
   ]
  },
  {
   "cell_type": "code",
   "execution_count": null,
   "id": "6b7a36b6",
   "metadata": {
    "hidden": true,
    "id": "6b7a36b6"
   },
   "outputs": [],
   "source": [
    "model = Prophet(seasonality_mode='multiplicative', interval_width=0.95, yearly_seasonality=True, weekly_seasonality=True)\n",
    "model.fit(train)"
   ]
  },
  {
   "cell_type": "code",
   "execution_count": null,
   "id": "89dd1ae2",
   "metadata": {
    "hidden": true,
    "id": "89dd1ae2"
   },
   "outputs": [],
   "source": [
    "horizon = 36\n",
    "future = model.make_future_dataframe(periods=horizon)\n",
    "forecast = model.predict(future)\n",
    "forecast[['ds', 'yhat', 'yhat_lower', 'yhat_upper']].tail()"
   ]
  },
  {
   "cell_type": "code",
   "execution_count": null,
   "id": "5e98cd71",
   "metadata": {
    "hidden": true,
    "id": "5e98cd71"
   },
   "outputs": [],
   "source": [
    "ax = model.plot(forecast);"
   ]
  },
  {
   "cell_type": "code",
   "execution_count": null,
   "id": "cdf81ec7",
   "metadata": {
    "hidden": true,
    "id": "cdf81ec7"
   },
   "outputs": [],
   "source": [
    "plt.figure(figsize=(15, 8))\n",
    "plt.plot(train['ds'], train['y'], label=\"Train\")\n",
    "plt.plot(test['ds'], test['y'], label=\"Test\")\n",
    "plt.plot(forecast[-horizon:]['ds'], forecast[-horizon:]['yhat'], label=\"predictions\")\n",
    "plt.legend(loc=\"best\")\n",
    "plt.show()"
   ]
  },
  {
   "cell_type": "code",
   "execution_count": null,
   "id": "ff9fd950",
   "metadata": {
    "hidden": true,
    "id": "ff9fd950"
   },
   "outputs": [],
   "source": [
    "model.plot_components(forecast);"
   ]
  },
  {
   "cell_type": "code",
   "execution_count": null,
   "id": "9151e155",
   "metadata": {
    "hidden": true,
    "id": "9151e155"
   },
   "outputs": [],
   "source": [
    "\"\"\"800 days total dataset\n",
    "initial = 624 == size of train dataset\n",
    "horizon = 20 == size to be forecasted\n",
    "period = 10 (default = 1/2 of horizon) == spacing between cutoff dates as incremental\n",
    "\n",
    "440\n",
    "initial = 440\n",
    "horizon = 20\n",
    "period = 10\"\"\""
   ]
  },
  {
   "cell_type": "code",
   "execution_count": null,
   "id": "8a48da2e",
   "metadata": {
    "hidden": true,
    "id": "8a48da2e"
   },
   "outputs": [],
   "source": [
    "from fbprophet.diagnostics import cross_validation\n",
    "from fbprophet.diagnostics import performance_metrics\n",
    "\n",
    "cv_results = cross_validation(model=model, initial=\"343 days\", horizon='30 days', period='7 days')"
   ]
  },
  {
   "cell_type": "code",
   "execution_count": null,
   "id": "abe88244",
   "metadata": {
    "hidden": true,
    "id": "abe88244"
   },
   "outputs": [],
   "source": [
    "cv_results"
   ]
  },
  {
   "cell_type": "code",
   "execution_count": null,
   "id": "ea3d31a4",
   "metadata": {
    "hidden": true,
    "id": "ea3d31a4"
   },
   "outputs": [],
   "source": [
    "dfp_p = performance_metrics(cv_results)\n",
    "dfp_p"
   ]
  },
  {
   "cell_type": "code",
   "execution_count": null,
   "id": "901cade8",
   "metadata": {
    "hidden": true,
    "id": "901cade8"
   },
   "outputs": [],
   "source": [
    "from fbprophet.plot import plot_cross_validation_metric\n",
    "plot_cross_validation_metric(cv_results, metric='mse');"
   ]
  },
  {
   "cell_type": "markdown",
   "id": "6d744098",
   "metadata": {
    "id": "6d744098"
   },
   "source": [
    "## Prophet NewRegisteredUsers"
   ]
  },
  {
   "cell_type": "markdown",
   "id": "21deb336",
   "metadata": {
    "heading_collapsed": true,
    "id": "21deb336"
   },
   "source": [
    "### Df"
   ]
  },
  {
   "cell_type": "code",
   "execution_count": null,
   "id": "71dbe959",
   "metadata": {
    "hidden": true,
    "id": "71dbe959",
    "scrolled": true
   },
   "outputs": [],
   "source": [
    "dfp_nu = pd.DataFrame(df, columns = ['Day\\nDate', 'NewRegisteredUsers'])\n",
    "dfp_nu"
   ]
  },
  {
   "cell_type": "code",
   "execution_count": null,
   "id": "45b15abe",
   "metadata": {
    "hidden": true,
    "id": "45b15abe"
   },
   "outputs": [],
   "source": [
    "dfp_nu.columns = ['ds', 'y']\n",
    "\n",
    "dfp_nu.head()"
   ]
  },
  {
   "cell_type": "code",
   "execution_count": null,
   "id": "a1f72ec1",
   "metadata": {
    "hidden": true,
    "id": "a1f72ec1"
   },
   "outputs": [],
   "source": [
    "dfp_nu['ds'] = pd.to_datetime(dfp_nu['ds'])\n",
    "dfp_nu"
   ]
  },
  {
   "cell_type": "code",
   "execution_count": null,
   "id": "3447e50f",
   "metadata": {
    "hidden": true,
    "id": "3447e50f"
   },
   "outputs": [],
   "source": [
    "plt.figure(figsize=(12, 8))\n",
    "plt.grid(linestyle='-.')\n",
    "\n",
    "plt.plot(dfp_nu['ds'], dfp_nu['y'], 'b')\n",
    "plt.show()"
   ]
  },
  {
   "cell_type": "code",
   "execution_count": null,
   "id": "f5b9b6e1",
   "metadata": {
    "hidden": true,
    "id": "f5b9b6e1"
   },
   "outputs": [],
   "source": [
    "train_nu = dfp_nu.iloc[:350]\n",
    "test_nu = dfp_nu.iloc[350:]"
   ]
  },
  {
   "cell_type": "code",
   "execution_count": null,
   "id": "db167399",
   "metadata": {
    "hidden": true,
    "id": "db167399"
   },
   "outputs": [],
   "source": [
    "train_nu.shape, test_nu.shape"
   ]
  },
  {
   "cell_type": "code",
   "execution_count": null,
   "id": "24684311",
   "metadata": {
    "hidden": true,
    "id": "24684311"
   },
   "outputs": [],
   "source": [
    "model_nu = Prophet(seasonality_mode='multiplicative', interval_width=0.95, yearly_seasonality=True, weekly_seasonality=True)\n",
    "model_nu.fit(train_nu)"
   ]
  },
  {
   "cell_type": "code",
   "execution_count": null,
   "id": "89dab47c",
   "metadata": {
    "hidden": true,
    "id": "89dab47c"
   },
   "outputs": [],
   "source": [
    "horizon = 24\n",
    "future = model_nu.make_future_dataframe(periods=horizon)\n",
    "forecast = model_nu.predict(future)\n",
    "forecast[['ds', 'yhat', 'yhat_lower', 'yhat_upper']].tail()"
   ]
  },
  {
   "cell_type": "code",
   "execution_count": null,
   "id": "806c2e8a",
   "metadata": {
    "hidden": true,
    "id": "806c2e8a"
   },
   "outputs": [],
   "source": [
    "ax = model_nu.plot(forecast);"
   ]
  },
  {
   "cell_type": "code",
   "execution_count": null,
   "id": "1420b806",
   "metadata": {
    "hidden": true,
    "id": "1420b806"
   },
   "outputs": [],
   "source": [
    "plt.figure(figsize=(15, 8))\n",
    "plt.plot(train_nu['ds'], train_nu['y'], label=\"Train\")\n",
    "plt.plot(test_nu['ds'], test_nu['y'], label=\"Test\")\n",
    "plt.plot(forecast[-horizon:]['ds'], forecast[-horizon:]['yhat'], label=\"predictions\")\n",
    "plt.legend(loc=\"best\")\n",
    "plt.show()"
   ]
  },
  {
   "cell_type": "code",
   "execution_count": null,
   "id": "ca8a0b21",
   "metadata": {
    "hidden": true,
    "id": "ca8a0b21"
   },
   "outputs": [],
   "source": [
    "model_nu.plot_components(forecast);"
   ]
  },
  {
   "cell_type": "code",
   "execution_count": null,
   "id": "6c99a5a2",
   "metadata": {
    "hidden": true,
    "id": "6c99a5a2"
   },
   "outputs": [],
   "source": [
    "m = Prophet()\n",
    "m.fit(dfp_nu)"
   ]
  },
  {
   "cell_type": "code",
   "execution_count": null,
   "id": "471fbcc8",
   "metadata": {
    "hidden": true,
    "id": "471fbcc8"
   },
   "outputs": [],
   "source": [
    "future = m.make_future_dataframe(periods=365)\n",
    "future.tail()"
   ]
  },
  {
   "cell_type": "code",
   "execution_count": null,
   "id": "942a0437",
   "metadata": {
    "hidden": true,
    "id": "942a0437"
   },
   "outputs": [],
   "source": [
    "forecast = m.predict(future)\n",
    "forecast[['ds', 'yhat', 'yhat_lower', 'yhat_upper']].tail()"
   ]
  },
  {
   "cell_type": "code",
   "execution_count": null,
   "id": "44ad841d",
   "metadata": {
    "hidden": true,
    "id": "44ad841d"
   },
   "outputs": [],
   "source": [
    "forecast"
   ]
  },
  {
   "cell_type": "code",
   "execution_count": null,
   "id": "750517a2",
   "metadata": {
    "hidden": true,
    "id": "750517a2"
   },
   "outputs": [],
   "source": [
    "import numpy as np\n",
    "f_yhat = forecast[\"yhat\"]\n",
    "f_AU = f_yhat[350:500]\n",
    "\n",
    "\n",
    "e_y = dfp_nu[\"y\"]\n",
    "e_AU = e_y[350:]\n"
   ]
  },
  {
   "cell_type": "code",
   "execution_count": null,
   "id": "fcc9a17f",
   "metadata": {
    "hidden": true,
    "id": "fcc9a17f"
   },
   "outputs": [],
   "source": [
    "e_AU = e_AU.astype(\"float\")"
   ]
  },
  {
   "cell_type": "code",
   "execution_count": null,
   "id": "bf9f4368",
   "metadata": {
    "hidden": true,
    "id": "bf9f4368"
   },
   "outputs": [],
   "source": [
    "e_AU = np.array(e_AU.values.tolist())"
   ]
  },
  {
   "cell_type": "code",
   "execution_count": null,
   "id": "f454b6e7",
   "metadata": {
    "hidden": true,
    "id": "f454b6e7"
   },
   "outputs": [],
   "source": [
    "expected_AU = e_AU\n",
    "expected_AU"
   ]
  },
  {
   "cell_type": "code",
   "execution_count": null,
   "id": "99a3ce6a",
   "metadata": {
    "hidden": true,
    "id": "99a3ce6a"
   },
   "outputs": [],
   "source": [
    "f_AU = np.array(f_AU.values.tolist())"
   ]
  },
  {
   "cell_type": "code",
   "execution_count": null,
   "id": "0c7e0115",
   "metadata": {
    "hidden": true,
    "id": "0c7e0115"
   },
   "outputs": [],
   "source": [
    "forecast_AU = f_AU\n",
    "forecast_AU"
   ]
  },
  {
   "cell_type": "code",
   "execution_count": null,
   "id": "6bf5e94f",
   "metadata": {
    "hidden": true,
    "id": "6bf5e94f"
   },
   "outputs": [],
   "source": [
    "#np array beginning +350 days after \n",
    "#np array slize 150"
   ]
  },
  {
   "cell_type": "code",
   "execution_count": null,
   "id": "40d7979f",
   "metadata": {
    "hidden": true,
    "id": "40d7979f"
   },
   "outputs": [],
   "source": [
    "fig1 = m.plot(forecast)\n"
   ]
  },
  {
   "cell_type": "code",
   "execution_count": null,
   "id": "52604fec",
   "metadata": {
    "hidden": true,
    "id": "52604fec",
    "scrolled": true
   },
   "outputs": [],
   "source": [
    "fig2 = m.plot_components(forecast)\n",
    "fig2"
   ]
  },
  {
   "cell_type": "markdown",
   "id": "4ba6d17c",
   "metadata": {
    "id": "4ba6d17c"
   },
   "source": [
    "### Metrics"
   ]
  },
  {
   "cell_type": "code",
   "execution_count": null,
   "id": "2bbefbee",
   "metadata": {
    "id": "2bbefbee"
   },
   "outputs": [],
   "source": [
    "def forecast_accuracy(forecast, actual):\n",
    "    mape = np.mean(np.abs(forecast_AU - expected_AU)/np.abs(expected_AU))  # MAPE\n",
    "    me = np.mean(forecast_AU - expected_AU)             # ME\n",
    "    mae = np.mean(np.abs(forecast_AU - expected_AU))    # MAE\n",
    "    mpe = np.mean((forecast_AU - expected_AU)/expected_AU)   # MPE\n",
    "    rmse = np.mean((forecast_AU - expected_AU)**2)**.5  # RMSE\n",
    "    corr = np.corrcoef(forecast_AU, expected_AU)[0,1]   # corr\n",
    "    mins = np.amin(np.hstack([forecast_AU[:,None], \n",
    "                              expected_AU[:,None]]), axis=1)\n",
    "    maxs = np.amax(np.hstack([forecast_AU[:,None], \n",
    "                              expected_AU[:,None]]), axis=1)\n",
    "    minmax = 1 - np.mean(mins/maxs)             # minmax                     \n",
    "    return({'mape':mape, 'me':me, 'mae': mae, \n",
    "            'mpe': mpe, 'rmse':rmse, \n",
    "            'corr':corr, 'minmax':minmax})\n",
    "\n",
    "forecast_accuracy(forecast_AU, expected_AU)"
   ]
  },
  {
   "cell_type": "code",
   "execution_count": null,
   "id": "2810d522",
   "metadata": {
    "id": "2810d522"
   },
   "outputs": [],
   "source": [
    "#yhat - predicted variable\n",
    "#y - dependent variable "
   ]
  },
  {
   "cell_type": "markdown",
   "id": "bd6bddfa",
   "metadata": {
    "heading_collapsed": true,
    "id": "bd6bddfa"
   },
   "source": [
    "### Cross_validation"
   ]
  },
  {
   "cell_type": "code",
   "execution_count": null,
   "id": "ae088ce4",
   "metadata": {
    "hidden": true,
    "id": "ae088ce4"
   },
   "outputs": [],
   "source": [
    "cv_results_nu = cross_validation(model=model_nu, initial=\"150 days\", horizon='60 days', period='30 days')"
   ]
  },
  {
   "cell_type": "code",
   "execution_count": null,
   "id": "86679660",
   "metadata": {
    "hidden": true,
    "id": "86679660"
   },
   "outputs": [],
   "source": [
    "cv_results_nu"
   ]
  },
  {
   "cell_type": "code",
   "execution_count": null,
   "id": "669012f1",
   "metadata": {
    "hidden": true,
    "id": "669012f1"
   },
   "outputs": [],
   "source": [
    "dfp_nu = performance_metrics(cv_results_nu)\n",
    "dfp_nu"
   ]
  },
  {
   "cell_type": "code",
   "execution_count": null,
   "id": "c3250019",
   "metadata": {
    "hidden": true,
    "id": "c3250019"
   },
   "outputs": [],
   "source": [
    "plot_cross_validation_metric(cv_results_nu, metric='mse');"
   ]
  },
  {
   "cell_type": "markdown",
   "id": "51e24408",
   "metadata": {
    "id": "51e24408"
   },
   "source": [
    "## Prophet PayingUsers"
   ]
  },
  {
   "cell_type": "code",
   "execution_count": null,
   "id": "72a349ac",
   "metadata": {
    "id": "72a349ac"
   },
   "outputs": [],
   "source": [
    "dfp_pu = pd.DataFrame(df, columns = ['Day\\nDate', 'PayingUsers'])\n",
    "dfp_pu"
   ]
  },
  {
   "cell_type": "code",
   "execution_count": null,
   "id": "df8387b1",
   "metadata": {
    "id": "df8387b1"
   },
   "outputs": [],
   "source": [
    "dfp_pu.columns = ['ds', 'y']\n",
    "dfp_pu.head()"
   ]
  },
  {
   "cell_type": "code",
   "execution_count": null,
   "id": "3145201e",
   "metadata": {
    "id": "3145201e"
   },
   "outputs": [],
   "source": [
    "dfp_pu['ds'] = pd.to_datetime(dfp_pu['ds'])\n",
    "dfp_pu"
   ]
  },
  {
   "cell_type": "code",
   "execution_count": null,
   "id": "a36514e7",
   "metadata": {
    "id": "a36514e7"
   },
   "outputs": [],
   "source": [
    "plt.figure(figsize=(12, 8))\n",
    "plt.grid(linestyle='-.')\n",
    "\n",
    "plt.plot(dfp_pu['ds'], dfp_pu['y'], 'b')\n",
    "plt.show()"
   ]
  },
  {
   "cell_type": "code",
   "execution_count": null,
   "id": "3792c45c",
   "metadata": {
    "id": "3792c45c"
   },
   "outputs": [],
   "source": [
    "train_pu = dfp_pu.iloc[:350]\n",
    "test_pu = dfp_pu.iloc[350:]"
   ]
  },
  {
   "cell_type": "code",
   "execution_count": null,
   "id": "ac29933b",
   "metadata": {
    "id": "ac29933b"
   },
   "outputs": [],
   "source": [
    "train_pu.shape, test_pu.shape"
   ]
  },
  {
   "cell_type": "code",
   "execution_count": null,
   "id": "23a276cb",
   "metadata": {
    "id": "23a276cb"
   },
   "outputs": [],
   "source": [
    "model_pu = Prophet(seasonality_mode='multiplicative', interval_width=0.95, yearly_seasonality=True, weekly_seasonality=True)\n",
    "model_pu.fit(train_pu)\n"
   ]
  },
  {
   "cell_type": "code",
   "execution_count": null,
   "id": "67546754",
   "metadata": {
    "id": "67546754"
   },
   "outputs": [],
   "source": [
    "horizon = 24\n",
    "future = model_pu.make_future_dataframe(periods=horizon)\n",
    "forecast = model_pu.predict(future)\n",
    "forecast[['ds', 'yhat', 'yhat_lower', 'yhat_upper']].tail()"
   ]
  },
  {
   "cell_type": "code",
   "execution_count": null,
   "id": "204d6ae1",
   "metadata": {
    "id": "204d6ae1"
   },
   "outputs": [],
   "source": [
    "ax = model_pu.plot(forecast_pu);"
   ]
  },
  {
   "cell_type": "code",
   "execution_count": null,
   "id": "5b9850d0",
   "metadata": {
    "id": "5b9850d0"
   },
   "outputs": [],
   "source": [
    "plt.figure(figsize=(15, 8))\n",
    "plt.plot(train_pu['ds'], train_pu['y'], label=\"Train\")\n",
    "plt.plot(test_pu['ds'], test_pu['y'], label=\"Test\")\n",
    "plt.plot(forecast[-horizon:]['ds'], forecast[-horizon:]['yhat'], label=\"predictions\")\n",
    "plt.legend(loc=\"best\")\n",
    "plt.show()"
   ]
  },
  {
   "cell_type": "code",
   "execution_count": null,
   "id": "43252910",
   "metadata": {
    "id": "43252910"
   },
   "outputs": [],
   "source": [
    "model_pu.plot_components(forecast);"
   ]
  },
  {
   "cell_type": "code",
   "execution_count": null,
   "id": "67580e1b",
   "metadata": {
    "id": "67580e1b"
   },
   "outputs": [],
   "source": [
    "m_pu = Prophet()\n",
    "m_pu.fit(dfp_pu)"
   ]
  },
  {
   "cell_type": "code",
   "execution_count": null,
   "id": "dfbb8f1c",
   "metadata": {
    "id": "dfbb8f1c"
   },
   "outputs": [],
   "source": [
    "future_pu = m_pu.make_future_dataframe(periods=365)\n",
    "future_pu.tail()"
   ]
  },
  {
   "cell_type": "code",
   "execution_count": null,
   "id": "0566293b",
   "metadata": {
    "id": "0566293b"
   },
   "outputs": [],
   "source": [
    "forecast_pu = m_pu.predict(future_pu)\n",
    "forecast_pu[['ds', 'yhat', 'yhat_lower', 'yhat_upper']].tail()"
   ]
  },
  {
   "cell_type": "code",
   "execution_count": null,
   "id": "7bd83636",
   "metadata": {
    "id": "7bd83636"
   },
   "outputs": [],
   "source": [
    "forecast_pu"
   ]
  },
  {
   "cell_type": "code",
   "execution_count": null,
   "id": "d9a53026",
   "metadata": {
    "id": "d9a53026"
   },
   "outputs": [],
   "source": [
    "import numpy as np\n",
    "f_yhat_pu = forecast_pu[\"yhat\"]\n",
    "f_AU_pu = f_yhat_pu[350:500]\n",
    "\n",
    "\n",
    "e_y_pu = dfp_pu[\"y\"]\n",
    "e_AU_pu = e_y_pu[350:]\n",
    "\n"
   ]
  },
  {
   "cell_type": "code",
   "execution_count": null,
   "id": "a673f4c6",
   "metadata": {
    "id": "a673f4c6"
   },
   "outputs": [],
   "source": [
    "e_AU_pu = np.array(e_AU_pu.values.tolist())\n"
   ]
  },
  {
   "cell_type": "code",
   "execution_count": null,
   "id": "c878e619",
   "metadata": {
    "id": "c878e619"
   },
   "outputs": [],
   "source": [
    "expected_AU_pu = e_AU_pu\n",
    "expected_AU_pu"
   ]
  },
  {
   "cell_type": "code",
   "execution_count": null,
   "id": "961d5f1b",
   "metadata": {
    "id": "961d5f1b"
   },
   "outputs": [],
   "source": [
    "f_AU_pu = np.array(f_AU_pu.values.tolist())\n"
   ]
  },
  {
   "cell_type": "code",
   "execution_count": null,
   "id": "58da5c78",
   "metadata": {
    "id": "58da5c78"
   },
   "outputs": [],
   "source": [
    "forecast_AU_pu = f_AU_pu\n",
    "forecast_AU_pu"
   ]
  },
  {
   "cell_type": "code",
   "execution_count": null,
   "id": "9d4f6c53",
   "metadata": {
    "id": "9d4f6c53"
   },
   "outputs": [],
   "source": [
    "fig2 = m_pu.plot(forecast_pu);\n"
   ]
  },
  {
   "cell_type": "markdown",
   "id": "9e11eda0",
   "metadata": {
    "id": "9e11eda0"
   },
   "source": [
    "### Metrics PayingUsers"
   ]
  },
  {
   "cell_type": "code",
   "execution_count": null,
   "id": "9d2bc89c",
   "metadata": {
    "id": "9d2bc89c"
   },
   "outputs": [],
   "source": [
    "def forecast_accuracy(forecast, actual):\n",
    "    mape = np.mean(np.abs(forecast_AU_pu - expected_AU_pu)/np.abs(expected_AU_pu))  # MAPE\n",
    "    me = np.mean(forecast_AU_pu - expected_AU_pu)             # ME\n",
    "    mae = np.mean(np.abs(forecast_AU_pu - expected_AU_pu))    # MAE\n",
    "    mpe = np.mean((forecast_AU_pu - expected_AU_pu)/expected_AU_pu)   # MPE\n",
    "    rmse = np.mean((forecast_AU_pu - expected_AU_pu)**2)**.5  # RMSE\n",
    "    corr = np.corrcoef(forecast_AU_pu, expected_AU_pu)[0,1]   # corr\n",
    "    mins = np.amin(np.hstack([forecast_AU_pu[:,None], \n",
    "                              expected_AU_pu[:,None]]), axis=1)\n",
    "    maxs = np.amax(np.hstack([forecast_AU_pu[:,None], \n",
    "                              expected_AU_pu[:,None]]), axis=1)\n",
    "    minmax = 1 - np.mean(mins/maxs)             # minmax                     \n",
    "    return({'mape':mape, 'me':me, 'mae': mae, \n",
    "            'mpe': mpe, 'rmse':rmse, \n",
    "            'corr':corr, 'minmax':minmax})\n",
    "\n",
    "forecast_accuracy(forecast_AU_pu, expected_AU_pu)"
   ]
  },
  {
   "cell_type": "code",
   "execution_count": null,
   "id": "90e80fa4",
   "metadata": {
    "id": "90e80fa4"
   },
   "outputs": [],
   "source": []
  },
  {
   "cell_type": "markdown",
   "id": "26eb48ae",
   "metadata": {
    "heading_collapsed": true,
    "id": "26eb48ae"
   },
   "source": [
    "### Cross_validation"
   ]
  },
  {
   "cell_type": "code",
   "execution_count": null,
   "id": "843fed03",
   "metadata": {
    "hidden": true,
    "id": "843fed03"
   },
   "outputs": [],
   "source": [
    "cv_results_pu = cross_validation(model=model_pu, initial=\"343 days\", horizon='30 days', period='7 days')"
   ]
  },
  {
   "cell_type": "code",
   "execution_count": null,
   "id": "bc2d31b3",
   "metadata": {
    "hidden": true,
    "id": "bc2d31b3"
   },
   "outputs": [],
   "source": [
    "cv_results_pu"
   ]
  },
  {
   "cell_type": "code",
   "execution_count": null,
   "id": "edbe7893",
   "metadata": {
    "hidden": true,
    "id": "edbe7893"
   },
   "outputs": [],
   "source": [
    "dfp_pu = performance_metrics(cv_results_pu)\n",
    "dfp_pu"
   ]
  },
  {
   "cell_type": "code",
   "execution_count": null,
   "id": "d6323873",
   "metadata": {
    "hidden": true,
    "id": "d6323873"
   },
   "outputs": [],
   "source": [
    "plot_cross_validation_metric(cv_results_pu, metric='mse');"
   ]
  },
  {
   "cell_type": "markdown",
   "id": "c553ebe8",
   "metadata": {
    "heading_collapsed": true,
    "id": "c553ebe8"
   },
   "source": [
    "## Prophet ActiveUsers"
   ]
  },
  {
   "cell_type": "code",
   "execution_count": null,
   "id": "3a5c755a",
   "metadata": {
    "hidden": true,
    "id": "3a5c755a",
    "scrolled": true
   },
   "outputs": [],
   "source": [
    "dfp_au = pd.DataFrame(df, columns = ['Day\\nDate', 'ActiveUsers'])\n",
    "dfp_au"
   ]
  },
  {
   "cell_type": "code",
   "execution_count": null,
   "id": "472aac04",
   "metadata": {
    "hidden": true,
    "id": "472aac04"
   },
   "outputs": [],
   "source": [
    "dfp_au.columns = ['ds', 'y']\n",
    "dfp_au.head()"
   ]
  },
  {
   "cell_type": "code",
   "execution_count": null,
   "id": "422fa128",
   "metadata": {
    "hidden": true,
    "id": "422fa128"
   },
   "outputs": [],
   "source": [
    "dfp_au['ds'] = pd.to_datetime(dfp['ds'])\n",
    "dfp_au"
   ]
  },
  {
   "cell_type": "code",
   "execution_count": null,
   "id": "5c96155a",
   "metadata": {
    "hidden": true,
    "id": "5c96155a"
   },
   "outputs": [],
   "source": [
    "plt.figure(figsize=(12, 8))\n",
    "plt.grid(linestyle='-.')\n",
    "\n",
    "plt.plot(dfp_au['ds'], dfp_au['y'], 'b')\n",
    "plt.show()"
   ]
  },
  {
   "cell_type": "code",
   "execution_count": null,
   "id": "8398bab5",
   "metadata": {
    "hidden": true,
    "id": "8398bab5"
   },
   "outputs": [],
   "source": [
    "train_au = dfp_au.iloc[:350]\n",
    "test_au = dfp_au.iloc[350:]"
   ]
  },
  {
   "cell_type": "code",
   "execution_count": null,
   "id": "3bfc622a",
   "metadata": {
    "hidden": true,
    "id": "3bfc622a"
   },
   "outputs": [],
   "source": [
    "train_au.shape, test_au.shape"
   ]
  },
  {
   "cell_type": "code",
   "execution_count": null,
   "id": "e58ca12c",
   "metadata": {
    "hidden": true,
    "id": "e58ca12c"
   },
   "outputs": [],
   "source": [
    "model_au = Prophet(seasonality_mode='multiplicative', interval_width=0.95, yearly_seasonality=True, weekly_seasonality=True)\n",
    "model_au.fit(train_au)"
   ]
  },
  {
   "cell_type": "code",
   "execution_count": null,
   "id": "0c075104",
   "metadata": {
    "hidden": true,
    "id": "0c075104"
   },
   "outputs": [],
   "source": [
    "horizon = 24\n",
    "future = model_au.make_future_dataframe(periods=horizon)\n",
    "forecast = model_au.predict(future)\n",
    "forecast[['ds', 'yhat', 'yhat_lower', 'yhat_upper']].tail()"
   ]
  },
  {
   "cell_type": "code",
   "execution_count": null,
   "id": "44e51c33",
   "metadata": {
    "hidden": true,
    "id": "44e51c33"
   },
   "outputs": [],
   "source": [
    "ax = model_au.plot(forecast);"
   ]
  },
  {
   "cell_type": "code",
   "execution_count": null,
   "id": "ee4c37e7",
   "metadata": {
    "hidden": true,
    "id": "ee4c37e7"
   },
   "outputs": [],
   "source": [
    "plt.figure(figsize=(15, 8))\n",
    "plt.plot(train_au['ds'], train_au['y'], label=\"Train\")\n",
    "plt.plot(test_au['ds'], test_au['y'], label=\"Test\")\n",
    "plt.plot(forecast[-horizon:]['ds'], forecast[-horizon:]['yhat'], label=\"predictions\")\n",
    "plt.legend(loc=\"best\")\n",
    "plt.show()"
   ]
  },
  {
   "cell_type": "code",
   "execution_count": null,
   "id": "1492d661",
   "metadata": {
    "hidden": true,
    "id": "1492d661"
   },
   "outputs": [],
   "source": [
    "model_au.plot_components(forecast);"
   ]
  },
  {
   "cell_type": "code",
   "execution_count": null,
   "id": "a77d5e3d",
   "metadata": {
    "hidden": true,
    "id": "a77d5e3d"
   },
   "outputs": [],
   "source": [
    "m_au = Prophet()\n",
    "m_au.fit(dfp_au)"
   ]
  },
  {
   "cell_type": "code",
   "execution_count": null,
   "id": "904a1a1f",
   "metadata": {
    "hidden": true,
    "id": "904a1a1f"
   },
   "outputs": [],
   "source": [
    "future_au = m_au.make_future_dataframe(periods=365)\n",
    "future_au.tail()"
   ]
  },
  {
   "cell_type": "code",
   "execution_count": null,
   "id": "d5816cee",
   "metadata": {
    "hidden": true,
    "id": "d5816cee"
   },
   "outputs": [],
   "source": [
    "forecast_au = m_au.predict(future_au)\n",
    "forecast_au[['ds', 'yhat', 'yhat_lower', 'yhat_upper']].tail()"
   ]
  },
  {
   "cell_type": "code",
   "execution_count": null,
   "id": "5968cb95",
   "metadata": {
    "hidden": true,
    "id": "5968cb95"
   },
   "outputs": [],
   "source": [
    "forecast_au"
   ]
  },
  {
   "cell_type": "code",
   "execution_count": null,
   "id": "4e505f0e",
   "metadata": {
    "hidden": true,
    "id": "4e505f0e"
   },
   "outputs": [],
   "source": [
    "f_yhat_au = forecast_au[\"yhat\"]\n",
    "f_AU_au = f_yhat_au[350:500]\n",
    "\n",
    "\n",
    "e_y_au = dfp_au[\"y\"]\n",
    "e_AU_au = e_y_au[350:]\n"
   ]
  },
  {
   "cell_type": "code",
   "execution_count": null,
   "id": "7d735698",
   "metadata": {
    "hidden": true,
    "id": "7d735698"
   },
   "outputs": [],
   "source": []
  },
  {
   "cell_type": "code",
   "execution_count": null,
   "id": "ed214ea4",
   "metadata": {
    "hidden": true,
    "id": "ed214ea4"
   },
   "outputs": [],
   "source": [
    "e_AU_au = np.array(e_AU_au.values.tolist())"
   ]
  },
  {
   "cell_type": "code",
   "execution_count": null,
   "id": "9ad4657e",
   "metadata": {
    "hidden": true,
    "id": "9ad4657e"
   },
   "outputs": [],
   "source": [
    "expected_AU_au = e_AU_au\n",
    "expected_AU_au"
   ]
  },
  {
   "cell_type": "code",
   "execution_count": null,
   "id": "ec8aa997",
   "metadata": {
    "hidden": true,
    "id": "ec8aa997"
   },
   "outputs": [],
   "source": [
    "f_AU_au = np.array(f_AU_au.values.tolist())"
   ]
  },
  {
   "cell_type": "code",
   "execution_count": null,
   "id": "4889e5ed",
   "metadata": {
    "hidden": true,
    "id": "4889e5ed",
    "scrolled": true
   },
   "outputs": [],
   "source": [
    "forecast_AU_au = f_AU_au\n",
    "forecast_AU_au"
   ]
  },
  {
   "cell_type": "code",
   "execution_count": null,
   "id": "6e89b665",
   "metadata": {
    "hidden": true,
    "id": "6e89b665"
   },
   "outputs": [],
   "source": [
    "fig2 = m_au.plot(forecast_au)\n"
   ]
  },
  {
   "cell_type": "markdown",
   "id": "97a7ae71",
   "metadata": {
    "hidden": true,
    "id": "97a7ae71"
   },
   "source": [
    "### Metrics"
   ]
  },
  {
   "cell_type": "code",
   "execution_count": null,
   "id": "794c0fcd",
   "metadata": {
    "hidden": true,
    "id": "794c0fcd"
   },
   "outputs": [],
   "source": [
    "def forecast_accuracy(forecast, actual):\n",
    "    mape = np.mean(np.abs(forecast_AU_au - expected_AU_au)/np.abs(expected_AU_au))  # MAPE\n",
    "    me = np.mean(forecast_AU_au - expected_AU_au)             # ME\n",
    "    mae = np.mean(np.abs(forecast_AU_au - expected_AU_au))    # MAE\n",
    "    mpe = np.mean((forecast_AU_au - expected_AU_au)/expected_AU_au)   # MPE\n",
    "    rmse = np.mean((forecast_AU_au - expected_AU_au)**2)**.5  # RMSE\n",
    "    corr = np.corrcoef(forecast_AU_au, expected_AU_au)[0,1]   # corr\n",
    "    mins = np.amin(np.hstack([forecast_AU_au[:,None], \n",
    "                              expected_AU_au[:,None]]), axis=1)\n",
    "    maxs = np.amax(np.hstack([forecast_AU_au[:,None], \n",
    "                              expected_AU_au[:,None]]), axis=1)\n",
    "    minmax = 1 - np.mean(mins/maxs)             # minmax                     \n",
    "    return({'mape':mape, 'me':me, 'mae': mae, \n",
    "            'mpe': mpe, 'rmse':rmse, \n",
    "            'corr':corr, 'minmax':minmax})\n",
    "\n",
    "forecast_accuracy(forecast_AU_au, expected_AU_au)"
   ]
  },
  {
   "cell_type": "code",
   "execution_count": null,
   "id": "8b9deb86",
   "metadata": {
    "hidden": true,
    "id": "8b9deb86"
   },
   "outputs": [],
   "source": []
  },
  {
   "cell_type": "code",
   "execution_count": null,
   "id": "91818ef1",
   "metadata": {
    "hidden": true,
    "id": "91818ef1"
   },
   "outputs": [],
   "source": []
  },
  {
   "cell_type": "code",
   "execution_count": null,
   "id": "3326e500",
   "metadata": {
    "hidden": true,
    "id": "3326e500"
   },
   "outputs": [],
   "source": [
    "cv_results_au = cross_validation(model=model_au, initial=\"343 days\", horizon='30 days', period='7 days')"
   ]
  },
  {
   "cell_type": "code",
   "execution_count": null,
   "id": "c27f1049",
   "metadata": {
    "hidden": true,
    "id": "c27f1049"
   },
   "outputs": [],
   "source": [
    "cv_results_au"
   ]
  },
  {
   "cell_type": "code",
   "execution_count": null,
   "id": "77bc1664",
   "metadata": {
    "hidden": true,
    "id": "77bc1664"
   },
   "outputs": [],
   "source": [
    "dfp_au = performance_metrics(cv_results_au)\n",
    "dfp_au"
   ]
  },
  {
   "cell_type": "code",
   "execution_count": null,
   "id": "16e67213",
   "metadata": {
    "hidden": true,
    "id": "16e67213"
   },
   "outputs": [],
   "source": [
    "plot_cross_validation_metric(cv_results_au, metric='mse');"
   ]
  },
  {
   "cell_type": "markdown",
   "id": "c5931101",
   "metadata": {
    "id": "c5931101"
   },
   "source": [
    "## Prophet NewPayingUsers"
   ]
  },
  {
   "cell_type": "code",
   "execution_count": null,
   "id": "e7ffd988",
   "metadata": {
    "id": "e7ffd988"
   },
   "outputs": [],
   "source": [
    "dfp_npu = pd.DataFrame(df, columns = ['Day\\nDate', 'NewPayingUsers'])\n",
    "dfp_npu"
   ]
  },
  {
   "cell_type": "code",
   "execution_count": null,
   "id": "ef11c79d",
   "metadata": {
    "id": "ef11c79d"
   },
   "outputs": [],
   "source": [
    "dfp_npu.columns = ['ds', 'y']\n",
    "dfp_npu.head()"
   ]
  },
  {
   "cell_type": "code",
   "execution_count": null,
   "id": "75c5839f",
   "metadata": {
    "id": "75c5839f"
   },
   "outputs": [],
   "source": [
    "dfp_npu['ds'] = pd.to_datetime(dfp_npu['ds'])\n",
    "dfp_npu"
   ]
  },
  {
   "cell_type": "code",
   "execution_count": null,
   "id": "e6e00680",
   "metadata": {
    "id": "e6e00680"
   },
   "outputs": [],
   "source": [
    "plt.figure(figsize=(12, 8))\n",
    "plt.grid(linestyle='-.')\n",
    "\n",
    "plt.plot(dfp_npu['ds'], dfp_npu['y'], 'b')\n",
    "plt.show()"
   ]
  },
  {
   "cell_type": "code",
   "execution_count": null,
   "id": "906f59f6",
   "metadata": {
    "id": "906f59f6"
   },
   "outputs": [],
   "source": [
    "train_npu = dfp_npu.iloc[:440]\n",
    "test_npu = dfp_npu.iloc[440:]"
   ]
  },
  {
   "cell_type": "code",
   "execution_count": null,
   "id": "7e04510e",
   "metadata": {
    "id": "7e04510e"
   },
   "outputs": [],
   "source": [
    "train_npu.shape, test_npu.shape"
   ]
  },
  {
   "cell_type": "code",
   "execution_count": null,
   "id": "94651f7a",
   "metadata": {
    "id": "94651f7a"
   },
   "outputs": [],
   "source": [
    "model_npu = Prophet(seasonality_mode='multiplicative', interval_width=0.95, yearly_seasonality=True, weekly_seasonality=True)\n",
    "model_npu.fit(train_npu)"
   ]
  },
  {
   "cell_type": "code",
   "execution_count": null,
   "id": "5d83a1d6",
   "metadata": {
    "id": "5d83a1d6"
   },
   "outputs": [],
   "source": [
    "horizon = 36\n",
    "future = model_npu.make_future_dataframe(periods=horizon)\n",
    "forecast = model_npu.predict(future)\n",
    "forecast[['ds', 'yhat', 'yhat_lower', 'yhat_upper']].tail()"
   ]
  },
  {
   "cell_type": "code",
   "execution_count": null,
   "id": "8dd55577",
   "metadata": {
    "id": "8dd55577"
   },
   "outputs": [],
   "source": [
    "ax = model_npu.plot(forecast);"
   ]
  },
  {
   "cell_type": "code",
   "execution_count": null,
   "id": "bb67a5af",
   "metadata": {
    "id": "bb67a5af"
   },
   "outputs": [],
   "source": [
    "plt.figure(figsize=(15, 8))\n",
    "plt.plot(train_npu['ds'], train_npu['y'], label=\"Train\")\n",
    "plt.plot(test_npu['ds'], test_npu['y'], label=\"Test\")\n",
    "plt.plot(forecast[-horizon:]['ds'], forecast[-horizon:]['yhat'], label=\"predictions\")\n",
    "plt.legend(loc=\"best\")\n",
    "plt.show()"
   ]
  },
  {
   "cell_type": "code",
   "execution_count": null,
   "id": "dcc8c00d",
   "metadata": {
    "id": "dcc8c00d"
   },
   "outputs": [],
   "source": [
    "model_npu.plot_components(forecast);"
   ]
  },
  {
   "cell_type": "code",
   "execution_count": null,
   "id": "fefee163",
   "metadata": {
    "id": "fefee163"
   },
   "outputs": [],
   "source": [
    "cv_results_npu = cross_validation(model=model_npu, initial=\"343 days\", horizon='30 days', period='60 days')"
   ]
  },
  {
   "cell_type": "code",
   "execution_count": null,
   "id": "7c8cd1e0",
   "metadata": {
    "id": "7c8cd1e0"
   },
   "outputs": [],
   "source": [
    "cv_results_npu"
   ]
  },
  {
   "cell_type": "code",
   "execution_count": null,
   "id": "ae445b90",
   "metadata": {
    "id": "ae445b90"
   },
   "outputs": [],
   "source": [
    "dfp_npu = performance_metrics(cv_results_npu)\n",
    "dfp_npu"
   ]
  },
  {
   "cell_type": "code",
   "execution_count": null,
   "id": "f83fe5cd",
   "metadata": {
    "id": "f83fe5cd"
   },
   "outputs": [],
   "source": [
    "plot_cross_validation_metric(cv_results_npu, metric='mse');"
   ]
  },
  {
   "cell_type": "code",
   "execution_count": null,
   "id": "de87cef3",
   "metadata": {
    "id": "de87cef3"
   },
   "outputs": [],
   "source": [
    "plot_cross_validation_metric(cv_results_npu, metric='mae');"
   ]
  },
  {
   "cell_type": "code",
   "execution_count": null,
   "id": "3ffad618",
   "metadata": {
    "id": "3ffad618"
   },
   "outputs": [],
   "source": [
    "plot_cross_validation_metric(cv_results_npu, metric='rmse');"
   ]
  }
 ],
 "metadata": {
  "colab": {
   "name": "FB Prophet.ipynb",
   "provenance": []
  },
  "kernelspec": {
   "display_name": "Python 3 (ipykernel)",
   "language": "python",
   "name": "python3"
  },
  "language_info": {
   "codemirror_mode": {
    "name": "ipython",
    "version": 3
   },
   "file_extension": ".py",
   "mimetype": "text/x-python",
   "name": "python",
   "nbconvert_exporter": "python",
   "pygments_lexer": "ipython3",
   "version": "3.8.12"
  },
  "toc": {
   "base_numbering": 1,
   "nav_menu": {},
   "number_sections": true,
   "sideBar": true,
   "skip_h1_title": false,
   "title_cell": "Table of Contents",
   "title_sidebar": "Contents",
   "toc_cell": false,
   "toc_position": {},
   "toc_section_display": true,
   "toc_window_display": false
  }
 },
 "nbformat": 4,
 "nbformat_minor": 5
}
