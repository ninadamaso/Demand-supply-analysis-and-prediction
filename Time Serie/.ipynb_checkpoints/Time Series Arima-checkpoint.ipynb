{
 "cells": [
  {
   "cell_type": "code",
   "execution_count": 9,
   "id": "e39444da",
   "metadata": {},
   "outputs": [],
   "source": [
    "import pandas as pd\n",
    "import matplotlib.pyplot as plt\n",
    "import numpy as np\n",
    "from sklearn.metrics import mean_absolute_error, mean_squared_error, r2_score\n",
    "from math import sqrt"
   ]
  },
  {
   "cell_type": "markdown",
   "id": "009bacab",
   "metadata": {},
   "source": [
    "# Prepare DF"
   ]
  },
  {
   "cell_type": "code",
   "execution_count": 10,
   "id": "8d79f746",
   "metadata": {},
   "outputs": [
    {
     "ename": "FileNotFoundError",
     "evalue": "[Errno 2] No such file or directory: 'grand_master_report.csv'",
     "output_type": "error",
     "traceback": [
      "\u001b[0;31m---------------------------------------------------------------------------\u001b[0m",
      "\u001b[0;31mFileNotFoundError\u001b[0m                         Traceback (most recent call last)",
      "\u001b[0;32m/var/folders/sk/356yz4gx0c169x5ft8052vkc0000gn/T/ipykernel_6004/924037859.py\u001b[0m in \u001b[0;36m<module>\u001b[0;34m\u001b[0m\n\u001b[0;32m----> 1\u001b[0;31m \u001b[0mgmr\u001b[0m \u001b[0;34m=\u001b[0m \u001b[0mpd\u001b[0m\u001b[0;34m.\u001b[0m\u001b[0mread_csv\u001b[0m\u001b[0;34m(\u001b[0m\u001b[0;34m\"grand_master_report.csv\"\u001b[0m\u001b[0;34m)\u001b[0m\u001b[0;34m\u001b[0m\u001b[0;34m\u001b[0m\u001b[0m\n\u001b[0m\u001b[1;32m      2\u001b[0m \u001b[0mgmr\u001b[0m\u001b[0;34m.\u001b[0m\u001b[0mhead\u001b[0m\u001b[0;34m(\u001b[0m\u001b[0;34m)\u001b[0m\u001b[0;34m\u001b[0m\u001b[0;34m\u001b[0m\u001b[0m\n",
      "\u001b[0;32m~/.pyenv/versions/3.8.12/envs/lewagon/lib/python3.8/site-packages/pandas/util/_decorators.py\u001b[0m in \u001b[0;36mwrapper\u001b[0;34m(*args, **kwargs)\u001b[0m\n\u001b[1;32m    309\u001b[0m                     \u001b[0mstacklevel\u001b[0m\u001b[0;34m=\u001b[0m\u001b[0mstacklevel\u001b[0m\u001b[0;34m,\u001b[0m\u001b[0;34m\u001b[0m\u001b[0;34m\u001b[0m\u001b[0m\n\u001b[1;32m    310\u001b[0m                 )\n\u001b[0;32m--> 311\u001b[0;31m             \u001b[0;32mreturn\u001b[0m \u001b[0mfunc\u001b[0m\u001b[0;34m(\u001b[0m\u001b[0;34m*\u001b[0m\u001b[0margs\u001b[0m\u001b[0;34m,\u001b[0m \u001b[0;34m**\u001b[0m\u001b[0mkwargs\u001b[0m\u001b[0;34m)\u001b[0m\u001b[0;34m\u001b[0m\u001b[0;34m\u001b[0m\u001b[0m\n\u001b[0m\u001b[1;32m    312\u001b[0m \u001b[0;34m\u001b[0m\u001b[0m\n\u001b[1;32m    313\u001b[0m         \u001b[0;32mreturn\u001b[0m \u001b[0mwrapper\u001b[0m\u001b[0;34m\u001b[0m\u001b[0;34m\u001b[0m\u001b[0m\n",
      "\u001b[0;32m~/.pyenv/versions/3.8.12/envs/lewagon/lib/python3.8/site-packages/pandas/io/parsers/readers.py\u001b[0m in \u001b[0;36mread_csv\u001b[0;34m(filepath_or_buffer, sep, delimiter, header, names, index_col, usecols, squeeze, prefix, mangle_dupe_cols, dtype, engine, converters, true_values, false_values, skipinitialspace, skiprows, skipfooter, nrows, na_values, keep_default_na, na_filter, verbose, skip_blank_lines, parse_dates, infer_datetime_format, keep_date_col, date_parser, dayfirst, cache_dates, iterator, chunksize, compression, thousands, decimal, lineterminator, quotechar, quoting, doublequote, escapechar, comment, encoding, encoding_errors, dialect, error_bad_lines, warn_bad_lines, on_bad_lines, delim_whitespace, low_memory, memory_map, float_precision, storage_options)\u001b[0m\n\u001b[1;32m    584\u001b[0m     \u001b[0mkwds\u001b[0m\u001b[0;34m.\u001b[0m\u001b[0mupdate\u001b[0m\u001b[0;34m(\u001b[0m\u001b[0mkwds_defaults\u001b[0m\u001b[0;34m)\u001b[0m\u001b[0;34m\u001b[0m\u001b[0;34m\u001b[0m\u001b[0m\n\u001b[1;32m    585\u001b[0m \u001b[0;34m\u001b[0m\u001b[0m\n\u001b[0;32m--> 586\u001b[0;31m     \u001b[0;32mreturn\u001b[0m \u001b[0m_read\u001b[0m\u001b[0;34m(\u001b[0m\u001b[0mfilepath_or_buffer\u001b[0m\u001b[0;34m,\u001b[0m \u001b[0mkwds\u001b[0m\u001b[0;34m)\u001b[0m\u001b[0;34m\u001b[0m\u001b[0;34m\u001b[0m\u001b[0m\n\u001b[0m\u001b[1;32m    587\u001b[0m \u001b[0;34m\u001b[0m\u001b[0m\n\u001b[1;32m    588\u001b[0m \u001b[0;34m\u001b[0m\u001b[0m\n",
      "\u001b[0;32m~/.pyenv/versions/3.8.12/envs/lewagon/lib/python3.8/site-packages/pandas/io/parsers/readers.py\u001b[0m in \u001b[0;36m_read\u001b[0;34m(filepath_or_buffer, kwds)\u001b[0m\n\u001b[1;32m    480\u001b[0m \u001b[0;34m\u001b[0m\u001b[0m\n\u001b[1;32m    481\u001b[0m     \u001b[0;31m# Create the parser.\u001b[0m\u001b[0;34m\u001b[0m\u001b[0;34m\u001b[0m\u001b[0;34m\u001b[0m\u001b[0m\n\u001b[0;32m--> 482\u001b[0;31m     \u001b[0mparser\u001b[0m \u001b[0;34m=\u001b[0m \u001b[0mTextFileReader\u001b[0m\u001b[0;34m(\u001b[0m\u001b[0mfilepath_or_buffer\u001b[0m\u001b[0;34m,\u001b[0m \u001b[0;34m**\u001b[0m\u001b[0mkwds\u001b[0m\u001b[0;34m)\u001b[0m\u001b[0;34m\u001b[0m\u001b[0;34m\u001b[0m\u001b[0m\n\u001b[0m\u001b[1;32m    483\u001b[0m \u001b[0;34m\u001b[0m\u001b[0m\n\u001b[1;32m    484\u001b[0m     \u001b[0;32mif\u001b[0m \u001b[0mchunksize\u001b[0m \u001b[0;32mor\u001b[0m \u001b[0miterator\u001b[0m\u001b[0;34m:\u001b[0m\u001b[0;34m\u001b[0m\u001b[0;34m\u001b[0m\u001b[0m\n",
      "\u001b[0;32m~/.pyenv/versions/3.8.12/envs/lewagon/lib/python3.8/site-packages/pandas/io/parsers/readers.py\u001b[0m in \u001b[0;36m__init__\u001b[0;34m(self, f, engine, **kwds)\u001b[0m\n\u001b[1;32m    809\u001b[0m             \u001b[0mself\u001b[0m\u001b[0;34m.\u001b[0m\u001b[0moptions\u001b[0m\u001b[0;34m[\u001b[0m\u001b[0;34m\"has_index_names\"\u001b[0m\u001b[0;34m]\u001b[0m \u001b[0;34m=\u001b[0m \u001b[0mkwds\u001b[0m\u001b[0;34m[\u001b[0m\u001b[0;34m\"has_index_names\"\u001b[0m\u001b[0;34m]\u001b[0m\u001b[0;34m\u001b[0m\u001b[0;34m\u001b[0m\u001b[0m\n\u001b[1;32m    810\u001b[0m \u001b[0;34m\u001b[0m\u001b[0m\n\u001b[0;32m--> 811\u001b[0;31m         \u001b[0mself\u001b[0m\u001b[0;34m.\u001b[0m\u001b[0m_engine\u001b[0m \u001b[0;34m=\u001b[0m \u001b[0mself\u001b[0m\u001b[0;34m.\u001b[0m\u001b[0m_make_engine\u001b[0m\u001b[0;34m(\u001b[0m\u001b[0mself\u001b[0m\u001b[0;34m.\u001b[0m\u001b[0mengine\u001b[0m\u001b[0;34m)\u001b[0m\u001b[0;34m\u001b[0m\u001b[0;34m\u001b[0m\u001b[0m\n\u001b[0m\u001b[1;32m    812\u001b[0m \u001b[0;34m\u001b[0m\u001b[0m\n\u001b[1;32m    813\u001b[0m     \u001b[0;32mdef\u001b[0m \u001b[0mclose\u001b[0m\u001b[0;34m(\u001b[0m\u001b[0mself\u001b[0m\u001b[0;34m)\u001b[0m\u001b[0;34m:\u001b[0m\u001b[0;34m\u001b[0m\u001b[0;34m\u001b[0m\u001b[0m\n",
      "\u001b[0;32m~/.pyenv/versions/3.8.12/envs/lewagon/lib/python3.8/site-packages/pandas/io/parsers/readers.py\u001b[0m in \u001b[0;36m_make_engine\u001b[0;34m(self, engine)\u001b[0m\n\u001b[1;32m   1038\u001b[0m             )\n\u001b[1;32m   1039\u001b[0m         \u001b[0;31m# error: Too many arguments for \"ParserBase\"\u001b[0m\u001b[0;34m\u001b[0m\u001b[0;34m\u001b[0m\u001b[0;34m\u001b[0m\u001b[0m\n\u001b[0;32m-> 1040\u001b[0;31m         \u001b[0;32mreturn\u001b[0m \u001b[0mmapping\u001b[0m\u001b[0;34m[\u001b[0m\u001b[0mengine\u001b[0m\u001b[0;34m]\u001b[0m\u001b[0;34m(\u001b[0m\u001b[0mself\u001b[0m\u001b[0;34m.\u001b[0m\u001b[0mf\u001b[0m\u001b[0;34m,\u001b[0m \u001b[0;34m**\u001b[0m\u001b[0mself\u001b[0m\u001b[0;34m.\u001b[0m\u001b[0moptions\u001b[0m\u001b[0;34m)\u001b[0m  \u001b[0;31m# type: ignore[call-arg]\u001b[0m\u001b[0;34m\u001b[0m\u001b[0;34m\u001b[0m\u001b[0m\n\u001b[0m\u001b[1;32m   1041\u001b[0m \u001b[0;34m\u001b[0m\u001b[0m\n\u001b[1;32m   1042\u001b[0m     \u001b[0;32mdef\u001b[0m \u001b[0m_failover_to_python\u001b[0m\u001b[0;34m(\u001b[0m\u001b[0mself\u001b[0m\u001b[0;34m)\u001b[0m\u001b[0;34m:\u001b[0m\u001b[0;34m\u001b[0m\u001b[0;34m\u001b[0m\u001b[0m\n",
      "\u001b[0;32m~/.pyenv/versions/3.8.12/envs/lewagon/lib/python3.8/site-packages/pandas/io/parsers/c_parser_wrapper.py\u001b[0m in \u001b[0;36m__init__\u001b[0;34m(self, src, **kwds)\u001b[0m\n\u001b[1;32m     49\u001b[0m \u001b[0;34m\u001b[0m\u001b[0m\n\u001b[1;32m     50\u001b[0m         \u001b[0;31m# open handles\u001b[0m\u001b[0;34m\u001b[0m\u001b[0;34m\u001b[0m\u001b[0;34m\u001b[0m\u001b[0m\n\u001b[0;32m---> 51\u001b[0;31m         \u001b[0mself\u001b[0m\u001b[0;34m.\u001b[0m\u001b[0m_open_handles\u001b[0m\u001b[0;34m(\u001b[0m\u001b[0msrc\u001b[0m\u001b[0;34m,\u001b[0m \u001b[0mkwds\u001b[0m\u001b[0;34m)\u001b[0m\u001b[0;34m\u001b[0m\u001b[0;34m\u001b[0m\u001b[0m\n\u001b[0m\u001b[1;32m     52\u001b[0m         \u001b[0;32massert\u001b[0m \u001b[0mself\u001b[0m\u001b[0;34m.\u001b[0m\u001b[0mhandles\u001b[0m \u001b[0;32mis\u001b[0m \u001b[0;32mnot\u001b[0m \u001b[0;32mNone\u001b[0m\u001b[0;34m\u001b[0m\u001b[0;34m\u001b[0m\u001b[0m\n\u001b[1;32m     53\u001b[0m \u001b[0;34m\u001b[0m\u001b[0m\n",
      "\u001b[0;32m~/.pyenv/versions/3.8.12/envs/lewagon/lib/python3.8/site-packages/pandas/io/parsers/base_parser.py\u001b[0m in \u001b[0;36m_open_handles\u001b[0;34m(self, src, kwds)\u001b[0m\n\u001b[1;32m    220\u001b[0m         \u001b[0mLet\u001b[0m \u001b[0mthe\u001b[0m \u001b[0mreaders\u001b[0m \u001b[0mopen\u001b[0m \u001b[0mIOHandles\u001b[0m \u001b[0mafter\u001b[0m \u001b[0mthey\u001b[0m \u001b[0mare\u001b[0m \u001b[0mdone\u001b[0m \u001b[0;32mwith\u001b[0m \u001b[0mtheir\u001b[0m \u001b[0mpotential\u001b[0m \u001b[0mraises\u001b[0m\u001b[0;34m.\u001b[0m\u001b[0;34m\u001b[0m\u001b[0;34m\u001b[0m\u001b[0m\n\u001b[1;32m    221\u001b[0m         \"\"\"\n\u001b[0;32m--> 222\u001b[0;31m         self.handles = get_handle(\n\u001b[0m\u001b[1;32m    223\u001b[0m             \u001b[0msrc\u001b[0m\u001b[0;34m,\u001b[0m\u001b[0;34m\u001b[0m\u001b[0;34m\u001b[0m\u001b[0m\n\u001b[1;32m    224\u001b[0m             \u001b[0;34m\"r\"\u001b[0m\u001b[0;34m,\u001b[0m\u001b[0;34m\u001b[0m\u001b[0;34m\u001b[0m\u001b[0m\n",
      "\u001b[0;32m~/.pyenv/versions/3.8.12/envs/lewagon/lib/python3.8/site-packages/pandas/io/common.py\u001b[0m in \u001b[0;36mget_handle\u001b[0;34m(path_or_buf, mode, encoding, compression, memory_map, is_text, errors, storage_options)\u001b[0m\n\u001b[1;32m    700\u001b[0m         \u001b[0;32mif\u001b[0m \u001b[0mioargs\u001b[0m\u001b[0;34m.\u001b[0m\u001b[0mencoding\u001b[0m \u001b[0;32mand\u001b[0m \u001b[0;34m\"b\"\u001b[0m \u001b[0;32mnot\u001b[0m \u001b[0;32min\u001b[0m \u001b[0mioargs\u001b[0m\u001b[0;34m.\u001b[0m\u001b[0mmode\u001b[0m\u001b[0;34m:\u001b[0m\u001b[0;34m\u001b[0m\u001b[0;34m\u001b[0m\u001b[0m\n\u001b[1;32m    701\u001b[0m             \u001b[0;31m# Encoding\u001b[0m\u001b[0;34m\u001b[0m\u001b[0;34m\u001b[0m\u001b[0;34m\u001b[0m\u001b[0m\n\u001b[0;32m--> 702\u001b[0;31m             handle = open(\n\u001b[0m\u001b[1;32m    703\u001b[0m                 \u001b[0mhandle\u001b[0m\u001b[0;34m,\u001b[0m\u001b[0;34m\u001b[0m\u001b[0;34m\u001b[0m\u001b[0m\n\u001b[1;32m    704\u001b[0m                 \u001b[0mioargs\u001b[0m\u001b[0;34m.\u001b[0m\u001b[0mmode\u001b[0m\u001b[0;34m,\u001b[0m\u001b[0;34m\u001b[0m\u001b[0;34m\u001b[0m\u001b[0m\n",
      "\u001b[0;31mFileNotFoundError\u001b[0m: [Errno 2] No such file or directory: 'grand_master_report.csv'"
     ]
    }
   ],
   "source": [
    "gmr = pd.read_csv(\"grand_master_report.csv\")\n",
    "gmr.head()"
   ]
  },
  {
   "cell_type": "code",
   "execution_count": 11,
   "id": "bea7e3a8",
   "metadata": {},
   "outputs": [
    {
     "ename": "NameError",
     "evalue": "name 'gmr' is not defined",
     "output_type": "error",
     "traceback": [
      "\u001b[0;31m---------------------------------------------------------------------------\u001b[0m",
      "\u001b[0;31mNameError\u001b[0m                                 Traceback (most recent call last)",
      "\u001b[0;32m/var/folders/sk/356yz4gx0c169x5ft8052vkc0000gn/T/ipykernel_6004/3682111354.py\u001b[0m in \u001b[0;36m<module>\u001b[0;34m\u001b[0m\n\u001b[0;32m----> 1\u001b[0;31m \u001b[0mgmr\u001b[0m\u001b[0;34m[\u001b[0m\u001b[0;34m\"Day\\nDate\"\u001b[0m\u001b[0;34m]\u001b[0m \u001b[0;34m=\u001b[0m \u001b[0mpd\u001b[0m\u001b[0;34m.\u001b[0m\u001b[0mto_datetime\u001b[0m\u001b[0;34m(\u001b[0m\u001b[0mgmr\u001b[0m\u001b[0;34m[\u001b[0m\u001b[0;34m\"Day\\nDate\"\u001b[0m\u001b[0;34m]\u001b[0m\u001b[0;34m,\u001b[0m \u001b[0mformat\u001b[0m\u001b[0;34m=\u001b[0m\u001b[0;34m'%d.%m.%y'\u001b[0m\u001b[0;34m)\u001b[0m\u001b[0;34m\u001b[0m\u001b[0;34m\u001b[0m\u001b[0m\n\u001b[0m",
      "\u001b[0;31mNameError\u001b[0m: name 'gmr' is not defined"
     ]
    }
   ],
   "source": [
    "gmr[\"Day\\nDate\"] = pd.to_datetime(gmr[\"Day\\nDate\"], format='%d.%m.%y')"
   ]
  },
  {
   "cell_type": "code",
   "execution_count": 12,
   "id": "afd6ba8e",
   "metadata": {},
   "outputs": [
    {
     "ename": "NameError",
     "evalue": "name 'gmr' is not defined",
     "output_type": "error",
     "traceback": [
      "\u001b[0;31m---------------------------------------------------------------------------\u001b[0m",
      "\u001b[0;31mNameError\u001b[0m                                 Traceback (most recent call last)",
      "\u001b[0;32m/var/folders/sk/356yz4gx0c169x5ft8052vkc0000gn/T/ipykernel_6004/1737481874.py\u001b[0m in \u001b[0;36m<module>\u001b[0;34m\u001b[0m\n\u001b[0;32m----> 1\u001b[0;31m \u001b[0mgmr\u001b[0m \u001b[0;34m=\u001b[0m \u001b[0mgmr\u001b[0m\u001b[0;34m.\u001b[0m\u001b[0mrename\u001b[0m\u001b[0;34m(\u001b[0m\u001b[0mcolumns\u001b[0m\u001b[0;34m=\u001b[0m\u001b[0;34m{\u001b[0m\u001b[0;34m\"Day\\nDate\"\u001b[0m\u001b[0;34m:\u001b[0m \u001b[0;34m\"Date\"\u001b[0m\u001b[0;34m}\u001b[0m\u001b[0;34m)\u001b[0m\u001b[0;34m\u001b[0m\u001b[0;34m\u001b[0m\u001b[0m\n\u001b[0m",
      "\u001b[0;31mNameError\u001b[0m: name 'gmr' is not defined"
     ]
    }
   ],
   "source": [
    "gmr = gmr.rename(columns={\"Day\\nDate\": \"Date\"})"
   ]
  },
  {
   "cell_type": "code",
   "execution_count": 13,
   "id": "038fb9ad",
   "metadata": {},
   "outputs": [
    {
     "ename": "NameError",
     "evalue": "name 'gmr' is not defined",
     "output_type": "error",
     "traceback": [
      "\u001b[0;31m---------------------------------------------------------------------------\u001b[0m",
      "\u001b[0;31mNameError\u001b[0m                                 Traceback (most recent call last)",
      "\u001b[0;32m/var/folders/sk/356yz4gx0c169x5ft8052vkc0000gn/T/ipykernel_6004/3916458509.py\u001b[0m in \u001b[0;36m<module>\u001b[0;34m\u001b[0m\n\u001b[0;32m----> 1\u001b[0;31m \u001b[0mgmr\u001b[0m\u001b[0;34m.\u001b[0m\u001b[0mdtypes\u001b[0m\u001b[0;34m\u001b[0m\u001b[0;34m\u001b[0m\u001b[0m\n\u001b[0m",
      "\u001b[0;31mNameError\u001b[0m: name 'gmr' is not defined"
     ]
    }
   ],
   "source": [
    "gmr.dtypes"
   ]
  },
  {
   "cell_type": "code",
   "execution_count": null,
   "id": "1bf4d7b3",
   "metadata": {},
   "outputs": [],
   "source": [
    "gmr_users = gmr[[\"Date\", \n",
    "     \"TotalSupply\",\n",
    "     \"MealsSaved\",\n",
    "     \"NewRegisteredUsers\",\n",
    "     \"All-TimeRegisteredUsers\", \n",
    "     \"PayingUsers\", \n",
    "     \"NewPayingUsers\", \n",
    "     \"All-TimePayingUsers\", \n",
    "     \"ActiveUsers\"]]"
   ]
  },
  {
   "cell_type": "code",
   "execution_count": null,
   "id": "019c31b1",
   "metadata": {
    "scrolled": false
   },
   "outputs": [],
   "source": [
    "gmr_users = gmr_users.sort_index(ascending=False)"
   ]
  },
  {
   "cell_type": "code",
   "execution_count": null,
   "id": "75216320",
   "metadata": {},
   "outputs": [],
   "source": [
    "gmr_users.head(3)"
   ]
  },
  {
   "cell_type": "code",
   "execution_count": null,
   "id": "f949e1ad",
   "metadata": {},
   "outputs": [],
   "source": [
    "#gmr_users = gmr_users.set_index(\"Date\")"
   ]
  },
  {
   "cell_type": "code",
   "execution_count": null,
   "id": "7a0841a3",
   "metadata": {
    "scrolled": true
   },
   "outputs": [],
   "source": [
    "gmr_users.sort_values(by = 'Date',inplace=True)"
   ]
  },
  {
   "cell_type": "markdown",
   "id": "3e342592",
   "metadata": {},
   "source": [
    "### Split DF"
   ]
  },
  {
   "cell_type": "code",
   "execution_count": null,
   "id": "bf1e564d",
   "metadata": {},
   "outputs": [],
   "source": [
    "gmr_NRU = gmr_users[[\"Date\",\"NewRegisteredUsers\"]].set_index(\"Date\")\n",
    "gmr_PU = gmr[[\"Date\",\"PayingUsers\"]].set_index(\"Date\")\n",
    "gmr_AU = gmr[[\"Date\",\"ActiveUsers\"]].set_index(\"Date\")"
   ]
  },
  {
   "cell_type": "code",
   "execution_count": null,
   "id": "0cbfb8ae",
   "metadata": {},
   "outputs": [],
   "source": [
    "gmr_PU =gmr_PU.sort_index(ascending = True)\n",
    "gmr_AU =gmr_AU.sort_index(ascending = True)"
   ]
  },
  {
   "cell_type": "code",
   "execution_count": 5,
   "id": "1246a9bf",
   "metadata": {
    "scrolled": true
   },
   "outputs": [
    {
     "ename": "NameError",
     "evalue": "name 'gmr_users' is not defined",
     "output_type": "error",
     "traceback": [
      "\u001b[0;31m---------------------------------------------------------------------------\u001b[0m",
      "\u001b[0;31mNameError\u001b[0m                                 Traceback (most recent call last)",
      "\u001b[0;32m/var/folders/sk/356yz4gx0c169x5ft8052vkc0000gn/T/ipykernel_6004/331661932.py\u001b[0m in \u001b[0;36m<module>\u001b[0;34m\u001b[0m\n\u001b[0;32m----> 1\u001b[0;31m \u001b[0mgmr_users\u001b[0m\u001b[0;34m.\u001b[0m\u001b[0mtail\u001b[0m\u001b[0;34m(\u001b[0m\u001b[0;34m)\u001b[0m\u001b[0;34m\u001b[0m\u001b[0;34m\u001b[0m\u001b[0m\n\u001b[0m",
      "\u001b[0;31mNameError\u001b[0m: name 'gmr_users' is not defined"
     ]
    }
   ],
   "source": [
    "gmr_users.tail()"
   ]
  },
  {
   "cell_type": "code",
   "execution_count": null,
   "id": "0267b216",
   "metadata": {
    "scrolled": true
   },
   "outputs": [],
   "source": [
    "gmr_NRU.head(3)"
   ]
  },
  {
   "cell_type": "code",
   "execution_count": null,
   "id": "77895a01",
   "metadata": {
    "scrolled": true
   },
   "outputs": [],
   "source": [
    "gmr_PU.head(3)"
   ]
  },
  {
   "cell_type": "code",
   "execution_count": null,
   "id": "8c06bac4",
   "metadata": {},
   "outputs": [],
   "source": [
    "gmr_AU.head(3)"
   ]
  },
  {
   "cell_type": "markdown",
   "id": "e910276b",
   "metadata": {
    "heading_collapsed": true
   },
   "source": [
    "# Visualize Data"
   ]
  },
  {
   "cell_type": "code",
   "execution_count": null,
   "id": "b0e84fcb",
   "metadata": {
    "hidden": true,
    "scrolled": true
   },
   "outputs": [],
   "source": [
    "plt.figure(figsize=(16, 3))\n",
    "import seaborn as sns\n",
    "sns.lineplot(data = gmr_users, x = 'Date', y = \"NewRegisteredUsers\");"
   ]
  },
  {
   "cell_type": "code",
   "execution_count": null,
   "id": "ed52e582",
   "metadata": {
    "hidden": true,
    "scrolled": true
   },
   "outputs": [],
   "source": [
    "plt.figure(figsize=(16, 3))\n",
    "sns.lineplot(data = gmr_users, x = 'Date', y = \"MealsSaved\")\n",
    "sns.lineplot(data = gmr_users, x = 'Date', y = \"PayingUsers\");"
   ]
  },
  {
   "cell_type": "code",
   "execution_count": null,
   "id": "e3e19ce8",
   "metadata": {
    "hidden": true,
    "scrolled": true
   },
   "outputs": [],
   "source": [
    "plt.figure(figsize=(16, 3))\n",
    "sns.lineplot(data = gmr_users, x = 'Date', y = \"ActiveUsers\");"
   ]
  },
  {
   "cell_type": "markdown",
   "id": "ea16dd3e",
   "metadata": {
    "heading_collapsed": true
   },
   "source": [
    "# Model Prep"
   ]
  },
  {
   "cell_type": "markdown",
   "id": "a96d3e96",
   "metadata": {
    "heading_collapsed": true,
    "hidden": true
   },
   "source": [
    "### Train Test split (30% for test)"
   ]
  },
  {
   "cell_type": "markdown",
   "id": "ed44c4fc",
   "metadata": {
    "hidden": true
   },
   "source": [
    "#### New Registered Users"
   ]
  },
  {
   "cell_type": "code",
   "execution_count": null,
   "id": "1fa1164f",
   "metadata": {
    "hidden": true
   },
   "outputs": [],
   "source": [
    "train_size = 0.7\n",
    "index_NRU = round(train_size*gmr_NRU.shape[0])\n",
    "NRU_train = gmr_NRU.iloc[:index_NRU]\n",
    "NRU_test = gmr_NRU.iloc[index_NRU:]"
   ]
  },
  {
   "cell_type": "code",
   "execution_count": null,
   "id": "683fbd9a",
   "metadata": {
    "hidden": true,
    "scrolled": true
   },
   "outputs": [],
   "source": [
    "NRU_train.shape"
   ]
  },
  {
   "cell_type": "markdown",
   "id": "e0da4c88",
   "metadata": {
    "hidden": true
   },
   "source": [
    "#### Paying Users"
   ]
  },
  {
   "cell_type": "code",
   "execution_count": null,
   "id": "75e39869",
   "metadata": {
    "hidden": true
   },
   "outputs": [],
   "source": [
    "train_size = 0.7\n",
    "index_PU = round(train_size*gmr_PU.shape[0])\n",
    "PU_train = gmr_PU.iloc[:index_PU]\n",
    "PU_test = gmr_PU.iloc[index_PU:]"
   ]
  },
  {
   "cell_type": "markdown",
   "id": "c94edc18",
   "metadata": {
    "hidden": true
   },
   "source": [
    "#### Active Users"
   ]
  },
  {
   "cell_type": "code",
   "execution_count": 6,
   "id": "b17eed00",
   "metadata": {
    "hidden": true
   },
   "outputs": [
    {
     "ename": "NameError",
     "evalue": "name 'gmr_AU' is not defined",
     "output_type": "error",
     "traceback": [
      "\u001b[0;31m---------------------------------------------------------------------------\u001b[0m",
      "\u001b[0;31mNameError\u001b[0m                                 Traceback (most recent call last)",
      "\u001b[0;32m/var/folders/sk/356yz4gx0c169x5ft8052vkc0000gn/T/ipykernel_6004/1563630763.py\u001b[0m in \u001b[0;36m<module>\u001b[0;34m\u001b[0m\n\u001b[1;32m      1\u001b[0m \u001b[0mtrain_size\u001b[0m \u001b[0;34m=\u001b[0m \u001b[0;36m0.7\u001b[0m\u001b[0;34m\u001b[0m\u001b[0;34m\u001b[0m\u001b[0m\n\u001b[0;32m----> 2\u001b[0;31m \u001b[0mindex_AU\u001b[0m \u001b[0;34m=\u001b[0m \u001b[0mround\u001b[0m\u001b[0;34m(\u001b[0m\u001b[0mtrain_size\u001b[0m\u001b[0;34m*\u001b[0m\u001b[0mgmr_AU\u001b[0m\u001b[0;34m.\u001b[0m\u001b[0mshape\u001b[0m\u001b[0;34m[\u001b[0m\u001b[0;36m0\u001b[0m\u001b[0;34m]\u001b[0m\u001b[0;34m)\u001b[0m\u001b[0;34m\u001b[0m\u001b[0;34m\u001b[0m\u001b[0m\n\u001b[0m\u001b[1;32m      3\u001b[0m \u001b[0mAU_train\u001b[0m \u001b[0;34m=\u001b[0m \u001b[0mgmr_AU\u001b[0m\u001b[0;34m.\u001b[0m\u001b[0miloc\u001b[0m\u001b[0;34m[\u001b[0m\u001b[0;34m:\u001b[0m\u001b[0mindex_AU\u001b[0m\u001b[0;34m]\u001b[0m\u001b[0;34m\u001b[0m\u001b[0;34m\u001b[0m\u001b[0m\n\u001b[1;32m      4\u001b[0m \u001b[0mAU_test\u001b[0m \u001b[0;34m=\u001b[0m \u001b[0mgmr_AU\u001b[0m\u001b[0;34m.\u001b[0m\u001b[0miloc\u001b[0m\u001b[0;34m[\u001b[0m\u001b[0mindex_AU\u001b[0m\u001b[0;34m:\u001b[0m\u001b[0;34m]\u001b[0m\u001b[0;34m\u001b[0m\u001b[0;34m\u001b[0m\u001b[0m\n",
      "\u001b[0;31mNameError\u001b[0m: name 'gmr_AU' is not defined"
     ]
    }
   ],
   "source": [
    "train_size = 0.7\n",
    "index_AU = round(train_size*gmr_AU.shape[0])\n",
    "AU_train = gmr_AU.iloc[:index_AU]\n",
    "AU_test = gmr_AU.iloc[index_AU:]"
   ]
  },
  {
   "cell_type": "markdown",
   "id": "855a817b",
   "metadata": {
    "heading_collapsed": true,
    "hidden": true
   },
   "source": [
    "### Baseline"
   ]
  },
  {
   "cell_type": "markdown",
   "id": "119e8b80",
   "metadata": {
    "hidden": true
   },
   "source": [
    "#### New Registered Users"
   ]
  },
  {
   "cell_type": "code",
   "execution_count": null,
   "id": "6e527e62",
   "metadata": {
    "hidden": true
   },
   "outputs": [],
   "source": [
    "y_pred_NRU = NRU_test.shift(1).dropna()\n",
    "y_true_NRU = NRU_test[1:]\n",
    "print(f\"R2:{r2_score(y_true_NRU, y_pred_NRU)}\")\n",
    "\n",
    "mse = mean_squared_error(y_true_NRU, y_pred_NRU)\n",
    "print('MSE: %f' % mse)\n",
    "\n",
    "mae = mean_absolute_error(y_true_NRU, y_pred_NRU)\n",
    "print('MAE: %f' % mae)\n",
    "\n",
    "mse = mean_squared_error(y_true_NRU, y_pred_NRU)\n",
    "rmse = sqrt(mse)\n",
    "print('RMSE: %f' % rmse)"
   ]
  },
  {
   "cell_type": "markdown",
   "id": "8c261729",
   "metadata": {
    "hidden": true
   },
   "source": [
    "#### Paying Users"
   ]
  },
  {
   "cell_type": "code",
   "execution_count": null,
   "id": "66512fa6",
   "metadata": {
    "hidden": true
   },
   "outputs": [],
   "source": [
    "y_pred_PU = PU_test.shift(1).dropna()\n",
    "y_true_PU = PU_test[1:]\n",
    "print(f\"R2:{r2_score(y_true_PU, y_pred_PU)}\")\n",
    "\n",
    "mse = mean_squared_error(y_true_PU, y_pred_PU)\n",
    "print('MSE: %f' % mse)\n",
    "\n",
    "mae = mean_absolute_error(y_true_PU, y_pred_PU)\n",
    "print('MAE: %f' % mae)\n",
    "\n",
    "mse = mean_squared_error(y_true_PU, y_pred_PU)\n",
    "rmse = sqrt(mse)\n",
    "print('RMSE: %f' % rmse)"
   ]
  },
  {
   "cell_type": "markdown",
   "id": "8605caf4",
   "metadata": {
    "hidden": true
   },
   "source": [
    "#### Active Users"
   ]
  },
  {
   "cell_type": "code",
   "execution_count": null,
   "id": "f5d64451",
   "metadata": {
    "hidden": true
   },
   "outputs": [],
   "source": [
    "y_pred_AU = AU_test.shift(1).dropna()\n",
    "y_true_AU = AU_test[1:]\n",
    "print(f\"R2:{r2_score(y_true_AU, y_pred_AU)}\")\n",
    "\n",
    "mse = mean_squared_error(y_true_AU, y_pred_AU)\n",
    "print('MSE: %f' % mse)\n",
    "\n",
    "mae = mean_absolute_error(y_true_AU, y_pred_AU)\n",
    "print('MAE: %f' % mae)\n",
    "\n",
    "mse = mean_squared_error(y_true_AU, y_pred_AU)\n",
    "rmse = sqrt(mse)\n",
    "print('RMSE: %f' % rmse)"
   ]
  },
  {
   "cell_type": "markdown",
   "id": "830104fc",
   "metadata": {
    "heading_collapsed": true,
    "hidden": true
   },
   "source": [
    "### Decomposition"
   ]
  },
  {
   "cell_type": "markdown",
   "id": "33f6fabb",
   "metadata": {
    "hidden": true
   },
   "source": [
    "Additive Decomposition (y = Trend + Seasonal + Residuals)"
   ]
  },
  {
   "cell_type": "markdown",
   "id": "001f08b0",
   "metadata": {
    "hidden": true
   },
   "source": [
    "Multiplicative Decomposition (y = Trend * Seasonal * Residuals)"
   ]
  },
  {
   "cell_type": "markdown",
   "id": "b6c8bb5d",
   "metadata": {
    "hidden": true
   },
   "source": [
    "#### New Registered Users"
   ]
  },
  {
   "cell_type": "code",
   "execution_count": null,
   "id": "9150ff4a",
   "metadata": {
    "hidden": true
   },
   "outputs": [],
   "source": [
    "from statsmodels.tsa.seasonal import seasonal_decompose\n",
    "\n",
    "result_add = seasonal_decompose(gmr_NRU['NewRegisteredUsers'], model='additive')\n",
    "result_add.plot();"
   ]
  },
  {
   "cell_type": "code",
   "execution_count": null,
   "id": "1d91d45a",
   "metadata": {
    "hidden": true,
    "scrolled": true
   },
   "outputs": [],
   "source": [
    "result_mul = seasonal_decompose(gmr_NRU['NewRegisteredUsers'], model='multiplicative')\n",
    "result_mul.plot();"
   ]
  },
  {
   "cell_type": "code",
   "execution_count": null,
   "id": "82b19a1d",
   "metadata": {
    "hidden": true
   },
   "outputs": [],
   "source": [
    "# Plot the residuals with \"result_add.resid\" to decide\n",
    "f, (ax1, ax2) = plt.subplots(1,2, figsize=(13,3))\n",
    "ax1.plot(result_add.resid); ax1.set_title(\"Additive model residuals\")\n",
    "ax2.plot(result_mul.resid); ax2.set_title(\"Multiplicative model residuals\");"
   ]
  },
  {
   "cell_type": "markdown",
   "id": "fb083c17",
   "metadata": {
    "hidden": true
   },
   "source": [
    "#### Paying Users"
   ]
  },
  {
   "cell_type": "code",
   "execution_count": null,
   "id": "496853f1",
   "metadata": {
    "hidden": true
   },
   "outputs": [],
   "source": [
    "result_add = seasonal_decompose(gmr_PU['PayingUsers'], model='additive')\n",
    "result_add.plot();"
   ]
  },
  {
   "cell_type": "code",
   "execution_count": null,
   "id": "83ef8f0b",
   "metadata": {
    "hidden": true,
    "scrolled": true
   },
   "outputs": [],
   "source": [
    "result_mul = seasonal_decompose(gmr_PU['PayingUsers'], model='multiplicative')\n",
    "result_mul.plot();"
   ]
  },
  {
   "cell_type": "code",
   "execution_count": null,
   "id": "50093c68",
   "metadata": {
    "hidden": true
   },
   "outputs": [],
   "source": [
    "# Plot the residuals with \"result_add.resid\" to decide\n",
    "f, (ax1, ax2) = plt.subplots(1,2, figsize=(13,3))\n",
    "ax1.plot(result_add.resid); ax1.set_title(\"Additive model residuals\")\n",
    "ax2.plot(result_mul.resid); ax2.set_title(\"Multiplicative model residuals\");"
   ]
  },
  {
   "cell_type": "markdown",
   "id": "05609158",
   "metadata": {
    "hidden": true
   },
   "source": [
    "#### Active Users"
   ]
  },
  {
   "cell_type": "code",
   "execution_count": 7,
   "id": "5d7e14b0",
   "metadata": {
    "hidden": true
   },
   "outputs": [
    {
     "ename": "NameError",
     "evalue": "name 'seasonal_decompose' is not defined",
     "output_type": "error",
     "traceback": [
      "\u001b[0;31m---------------------------------------------------------------------------\u001b[0m",
      "\u001b[0;31mNameError\u001b[0m                                 Traceback (most recent call last)",
      "\u001b[0;32m/var/folders/sk/356yz4gx0c169x5ft8052vkc0000gn/T/ipykernel_6004/1524265718.py\u001b[0m in \u001b[0;36m<module>\u001b[0;34m\u001b[0m\n\u001b[0;32m----> 1\u001b[0;31m \u001b[0mresult_add\u001b[0m \u001b[0;34m=\u001b[0m \u001b[0mseasonal_decompose\u001b[0m\u001b[0;34m(\u001b[0m\u001b[0mgmr_AU\u001b[0m\u001b[0;34m[\u001b[0m\u001b[0;34m'ActiveUsers'\u001b[0m\u001b[0;34m]\u001b[0m\u001b[0;34m,\u001b[0m \u001b[0mmodel\u001b[0m\u001b[0;34m=\u001b[0m\u001b[0;34m'additive'\u001b[0m\u001b[0;34m)\u001b[0m\u001b[0;34m\u001b[0m\u001b[0;34m\u001b[0m\u001b[0m\n\u001b[0m\u001b[1;32m      2\u001b[0m \u001b[0mresult_add\u001b[0m\u001b[0;34m.\u001b[0m\u001b[0mplot\u001b[0m\u001b[0;34m(\u001b[0m\u001b[0;34m)\u001b[0m\u001b[0;34m;\u001b[0m\u001b[0;34m\u001b[0m\u001b[0;34m\u001b[0m\u001b[0m\n",
      "\u001b[0;31mNameError\u001b[0m: name 'seasonal_decompose' is not defined"
     ]
    }
   ],
   "source": [
    "result_add = seasonal_decompose(gmr_AU['ActiveUsers'], model='additive')\n",
    "result_add.plot();"
   ]
  },
  {
   "cell_type": "code",
   "execution_count": null,
   "id": "aed29644",
   "metadata": {
    "hidden": true
   },
   "outputs": [],
   "source": [
    "result_mul = seasonal_decompose(gmr_AU['ActiveUsers'], model='multiplicative')\n",
    "result_mul.plot();"
   ]
  },
  {
   "cell_type": "code",
   "execution_count": null,
   "id": "876f1a5d",
   "metadata": {
    "hidden": true
   },
   "outputs": [],
   "source": [
    "# Plot the residuals with \"result_add.resid\" to decide\n",
    "f, (ax1, ax2) = plt.subplots(1,2, figsize=(13,3))\n",
    "ax1.plot(result_add.resid); ax1.set_title(\"Additive model residuals\")\n",
    "ax2.plot(result_mul.resid); ax2.set_title(\"Multiplicative model residuals\");"
   ]
  },
  {
   "cell_type": "markdown",
   "id": "67acd1c9",
   "metadata": {
    "heading_collapsed": true,
    "hidden": true
   },
   "source": [
    "### Test Stationarity ADF-Tests"
   ]
  },
  {
   "cell_type": "markdown",
   "id": "fd80b9d8",
   "metadata": {
    "hidden": true
   },
   "source": [
    "#### New Registered Users"
   ]
  },
  {
   "cell_type": "code",
   "execution_count": null,
   "id": "8ebe6ed6",
   "metadata": {
    "hidden": true
   },
   "outputs": [],
   "source": [
    "from statsmodels.tsa.stattools import adfuller\n",
    "\n",
    "adfuller(gmr_NRU.NewRegisteredUsers)[1]  # p-value"
   ]
  },
  {
   "cell_type": "code",
   "execution_count": null,
   "id": "ff7bb115",
   "metadata": {
    "hidden": true
   },
   "outputs": [],
   "source": [
    "print('additive resid: ', adfuller(result_add.resid.dropna())[1])\n",
    "print('multipl resid: ', adfuller(result_mul.resid.dropna())[1])"
   ]
  },
  {
   "cell_type": "markdown",
   "id": "f120289e",
   "metadata": {
    "hidden": true
   },
   "source": [
    "#### Paying Users"
   ]
  },
  {
   "cell_type": "code",
   "execution_count": null,
   "id": "2aca9254",
   "metadata": {
    "hidden": true
   },
   "outputs": [],
   "source": [
    "adfuller(gmr_PU.PayingUsers)[1]  # p-value"
   ]
  },
  {
   "cell_type": "code",
   "execution_count": null,
   "id": "a1dbc971",
   "metadata": {
    "hidden": true
   },
   "outputs": [],
   "source": [
    "PU_diff = gmr_PU.PayingUsers.diff(1).dropna()\n",
    "adfuller(PU_diff)[1]"
   ]
  },
  {
   "cell_type": "code",
   "execution_count": null,
   "id": "e5c8ed60",
   "metadata": {
    "hidden": true
   },
   "outputs": [],
   "source": [
    "zero_diff = gmr_PU.PayingUsers\n",
    "first_order_diff = gmr_PU.PayingUsers.diff(1)\n",
    "second_order_diff = gmr_PU.PayingUsers.diff(1).diff(1)\n",
    "\n",
    "\n",
    "fig, (ax1, ax2, ax3) = plt.subplots(1, 3, figsize=(20,4))\n",
    "ax1.plot(zero_diff); ax1.set_title('Original Series')\n",
    "ax2.plot(first_order_diff); ax2.set_title('1st Order Differencing')\n",
    "ax3.plot(second_order_diff); ax3.set_title('2nd Order Differencing');"
   ]
  },
  {
   "cell_type": "code",
   "execution_count": null,
   "id": "57e15495",
   "metadata": {
    "hidden": true
   },
   "outputs": [],
   "source": [
    "print('additive resid: ', adfuller(result_add.resid.dropna())[1])\n",
    "print('multipl resid: ', adfuller(result_mul.resid.dropna())[1])"
   ]
  },
  {
   "cell_type": "markdown",
   "id": "c9db7813",
   "metadata": {
    "hidden": true
   },
   "source": [
    "#### Active Users"
   ]
  },
  {
   "cell_type": "code",
   "execution_count": null,
   "id": "b0e1724d",
   "metadata": {
    "hidden": true
   },
   "outputs": [],
   "source": [
    "adfuller(gmr_AU.ActiveUsers)[1]  # p-value"
   ]
  },
  {
   "cell_type": "code",
   "execution_count": null,
   "id": "ddb673aa",
   "metadata": {
    "hidden": true
   },
   "outputs": [],
   "source": [
    "AU_diff = gmr_AU.ActiveUsers.diff(1).dropna()\n",
    "adfuller(AU_diff)[1]"
   ]
  },
  {
   "cell_type": "code",
   "execution_count": null,
   "id": "8550a1db",
   "metadata": {
    "hidden": true
   },
   "outputs": [],
   "source": [
    "zero_diff = gmr_AU.ActiveUsers\n",
    "first_order_diff = gmr_AU.ActiveUsers.diff(1)\n",
    "second_order_diff = gmr_AU.ActiveUsers.diff(1).diff(1)\n",
    "\n",
    "\n",
    "fig, (ax1, ax2, ax3) = plt.subplots(1, 3, figsize=(20,4))\n",
    "ax1.plot(zero_diff); ax1.set_title('Original Series')\n",
    "ax2.plot(first_order_diff); ax2.set_title('1st Order Differencing')\n",
    "ax3.plot(second_order_diff); ax3.set_title('2nd Order Differencing');"
   ]
  },
  {
   "cell_type": "code",
   "execution_count": null,
   "id": "d085545c",
   "metadata": {
    "hidden": true
   },
   "outputs": [],
   "source": [
    "print('additive resid: ', adfuller(result_add.resid.dropna())[1])\n",
    "print('multipl resid: ', adfuller(result_mul.resid.dropna())[1])"
   ]
  },
  {
   "cell_type": "markdown",
   "id": "d2f9d2e5",
   "metadata": {
    "heading_collapsed": true,
    "hidden": true
   },
   "source": [
    "### Autocorrelation - ACF and PACF"
   ]
  },
  {
   "cell_type": "markdown",
   "id": "1fa44360",
   "metadata": {
    "hidden": true
   },
   "source": [
    "#### New Registered Users"
   ]
  },
  {
   "cell_type": "code",
   "execution_count": null,
   "id": "d1114707",
   "metadata": {
    "hidden": true,
    "scrolled": false
   },
   "outputs": [],
   "source": [
    "from statsmodels.graphics.tsaplots import plot_acf\n",
    "from statsmodels.graphics.tsaplots import plot_pacf"
   ]
  },
  {
   "cell_type": "code",
   "execution_count": null,
   "id": "bbe88c35",
   "metadata": {
    "hidden": true
   },
   "outputs": [],
   "source": [
    "fig, axes = plt.subplots(1,2, figsize=(16,3))\n",
    "plot_acf(gmr_NRU.NewRegisteredUsers, lags=90, ax=axes[0]);\n",
    "plot_pacf(gmr_NRU.NewRegisteredUsers, lags=90, ax=axes[1], color='r');"
   ]
  },
  {
   "cell_type": "markdown",
   "id": "e9f878a4",
   "metadata": {
    "hidden": true
   },
   "source": [
    "#### Paying Users"
   ]
  },
  {
   "cell_type": "code",
   "execution_count": 8,
   "id": "bfb76441",
   "metadata": {
    "hidden": true
   },
   "outputs": [
    {
     "ename": "NameError",
     "evalue": "name 'plot_acf' is not defined",
     "output_type": "error",
     "traceback": [
      "\u001b[0;31m---------------------------------------------------------------------------\u001b[0m",
      "\u001b[0;31mNameError\u001b[0m                                 Traceback (most recent call last)",
      "\u001b[0;32m/var/folders/sk/356yz4gx0c169x5ft8052vkc0000gn/T/ipykernel_6004/4093851935.py\u001b[0m in \u001b[0;36m<module>\u001b[0;34m\u001b[0m\n\u001b[1;32m      1\u001b[0m \u001b[0mfig\u001b[0m\u001b[0;34m,\u001b[0m \u001b[0maxes\u001b[0m \u001b[0;34m=\u001b[0m \u001b[0mplt\u001b[0m\u001b[0;34m.\u001b[0m\u001b[0msubplots\u001b[0m\u001b[0;34m(\u001b[0m\u001b[0;36m1\u001b[0m\u001b[0;34m,\u001b[0m\u001b[0;36m2\u001b[0m\u001b[0;34m,\u001b[0m \u001b[0mfigsize\u001b[0m\u001b[0;34m=\u001b[0m\u001b[0;34m(\u001b[0m\u001b[0;36m16\u001b[0m\u001b[0;34m,\u001b[0m\u001b[0;36m3\u001b[0m\u001b[0;34m)\u001b[0m\u001b[0;34m)\u001b[0m\u001b[0;34m\u001b[0m\u001b[0;34m\u001b[0m\u001b[0m\n\u001b[0;32m----> 2\u001b[0;31m \u001b[0mplot_acf\u001b[0m\u001b[0;34m(\u001b[0m\u001b[0mgmr_PU\u001b[0m\u001b[0;34m.\u001b[0m\u001b[0mPayingUsers\u001b[0m\u001b[0;34m,\u001b[0m \u001b[0mlags\u001b[0m\u001b[0;34m=\u001b[0m\u001b[0;36m50\u001b[0m\u001b[0;34m,\u001b[0m \u001b[0max\u001b[0m\u001b[0;34m=\u001b[0m\u001b[0maxes\u001b[0m\u001b[0;34m[\u001b[0m\u001b[0;36m0\u001b[0m\u001b[0;34m]\u001b[0m\u001b[0;34m)\u001b[0m\u001b[0;34m;\u001b[0m\u001b[0;34m\u001b[0m\u001b[0;34m\u001b[0m\u001b[0m\n\u001b[0m\u001b[1;32m      3\u001b[0m \u001b[0mplot_pacf\u001b[0m\u001b[0;34m(\u001b[0m\u001b[0mgmr_PU\u001b[0m\u001b[0;34m.\u001b[0m\u001b[0mPayingUsers\u001b[0m\u001b[0;34m,\u001b[0m \u001b[0mlags\u001b[0m\u001b[0;34m=\u001b[0m\u001b[0;36m50\u001b[0m\u001b[0;34m,\u001b[0m \u001b[0max\u001b[0m\u001b[0;34m=\u001b[0m\u001b[0maxes\u001b[0m\u001b[0;34m[\u001b[0m\u001b[0;36m1\u001b[0m\u001b[0;34m]\u001b[0m\u001b[0;34m,\u001b[0m \u001b[0mcolor\u001b[0m\u001b[0;34m=\u001b[0m\u001b[0;34m'r'\u001b[0m\u001b[0;34m)\u001b[0m\u001b[0;34m;\u001b[0m\u001b[0;34m\u001b[0m\u001b[0;34m\u001b[0m\u001b[0m\n",
      "\u001b[0;31mNameError\u001b[0m: name 'plot_acf' is not defined"
     ]
    },
    {
     "data": {
      "image/png": "[encoded data removed]",
      "text/plain": [
       "<Figure size 1152x216 with 2 Axes>"
      ]
     },
     "metadata": {
      "needs_background": "light"
     },
     "output_type": "display_data"
    }
   ],
   "source": [
    "fig, axes = plt.subplots(1,2, figsize=(16,3))\n",
    "plot_acf(gmr_PU.PayingUsers, lags=50, ax=axes[0]);\n",
    "plot_pacf(gmr_PU.PayingUsers, lags=50, ax=axes[1], color='r');"
   ]
  },
  {
   "cell_type": "markdown",
   "id": "410f9415",
   "metadata": {
    "hidden": true
   },
   "source": [
    "#### Active Users"
   ]
  },
  {
   "cell_type": "code",
   "execution_count": null,
   "id": "19718c23",
   "metadata": {
    "hidden": true
   },
   "outputs": [],
   "source": [
    "fig, axes = plt.subplots(1,2, figsize=(16,3))\n",
    "plot_acf(gmr_AU.ActiveUsers, lags=50, ax=axes[0]);\n",
    "plot_pacf(gmr_AU.ActiveUsers, lags=50, ax=axes[1], color='r');"
   ]
  },
  {
   "cell_type": "markdown",
   "id": "a563264a",
   "metadata": {},
   "source": [
    "# ARIMA"
   ]
  },
  {
   "cell_type": "code",
   "execution_count": null,
   "id": "1986320e",
   "metadata": {},
   "outputs": [],
   "source": [
    "#from statsmodels.tsa.arima.model import ARIMA\n",
    "from statsmodels.tsa.arima_model import ARIMA\n",
    "import statsmodels.api as sm"
   ]
  },
  {
   "cell_type": "code",
   "execution_count": null,
   "id": "1e198135",
   "metadata": {
    "scrolled": true
   },
   "outputs": [],
   "source": [
    "import statsmodels"
   ]
  },
  {
   "cell_type": "markdown",
   "id": "70ab0eac",
   "metadata": {},
   "source": [
    "## New Registered Users"
   ]
  },
  {
   "cell_type": "markdown",
   "id": "43ad346d",
   "metadata": {
    "heading_collapsed": true
   },
   "source": [
    "### Training"
   ]
  },
  {
   "cell_type": "markdown",
   "id": "abd2baaa",
   "metadata": {
    "hidden": true
   },
   "source": [
    "#### Stationarize Data"
   ]
  },
  {
   "cell_type": "code",
   "execution_count": null,
   "id": "5f509bd2",
   "metadata": {
    "hidden": true
   },
   "outputs": [],
   "source": [
    "# Let's remove seasons\n",
    "gmr_NRU['deseasonalized'] = gmr_NRU.NewRegisteredUsers.values/result_mul.seasonal\n",
    "\n",
    "plt.figure(figsize=(15,4)); plt.subplot(1,2,1); plt.plot(gmr_NRU.deseasonalized);\n",
    "plt.title('New Registered Users Deseasonalized', fontsize=16);\n",
    "\n",
    "# Also remove exponential trend \n",
    "gmr_NRU['linearized'] = np.log(gmr_NRU['deseasonalized'])\n",
    "\n",
    "plt.subplot(1,2,2); plt.plot(gmr_NRU['linearized'])\n",
    "plt.title('New Registered Users Linearized', fontsize=16);"
   ]
  },
  {
   "cell_type": "code",
   "execution_count": null,
   "id": "aaa11471",
   "metadata": {
    "hidden": true
   },
   "outputs": [],
   "source": [
    "# Let's difference this and look at the ACFs\n",
    "fig, axes = plt.subplots(1, 3,figsize=(15,4))\n",
    "\n",
    "axes[0].plot(gmr_NRU['linearized']); axes[0].set_title('Linearized Series')\n",
    "# 1st Differencing\n",
    "y_diff_NRU = gmr_NRU['linearized'].diff().dropna()\n",
    "axes[1].plot(y_diff_NRU); axes[1].set_title('1st Order Differencing')\n",
    "\n",
    "# 2nd Differencing\n",
    "y_diff_diff_NRU = gmr_NRU['linearized'].diff().diff().dropna()\n",
    "axes[2].plot(y_diff_diff_NRU); axes[2].set_title('2nd Order Differencing')"
   ]
  },
  {
   "cell_type": "code",
   "execution_count": null,
   "id": "62af7d7e",
   "metadata": {
    "hidden": true
   },
   "outputs": [],
   "source": [
    "# check with ADF Test for stationarity\n",
    "print('p-value zero-diff: ', adfuller(gmr_NRU['linearized'])[1])\n",
    "print('p-value first-diff: ', adfuller(gmr_NRU['linearized'].diff().dropna())[1])\n",
    "print('p-value second-diff: ', adfuller(gmr_NRU['linearized'].diff().diff().dropna())[1])"
   ]
  },
  {
   "cell_type": "code",
   "execution_count": null,
   "id": "991dc429",
   "metadata": {
    "hidden": true,
    "scrolled": true
   },
   "outputs": [],
   "source": [
    "# ACF / PACF analysis of y_diff linearized\n",
    "fig, axes = plt.subplots(1,3, figsize=(16,2.5))\n",
    "axes[0].plot(y_diff_NRU); axes[0].set_title('1st Order Differencing')\n",
    "plot_acf(y_diff_NRU, ax=axes[1]);\n",
    "plot_pacf(y_diff_NRU, ax=axes[2], c='r');"
   ]
  },
  {
   "cell_type": "code",
   "execution_count": null,
   "id": "1333529d",
   "metadata": {
    "hidden": true
   },
   "outputs": [],
   "source": [
    "#gmr_NRU['linearized']\n",
    "# ACF / PACF analysis of zero diff linearized\n",
    "fig, axes = plt.subplots(1,3, figsize=(16,2.5))\n",
    "axes[0].plot(gmr_NRU['linearized']); axes[0].set_title('zero Differencing')\n",
    "plot_acf(gmr_NRU['linearized'], ax=axes[1]);\n",
    "plot_pacf(gmr_NRU['linearized'], ax=axes[2], c='r');"
   ]
  },
  {
   "cell_type": "markdown",
   "id": "1fd75a56",
   "metadata": {
    "hidden": true
   },
   "source": [
    "#### Train model"
   ]
  },
  {
   "cell_type": "code",
   "execution_count": null,
   "id": "17111193",
   "metadata": {
    "hidden": true,
    "scrolled": true
   },
   "outputs": [],
   "source": [
    "arima_NRU = ARIMA(gmr_NRU['linearized'], order=(3,1,9))\n",
    "arima = arima_NRU.fit()\n",
    "arima.summary()"
   ]
  },
  {
   "cell_type": "markdown",
   "id": "ff507973",
   "metadata": {
    "hidden": true
   },
   "source": [
    "smodel_NRU = pm.auto_arima(gmr_NRU['linearized'],\n",
    "                       start_p=0, max_p=10,\n",
    "                       start_q=10, max_q=20,\n",
    "                       seasonal=False,\n",
    "                       trace=True)"
   ]
  },
  {
   "cell_type": "markdown",
   "id": "d3cb27e8",
   "metadata": {
    "hidden": true
   },
   "source": [
    "Performing stepwise search to minimize aic\n",
    " ARIMA(0,1,10)(0,0,0)[0] intercept   : AIC=-301.261, Time=1.48 sec\n",
    " ARIMA(0,1,0)(0,0,0)[0] intercept   : AIC=-67.792, Time=0.06 sec\n",
    " ARIMA(1,1,0)(0,0,0)[0] intercept   : AIC=-140.374, Time=0.06 sec\n",
    " ARIMA(0,1,1)(0,0,0)[0] intercept   : AIC=-213.344, Time=0.11 sec\n",
    " ARIMA(0,1,0)(0,0,0)[0]             : AIC=-69.788, Time=0.03 sec\n",
    " ARIMA(0,1,9)(0,0,0)[0] intercept   : AIC=-300.581, Time=1.25 sec\n",
    " ARIMA(1,1,10)(0,0,0)[0] intercept   : AIC=-303.647, Time=1.53 sec\n",
    " ARIMA(1,1,9)(0,0,0)[0] intercept   : AIC=-302.750, Time=1.47 sec\n",
    " ARIMA(2,1,10)(0,0,0)[0] intercept   : AIC=-305.662, Time=1.60 sec\n",
    " ARIMA(2,1,9)(0,0,0)[0] intercept   : AIC=-347.985, Time=1.59 sec\n",
    " ARIMA(2,1,8)(0,0,0)[0] intercept   : AIC=-341.868, Time=1.35 sec\n",
    " ARIMA(3,1,9)(0,0,0)[0] intercept   : AIC=-361.455, Time=1.71 sec\n",
    " ARIMA(3,1,8)(0,0,0)[0] intercept   : AIC=-364.745, Time=1.37 sec\n",
    " ARIMA(3,1,7)(0,0,0)[0] intercept   : AIC=-368.698, Time=1.34 sec\n",
    " ARIMA(2,1,7)(0,0,0)[0] intercept   : AIC=-348.374, Time=1.13 sec\n",
    " ARIMA(3,1,6)(0,0,0)[0] intercept   : AIC=-369.565, Time=1.15 sec\n",
    " ARIMA(2,1,6)(0,0,0)[0] intercept   : AIC=-277.374, Time=1.00 sec\n",
    " ARIMA(3,1,5)(0,0,0)[0] intercept   : AIC=inf, Time=1.06 sec\n",
    " ARIMA(4,1,6)(0,0,0)[0] intercept   : AIC=inf, Time=1.25 sec\n",
    " ARIMA(2,1,5)(0,0,0)[0] intercept   : AIC=-352.451, Time=0.83 sec\n",
    " ARIMA(4,1,5)(0,0,0)[0] intercept   : AIC=inf, Time=1.11 sec\n",
    " ARIMA(4,1,7)(0,0,0)[0] intercept   : AIC=inf, Time=1.53 sec\n",
    " ARIMA(3,1,6)(0,0,0)[0]             : AIC=-371.522, Time=0.78 sec\n",
    " ARIMA(2,1,6)(0,0,0)[0]             : AIC=-279.314, Time=0.59 sec\n",
    " ARIMA(3,1,5)(0,0,0)[0]             : AIC=inf, Time=0.98 sec\n",
    " ARIMA(4,1,6)(0,0,0)[0]             : AIC=inf, Time=1.10 sec\n",
    " ARIMA(3,1,7)(0,0,0)[0]             : AIC=-373.807, Time=0.89 sec\n",
    " ARIMA(2,1,7)(0,0,0)[0]             : AIC=-358.866, Time=0.86 sec\n",
    " ARIMA(4,1,7)(0,0,0)[0]             : AIC=-444.535, Time=1.14 sec\n",
    " ARIMA(5,1,7)(0,0,0)[0]             : AIC=inf, Time=1.34 sec\n",
    " ARIMA(4,1,8)(0,0,0)[0]             : AIC=inf, Time=1.21 sec\n",
    " ARIMA(3,1,8)(0,0,0)[0]             : AIC=-367.961, Time=0.98 sec\n",
    " ARIMA(5,1,6)(0,0,0)[0]             : AIC=inf, Time=1.22 sec\n",
    " ARIMA(5,1,8)(0,0,0)[0]             : AIC=inf, Time=1.47 sec\n",
    "\n",
    "Best model:  ARIMA(4,1,7)(0,0,0)[0]          \n",
    "Total fit time: 36.567 seconds"
   ]
  },
  {
   "cell_type": "markdown",
   "id": "7f798618",
   "metadata": {
    "heading_collapsed": true
   },
   "source": [
    "### Evaluate performance"
   ]
  },
  {
   "cell_type": "code",
   "execution_count": null,
   "id": "da40a93c",
   "metadata": {
    "hidden": true,
    "scrolled": true
   },
   "outputs": [],
   "source": [
    "#arima.predict(end=700)\n",
    "#fig = plt.gcf(); fig.set_size_inches(12, 5);\n",
    "arima.plot_predict(end=1000);\n",
    "fig = plt.gcf(); fig.set_size_inches(12, 5);"
   ]
  },
  {
   "cell_type": "markdown",
   "id": "8020d9ac",
   "metadata": {},
   "source": [
    "### Forecast"
   ]
  },
  {
   "cell_type": "code",
   "execution_count": null,
   "id": "d702d6a0",
   "metadata": {
    "scrolled": true
   },
   "outputs": [],
   "source": [
    "# Create a correct Training/Test split to predict the last 50 points\n",
    "train_NRU = gmr_NRU['linearized'][0:350]\n",
    "test_NRU = gmr_NRU['linearized'][350:]\n",
    "\n",
    "# Build Model\n",
    "arima = ARIMA(train_NRU, order=(4,0,7))\n",
    "arima = arima.fit()"
   ]
  },
  {
   "cell_type": "code",
   "execution_count": null,
   "id": "b3bbbce5",
   "metadata": {},
   "outputs": [],
   "source": [
    "# Forecast\n",
    "forecast_NRU, std_err, confidence_int = arima.forecast(len(test_NRU), alpha=0.05)  # 95% confidence"
   ]
  },
  {
   "cell_type": "code",
   "execution_count": null,
   "id": "b3e37a1e",
   "metadata": {},
   "outputs": [],
   "source": [
    "# We define here a \"Plot forecast vs. real\", which also shows historical train set\n",
    "\n",
    "def plot_forecast(fc, train_NRU, test_NRU, upper=None, lower=None):\n",
    "    is_confidence_int = isinstance(upper, np.ndarray) and isinstance(lower, np.ndarray)\n",
    "    # Prepare plot series\n",
    "    fc_series = pd.Series(fc, index=test_NRU.index)\n",
    "    lower_series = pd.Series(upper, index=test_NRU.index) if is_confidence_int else None\n",
    "    upper_series = pd.Series(lower, index=test_NRU.index) if is_confidence_int else None\n",
    "\n",
    "    # Plot\n",
    "    plt.figure(figsize=(10,4), dpi=100)\n",
    "    plt.plot(train_NRU, label='training', color='black')\n",
    "    plt.plot(test_NRU, label='actual', color='black', ls='--')\n",
    "    plt.plot(fc_series, label='forecast', color='orange')\n",
    "    if is_confidence_int:\n",
    "        plt.fill_between(lower_series.index, lower_series, upper_series, color='k', alpha=.15)\n",
    "    plt.title('Forecast vs Actuals')\n",
    "    plt.legend(loc='upper left', fontsize=8);"
   ]
  },
  {
   "cell_type": "code",
   "execution_count": null,
   "id": "39d05815",
   "metadata": {
    "scrolled": true
   },
   "outputs": [],
   "source": [
    "plot_forecast(forecast_NRU, train_NRU, test_NRU, confidence_int[:,0], confidence_int[:,1])"
   ]
  },
  {
   "cell_type": "code",
   "execution_count": null,
   "id": "fea27b47",
   "metadata": {
    "scrolled": false
   },
   "outputs": [],
   "source": [
    "residuals_NRU = pd.DataFrame(arima.resid)\n",
    "\n",
    "fig, ax = plt.subplots(1,2, figsize=(16,3))\n",
    "residuals_NRU.plot(title=\"Residuals\", ax=ax[0])\n",
    "residuals_NRU.plot(kind='kde', title='Density', ax=ax[1]);"
   ]
  },
  {
   "cell_type": "code",
   "execution_count": null,
   "id": "576bc58a",
   "metadata": {},
   "outputs": [],
   "source": []
  },
  {
   "cell_type": "code",
   "execution_count": null,
   "id": "0590cc7d",
   "metadata": {},
   "outputs": [],
   "source": [
    "# re-compose back to initial time series\n",
    "forecast_NRU_recons = np.exp(forecast_NRU)*result_mul.seasonal[350:]\n",
    "train_NRU_recons = np.exp(train_NRU)*result_mul.seasonal[0:350]\n",
    "test_NRU_recons = np.exp(test_NRU)*result_mul.seasonal[350:]\n",
    "lower_NRU_recons = np.exp(confidence_int)[:,0]*result_mul.seasonal[350:]\n",
    "upper_NRU_recons = np.exp(confidence_int)[:,1]*result_mul.seasonal[350:]\n",
    "\n",
    "# plt \n",
    "plot_forecast(forecast_NRU_recons, train_NRU_recons, test_NRU_recons, lower_NRU_recons.values, upper_NRU_recons.values)\n"
   ]
  },
  {
   "cell_type": "markdown",
   "id": "8b2a101d",
   "metadata": {},
   "source": [
    "## Paying Users"
   ]
  },
  {
   "cell_type": "markdown",
   "id": "e5e57759",
   "metadata": {
    "heading_collapsed": true
   },
   "source": [
    "### Training"
   ]
  },
  {
   "cell_type": "markdown",
   "id": "651c37d5",
   "metadata": {
    "hidden": true
   },
   "source": [
    "#### Stationarize Data"
   ]
  },
  {
   "cell_type": "code",
   "execution_count": null,
   "id": "4eec1b0e",
   "metadata": {
    "hidden": true
   },
   "outputs": [],
   "source": [
    "# Let's remove seasons\n",
    "gmr_PU['deseasonalized'] = gmr_PU.PayingUsers.values/result_mul.seasonal\n",
    "\n",
    "plt.figure(figsize=(15,4)); plt.subplot(1,2,1); plt.plot(gmr_PU.deseasonalized);\n",
    "plt.title('Paying Users Deseasonalized', fontsize=16);\n",
    "\n",
    "# Also remove exponential trend \n",
    "gmr_PU['linearized'] = np.log(gmr_PU['deseasonalized'])\n",
    "\n",
    "plt.subplot(1,2,2); plt.plot(gmr_PU['linearized'])\n",
    "plt.title('Paying Users Linearized', fontsize=16);"
   ]
  },
  {
   "cell_type": "code",
   "execution_count": null,
   "id": "4cd6940b",
   "metadata": {
    "hidden": true
   },
   "outputs": [],
   "source": [
    "# Let's difference this and look at the ACFs\n",
    "fig, axes = plt.subplots(1, 3,figsize=(15,4))\n",
    "\n",
    "axes[0].plot(gmr_PU['linearized']); axes[0].set_title('Linearized Series')\n",
    "# 1st Differencing\n",
    "y_diff_PU = gmr_PU['linearized'].diff().dropna()\n",
    "axes[1].plot(y_diff_PU); axes[1].set_title('1st Order Differencing')\n",
    "\n",
    "# 2nd Differencing\n",
    "y_diff_diff_PU = gmr_PU['linearized'].diff().diff().dropna()\n",
    "axes[2].plot(y_diff_diff_PU); axes[2].set_title('2nd Order Differencing')"
   ]
  },
  {
   "cell_type": "code",
   "execution_count": null,
   "id": "2bd3b906",
   "metadata": {
    "hidden": true,
    "scrolled": true
   },
   "outputs": [],
   "source": [
    "# check with ADF Test for stationarity\n",
    "print('p-value zero-diff: ', adfuller(gmr_PU['linearized'])[1])\n",
    "print('p-value first-diff: ', adfuller(gmr_PU['linearized'].diff().dropna())[1])\n",
    "print('p-value second-diff: ', adfuller(gmr_PU['linearized'].diff().diff().dropna())[1])"
   ]
  },
  {
   "cell_type": "code",
   "execution_count": null,
   "id": "f5b412af",
   "metadata": {
    "hidden": true,
    "scrolled": true
   },
   "outputs": [],
   "source": [
    "# ACF / PACF analysis of y_diff linearized\n",
    "fig, axes = plt.subplots(1,3, figsize=(16,2.5))\n",
    "axes[0].plot(y_diff_PU); axes[0].set_title('1st Order Differencing')\n",
    "plot_acf(y_diff_PU, ax=axes[1]);\n",
    "plot_pacf(y_diff_PU, ax=axes[2], c='r');"
   ]
  },
  {
   "cell_type": "markdown",
   "id": "214813a7",
   "metadata": {
    "hidden": true
   },
   "source": [
    "#### Train Data"
   ]
  },
  {
   "cell_type": "code",
   "execution_count": null,
   "id": "63462bb5",
   "metadata": {
    "hidden": true
   },
   "outputs": [],
   "source": [
    "arima_PU = ARIMA(gmr_PU[\"linearized\"], order=(7,0,7))\n",
    "arima = arima_PU.fit()\n",
    "arima.summary()"
   ]
  },
  {
   "cell_type": "markdown",
   "id": "94a25833",
   "metadata": {
    "hidden": true
   },
   "source": [
    "smodel_PU = pm.auto_arima(gmr_PU['linearized'],\n",
    "                       start_p=0, max_p=10,\n",
    "                       start_q=10, max_q=20,\n",
    "                       seasonal=False,\n",
    "                       trace=True)"
   ]
  },
  {
   "cell_type": "markdown",
   "id": "ae2305da",
   "metadata": {
    "hidden": true
   },
   "source": [
    "Performing stepwise search to minimize aic\n",
    " ARIMA(0,1,10)(0,0,0)[0] intercept   : AIC=-600.105, Time=1.51 sec\n",
    " ARIMA(0,1,0)(0,0,0)[0] intercept   : AIC=-263.192, Time=0.07 sec\n",
    " ARIMA(1,1,0)(0,0,0)[0] intercept   : AIC=-270.461, Time=0.06 sec\n",
    " ARIMA(0,1,1)(0,0,0)[0] intercept   : AIC=-291.071, Time=0.08 sec\n",
    " ARIMA(0,1,0)(0,0,0)[0]             : AIC=-265.190, Time=0.04 sec\n",
    " ARIMA(0,1,9)(0,0,0)[0] intercept   : AIC=-595.367, Time=1.68 sec\n",
    " ARIMA(1,1,10)(0,0,0)[0] intercept   : AIC=inf, Time=2.23 sec\n",
    " ARIMA(0,1,11)(0,0,0)[0] intercept   : AIC=-598.401, Time=2.04 sec\n",
    " ARIMA(1,1,9)(0,0,0)[0] intercept   : AIC=-594.134, Time=1.81 sec\n",
    " ARIMA(1,1,11)(0,0,0)[0] intercept   : AIC=-596.282, Time=2.30 sec\n",
    " ARIMA(0,1,10)(0,0,0)[0]             : AIC=-601.059, Time=1.05 sec\n",
    " ARIMA(0,1,9)(0,0,0)[0]             : AIC=-596.680, Time=0.97 sec\n",
    " ARIMA(1,1,10)(0,0,0)[0]             : AIC=-595.401, Time=1.36 sec\n",
    " ARIMA(0,1,11)(0,0,0)[0]             : AIC=-599.117, Time=1.41 sec\n",
    " ARIMA(1,1,9)(0,0,0)[0]             : AIC=-600.436, Time=1.12 sec\n",
    " ARIMA(1,1,11)(0,0,0)[0]             : AIC=-597.160, Time=1.82 sec\n",
    "\n",
    "Best model:  ARIMA(0,1,10)(0,0,0)[0]          \n",
    "Total fit time: 19.563 seconds"
   ]
  },
  {
   "cell_type": "markdown",
   "id": "c2733561",
   "metadata": {
    "heading_collapsed": true
   },
   "source": [
    "### Evaluate"
   ]
  },
  {
   "cell_type": "code",
   "execution_count": null,
   "id": "b63dd0fb",
   "metadata": {
    "hidden": true,
    "scrolled": true
   },
   "outputs": [],
   "source": [
    "arima.plot_predict(end=700);\n",
    "fig = plt.gcf(); fig.set_size_inches(12, 5);"
   ]
  },
  {
   "cell_type": "markdown",
   "id": "ff4f5a77",
   "metadata": {},
   "source": [
    "### Forecast"
   ]
  },
  {
   "cell_type": "code",
   "execution_count": null,
   "id": "7029b7ee",
   "metadata": {
    "scrolled": true
   },
   "outputs": [],
   "source": [
    "# Create a correct Training/Test split to predict the last 50 points\n",
    "train_PU = gmr_PU[\"linearized\"][0:350]\n",
    "test_PU = gmr_PU['linearized'][350:]\n",
    "\n",
    "# Build Model\n",
    "arima = ARIMA(train_PU, order=(0,1,10))  \n",
    "arima = arima.fit()\n",
    "\n",
    "# Forecast\n",
    "forecast_PU, std_err, confidence_int = arima.forecast(len(test_PU), alpha=0.05)  # 95% confidence"
   ]
  },
  {
   "cell_type": "code",
   "execution_count": null,
   "id": "a5bf6b26",
   "metadata": {},
   "outputs": [],
   "source": [
    "# We define here a \"Plot forecast vs. real\", which also shows historical train set\n",
    "\n",
    "def plot_forecast(fc, train_PU, test_PU, upper=None, lower=None):\n",
    "    is_confidence_int = isinstance(upper, np.ndarray) and isinstance(lower, np.ndarray)\n",
    "    # Prepare plot series\n",
    "    fc_series = pd.Series(fc, index=test_PU.index)\n",
    "    lower_series = pd.Series(upper, index=test_PU.index) if is_confidence_int else None\n",
    "    upper_series = pd.Series(lower, index=test_PU.index) if is_confidence_int else None\n",
    "\n",
    "    # Plot\n",
    "    plt.figure(figsize=(10,4), dpi=100)\n",
    "    plt.plot(train_PU, label='training', color='black')\n",
    "    plt.plot(test_PU, label='actual', color='black', ls='--')\n",
    "    plt.plot(fc_series, label='forecast', color='orange')\n",
    "    if is_confidence_int:\n",
    "        plt.fill_between(lower_series.index, lower_series, upper_series, color='k', alpha=.15)\n",
    "    plt.title('Forecast vs Actuals')\n",
    "    plt.legend(loc='upper left', fontsize=8);"
   ]
  },
  {
   "cell_type": "code",
   "execution_count": null,
   "id": "e6e6c3fc",
   "metadata": {},
   "outputs": [],
   "source": [
    "plot_forecast(forecast_PU, train_PU, test_PU, confidence_int[:,0], confidence_int[:,1])"
   ]
  },
  {
   "cell_type": "code",
   "execution_count": null,
   "id": "f4568ee6",
   "metadata": {
    "scrolled": true
   },
   "outputs": [],
   "source": [
    "# re-compose back to initial time series\n",
    "forecast_PU_recons = np.exp(forecast_PU)*result_mul.seasonal[350:]\n",
    "train_PU_recons = np.exp(train_PU)*result_mul.seasonal[0:350]\n",
    "test_PU_recons = np.exp(test_PU)*result_mul.seasonal[350:]\n",
    "lower_PU_recons = np.exp(confidence_int)[:,0]*result_mul.seasonal[350:]\n",
    "upper_PU_recons = np.exp(confidence_int)[:,1]*result_mul.seasonal[350:]\n",
    "\n",
    "# plt \n",
    "plot_forecast(forecast_PU_recons, train_PU_recons, test_PU_recons, lower_PU_recons.values, upper_PU_recons.values)"
   ]
  },
  {
   "cell_type": "code",
   "execution_count": null,
   "id": "fc7ac956",
   "metadata": {
    "scrolled": true
   },
   "outputs": [],
   "source": [
    "residuals_PU = pd.DataFrame(arima.resid)\n",
    "\n",
    "fig, ax = plt.subplots(1,2, figsize=(16,3))\n",
    "residuals_PU.plot(title=\"Residuals\", ax=ax[0])\n",
    "residuals_PU.plot(kind='kde', title='Density', ax=ax[1]);"
   ]
  },
  {
   "cell_type": "markdown",
   "id": "44c3cebe",
   "metadata": {},
   "source": [
    "## Active Users"
   ]
  },
  {
   "cell_type": "markdown",
   "id": "2a53a1a3",
   "metadata": {
    "heading_collapsed": true
   },
   "source": [
    "### Training"
   ]
  },
  {
   "cell_type": "markdown",
   "id": "0e823ac0",
   "metadata": {
    "hidden": true
   },
   "source": [
    "#### Stationarize Data"
   ]
  },
  {
   "cell_type": "code",
   "execution_count": null,
   "id": "394dadfd",
   "metadata": {
    "hidden": true
   },
   "outputs": [],
   "source": [
    "# Let's remove seasons\n",
    "gmr_AU['deseasonalized'] = gmr_AU.ActiveUsers.values/result_mul.seasonal\n",
    "\n",
    "plt.figure(figsize=(15,4)); plt.subplot(1,2,1); plt.plot(gmr_AU.deseasonalized);\n",
    "plt.title('Active Users Deseasonalized', fontsize=16);\n",
    "\n",
    "# Also remove exponential trend \n",
    "gmr_AU['linearized'] = np.log(gmr_AU['deseasonalized'])\n",
    "\n",
    "plt.subplot(1,2,2); plt.plot(gmr_AU['linearized'])\n",
    "plt.title('Active Users Linearized', fontsize=16);"
   ]
  },
  {
   "cell_type": "code",
   "execution_count": null,
   "id": "435fa8ed",
   "metadata": {
    "hidden": true
   },
   "outputs": [],
   "source": [
    "# Let's difference this and look at the ACFs\n",
    "fig, axes = plt.subplots(1, 3,figsize=(15,4))\n",
    "\n",
    "axes[0].plot(gmr_AU['linearized']); axes[0].set_title('Linearized Series')\n",
    "# 1st Differencing\n",
    "y_diff_AU = gmr_AU['linearized'].diff().dropna()\n",
    "axes[1].plot(y_diff_AU); axes[1].set_title('1st Order Differencing')\n",
    "\n",
    "# 2nd Differencing\n",
    "y_diff_diff_AU = gmr_AU['linearized'].diff().diff().dropna()\n",
    "axes[2].plot(y_diff_diff_AU); axes[2].set_title('2nd Order Differencing')"
   ]
  },
  {
   "cell_type": "code",
   "execution_count": null,
   "id": "8371c2ae",
   "metadata": {
    "hidden": true
   },
   "outputs": [],
   "source": [
    "# check with ADF Test for stationarity\n",
    "print('p-value zero-diff: ', adfuller(gmr_AU['linearized'])[1])\n",
    "print('p-value first-diff: ', adfuller(gmr_AU['linearized'].diff().dropna())[1])\n",
    "print('p-value second-diff: ', adfuller(gmr_AU['linearized'].diff().diff().dropna())[1])"
   ]
  },
  {
   "cell_type": "code",
   "execution_count": null,
   "id": "032b0a87",
   "metadata": {
    "hidden": true
   },
   "outputs": [],
   "source": [
    "# ACF / PACF analysis of y_diff linearized\n",
    "fig, axes = plt.subplots(1,3, figsize=(16,2.5))\n",
    "axes[0].plot(y_diff_AU); axes[0].set_title('1st Order Differencing')\n",
    "plot_acf(y_diff_AU, ax=axes[1]);\n",
    "plot_pacf(y_diff_AU, ax=axes[2], c='r');"
   ]
  },
  {
   "cell_type": "markdown",
   "id": "94018ee6",
   "metadata": {
    "hidden": true
   },
   "source": [
    "#### Train Data"
   ]
  },
  {
   "cell_type": "code",
   "execution_count": null,
   "id": "3c90c8ab",
   "metadata": {
    "hidden": true,
    "scrolled": false
   },
   "outputs": [],
   "source": [
    "arima_AU = ARIMA(gmr_AU['ActiveUsers'], order=(7,1,1))\n",
    "arima = arima_AU.fit()\n",
    "arima.summary()"
   ]
  },
  {
   "cell_type": "markdown",
   "id": "f4f64041",
   "metadata": {
    "hidden": true
   },
   "source": [
    "smodel_AU = pm.auto_arima(gmr_AU['linearized'],\n",
    "                       start_p=0, max_p=10,\n",
    "                       start_q=0, max_q=10,\n",
    "                       seasonal=False,\n",
    "                       trace=True)"
   ]
  },
  {
   "cell_type": "markdown",
   "id": "5c73bd66",
   "metadata": {
    "hidden": true
   },
   "source": [
    "Performing stepwise search to minimize aic\n",
    " ARIMA(0,1,0)(0,0,0)[0] intercept   : AIC=-326.971, Time=0.08 sec\n",
    " ARIMA(1,1,0)(0,0,0)[0] intercept   : AIC=-475.241, Time=0.06 sec\n",
    " ARIMA(0,1,1)(0,0,0)[0] intercept   : AIC=-599.784, Time=0.12 sec\n",
    " ARIMA(0,1,0)(0,0,0)[0]             : AIC=-328.970, Time=0.02 sec\n",
    " ARIMA(1,1,1)(0,0,0)[0] intercept   : AIC=-598.025, Time=0.28 sec\n",
    " ARIMA(0,1,2)(0,0,0)[0] intercept   : AIC=-597.994, Time=0.34 sec\n",
    " ARIMA(1,1,2)(0,0,0)[0] intercept   : AIC=-596.044, Time=0.21 sec\n",
    " ARIMA(0,1,1)(0,0,0)[0]             : AIC=-601.446, Time=0.06 sec\n",
    " ARIMA(1,1,1)(0,0,0)[0]             : AIC=-599.681, Time=0.10 sec\n",
    " ARIMA(0,1,2)(0,0,0)[0]             : AIC=-599.651, Time=0.11 sec\n",
    " ARIMA(1,1,0)(0,0,0)[0]             : AIC=-477.235, Time=0.04 sec\n",
    " ARIMA(1,1,2)(0,0,0)[0]             : AIC=-597.756, Time=0.16 sec\n",
    "\n",
    "Best model:  ARIMA(0,1,1)(0,0,0)[0]          \n",
    "Total fit time: 1.588 seconds"
   ]
  },
  {
   "cell_type": "markdown",
   "id": "925e38ee",
   "metadata": {
    "heading_collapsed": true
   },
   "source": [
    "### Evaluate Data"
   ]
  },
  {
   "cell_type": "code",
   "execution_count": null,
   "id": "0faeb7f4",
   "metadata": {
    "hidden": true
   },
   "outputs": [],
   "source": [
    "arima.plot_predict(end=700);\n",
    "fig = plt.gcf(); fig.set_size_inches(12, 5);"
   ]
  },
  {
   "cell_type": "markdown",
   "id": "abd5dfd2",
   "metadata": {},
   "source": [
    "### Forecast"
   ]
  },
  {
   "cell_type": "code",
   "execution_count": null,
   "id": "13b99e4a",
   "metadata": {},
   "outputs": [],
   "source": [
    "# Create a correct Training/Test split to predict the last 50 points\n",
    "train_AU = gmr_AU[\"linearized\"][0:350]\n",
    "test_AU = gmr_AU['linearized'][350:]\n",
    "\n",
    "# Build Model\n",
    "arima = ARIMA(train_AU, order=(0,1,1))  \n",
    "arima = arima.fit()\n",
    "\n",
    "# Forecast\n",
    "forecast_AU, std_err, confidence_int = arima.forecast(len(test_AU), alpha=0.05)  # 95% confidence"
   ]
  },
  {
   "cell_type": "code",
   "execution_count": null,
   "id": "549cde3a",
   "metadata": {},
   "outputs": [],
   "source": [
    "# We define here a \"Plot forecast vs. real\", which also shows historical train set\n",
    "\n",
    "def plot_forecast(fc, train_AU, test_AU, upper=None, lower=None):\n",
    "    is_confidence_int = isinstance(upper, np.ndarray) and isinstance(lower, np.ndarray)\n",
    "    # Prepare plot series\n",
    "    fc_series = pd.Series(fc, index=test_AU.index)\n",
    "    lower_series = pd.Series(upper, index=test_AU.index) if is_confidence_int else None\n",
    "    upper_series = pd.Series(lower, index=test_AU.index) if is_confidence_int else None\n",
    "\n",
    "    # Plot\n",
    "    plt.figure(figsize=(10,4), dpi=100)\n",
    "    plt.plot(train_AU, label='training', color='black')\n",
    "    plt.plot(test_AU, label='actual', color='black', ls='--')\n",
    "    plt.plot(fc_series, label='forecast', color='orange')\n",
    "    if is_confidence_int:\n",
    "        plt.fill_between(lower_series.index, lower_series, upper_series, color='k', alpha=.15)\n",
    "    plt.title('Forecast vs Actuals')\n",
    "    plt.legend(loc='upper left', fontsize=8);"
   ]
  },
  {
   "cell_type": "code",
   "execution_count": null,
   "id": "e7e775e5",
   "metadata": {
    "scrolled": true
   },
   "outputs": [],
   "source": [
    "plot_forecast(forecast_AU, train_AU, test_AU, confidence_int[:,0], confidence_int[:,1])"
   ]
  },
  {
   "cell_type": "code",
   "execution_count": null,
   "id": "35d1c91b",
   "metadata": {},
   "outputs": [],
   "source": [
    "# re-compose back to initial time series\n",
    "forecast_AU_recons = np.exp(forecast_AU)*result_mul.seasonal[350:]\n",
    "train_AU_recons = np.exp(train_AU)*result_mul.seasonal[0:350]\n",
    "test_AU_recons = np.exp(test_AU)*result_mul.seasonal[350:]\n",
    "lower_AU_recons = np.exp(confidence_int)[:,0]*result_mul.seasonal[350:]\n",
    "upper_AU_recons = np.exp(confidence_int)[:,1]*result_mul.seasonal[350:]\n",
    "\n",
    "# plt \n",
    "plot_forecast(forecast_AU_recons, train_AU_recons, test_AU_recons, lower_AU_recons.values, upper_AU_recons.values)"
   ]
  },
  {
   "cell_type": "code",
   "execution_count": null,
   "id": "cae78b5d",
   "metadata": {},
   "outputs": [],
   "source": [
    "residuals_AU = pd.DataFrame(arima.resid)\n",
    "\n",
    "fig, ax = plt.subplots(1,2, figsize=(16,3))\n",
    "residuals_AU.plot(title=\"Residuals\", ax=ax[0])\n",
    "residuals_AU.plot(kind='kde', title='Density', ax=ax[1]);"
   ]
  },
  {
   "cell_type": "markdown",
   "id": "ae27de41",
   "metadata": {},
   "source": [
    "# Results"
   ]
  },
  {
   "cell_type": "markdown",
   "id": "da45f96b",
   "metadata": {},
   "source": [
    "<b>mape</b>: The <b>mean absolute percentage error</b> is a measure of how accurate a forecast system is. It measures this accuracy as a percentage.\n",
    "\n",
    "<b>me</b>: The <b>mean error</b> shows the average of the difference between actual and forecasted values.\n",
    "\n",
    "<b>mae</b>: The <b>mean absolute error</b> takes the sum of the absolute difference from actual to forecast and averages them. It is less sensitive to the occasional very large error because it does not square the errors in the calculation.\n",
    "\n",
    "<b>mpe</b>: The <b>mean Percentage Error</b> shows the average of the percent difference between actual and forecasted values. Both the ME and MPE will help indicate whether the forecasts are biased to be disproportionately positive or negative.\n",
    "\n",
    "<b>rmse</b>: The <b>root mean squared error</b> represents the sample standard deviation of the differences between predicted values and observed values.\n",
    "\n",
    "<b>corr</b>: <b>Correlation</b> between the test set and the forecast."
   ]
  },
  {
   "cell_type": "markdown",
   "id": "6f4aee7f",
   "metadata": {
    "heading_collapsed": true
   },
   "source": [
    "## New Registered Users"
   ]
  },
  {
   "cell_type": "code",
   "execution_count": null,
   "id": "ef9ab9f0",
   "metadata": {
    "hidden": true
   },
   "outputs": [],
   "source": [
    "def forecast_accuracy(forecast, actual):\n",
    "    mape = np.mean(np.abs(forecast_NRU_recons - np.array(test_NRU_recons))/np.abs(np.array(test_NRU_recons)))  # MAPE\n",
    "    me = np.mean(forecast_NRU_recons - np.array(test_NRU_recons))             # ME\n",
    "    mae = np.mean(np.abs(forecast_NRU_recons - np.array(test_NRU_recons)))    # MAE\n",
    "    mpe = np.mean((forecast_NRU_recons - np.array(test_NRU_recons))/np.array(test_NRU_recons))   # MPE\n",
    "    rmse = np.mean((forecast_NRU_recons - np.array(test_NRU_recons))**2)**.5  # RMSE\n",
    "    corr = np.corrcoef(forecast_NRU_recons, np.array(test_NRU_recons))[0,1]   # corr\n",
    "                    \n",
    "    return({'mape':mape, 'me':me, 'mae': mae, \n",
    "            'mpe': mpe, 'rmse':rmse, \n",
    "            'corr':corr})\n",
    "\n",
    "forecast_accuracy(forecast_NRU_recons, np.array(test_NRU_recons))"
   ]
  },
  {
   "cell_type": "markdown",
   "id": "dc188684",
   "metadata": {
    "heading_collapsed": true
   },
   "source": [
    "## Paying Users"
   ]
  },
  {
   "cell_type": "code",
   "execution_count": null,
   "id": "1515eb42",
   "metadata": {
    "hidden": true
   },
   "outputs": [],
   "source": [
    "def forecast_accuracy(forecast, actual):\n",
    "    mape = np.mean(np.abs(forecast_PU_recons - np.array(test_PU_recons))/np.abs(np.array(test_PU_recons)))  # MAPE\n",
    "    me = np.mean(forecast_PU_recons - np.array(test_PU_recons))             # ME\n",
    "    mae = np.mean(np.abs(forecast_PU_recons - np.array(test_PU_recons)))    # MAE\n",
    "    mpe = np.mean((forecast_PU_recons - np.array(test_PU_recons))/np.array(test_PU_recons))   # MPE\n",
    "    rmse = np.mean((forecast_PU_recons - np.array(test_PU_recons))**2)**.5  # RMSE\n",
    "    corr = np.corrcoef(forecast_PU_recons, np.array(test_PU_recons))[0,1]   # corr                   \n",
    "    return({'mape':mape, 'me':me, 'mae': mae, \n",
    "            'mpe': mpe, 'rmse':rmse, \n",
    "            'corr':corr})\n",
    "\n",
    "forecast_accuracy(forecast_PU_recons, np.array(test_PU_recons))"
   ]
  },
  {
   "cell_type": "markdown",
   "id": "7584f9e3",
   "metadata": {},
   "source": [
    "## Active Users"
   ]
  },
  {
   "cell_type": "code",
   "execution_count": null,
   "id": "0df3c467",
   "metadata": {},
   "outputs": [],
   "source": [
    "def forecast_accuracy(forecast, actual):\n",
    "    mape = np.mean(np.abs(forecast_AU_recons - np.array(test_AU_recons))/np.abs(np.array(test_AU_recons)))  # MAPE\n",
    "    me = np.mean(forecast_AU_recons - np.array(test_AU_recons))             # ME\n",
    "    mae = np.mean(np.abs(forecast_AU_recons - np.array(test_AU_recons)))    # MAE\n",
    "    mpe = np.mean((forecast_AU_recons - np.array(test_AU_recons))/np.array(test_AU_recons))   # MPE\n",
    "    rmse = np.mean((forecast_AU_recons - np.array(test_AU_recons))**2)**.5  # RMSE\n",
    "    corr = np.corrcoef(forecast_AU_recons, np.array(test_AU_recons))[0,1]   # corr                   \n",
    "    return({'mape':mape, 'me':me, 'mae': mae, \n",
    "            'mpe': mpe, 'rmse':rmse, \n",
    "            'corr':corr})\n",
    "\n",
    "forecast_accuracy(forecast_AU_recons, np.array(test_AU_recons))"
   ]
  },
  {
   "cell_type": "code",
   "execution_count": null,
   "id": "f2bd3507",
   "metadata": {},
   "outputs": [],
   "source": []
  }
 ],
 "metadata": {
  "kernelspec": {
   "display_name": "Python 3 (ipykernel)",
   "language": "python",
   "name": "python3"
  },
  "language_info": {
   "codemirror_mode": {
    "name": "ipython",
    "version": 3
   },
   "file_extension": ".py",
   "mimetype": "text/x-python",
   "name": "python",
   "nbconvert_exporter": "python",
   "pygments_lexer": "ipython3",
   "version": "3.8.12"
  },
  "toc": {
   "base_numbering": 1,
   "nav_menu": {},
   "number_sections": true,
   "sideBar": true,
   "skip_h1_title": false,
   "title_cell": "Table of Contents",
   "title_sidebar": "Contents",
   "toc_cell": false,
   "toc_position": {},
   "toc_section_display": true,
   "toc_window_display": false
  }
 },
 "nbformat": 4,
 "nbformat_minor": 5
}
